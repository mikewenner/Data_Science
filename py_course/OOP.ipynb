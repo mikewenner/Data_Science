{
 "cells": [
  {
   "cell_type": "markdown",
   "id": "ce33ef56-3356-4d7c-9c22-9738cb1cfbfd",
   "metadata": {},
   "source": [
    "## OOP\n",
    "\n",
    "Object-Oriented Programming (OOP) is a programming paradigm that is centered around the concept of \"objects.\" \n",
    "An object is a self-contained unit that combines data (attributes or properties) and the functions (methods) that operate on that data. \n",
    "OOP is based on the principles of abstraction, encapsulation, inheritance, and polymorphism. \n",
    "It provides a way to structure and organize code in a more modular and reusable manner."
   ]
  },
  {
   "cell_type": "markdown",
   "id": "abf9a3ea-481d-418a-9254-bf896ad807a1",
   "metadata": {},
   "source": [
    "## Key concepts of Object-Oriented Programming:\n",
    "\n",
    "1. Classes and Objects: A class is a blueprint or template for creating objects. It defines the attributes (data) and methods (functions) that the objects of that class will have. An object is an instance of a class.\n",
    "\n",
    "2. Abstraction: Abstraction refers to the process of simplifying complex reality by modeling classes based on their essential properties and behaviors. It allows you to focus on what an object does rather than how it does it.\n",
    "\n",
    "3. Encapsulation: Encapsulation is the practice of bundling data (attributes) and methods (functions) that operate on the data into a single unit (an object). It also involves controlling the access to the internal data by defining public and private members.\n",
    "\n",
    "4. Inheritance: Inheritance allows one class (subclass or derived class) to inherit attributes and methods from another class (base class or parent class). This promotes code reuse and allows for the creation of specialized classes based on existing ones.\n",
    "\n",
    "5. Polymorphism: Polymorphism means the ability of different classes to be treated as instances of the same class through a common interface. It enables dynamic behavior and method overriding, where a subclass can provide its own implementation of a method inherited from a parent class."
   ]
  },
  {
   "cell_type": "markdown",
   "id": "08f58d5e-b192-43fe-ab11-8fb97bd821c3",
   "metadata": {},
   "source": [
    "## OOP Template"
   ]
  },
  {
   "cell_type": "code",
   "execution_count": 38,
   "id": "9da244ac-19a1-474e-86bf-f29cad149e10",
   "metadata": {},
   "outputs": [],
   "source": [
    "class NameOfClass:\n",
    "    class_attribute = 'some value, bool ...'\n",
    "    def __init__(self, parm1, parm2):\n",
    "        self.parm1 = parm1\n",
    "        self.parm2 = parm2\n",
    "        \n",
    "    def method(self):\n",
    "        pass\n",
    "        #add code here for function\n",
    "    \n",
    "    @classmethod  #can be called on the class w/o instantiating object\n",
    "    def cls_method(cls, parm1, parm2):\n",
    "        pass #add code for functionn...\n",
    "        \n",
    "    @staticmethod  #can be called on the class w/o instantiating object\n",
    "    def stc_method(parm1, parm2):\n",
    "        pass #add code for functionn..."
   ]
  },
  {
   "cell_type": "code",
   "execution_count": 1,
   "id": "ba0b635a-6c50-40e3-84c8-9afce1ff7b1e",
   "metadata": {},
   "outputs": [],
   "source": [
    "#example\n",
    "\n",
    "class BigObject: #Class\n",
    "    pass\n",
    "\n",
    "obj1 = BigObject() # we instantiate the BigObject class to create an Object called obj1"
   ]
  },
  {
   "cell_type": "code",
   "execution_count": 4,
   "id": "6cf8e111-c6cb-496f-b032-56636bf20735",
   "metadata": {},
   "outputs": [
    {
     "data": {
      "text/plain": [
       "__main__.BigObject"
      ]
     },
     "execution_count": 4,
     "metadata": {},
     "output_type": "execute_result"
    }
   ],
   "source": [
    "type(obj1)"
   ]
  },
  {
   "cell_type": "code",
   "execution_count": 5,
   "id": "86a55a69-d914-4d3e-922e-d129681d84ff",
   "metadata": {},
   "outputs": [],
   "source": [
    "# create class for a game\n",
    "\n",
    "class PlayerCharacter:\n",
    "    def __init__(self, name):   #self refers to the class created, here its PlayerCharacter\n",
    "        self.name = name        #self.name = name assigns the name passed when we assign the object, name attribute\n",
    "        \n",
    "    def run(self):\n",
    "        print('run')"
   ]
  },
  {
   "cell_type": "code",
   "execution_count": 7,
   "id": "2a7d83c3-5e3b-4d49-9a81-e57517792253",
   "metadata": {},
   "outputs": [
    {
     "ename": "TypeError",
     "evalue": "__init__() missing 1 required positional argument: 'name'",
     "output_type": "error",
     "traceback": [
      "\u001b[0;31m---------------------------------------------------------------------------\u001b[0m",
      "\u001b[0;31mTypeError\u001b[0m                                 Traceback (most recent call last)",
      "Cell \u001b[0;32mIn[7], line 2\u001b[0m\n\u001b[1;32m      1\u001b[0m \u001b[38;5;66;03m# instantiate to create player1 object\u001b[39;00m\n\u001b[0;32m----> 2\u001b[0m player1 \u001b[38;5;241m=\u001b[39m \u001b[43mPlayerCharacter\u001b[49m\u001b[43m(\u001b[49m\u001b[43m)\u001b[49m\n",
      "\u001b[0;31mTypeError\u001b[0m: __init__() missing 1 required positional argument: 'name'"
     ]
    }
   ],
   "source": [
    "# instantiate to create player1 object\n",
    "player1 = PlayerCharacter()"
   ]
  },
  {
   "cell_type": "code",
   "execution_count": 11,
   "id": "dc3692aa-fca9-4fc5-9931-33d4919b4329",
   "metadata": {},
   "outputs": [
    {
     "data": {
      "text/plain": [
       "<__main__.PlayerCharacter at 0x7f9b73f02e50>"
      ]
     },
     "execution_count": 11,
     "metadata": {},
     "output_type": "execute_result"
    }
   ],
   "source": [
    "# so here we called the init but did not give a name (self, name)\n",
    "\n",
    "player1 = PlayerCharacter('mike')\n",
    "player1"
   ]
  },
  {
   "cell_type": "code",
   "execution_count": 12,
   "id": "5090da96-f17f-4703-9d76-d930b932ae19",
   "metadata": {},
   "outputs": [
    {
     "data": {
      "text/plain": [
       "'mike'"
      ]
     },
     "execution_count": 12,
     "metadata": {},
     "output_type": "execute_result"
    }
   ],
   "source": [
    "# now we have the player1 object\n",
    "player1.name"
   ]
  },
  {
   "cell_type": "code",
   "execution_count": 14,
   "id": "644247cd-e299-499a-b12c-b7e127b3aa79",
   "metadata": {},
   "outputs": [
    {
     "data": {
      "text/plain": [
       "'tom'"
      ]
     },
     "execution_count": 14,
     "metadata": {},
     "output_type": "execute_result"
    }
   ],
   "source": [
    "player2 = PlayerCharacter('tom')\n",
    "player2.name"
   ]
  },
  {
   "cell_type": "code",
   "execution_count": 15,
   "id": "75ec1991-88cf-4453-bff5-2fcdaa3560a8",
   "metadata": {},
   "outputs": [],
   "source": [
    "#expanding the class\n",
    "\n",
    "class PlayerCharacter:\n",
    "    def __init__(self, name, age):  \n",
    "        self.name = name\n",
    "        self.age = age\n",
    "        \n",
    "    def run(self):\n",
    "        print('run')\n",
    "        return 'done'"
   ]
  },
  {
   "cell_type": "code",
   "execution_count": 16,
   "id": "3aff218a-af1f-40d9-bd56-3edcbaf47cb5",
   "metadata": {},
   "outputs": [
    {
     "data": {
      "text/plain": [
       "55"
      ]
     },
     "execution_count": 16,
     "metadata": {},
     "output_type": "execute_result"
    }
   ],
   "source": [
    "player1 = PlayerCharacter('mike', 46)\n",
    "player2 = PlayerCharacter('tom', 55)\n",
    "\n",
    "player2.age"
   ]
  },
  {
   "cell_type": "code",
   "execution_count": 17,
   "id": "6895fedf-d439-442c-8d71-299a7b1dddeb",
   "metadata": {},
   "outputs": [
    {
     "data": {
      "text/plain": [
       "<bound method PlayerCharacter.run of <__main__.PlayerCharacter object at 0x7f9b73f0b340>>"
      ]
     },
     "execution_count": 17,
     "metadata": {},
     "output_type": "execute_result"
    }
   ],
   "source": [
    "player1.run"
   ]
  },
  {
   "cell_type": "code",
   "execution_count": 18,
   "id": "2018c6df-8c02-4dd2-9c44-ab6e4992d09b",
   "metadata": {},
   "outputs": [
    {
     "name": "stdout",
     "output_type": "stream",
     "text": [
      "run\n"
     ]
    }
   ],
   "source": [
    "player1.run()"
   ]
  },
  {
   "cell_type": "code",
   "execution_count": 24,
   "id": "14034d64-d30c-4cd0-9ca6-f0e179310ce4",
   "metadata": {},
   "outputs": [],
   "source": [
    "# Adding a class object attribute\n",
    "# this is static and applies to all objects of the class\n",
    "\n",
    "class PlayerCharacter:\n",
    "    membership = True    # class object attribute\n",
    "    def __init__(self, name, age):  \n",
    "        self.name = name\n",
    "        self.age = age\n",
    "        \n",
    "    def run(self):\n",
    "        print('run')\n",
    "        return 'done'\n",
    "    \n",
    "    def shout(self):\n",
    "        print(f'my name is: {self.name}')"
   ]
  },
  {
   "cell_type": "code",
   "execution_count": 26,
   "id": "9880e306-508b-4d18-a9c3-8a2890ee2852",
   "metadata": {},
   "outputs": [
    {
     "data": {
      "text/plain": [
       "True"
      ]
     },
     "execution_count": 26,
     "metadata": {},
     "output_type": "execute_result"
    }
   ],
   "source": [
    "player1 = PlayerCharacter('mike', 46)\n",
    "player2 = PlayerCharacter('tom', 55)\n",
    "player1.membership"
   ]
  },
  {
   "cell_type": "code",
   "execution_count": 27,
   "id": "b9d36888-49c7-4112-acf0-a6822acb1f76",
   "metadata": {},
   "outputs": [
    {
     "name": "stdout",
     "output_type": "stream",
     "text": [
      "my name is: mike\n"
     ]
    }
   ],
   "source": [
    "player1.shout()"
   ]
  },
  {
   "cell_type": "code",
   "execution_count": 31,
   "id": "458e9a57-74dd-4cf0-8e95-5b1ed40c63ed",
   "metadata": {},
   "outputs": [],
   "source": [
    "#Given the below class:\n",
    "class Cat:\n",
    "    species = 'mammal'\n",
    "    def __init__(self, name, age):\n",
    "        self.name = name\n",
    "        self.age = age\n",
    "        \n",
    "\n",
    "# 1 Instantiate the Cat object with 3 cats\n",
    "cat1 = Cat('feline1', 5)\n",
    "cat2 = Cat('feline2', 7)\n",
    "cat3 = Cat('feline3', 9)\n",
    "\n",
    "cats = [cat1, cat2, cat3]\n",
    "\n",
    "# Create a function to find the oldest cat\n",
    "def find_oldest_cat(cat_list):\n",
    "    oldest_cat = None\n",
    "    max_age = 0\n",
    "    \n",
    "    for cat in cat_list:\n",
    "        if cat.age > max_age:\n",
    "            max_age = cat.age\n",
    "            oldest_cat = cat\n",
    "    \n",
    "    return oldest_cat"
   ]
  },
  {
   "cell_type": "code",
   "execution_count": 32,
   "id": "2b035b1e-2190-42ae-89de-2beb5f4d26e2",
   "metadata": {},
   "outputs": [
    {
     "data": {
      "text/plain": [
       "<__main__.Cat at 0x7f9b758bdc70>"
      ]
     },
     "execution_count": 32,
     "metadata": {},
     "output_type": "execute_result"
    }
   ],
   "source": [
    "oldest_cat = find_oldest_cat(cats)\n",
    "oldest_cat"
   ]
  },
  {
   "cell_type": "code",
   "execution_count": 33,
   "id": "1f1fc906-c14e-4c00-ac47-5c03399420cd",
   "metadata": {},
   "outputs": [
    {
     "name": "stdout",
     "output_type": "stream",
     "text": [
      "The oldest cat is feline3 and it is 9 years old.\n"
     ]
    }
   ],
   "source": [
    "print(f\"The oldest cat is {oldest_cat.name} and it is {oldest_cat.age} years old.\")"
   ]
  },
  {
   "cell_type": "code",
   "execution_count": null,
   "id": "faad77fb-857c-4874-8927-a7991ac72e89",
   "metadata": {},
   "outputs": [],
   "source": []
  }
 ],
 "metadata": {
  "kernelspec": {
   "display_name": "Python 3 (ipykernel)",
   "language": "python",
   "name": "python3"
  },
  "language_info": {
   "codemirror_mode": {
    "name": "ipython",
    "version": 3
   },
   "file_extension": ".py",
   "mimetype": "text/x-python",
   "name": "python",
   "nbconvert_exporter": "python",
   "pygments_lexer": "ipython3",
   "version": "3.9.13"
  }
 },
 "nbformat": 4,
 "nbformat_minor": 5
}

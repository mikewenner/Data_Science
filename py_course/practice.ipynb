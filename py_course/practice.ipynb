{
 "cells": [
  {
   "cell_type": "markdown",
   "id": "d45f3dd6-d76a-4ba7-b72a-9465ffc629b5",
   "metadata": {},
   "source": [
    "## area of a rectangle"
   ]
  },
  {
   "cell_type": "code",
   "execution_count": 1,
   "id": "cce0181d-cb18-415f-85a4-742e5f6aad77",
   "metadata": {},
   "outputs": [
    {
     "name": "stdin",
     "output_type": "stream",
     "text": [
      "Enter the length of the rectangle:  10\n",
      "Enter the width of the rectangle:  25\n"
     ]
    },
    {
     "name": "stdout",
     "output_type": "stream",
     "text": [
      "The area of the rectangle is: 250.0\n"
     ]
    }
   ],
   "source": [
    "# Calculate the area of a rectangle given its length and width\n",
    "\n",
    "def rectangle_area(length, width):\n",
    "    area = length * width\n",
    "    return area\n",
    "\n",
    "length = float(input(\"Enter the length of the rectangle: \"))\n",
    "width = float(input(\"Enter the width of the rectangle: \"))\n",
    "print(\"The area of the rectangle is:\", rectangle_area(length, width))\n"
   ]
  },
  {
   "cell_type": "markdown",
   "id": "abecd31e-9efe-49e0-9664-42c1f184bf64",
   "metadata": {},
   "source": [
    "## name age greeting"
   ]
  },
  {
   "cell_type": "code",
   "execution_count": 3,
   "id": "0208c2a9-df58-4982-8dc2-6a9f527c11a9",
   "metadata": {},
   "outputs": [
    {
     "name": "stdin",
     "output_type": "stream",
     "text": [
      "Enter your name:  mike\n",
      "Enter your age:  46\n"
     ]
    },
    {
     "name": "stdout",
     "output_type": "stream",
     "text": [
      "Hello, mike! You are 46 years old.\n"
     ]
    }
   ],
   "source": [
    "# Create a program that takes a user's name and age as input and prints a greeting message\n",
    "\n",
    "name = input(\"Enter your name: \")\n",
    "age = int(input(\"Enter your age: \"))\n",
    "print(f\"Hello, {name}! You are {age} years old.\")\n"
   ]
  },
  {
   "cell_type": "markdown",
   "id": "39030b0d-104f-4031-8dba-3ba415ad65da",
   "metadata": {},
   "source": [
    "## Odd/Even check"
   ]
  },
  {
   "cell_type": "code",
   "execution_count": 4,
   "id": "254c4241-767c-447c-9908-e09b980aa512",
   "metadata": {},
   "outputs": [
    {
     "name": "stdin",
     "output_type": "stream",
     "text": [
      "Enter a number:  55\n"
     ]
    },
    {
     "name": "stdout",
     "output_type": "stream",
     "text": [
      "The number is Odd.\n"
     ]
    }
   ],
   "source": [
    "# Write a program to check if a number is even or odd\n",
    "\n",
    "def check_even_odd(number):\n",
    "    if number % 2 == 0:\n",
    "        return \"Even\"\n",
    "    else:\n",
    "        return \"Odd\"\n",
    "\n",
    "number = int(input(\"Enter a number: \"))\n",
    "print(f\"The number is {check_even_odd(number)}.\")\n"
   ]
  },
  {
   "cell_type": "markdown",
   "id": "c7b20f45-1213-4fd5-9ec4-8dd244242a72",
   "metadata": {},
   "source": [
    "## Min/Max List nums"
   ]
  },
  {
   "cell_type": "code",
   "execution_count": 5,
   "id": "fe3ac2c1-8a31-4da0-b6a8-fe6328dc1461",
   "metadata": {},
   "outputs": [
    {
     "name": "stdout",
     "output_type": "stream",
     "text": [
      "Maximum value: 34\n",
      "Minimum value: 5\n"
     ]
    }
   ],
   "source": [
    "# Given a list of numbers, find the maximum and minimum values:\n",
    "numbers = [12, 5, 34, 23, 9]\n",
    "maximum_value = max(numbers)\n",
    "minimum_value = min(numbers)\n",
    "print(\"Maximum value:\", maximum_value)\n",
    "print(\"Minimum value:\", minimum_value)"
   ]
  },
  {
   "cell_type": "markdown",
   "id": "2848aa16-baf4-444e-b6ab-6459ef562ceb",
   "metadata": {},
   "source": [
    "## Palindrome"
   ]
  },
  {
   "cell_type": "code",
   "execution_count": 8,
   "id": "5b78e204-4ec1-4bd5-8ff9-56775b8346e4",
   "metadata": {},
   "outputs": [
    {
     "name": "stdin",
     "output_type": "stream",
     "text": [
      "Enter a string:  radar\n"
     ]
    },
    {
     "name": "stdout",
     "output_type": "stream",
     "text": [
      "The string is a palindrome.\n"
     ]
    }
   ],
   "source": [
    "#Create a Python function to check if a given string is a palindrome:\n",
    "\n",
    "def is_palindrome(string):\n",
    "    return string == string[::-1]\n",
    "\n",
    "input_string = input(\"Enter a string: \")\n",
    "if is_palindrome(input_string):\n",
    "    print(\"The string is a palindrome.\")\n",
    "else:\n",
    "    print(\"The string is not a palindrome.\")\n"
   ]
  },
  {
   "cell_type": "code",
   "execution_count": null,
   "id": "c597c3cf-7a81-4b16-8fd4-3dc06eae799e",
   "metadata": {},
   "outputs": [],
   "source": [
    "# return string == string[::-1]\n",
    "\n",
    "# This line is the implementation of the is_palindrome function. \n",
    "# It returns True if the string is equal to its reverse (string[::-1]), and False otherwise. \n",
    "# In Python, string[::-1] is a slicing operation that reverses the order of characters in the string. \n",
    "# So, this line essentially checks if the given string is the same forward and backward, indicating that it is a palindrome."
   ]
  },
  {
   "cell_type": "markdown",
   "id": "6f90af15-4793-4a7f-a6c7-3748b9c81aab",
   "metadata": {},
   "source": [
    "## convert days"
   ]
  },
  {
   "cell_type": "code",
   "execution_count": 9,
   "id": "cad22882-926f-4efe-a173-d6c7975c1ef5",
   "metadata": {},
   "outputs": [
    {
     "name": "stdin",
     "output_type": "stream",
     "text": [
      "Enter the number of days:  55\n"
     ]
    },
    {
     "name": "stdout",
     "output_type": "stream",
     "text": [
      "55 days is equal to 0 years, 7 weeks, and 6 days.\n"
     ]
    }
   ],
   "source": [
    "# Write a program that converts a given number of days into years, weeks, and days\n",
    "\n",
    "def convert_days(days):\n",
    "    years = days // 365\n",
    "    weeks = (days % 365) // 7\n",
    "    remaining_days = days % 7\n",
    "    return years, weeks, remaining_days\n",
    "\n",
    "total_days = int(input(\"Enter the number of days: \"))\n",
    "years, weeks, days = convert_days(total_days)\n",
    "print(f\"{total_days} days is equal to {years} years, {weeks} weeks, and {days} days.\")\n"
   ]
  },
  {
   "cell_type": "markdown",
   "id": "d38c3f1d-5df7-498c-b93a-8aecfcd9a29a",
   "metadata": {},
   "source": [
    "## sum of all positive ints list"
   ]
  },
  {
   "cell_type": "code",
   "execution_count": 10,
   "id": "b41b3f5d-eb7f-4256-ac4b-3d6b367e65c0",
   "metadata": {},
   "outputs": [
    {
     "name": "stdout",
     "output_type": "stream",
     "text": [
      "Sum of positive numbers: 55\n"
     ]
    }
   ],
   "source": [
    "# Given a list of integers, find the sum of all positive numbers:\n",
    "\n",
    "numbers = [12, -5, 34, -23, 9]\n",
    "positive_sum = sum(num for num in numbers if num > 0)\n",
    "print(\"Sum of positive numbers:\", positive_sum)\n"
   ]
  },
  {
   "cell_type": "code",
   "execution_count": 14,
   "id": "56d6f2de-4cfc-4f4b-8581-5f7d4b33837d",
   "metadata": {},
   "outputs": [
    {
     "name": "stdin",
     "output_type": "stream",
     "text": [
      "Enter the length of the list you want to generate:  22\n"
     ]
    },
    {
     "name": "stdout",
     "output_type": "stream",
     "text": [
      "[78, 3, 55, 8, 34, 85, 31, 32, 40, 15, 80, 31, 96, 9, 22, 64, 47, 92, 90, 99, 64, 49]\n"
     ]
    }
   ],
   "source": [
    "# generate a random list of integers based on a user input length \n",
    "\n",
    "import random\n",
    "\n",
    "def generate_random_list(length):\n",
    "    random_list = [random.randint(1, 100) for _ in range(length)]\n",
    "    return random_list\n",
    "\n",
    "# Get user input for the list length\n",
    "length = int(input(\"Enter the length of the list you want to generate: \"))\n",
    "\n",
    "# Call the function with the desired length and store result in the variable 'numbers'\n",
    "numbers = generate_random_list(length)\n",
    "print(numbers)"
   ]
  },
  {
   "cell_type": "markdown",
   "id": "64a7146f-4c65-451a-a201-a0627947a39b",
   "metadata": {},
   "source": [
    "## Count words in sentence"
   ]
  },
  {
   "cell_type": "code",
   "execution_count": 12,
   "id": "be5e2857-e34b-4550-91af-81f9f7be3370",
   "metadata": {},
   "outputs": [
    {
     "name": "stdin",
     "output_type": "stream",
     "text": [
      "Enter a sentence:  hello, what a nice evening!\n"
     ]
    },
    {
     "name": "stdout",
     "output_type": "stream",
     "text": [
      "Number of words in the sentence: 5\n"
     ]
    }
   ],
   "source": [
    "# Create a program that takes a sentence as input and counts the number of words in it:\n",
    "\n",
    "sentence = input(\"Enter a sentence: \")\n",
    "word_count = len(sentence.split())\n",
    "print(\"Number of words in the sentence:\", word_count)\n"
   ]
  },
  {
   "cell_type": "markdown",
   "id": "2780def1-4460-4427-a23b-90e6704e2ae1",
   "metadata": {},
   "source": [
    "## Swap values"
   ]
  },
  {
   "cell_type": "code",
   "execution_count": 13,
   "id": "e4d27692-324a-4ddd-85d6-a2acaffd4f5b",
   "metadata": {},
   "outputs": [
    {
     "name": "stdout",
     "output_type": "stream",
     "text": [
      "After swapping:\n",
      "a = 20\n",
      "b = 10\n"
     ]
    }
   ],
   "source": [
    "# Implement a program that swaps the values of two variables:\n",
    "\n",
    "# Input values\n",
    "a = 10\n",
    "b = 20\n",
    "\n",
    "# Swapping values\n",
    "a, b = b, a\n",
    "\n",
    "print(\"After swapping:\")\n",
    "print(\"a =\", a)\n",
    "print(\"b =\", b)\n"
   ]
  },
  {
   "cell_type": "code",
   "execution_count": null,
   "id": "a4f0be9a-d43e-43a3-bd7e-86715caadf78",
   "metadata": {},
   "outputs": [],
   "source": []
  }
 ],
 "metadata": {
  "kernelspec": {
   "display_name": "Python 3 (ipykernel)",
   "language": "python",
   "name": "python3"
  },
  "language_info": {
   "codemirror_mode": {
    "name": "ipython",
    "version": 3
   },
   "file_extension": ".py",
   "mimetype": "text/x-python",
   "name": "python",
   "nbconvert_exporter": "python",
   "pygments_lexer": "ipython3",
   "version": "3.9.13"
  }
 },
 "nbformat": 4,
 "nbformat_minor": 5
}

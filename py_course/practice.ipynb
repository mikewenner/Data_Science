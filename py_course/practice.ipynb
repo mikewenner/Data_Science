{
 "cells": [
  {
   "cell_type": "markdown",
   "id": "d45f3dd6-d76a-4ba7-b72a-9465ffc629b5",
   "metadata": {
    "jp-MarkdownHeadingCollapsed": true,
    "tags": []
   },
   "source": [
    "## area of a rectangle"
   ]
  },
  {
   "cell_type": "code",
   "execution_count": null,
   "id": "cce0181d-cb18-415f-85a4-742e5f6aad77",
   "metadata": {},
   "outputs": [
    {
     "name": "stdin",
     "output_type": "stream",
     "text": [
      "Enter the length of the rectangle:  10\n",
      "Enter the width of the rectangle:  25\n"
     ]
    },
    {
     "name": "stdout",
     "output_type": "stream",
     "text": [
      "The area of the rectangle is: 250.0\n"
     ]
    }
   ],
   "source": [
    "# Calculate the area of a rectangle given its length and width\n",
    "\n",
    "def rectangle_area(length, width):\n",
    "    area = length * width\n",
    "    return area\n",
    "\n",
    "length = float(input(\"Enter the length of the rectangle: \"))\n",
    "width = float(input(\"Enter the width of the rectangle: \"))\n",
    "print(\"The area of the rectangle is:\", rectangle_area(length, width))\n"
   ]
  },
  {
   "cell_type": "markdown",
   "id": "b0474afa-dbc2-44cc-8ff0-af44d8f47466",
   "metadata": {
    "jp-MarkdownHeadingCollapsed": true,
    "tags": []
   },
   "source": [
    "## Area and circum of circle given radius\n"
   ]
  },
  {
   "cell_type": "code",
   "execution_count": 23,
   "id": "a239b2ea-b6bf-4102-908e-002f939ee309",
   "metadata": {},
   "outputs": [
    {
     "name": "stdin",
     "output_type": "stream",
     "text": [
      "Enter the radius of the circle:  21\n"
     ]
    },
    {
     "name": "stdout",
     "output_type": "stream",
     "text": [
      "Area: 1385.4423602330987 Circumference: 131.94689145077132\n"
     ]
    }
   ],
   "source": [
    "import math\n",
    "\n",
    "def circle_area_circumference(radius):\n",
    "    area = math.pi * radius ** 2\n",
    "    circumference = 2 * math.pi * radius\n",
    "    return area, circumference\n",
    "\n",
    "radius = float(input(\"Enter the radius of the circle: \"))\n",
    "area, circumference = circle_area_circumference(radius)\n",
    "print(\"Area:\", area, \"Circumference:\", circumference)\n"
   ]
  },
  {
   "cell_type": "markdown",
   "id": "abecd31e-9efe-49e0-9664-42c1f184bf64",
   "metadata": {
    "jp-MarkdownHeadingCollapsed": true,
    "tags": []
   },
   "source": [
    "## name age greeting"
   ]
  },
  {
   "cell_type": "code",
   "execution_count": 3,
   "id": "0208c2a9-df58-4982-8dc2-6a9f527c11a9",
   "metadata": {},
   "outputs": [
    {
     "name": "stdin",
     "output_type": "stream",
     "text": [
      "Enter your name:  mike\n",
      "Enter your age:  46\n"
     ]
    },
    {
     "name": "stdout",
     "output_type": "stream",
     "text": [
      "Hello, mike! You are 46 years old.\n"
     ]
    }
   ],
   "source": [
    "# Create a program that takes a user's name and age as input and prints a greeting message\n",
    "\n",
    "name = input(\"Enter your name: \")\n",
    "age = int(input(\"Enter your age: \"))\n",
    "print(f\"Hello, {name}! You are {age} years old.\")\n"
   ]
  },
  {
   "cell_type": "markdown",
   "id": "39030b0d-104f-4031-8dba-3ba415ad65da",
   "metadata": {
    "jp-MarkdownHeadingCollapsed": true,
    "tags": []
   },
   "source": [
    "## Odd/Even check"
   ]
  },
  {
   "cell_type": "code",
   "execution_count": 4,
   "id": "254c4241-767c-447c-9908-e09b980aa512",
   "metadata": {},
   "outputs": [
    {
     "name": "stdin",
     "output_type": "stream",
     "text": [
      "Enter a number:  55\n"
     ]
    },
    {
     "name": "stdout",
     "output_type": "stream",
     "text": [
      "The number is Odd.\n"
     ]
    }
   ],
   "source": [
    "# Write a program to check if a number is even or odd\n",
    "\n",
    "def check_even_odd(number):\n",
    "    if number % 2 == 0:\n",
    "        return \"Even\"\n",
    "    else:\n",
    "        return \"Odd\"\n",
    "\n",
    "number = int(input(\"Enter a number: \"))\n",
    "print(f\"The number is {check_even_odd(number)}.\")\n"
   ]
  },
  {
   "cell_type": "markdown",
   "id": "45e2ad59-3458-4594-8a11-005b1f184b10",
   "metadata": {
    "jp-MarkdownHeadingCollapsed": true,
    "tags": []
   },
   "source": [
    "## Check prime"
   ]
  },
  {
   "cell_type": "code",
   "execution_count": 26,
   "id": "0fc8630b-c201-48ab-88c5-9303abbf3703",
   "metadata": {},
   "outputs": [
    {
     "name": "stdin",
     "output_type": "stream",
     "text": [
      "Enter a number:  22148\n"
     ]
    },
    {
     "name": "stdout",
     "output_type": "stream",
     "text": [
      "False\n"
     ]
    }
   ],
   "source": [
    "def is_prime(n):\n",
    "    if n <= 1:\n",
    "        return False\n",
    "    for i in range(2, int(n**0.5) + 1):\n",
    "        if n % i == 0:\n",
    "            return False\n",
    "    return True\n",
    "\n",
    "n = int(input(\"Enter a number: \"))\n",
    "print(is_prime(n))\n"
   ]
  },
  {
   "cell_type": "code",
   "execution_count": null,
   "id": "6555d842-63f1-4464-ae9e-fc1c91ad6fe1",
   "metadata": {},
   "outputs": [],
   "source": [
    "# It first checks if n is 1 or less, in which case it's not prime. \n",
    "# Then it checks if n is divisible by any number from 2 to the square root of n (rounded up). \n",
    "# If n is divisible by any of these numbers, it's not prime. \n",
    "# If none of these checks pass, n is prime. The user is asked to input a number, which is used to call the function. "
   ]
  },
  {
   "cell_type": "markdown",
   "id": "39bf95b7-79d3-4286-9ea5-12982b08e37a",
   "metadata": {
    "jp-MarkdownHeadingCollapsed": true,
    "tags": []
   },
   "source": [
    "## Loop to print prime nums"
   ]
  },
  {
   "cell_type": "code",
   "execution_count": 35,
   "id": "634068f7-ad32-4e4e-b332-bc28de5ca34a",
   "metadata": {},
   "outputs": [
    {
     "name": "stdout",
     "output_type": "stream",
     "text": [
      "2\n",
      "3\n",
      "5\n",
      "7\n",
      "11\n",
      "13\n",
      "17\n",
      "19\n",
      "23\n",
      "29\n",
      "31\n",
      "37\n",
      "41\n",
      "43\n",
      "47\n"
     ]
    }
   ],
   "source": [
    "def is_prime(n):\n",
    "    if n <= 1:\n",
    "        return False\n",
    "    for i in range(2, int(n**0.5) + 1):\n",
    "        if n % i == 0:\n",
    "            return False\n",
    "    return True\n",
    "\n",
    "for n in range(1, 51):\n",
    "    if is_prime(n):\n",
    "        print(n)\n"
   ]
  },
  {
   "cell_type": "markdown",
   "id": "c7b20f45-1213-4fd5-9ec4-8dd244242a72",
   "metadata": {
    "jp-MarkdownHeadingCollapsed": true,
    "tags": []
   },
   "source": [
    "## Min/Max List nums"
   ]
  },
  {
   "cell_type": "code",
   "execution_count": 5,
   "id": "fe3ac2c1-8a31-4da0-b6a8-fe6328dc1461",
   "metadata": {},
   "outputs": [
    {
     "name": "stdout",
     "output_type": "stream",
     "text": [
      "Maximum value: 34\n",
      "Minimum value: 5\n"
     ]
    }
   ],
   "source": [
    "# Given a list of numbers, find the maximum and minimum values:\n",
    "numbers = [12, 5, 34, 23, 9]\n",
    "maximum_value = max(numbers)\n",
    "minimum_value = min(numbers)\n",
    "print(\"Maximum value:\", maximum_value)\n",
    "print(\"Minimum value:\", minimum_value)"
   ]
  },
  {
   "cell_type": "markdown",
   "id": "8d85b2b3-dd1f-4ca9-8747-79cc782b46bf",
   "metadata": {
    "jp-MarkdownHeadingCollapsed": true,
    "tags": []
   },
   "source": [
    "## Even nums in List"
   ]
  },
  {
   "cell_type": "code",
   "execution_count": 30,
   "id": "373881b7-cd73-44ad-afb5-96175250ca03",
   "metadata": {},
   "outputs": [
    {
     "name": "stdout",
     "output_type": "stream",
     "text": [
      "[2, 4, 6]\n"
     ]
    }
   ],
   "source": [
    "def get_even_numbers(numbers):\n",
    "    return [num for num in numbers if num % 2 == 0]\n",
    "\n",
    "numbers = [1, 2, 3, 4, 5, 6]\n",
    "print(get_even_numbers(numbers))\n"
   ]
  },
  {
   "cell_type": "markdown",
   "id": "d38c3f1d-5df7-498c-b93a-8aecfcd9a29a",
   "metadata": {
    "jp-MarkdownHeadingCollapsed": true,
    "tags": []
   },
   "source": [
    "## sum of all positive ints list"
   ]
  },
  {
   "cell_type": "code",
   "execution_count": 10,
   "id": "b41b3f5d-eb7f-4256-ac4b-3d6b367e65c0",
   "metadata": {},
   "outputs": [
    {
     "name": "stdout",
     "output_type": "stream",
     "text": [
      "Sum of positive numbers: 55\n"
     ]
    }
   ],
   "source": [
    "# Given a list of integers, find the sum of all positive numbers:\n",
    "\n",
    "numbers = [12, -5, 34, -23, 9]\n",
    "positive_sum = sum(num for num in numbers if num > 0)\n",
    "print(\"Sum of positive numbers:\", positive_sum)\n"
   ]
  },
  {
   "cell_type": "code",
   "execution_count": 14,
   "id": "56d6f2de-4cfc-4f4b-8581-5f7d4b33837d",
   "metadata": {},
   "outputs": [
    {
     "name": "stdin",
     "output_type": "stream",
     "text": [
      "Enter the length of the list you want to generate:  22\n"
     ]
    },
    {
     "name": "stdout",
     "output_type": "stream",
     "text": [
      "[78, 3, 55, 8, 34, 85, 31, 32, 40, 15, 80, 31, 96, 9, 22, 64, 47, 92, 90, 99, 64, 49]\n"
     ]
    }
   ],
   "source": [
    "# generate a random list of integers based on a user input length \n",
    "\n",
    "import random\n",
    "\n",
    "def generate_random_list(length):\n",
    "    random_list = [random.randint(1, 100) for _ in range(length)]\n",
    "    return random_list\n",
    "\n",
    "# Get user input for the list length\n",
    "length = int(input(\"Enter the length of the list you want to generate: \"))\n",
    "\n",
    "# Call the function with the desired length and store result in the variable 'numbers'\n",
    "numbers = generate_random_list(length)\n",
    "print(numbers)"
   ]
  },
  {
   "cell_type": "markdown",
   "id": "c1219734-3ae6-41c7-963a-b2aa41fbd6ed",
   "metadata": {
    "jp-MarkdownHeadingCollapsed": true,
    "tags": []
   },
   "source": [
    "## Intersection of lists"
   ]
  },
  {
   "cell_type": "code",
   "execution_count": 40,
   "id": "c46a935e-7b0e-4388-ba52-fde6195b6c2d",
   "metadata": {},
   "outputs": [
    {
     "name": "stdout",
     "output_type": "stream",
     "text": [
      "[4, 5]\n"
     ]
    }
   ],
   "source": [
    "def intersect_lists(lst1, lst2):\n",
    "    # We convert both lists to sets, and use the built-in intersection method to find the common elements.\n",
    "    # Then we convert the result back to a list and return it.\n",
    "    # We convert both lists to sets.\n",
    "    # This has two benefits: it removes any duplicates from the lists,\n",
    "    # and it allows us to use the intersection method.\n",
    "    return list(set(lst1) & set(lst2))\n",
    "    # Here, the '&' operator is used to find the intersection of two sets.\n",
    "    # The result of this operation is another set that contains only the elements common to both sets.\n",
    "    # Finally, we convert the result back to a list and return it\n",
    "list1 = [1, 2, 3, 4, 5]\n",
    "list2 = [4, 5, 6, 7, 8]\n",
    "print(intersect_lists(list1, list2))  # prints [4, 5]\n"
   ]
  },
  {
   "cell_type": "markdown",
   "id": "d68e292f-323c-4a4c-b7ea-c8e458672fc8",
   "metadata": {
    "jp-MarkdownHeadingCollapsed": true,
    "tags": []
   },
   "source": [
    "## Square nums in List"
   ]
  },
  {
   "cell_type": "code",
   "execution_count": 38,
   "id": "8521332b-a2a1-42dc-a5c2-dc61a7525ca5",
   "metadata": {},
   "outputs": [
    {
     "name": "stdout",
     "output_type": "stream",
     "text": [
      "[1, 4, 9, 16, 25]\n"
     ]
    }
   ],
   "source": [
    "def square_elements(lst):\n",
    "    # Here, we are using list comprehension to create a new list.\n",
    "    # For each element in the list, we find its square (i.e., num ** 2).\n",
    "    return [num ** 2 for num in lst]\n",
    "\n",
    "numbers = [1, 2, 3, 4, 5]\n",
    "print(square_elements(numbers))  # prints [1, 4, 9, 16, 25]\n"
   ]
  },
  {
   "cell_type": "markdown",
   "id": "2848aa16-baf4-444e-b6ab-6459ef562ceb",
   "metadata": {
    "jp-MarkdownHeadingCollapsed": true,
    "tags": []
   },
   "source": [
    "## Palindrome"
   ]
  },
  {
   "cell_type": "code",
   "execution_count": 8,
   "id": "5b78e204-4ec1-4bd5-8ff9-56775b8346e4",
   "metadata": {},
   "outputs": [
    {
     "name": "stdin",
     "output_type": "stream",
     "text": [
      "Enter a string:  radar\n"
     ]
    },
    {
     "name": "stdout",
     "output_type": "stream",
     "text": [
      "The string is a palindrome.\n"
     ]
    }
   ],
   "source": [
    "#Create a Python function to check if a given string is a palindrome:\n",
    "\n",
    "def is_palindrome(string):\n",
    "    return string == string[::-1]\n",
    "\n",
    "input_string = input(\"Enter a string: \")\n",
    "if is_palindrome(input_string):\n",
    "    print(\"The string is a palindrome.\")\n",
    "else:\n",
    "    print(\"The string is not a palindrome.\")\n"
   ]
  },
  {
   "cell_type": "code",
   "execution_count": null,
   "id": "c597c3cf-7a81-4b16-8fd4-3dc06eae799e",
   "metadata": {},
   "outputs": [],
   "source": [
    "# return string == string[::-1]\n",
    "\n",
    "# This line is the implementation of the is_palindrome function. \n",
    "# It returns True if the string is equal to its reverse (string[::-1]), and False otherwise. \n",
    "# In Python, string[::-1] is a slicing operation that reverses the order of characters in the string. \n",
    "# So, this line essentially checks if the given string is the same forward and backward, indicating that it is a palindrome."
   ]
  },
  {
   "cell_type": "markdown",
   "id": "b10854b0-4d54-4463-b243-b80c9f5fdd04",
   "metadata": {
    "tags": []
   },
   "source": [
    "## Pangram"
   ]
  },
  {
   "cell_type": "code",
   "execution_count": 32,
   "id": "a9268280-eed3-4366-a282-5ec2feaaa823",
   "metadata": {},
   "outputs": [
    {
     "name": "stdout",
     "output_type": "stream",
     "text": [
      "Alice\n",
      "Annie\n"
     ]
    }
   ],
   "source": [
    "def print_names_starting_with_A(names):\n",
    "    for name in names:\n",
    "        if name[0].upper() == 'A':\n",
    "            print(name)\n",
    "\n",
    "names = [\"Alice\", \"Bob\", \"Annie\", \"Charlie\"]\n",
    "print_names_starting_with_A(names)\n"
   ]
  },
  {
   "cell_type": "code",
   "execution_count": 22,
   "id": "40d19070-4f3e-44ae-ac13-2de35bb60ac0",
   "metadata": {},
   "outputs": [],
   "source": [
    "# The is_pangram function checks if a string s is a pangram. \n",
    "# It first creates a set of all lowercase alphabets. \n",
    "# Then, it checks if the set of lowercase characters in s is a superset of the alphabet set."
   ]
  },
  {
   "cell_type": "markdown",
   "id": "6f90af15-4793-4a7f-a6c7-3748b9c81aab",
   "metadata": {
    "jp-MarkdownHeadingCollapsed": true,
    "tags": []
   },
   "source": [
    "## convert days"
   ]
  },
  {
   "cell_type": "code",
   "execution_count": 9,
   "id": "cad22882-926f-4efe-a173-d6c7975c1ef5",
   "metadata": {},
   "outputs": [
    {
     "name": "stdin",
     "output_type": "stream",
     "text": [
      "Enter the number of days:  55\n"
     ]
    },
    {
     "name": "stdout",
     "output_type": "stream",
     "text": [
      "55 days is equal to 0 years, 7 weeks, and 6 days.\n"
     ]
    }
   ],
   "source": [
    "# Write a program that converts a given number of days into years, weeks, and days\n",
    "\n",
    "def convert_days(days):\n",
    "    years = days // 365\n",
    "    weeks = (days % 365) // 7\n",
    "    remaining_days = days % 7\n",
    "    return years, weeks, remaining_days\n",
    "\n",
    "total_days = int(input(\"Enter the number of days: \"))\n",
    "years, weeks, days = convert_days(total_days)\n",
    "print(f\"{total_days} days is equal to {years} years, {weeks} weeks, and {days} days.\")\n"
   ]
  },
  {
   "cell_type": "markdown",
   "id": "0c518561-d0a1-4152-8ae9-969633db9099",
   "metadata": {
    "jp-MarkdownHeadingCollapsed": true,
    "tags": []
   },
   "source": [
    "## Convert minutes"
   ]
  },
  {
   "cell_type": "code",
   "execution_count": 24,
   "id": "1e2b20b1-e0a1-402e-9243-4453f4100ace",
   "metadata": {},
   "outputs": [
    {
     "name": "stdin",
     "output_type": "stream",
     "text": [
      "Enter the number of minutes:  2541\n"
     ]
    },
    {
     "name": "stdout",
     "output_type": "stream",
     "text": [
      "42 hours, 21 minutes\n"
     ]
    }
   ],
   "source": [
    "#Implement a program that converts a given number of minutes into hours and minutes\n",
    "\n",
    "def convert_minutes(minutes):\n",
    "    hours = minutes // 60\n",
    "    remaining_minutes = minutes % 60\n",
    "    return hours, remaining_minutes\n",
    "\n",
    "minutes = int(input(\"Enter the number of minutes: \"))\n",
    "hours, remaining_minutes = convert_minutes(minutes)\n",
    "print(hours, \"hours,\", remaining_minutes, \"minutes\")\n"
   ]
  },
  {
   "cell_type": "markdown",
   "id": "b760376e-d4f7-478b-8474-4cbb21c392d5",
   "metadata": {
    "jp-MarkdownHeadingCollapsed": true,
    "tags": []
   },
   "source": [
    "## Check leap year"
   ]
  },
  {
   "cell_type": "code",
   "execution_count": 29,
   "id": "ca2c829f-1e5b-4def-8190-593cc7c18ea1",
   "metadata": {},
   "outputs": [
    {
     "name": "stdin",
     "output_type": "stream",
     "text": [
      "Enter a year:  2584\n"
     ]
    },
    {
     "name": "stdout",
     "output_type": "stream",
     "text": [
      "True\n"
     ]
    }
   ],
   "source": [
    "def is_leap_year(year):\n",
    "    if year % 4 == 0:  # If the year can be evenly divided by 4, it might be a leap year\n",
    "        if year % 100 == 0:  # However, if it can also be evenly divided by 100, it is NOT a leap year, UNLESS\n",
    "            if year % 400 == 0:  # It can ALSO be evenly divided by 400, in which case it is still a leap year\n",
    "                return True\n",
    "            else:  # If it's evenly divisible by 100, but NOT 400, it is not a leap year\n",
    "                return False\n",
    "        else:  # If it's evenly divisible by 4 but not by 100, it's a leap year\n",
    "            return True\n",
    "    else:  # If it's not evenly divisible by 4, it's not a leap year\n",
    "        return False\n",
    "\n",
    "\n",
    "year = int(input(\"Enter a year: \"))\n",
    "print(is_leap_year(year))\n"
   ]
  },
  {
   "cell_type": "code",
   "execution_count": null,
   "id": "e8f9db66-e263-4dba-b916-238b88b4a4ae",
   "metadata": {},
   "outputs": [],
   "source": [
    "# Leap years are divisible by 4, \n",
    "# but years that are divisible by 100 are not leap years, \n",
    "# unless they are also divisible by 400."
   ]
  },
  {
   "cell_type": "code",
   "execution_count": null,
   "id": "8c65ab31-0aa9-42e3-9291-a62a681c7cc0",
   "metadata": {},
   "outputs": [],
   "source": [
    "def is_leap_year(year):\n",
    "    if year % 4 == 0:  # This condition begins block 1\n",
    "        if year % 100 == 0:  # This condition begins block 2, which is nested inside block 1\n",
    "            if year % 400 == 0:  # This condition begins block 3, which is nested inside block 2\n",
    "                return True  # This statement is part of block 3\n",
    "            else:  # This statement is also part of block 2\n",
    "                return False  # This statement is part of the 'else' clause of block 2\n",
    "        else:  # This statement is also part of block 1\n",
    "            return True  # This statement is part of the 'else' clause of block 1\n",
    "    else:  # This statement is outside any other block and begins a new block at the same level as block 1\n",
    "        return False  # This statement is part of the 'else' clause of the outermost block\n"
   ]
  },
  {
   "cell_type": "markdown",
   "id": "64a7146f-4c65-451a-a201-a0627947a39b",
   "metadata": {
    "jp-MarkdownHeadingCollapsed": true,
    "tags": []
   },
   "source": [
    "## Count words in sentence"
   ]
  },
  {
   "cell_type": "code",
   "execution_count": 12,
   "id": "be5e2857-e34b-4550-91af-81f9f7be3370",
   "metadata": {},
   "outputs": [
    {
     "name": "stdin",
     "output_type": "stream",
     "text": [
      "Enter a sentence:  hello, what a nice evening!\n"
     ]
    },
    {
     "name": "stdout",
     "output_type": "stream",
     "text": [
      "Number of words in the sentence: 5\n"
     ]
    }
   ],
   "source": [
    "# Create a program that takes a sentence as input and counts the number of words in it:\n",
    "\n",
    "sentence = input(\"Enter a sentence: \")\n",
    "word_count = len(sentence.split())\n",
    "print(\"Number of words in the sentence:\", word_count)\n"
   ]
  },
  {
   "cell_type": "markdown",
   "id": "e67a18b5-42dc-43db-a36d-11fb219ea156",
   "metadata": {
    "jp-MarkdownHeadingCollapsed": true,
    "tags": []
   },
   "source": [
    "## Count long words"
   ]
  },
  {
   "cell_type": "code",
   "execution_count": 36,
   "id": "bd533880-5213-42cb-9cdd-988dd95d1ebd",
   "metadata": {},
   "outputs": [
    {
     "name": "stdout",
     "output_type": "stream",
     "text": [
      "3\n"
     ]
    }
   ],
   "source": [
    "def count_long_words(words):\n",
    "    return sum(1 for word in words if len(word) > 5)\n",
    "\n",
    "words = [\"hello\", \"world\", \"python\", \"list\", \"elements\", \"concatenate\"]\n",
    "print(count_long_words(words))\n"
   ]
  },
  {
   "cell_type": "markdown",
   "id": "d559a568-d1a0-4198-9b2d-13832b21bb69",
   "metadata": {
    "jp-MarkdownHeadingCollapsed": true,
    "tags": []
   },
   "source": [
    "## Len of longest word in sentence"
   ]
  },
  {
   "cell_type": "code",
   "execution_count": 48,
   "id": "804e6773-7681-4383-af1a-580223f4e100",
   "metadata": {},
   "outputs": [
    {
     "name": "stdout",
     "output_type": "stream",
     "text": [
      "5\n"
     ]
    }
   ],
   "source": [
    "# for longest word in a sentence\n",
    "\n",
    "def longest_word_length(sentence):\n",
    "    # First, we split the sentence into words using the split method.\n",
    "    # Then, we use a list comprehension to find the length of each word.\n",
    "    # The max function then gives us the length of the longest word.\n",
    "    return max(len(word) for word in sentence.split())\n",
    "\n",
    "print(longest_word_length(\"The quick brown fox jumps over the lazy dog\"))  # prints 5\n"
   ]
  },
  {
   "cell_type": "markdown",
   "id": "74afe1d9-7ff9-40c3-9a8e-31ee6d9437be",
   "metadata": {
    "jp-MarkdownHeadingCollapsed": true,
    "tags": []
   },
   "source": [
    "## Count Vowels"
   ]
  },
  {
   "cell_type": "code",
   "execution_count": 25,
   "id": "fd8d394f-536e-4167-ade8-94a226630257",
   "metadata": {},
   "outputs": [
    {
     "name": "stdin",
     "output_type": "stream",
     "text": [
      "Enter a string:  my interview is monday\n"
     ]
    },
    {
     "name": "stdout",
     "output_type": "stream",
     "text": [
      "7\n"
     ]
    }
   ],
   "source": [
    "# Create a function to count the number of vowels in a given string\n",
    "\n",
    "def count_vowels(string):\n",
    "    vowels = 'aeiouAEIOU'\n",
    "    return sum(1 for char in string if char in vowels)\n",
    "\n",
    "string = input(\"Enter a string: \")\n",
    "print(count_vowels(string))\n"
   ]
  },
  {
   "cell_type": "markdown",
   "id": "fbef4ce4-1b4a-44f3-acf5-4e6f32fb92dc",
   "metadata": {
    "jp-MarkdownHeadingCollapsed": true,
    "tags": []
   },
   "source": [
    "## Count Names start with vowels"
   ]
  },
  {
   "cell_type": "code",
   "execution_count": 50,
   "id": "74c9c033-c816-4542-aa74-ba4c9c946e05",
   "metadata": {},
   "outputs": [
    {
     "name": "stdout",
     "output_type": "stream",
     "text": [
      "2\n"
     ]
    }
   ],
   "source": [
    "def count_vowel_names(names):\n",
    "    # We use a list comprehension to create a list of all the names that start with a vowel.\n",
    "    # The len function then gives us the number of such names.\n",
    "    return len([name for name in names if name[0].lower() in 'aeiou'])\n",
    "\n",
    "names = [\"Alice\", \"Bob\", \"Charlie\", \"Dave\", \"Eve\"]\n",
    "print(count_vowel_names(names))  # prints 2\n",
    "\n",
    "# beginner way\n",
    "# def count_vowel_names(names):\n",
    "#     count = 0  # initialize a counter to keep track of names that start with a vowel\n",
    "#     for name in names:  # iterate over each name in the list\n",
    "#         if name[0].lower() in 'aeiou':  # check if the first letter of the name is a vowel\n",
    "#             count += 1  # if it is, increment the counter\n",
    "#     return count  # return the total count\n",
    "\n",
    "# names = [\"Alice\", \"Bob\", \"Charlie\", \"Dave\", \"Eve\"]\n",
    "# print(count_vowel_names(names))  # prints 2\n"
   ]
  },
  {
   "cell_type": "markdown",
   "id": "d46d4c52-a993-4854-af87-8d31fc70425a",
   "metadata": {
    "jp-MarkdownHeadingCollapsed": true,
    "tags": []
   },
   "source": [
    "## Remove Vowels"
   ]
  },
  {
   "cell_type": "code",
   "execution_count": 47,
   "id": "12696d6c-d19f-4cff-90c6-df739f5008be",
   "metadata": {},
   "outputs": [
    {
     "name": "stdout",
     "output_type": "stream",
     "text": [
      "Hll Wrld\n"
     ]
    },
    {
     "data": {
      "text/plain": [
       "8"
      ]
     },
     "execution_count": 47,
     "metadata": {},
     "output_type": "execute_result"
    }
   ],
   "source": [
    "def remove_vowels(string):\n",
    "    # Here, we're using a list comprehension to create a list of all the characters in the string that are not vowels.\n",
    "    # The join method then concatenates these characters together into a new string.\n",
    "    return ''.join(char for char in string if char.lower() not in 'aeiou')  \n",
    "\n",
    "print(remove_vowels(\"Hello World\"))  # prints \"Hll Wrld\"\n",
    "len(remove_vowels(\"Hello World\"))"
   ]
  },
  {
   "cell_type": "markdown",
   "id": "2871db35-a0cb-49d2-8f92-2ec94fb27409",
   "metadata": {
    "jp-MarkdownHeadingCollapsed": true,
    "tags": []
   },
   "source": [
    "## Remove dup chars in str"
   ]
  },
  {
   "cell_type": "code",
   "execution_count": 51,
   "id": "8087b697-5684-43c5-8493-e6b2840530fe",
   "metadata": {},
   "outputs": [
    {
     "name": "stdout",
     "output_type": "stream",
     "text": [
      "H lWedro\n"
     ]
    }
   ],
   "source": [
    "def remove_duplicates(string):\n",
    "    # We convert the string into a set to remove duplicates, then convert it back into a string.\n",
    "    # Note that this will not preserve the original order of characters.\n",
    "    return ''.join(set(string))\n",
    "\n",
    "print(remove_duplicates(\"Hello World\"))  # could print \"Helo Wrld\", but the order of characters is not guaranteed\n"
   ]
  },
  {
   "cell_type": "markdown",
   "id": "2780def1-4460-4427-a23b-90e6704e2ae1",
   "metadata": {
    "jp-MarkdownHeadingCollapsed": true,
    "tags": []
   },
   "source": [
    "## Swap values"
   ]
  },
  {
   "cell_type": "code",
   "execution_count": 13,
   "id": "e4d27692-324a-4ddd-85d6-a2acaffd4f5b",
   "metadata": {},
   "outputs": [
    {
     "name": "stdout",
     "output_type": "stream",
     "text": [
      "After swapping:\n",
      "a = 20\n",
      "b = 10\n"
     ]
    }
   ],
   "source": [
    "# Implement a program that swaps the values of two variables:\n",
    "\n",
    "# Input values\n",
    "a = 10\n",
    "b = 20\n",
    "\n",
    "# Swapping values\n",
    "a, b = b, a\n",
    "\n",
    "print(\"After swapping:\")\n",
    "print(\"a =\", a)\n",
    "print(\"b =\", b)\n"
   ]
  },
  {
   "cell_type": "markdown",
   "id": "c6082df8-1f5d-4c72-b5a2-1867174a54f0",
   "metadata": {
    "jp-MarkdownHeadingCollapsed": true,
    "tags": []
   },
   "source": [
    "## Convert to Kelvin"
   ]
  },
  {
   "cell_type": "code",
   "execution_count": 15,
   "id": "c4f31ec1-a152-4f19-a96b-83860ed77a94",
   "metadata": {},
   "outputs": [
    {
     "name": "stdin",
     "output_type": "stream",
     "text": [
      "Enter temperature in Celsius:  22\n"
     ]
    },
    {
     "name": "stdout",
     "output_type": "stream",
     "text": [
      "295.15 Kelvin\n"
     ]
    }
   ],
   "source": [
    "# Create a program that takes a temperature in Celsius and converts it to Kelvin\n",
    "\n",
    "def celsius_to_kelvin(temp_celsius):\n",
    "    temp_kelvin = temp_celsius + 273.15\n",
    "    return temp_kelvin\n",
    "\n",
    "temp_celsius = float(input(\"Enter temperature in Celsius: \"))\n",
    "print(celsius_to_kelvin(temp_celsius), \"Kelvin\")\n"
   ]
  },
  {
   "cell_type": "markdown",
   "id": "43b7e994-3293-40fc-bdcb-c911d9338550",
   "metadata": {
    "jp-MarkdownHeadingCollapsed": true,
    "tags": []
   },
   "source": [
    "## Reverse a string"
   ]
  },
  {
   "cell_type": "code",
   "execution_count": 16,
   "id": "7e8f2fa1-a785-4221-a75b-5980135262f0",
   "metadata": {},
   "outputs": [
    {
     "name": "stdin",
     "output_type": "stream",
     "text": [
      "Enter a string:  my interview is on manday\n"
     ]
    },
    {
     "name": "stdout",
     "output_type": "stream",
     "text": [
      "yadnam no si weivretni ym\n"
     ]
    }
   ],
   "source": [
    "def reverse_string(string):\n",
    "    return string[::-1]\n",
    "\n",
    "string = input(\"Enter a string: \")\n",
    "print(reverse_string(string))\n"
   ]
  },
  {
   "cell_type": "markdown",
   "id": "b34d1820-385f-4eb7-a77b-676b8de9167d",
   "metadata": {
    "jp-MarkdownHeadingCollapsed": true,
    "tags": []
   },
   "source": [
    "## Reverse a sentence"
   ]
  },
  {
   "cell_type": "code",
   "execution_count": 49,
   "id": "7a17fead-453b-4212-8251-f0b0a605b5bb",
   "metadata": {},
   "outputs": [
    {
     "name": "stdout",
     "output_type": "stream",
     "text": [
      "fox brown quick The\n"
     ]
    }
   ],
   "source": [
    "def reverse_sentence(sentence):\n",
    "    # First, we split the sentence into words.\n",
    "    # Then, we reverse the list of words using slicing ([::-1]).\n",
    "    # Finally, we join the words back together into a string, with spaces between them.\n",
    "    return ' '.join(sentence.split()[::-1])\n",
    "\n",
    "print(reverse_sentence(\"The quick brown fox\"))  # prints \"fox brown quick The\"\n"
   ]
  },
  {
   "cell_type": "markdown",
   "id": "cfd8f918-8a16-4a0c-b15a-6cf2de854617",
   "metadata": {
    "jp-MarkdownHeadingCollapsed": true,
    "tags": []
   },
   "source": [
    "## Check word in sentence"
   ]
  },
  {
   "cell_type": "code",
   "execution_count": 52,
   "id": "51c11218-a87e-432f-a451-d3c4f110a6d2",
   "metadata": {},
   "outputs": [
    {
     "name": "stdout",
     "output_type": "stream",
     "text": [
      "True\n",
      "False\n"
     ]
    }
   ],
   "source": [
    "def word_in_sentence(sentence, word):\n",
    "    # We split the sentence into words, and then use the in operator to check if the word is in the list of words.\n",
    "    return word in sentence.split()\n",
    "\n",
    "print(word_in_sentence(\"The quick brown fox\", \"fox\"))  # prints True\n",
    "print(word_in_sentence(\"The quick brown fox\", \"wolf\"))  # prints False\n"
   ]
  },
  {
   "cell_type": "markdown",
   "id": "012efaa0-f2f3-4faf-956a-ca3c9a7ee1d8",
   "metadata": {
    "jp-MarkdownHeadingCollapsed": true,
    "tags": []
   },
   "source": [
    "## Concat list of names"
   ]
  },
  {
   "cell_type": "code",
   "execution_count": 17,
   "id": "253988a8-935e-4a4f-b35f-ff4dd010d84d",
   "metadata": {},
   "outputs": [
    {
     "name": "stdout",
     "output_type": "stream",
     "text": [
      "Alice Bob Charlie\n"
     ]
    }
   ],
   "source": [
    "# Given a list of names, concatenate them into a single string separated by spaces\n",
    "\n",
    "def concatenate_names(name_list):\n",
    "    return ' '.join(name_list)\n",
    "\n",
    "name_list = [\"Alice\", \"Bob\", \"Charlie\"]\n",
    "print(concatenate_names(name_list))\n"
   ]
  },
  {
   "cell_type": "markdown",
   "id": "adaade15-e10b-46fe-9ba8-299f9c77e6eb",
   "metadata": {
    "tags": []
   },
   "source": [
    "## Print names with A"
   ]
  },
  {
   "cell_type": "code",
   "execution_count": 21,
   "id": "7f64a93e-0ba0-4748-a885-043b17bb3d6c",
   "metadata": {},
   "outputs": [
    {
     "name": "stdin",
     "output_type": "stream",
     "text": [
      "Enter a string:  im not sure what a pangram is\n"
     ]
    },
    {
     "name": "stdout",
     "output_type": "stream",
     "text": [
      "False\n"
     ]
    }
   ],
   "source": [
    "import string\n",
    "\n",
    "def is_pangram(s):\n",
    "    alphabet = set(string.ascii_lowercase)\n",
    "    return set(s.lower()) >= alphabet\n",
    "\n",
    "s = input(\"Enter a string: \")\n",
    "print(is_pangram(s))\n"
   ]
  },
  {
   "cell_type": "markdown",
   "id": "a521c477-fe10-441d-9bfd-9f79d0de6cd8",
   "metadata": {
    "jp-MarkdownHeadingCollapsed": true,
    "tags": []
   },
   "source": [
    "## Sort list strings abc"
   ]
  },
  {
   "cell_type": "code",
   "execution_count": 39,
   "id": "26f8041c-4e4b-42b1-9f58-751fec02d7c8",
   "metadata": {},
   "outputs": [
    {
     "name": "stdout",
     "output_type": "stream",
     "text": [
      "['apple', 'banana', 'kiwi', 'orange']\n"
     ]
    }
   ],
   "source": [
    "def sort_strings(lst):\n",
    "    # Here, we simply return the list sorted using the built-in sorted function.\n",
    "    return sorted(lst)\n",
    "\n",
    "words = [\"apple\", \"orange\", \"banana\", \"kiwi\"]\n",
    "print(sort_strings(words))  # prints ['apple', 'banana', 'kiwi', 'orange']\n"
   ]
  },
  {
   "cell_type": "markdown",
   "id": "27caadcd-b979-4b76-bc93-e6a0c4d5a974",
   "metadata": {
    "jp-MarkdownHeadingCollapsed": true,
    "tags": []
   },
   "source": [
    "## Generate the fibo sequence"
   ]
  },
  {
   "cell_type": "code",
   "execution_count": 31,
   "id": "7eaed92a-f111-4ec7-978d-a58d9ed21409",
   "metadata": {},
   "outputs": [
    {
     "name": "stdin",
     "output_type": "stream",
     "text": [
      "Enter the number of terms:  55\n"
     ]
    },
    {
     "name": "stdout",
     "output_type": "stream",
     "text": [
      "[0, 1, 1, 2, 3, 5, 8, 13, 21, 34, 55, 89, 144, 233, 377, 610, 987, 1597, 2584, 4181, 6765, 10946, 17711, 28657, 46368, 75025, 121393, 196418, 317811, 514229, 832040, 1346269, 2178309, 3524578, 5702887, 9227465, 14930352, 24157817, 39088169, 63245986, 102334155, 165580141, 267914296, 433494437, 701408733, 1134903170, 1836311903, 2971215073, 4807526976, 7778742049, 12586269025, 20365011074, 32951280099, 53316291173, 86267571272]\n"
     ]
    }
   ],
   "source": [
    "def fibonacci(n):\n",
    "    sequence = [0, 1]\n",
    "    while len(sequence) < n:\n",
    "        sequence.append(sequence[-1] + sequence[-2])\n",
    "    return sequence\n",
    "\n",
    "n = int(input(\"Enter the number of terms: \"))\n",
    "print(fibonacci(n))\n"
   ]
  },
  {
   "cell_type": "code",
   "execution_count": null,
   "id": "5a22cbb9-e913-46ba-8d89-d579b2b5626d",
   "metadata": {},
   "outputs": [],
   "source": [
    "# The fibonacci function generates the Fibonacci sequence up to n terms. \n",
    "# It starts with the sequence [0, 1] and repeatedly appends the sum of the last two terms until the sequence has n terms.\n",
    "# The fibonacci function takes an integer n as an argument. \n",
    "# This is the number of terms in the Fibonacci sequence that will be generated.\n",
    "\n",
    "# sequence = [0, 1] is the initialization of the sequence with the first two terms, 0 and 1.\n",
    "\n",
    "# The while loop continues to execute as long as the length of the sequence list is less than n.\n",
    "\n",
    "# Inside the loop, sequence.append(sequence[-1] + sequence[-2]) is executed. This line appends to the end of sequence the sum of its last two elements. sequence[-1] gets the last element of the sequence, and sequence[-2] gets the second last element of the sequence. The sum of these two elements gives the next term in the Fibonacci sequence.\n",
    "\n",
    "# After the while loop has ended (when we have generated n terms), the function returns the sequence list which now contains n terms of the Fibonacci sequence.\n",
    "\n",
    "# n = int(input(\"Enter the number of terms: \")) asks the user to input the number of terms they want in the sequence."
   ]
  },
  {
   "cell_type": "markdown",
   "id": "a665ac31-73b2-4dbe-9d44-f3185123050f",
   "metadata": {
    "jp-MarkdownHeadingCollapsed": true,
    "tags": []
   },
   "source": [
    "## Factorial"
   ]
  },
  {
   "cell_type": "code",
   "execution_count": 33,
   "id": "a1f5cb40-40ae-4459-8d50-e11378e33786",
   "metadata": {},
   "outputs": [
    {
     "name": "stdin",
     "output_type": "stream",
     "text": [
      "Enter a number:  21\n"
     ]
    },
    {
     "name": "stdout",
     "output_type": "stream",
     "text": [
      "51090942171709440000\n"
     ]
    }
   ],
   "source": [
    "# factorial is the product of all positive integers less than or equal to n\n",
    "\n",
    "def factorial(n):\n",
    "    if n == 0:\n",
    "        return 1\n",
    "    else:\n",
    "        return n * factorial(n-1)\n",
    "\n",
    "n = int(input(\"Enter a number: \"))\n",
    "print(factorial(n))\n"
   ]
  },
  {
   "cell_type": "markdown",
   "id": "1fb44ab4-713e-4ea5-8242-f8cd358fc43f",
   "metadata": {
    "jp-MarkdownHeadingCollapsed": true,
    "tags": []
   },
   "source": [
    "## Sum of digits"
   ]
  },
  {
   "cell_type": "code",
   "execution_count": 37,
   "id": "98abc424-15e7-4678-abfc-089f9306a84a",
   "metadata": {},
   "outputs": [
    {
     "name": "stdin",
     "output_type": "stream",
     "text": [
      "Enter a number:  2155\n"
     ]
    },
    {
     "name": "stdout",
     "output_type": "stream",
     "text": [
      "13\n"
     ]
    }
   ],
   "source": [
    "def sum_of_digits(n):\n",
    "    return sum(int(digit) for digit in str(n))\n",
    "\n",
    "n = int(input(\"Enter a number: \"))\n",
    "print(sum_of_digits(n))\n"
   ]
  },
  {
   "cell_type": "markdown",
   "id": "29ba5faf-20fb-4d28-9d7d-801d2907dc78",
   "metadata": {
    "jp-MarkdownHeadingCollapsed": true,
    "tags": []
   },
   "source": [
    "## Multiplication Table"
   ]
  },
  {
   "cell_type": "code",
   "execution_count": 41,
   "id": "135de791-ce52-4229-8f44-ef46092c4359",
   "metadata": {},
   "outputs": [
    {
     "name": "stdout",
     "output_type": "stream",
     "text": [
      "7 x 1 = 7\n",
      "7 x 2 = 14\n",
      "7 x 3 = 21\n",
      "7 x 4 = 28\n",
      "7 x 5 = 35\n",
      "7 x 6 = 42\n",
      "7 x 7 = 49\n",
      "7 x 8 = 56\n",
      "7 x 9 = 63\n",
      "7 x 10 = 70\n"
     ]
    }
   ],
   "source": [
    "# Create a function that takes a number as input and prints its multiplication table\n",
    "\n",
    "def print_table(num):\n",
    "    # We use a for loop to iterate over the numbers 1 through 10.\n",
    "    # For each number, we print the product of that number and the input number.\n",
    "    for i in range(1, 11):\n",
    "        print(f\"{num} x {i} = {num * i}\")\n",
    "\n",
    "print_table(7)  # prints the multiplication table for 7\n"
   ]
  },
  {
   "cell_type": "code",
   "execution_count": null,
   "id": "c0afb233-691f-4fbb-90f5-0775f8b53197",
   "metadata": {},
   "outputs": [],
   "source": []
  }
 ],
 "metadata": {
  "kernelspec": {
   "display_name": "Python 3 (ipykernel)",
   "language": "python",
   "name": "python3"
  },
  "language_info": {
   "codemirror_mode": {
    "name": "ipython",
    "version": 3
   },
   "file_extension": ".py",
   "mimetype": "text/x-python",
   "name": "python",
   "nbconvert_exporter": "python",
   "pygments_lexer": "ipython3",
   "version": "3.9.13"
  }
 },
 "nbformat": 4,
 "nbformat_minor": 5
}

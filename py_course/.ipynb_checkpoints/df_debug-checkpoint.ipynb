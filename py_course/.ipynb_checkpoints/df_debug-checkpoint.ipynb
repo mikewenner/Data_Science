{
 "cells": [
  {
   "cell_type": "markdown",
   "id": "35ca51d9-52e0-4413-840d-fc9d7c824184",
   "metadata": {},
   "source": [
    "# Data Merging Issues"
   ]
  },
  {
   "cell_type": "markdown",
   "id": "9c4d2e3b-33e0-49bd-b85e-0a51119c446c",
   "metadata": {},
   "source": [
    "## Concat vs Merge"
   ]
  },
  {
   "cell_type": "code",
   "execution_count": 1,
   "id": "de0681e4-3da8-4c73-bff1-adb6b5de1bc7",
   "metadata": {},
   "outputs": [],
   "source": [
    "# pd.concat():\n",
    "# This function is used to concatenate two or more pandas objects along a particular axis (either rows or columns). \n",
    "# pd.concat() is particularly useful when you have data in different DataFrame or Series objects but the same fields (columns)"
   ]
  },
  {
   "cell_type": "code",
   "execution_count": 2,
   "id": "7d1ca580-8bb8-4f0e-b36e-145e27632556",
   "metadata": {},
   "outputs": [],
   "source": [
    "# pd.merge():\n",
    "# This function is used to combine dataframes based on a common key (or multiple keys). \n",
    "# You can think of pd.merge() as being similar to JOIN operations in SQL. \n",
    "# This is particularly useful when you have data in different DataFrame objects but which is related in some way. \n",
    "# For example, one DataFrame might hold product data and another might hold supplier data, with a common 'supplier_id' field in both"
   ]
  },
  {
   "cell_type": "code",
   "execution_count": 3,
   "id": "9742f361-c2b0-47a2-bdc9-2872878030c2",
   "metadata": {},
   "outputs": [],
   "source": [
    "# In short, use pd.concat() to append DataFrames (either by rows or columns), and use pd.merge() to merge DataFrames based on a common key, \n",
    "# similar to a database join."
   ]
  },
  {
   "cell_type": "markdown",
   "id": "a1efe0f8-8dcf-455c-8227-63c475aebdfd",
   "metadata": {},
   "source": [
    "---\n",
    "## Data Merge Issues\n",
    "---"
   ]
  },
  {
   "cell_type": "markdown",
   "id": "f2a642ab-614e-4def-b3ce-31aaf9f5afb2",
   "metadata": {
    "jp-MarkdownHeadingCollapsed": true,
    "tags": []
   },
   "source": [
    "## Mismatched Data Types"
   ]
  },
  {
   "cell_type": "code",
   "execution_count": 4,
   "id": "bea41180-ac10-4bce-aca0-72119fcaec33",
   "metadata": {},
   "outputs": [],
   "source": [
    "# 1. Mismatched Data Types: \n",
    "# The columns you're trying to merge on must have the same data type in both dataframes. \n",
    "# For example, one could be a string type and the other could be datetime type, which would prevent merging.\n",
    "\n",
    "import pandas as pd\n",
    "df1 = pd.DataFrame({'key': ['1', '2', '3'], 'val': [1, 2, 3]})\n",
    "df2 = pd.DataFrame({'key': [1, 2, 3], 'val': [4, 5, 6]})\n",
    "# Raises: TypeError: You are trying to merge on object and int64 columns\n",
    "merged_df = df1.merge(df2, on='key')\n"
   ]
  },
  {
   "cell_type": "code",
   "execution_count": 6,
   "id": "8cedd84f-f9ab-47b9-94ec-24e7e2a9b156",
   "metadata": {},
   "outputs": [
    {
     "data": {
      "text/html": [
       "<div>\n",
       "<style scoped>\n",
       "    .dataframe tbody tr th:only-of-type {\n",
       "        vertical-align: middle;\n",
       "    }\n",
       "\n",
       "    .dataframe tbody tr th {\n",
       "        vertical-align: top;\n",
       "    }\n",
       "\n",
       "    .dataframe thead th {\n",
       "        text-align: right;\n",
       "    }\n",
       "</style>\n",
       "<table border=\"1\" class=\"dataframe\">\n",
       "  <thead>\n",
       "    <tr style=\"text-align: right;\">\n",
       "      <th></th>\n",
       "      <th>key</th>\n",
       "      <th>val_x</th>\n",
       "      <th>val_y</th>\n",
       "    </tr>\n",
       "  </thead>\n",
       "  <tbody>\n",
       "    <tr>\n",
       "      <th>0</th>\n",
       "      <td>1</td>\n",
       "      <td>1</td>\n",
       "      <td>4</td>\n",
       "    </tr>\n",
       "    <tr>\n",
       "      <th>1</th>\n",
       "      <td>2</td>\n",
       "      <td>2</td>\n",
       "      <td>5</td>\n",
       "    </tr>\n",
       "    <tr>\n",
       "      <th>2</th>\n",
       "      <td>3</td>\n",
       "      <td>3</td>\n",
       "      <td>6</td>\n",
       "    </tr>\n",
       "  </tbody>\n",
       "</table>\n",
       "</div>"
      ],
      "text/plain": [
       "   key  val_x  val_y\n",
       "0    1      1      4\n",
       "1    2      2      5\n",
       "2    3      3      6"
      ]
     },
     "execution_count": 6,
     "metadata": {},
     "output_type": "execute_result"
    }
   ],
   "source": [
    "#Solution\n",
    "df1['key'] = df1['key'].astype(int)\n",
    "merged_df = df1.merge(df2, on='key')\n",
    "merged_df"
   ]
  },
  {
   "cell_type": "markdown",
   "id": "a173ee5d-de9f-49f8-bd0a-6d82be13f631",
   "metadata": {
    "jp-MarkdownHeadingCollapsed": true,
    "tags": []
   },
   "source": [
    "## Non_Unique Merge Keys"
   ]
  },
  {
   "cell_type": "code",
   "execution_count": 8,
   "id": "27947f4e-d168-4bbe-a9ba-6b1952b35377",
   "metadata": {},
   "outputs": [
    {
     "name": "stdout",
     "output_type": "stream",
     "text": [
      "   key val_x val_y\n",
      "0    1     a     d\n",
      "1    1     b     d\n",
      "2    2     c     e\n"
     ]
    }
   ],
   "source": [
    "# 2. If the key you're trying to merge on isn't unique in one or both dataframes, this could result in unwanted duplications.\n",
    "\n",
    "df1 = pd.DataFrame({'key': [1, 1, 2], 'val': ['a', 'b', 'c']})\n",
    "df2 = pd.DataFrame({'key': [1, 2, 3], 'val': ['d', 'e', 'f']})\n",
    "merged_df = df1.merge(df2, on='key')\n",
    "print(merged_df)\n",
    "# Output:\n",
    "#   key val_x val_y\n",
    "# 0   1     a     d\n",
    "# 1   1     b     d\n",
    "# 2   2     c     e\n"
   ]
  },
  {
   "cell_type": "markdown",
   "id": "c12da2a9-614a-4432-9eba-2dd38ff35199",
   "metadata": {
    "jp-MarkdownHeadingCollapsed": true,
    "tags": []
   },
   "source": [
    "## Missing Merge Keys"
   ]
  },
  {
   "cell_type": "code",
   "execution_count": 10,
   "id": "e7d64421-1fcc-43df-85fa-eeb208290b1a",
   "metadata": {},
   "outputs": [],
   "source": [
    "# 3. If the key doesn't exist in one or both dataframes, you'll get a key error. \n",
    "\n",
    "df1 = pd.DataFrame({'key1': [1, 2, 3], 'val': [1, 2, 3]})\n",
    "df2 = pd.DataFrame({'key2': [1, 2, 3], 'val': [4, 5, 6]})\n",
    "# Raises: KeyError: 'key'\n",
    "merged_df = df1.merge(df2, on='key')\n"
   ]
  },
  {
   "cell_type": "code",
   "execution_count": 11,
   "id": "676f382d-1ee6-4d29-8c73-59331d34b189",
   "metadata": {},
   "outputs": [
    {
     "data": {
      "text/html": [
       "<div>\n",
       "<style scoped>\n",
       "    .dataframe tbody tr th:only-of-type {\n",
       "        vertical-align: middle;\n",
       "    }\n",
       "\n",
       "    .dataframe tbody tr th {\n",
       "        vertical-align: top;\n",
       "    }\n",
       "\n",
       "    .dataframe thead th {\n",
       "        text-align: right;\n",
       "    }\n",
       "</style>\n",
       "<table border=\"1\" class=\"dataframe\">\n",
       "  <thead>\n",
       "    <tr style=\"text-align: right;\">\n",
       "      <th></th>\n",
       "      <th>key1</th>\n",
       "      <th>val_x</th>\n",
       "      <th>key2</th>\n",
       "      <th>val_y</th>\n",
       "    </tr>\n",
       "  </thead>\n",
       "  <tbody>\n",
       "    <tr>\n",
       "      <th>0</th>\n",
       "      <td>1</td>\n",
       "      <td>1</td>\n",
       "      <td>1</td>\n",
       "      <td>4</td>\n",
       "    </tr>\n",
       "    <tr>\n",
       "      <th>1</th>\n",
       "      <td>2</td>\n",
       "      <td>2</td>\n",
       "      <td>2</td>\n",
       "      <td>5</td>\n",
       "    </tr>\n",
       "    <tr>\n",
       "      <th>2</th>\n",
       "      <td>3</td>\n",
       "      <td>3</td>\n",
       "      <td>3</td>\n",
       "      <td>6</td>\n",
       "    </tr>\n",
       "  </tbody>\n",
       "</table>\n",
       "</div>"
      ],
      "text/plain": [
       "   key1  val_x  key2  val_y\n",
       "0     1      1     1      4\n",
       "1     2      2     2      5\n",
       "2     3      3     3      6"
      ]
     },
     "execution_count": 11,
     "metadata": {},
     "output_type": "execute_result"
    }
   ],
   "source": [
    "# Solution\n",
    "\n",
    "merged_df = df1.merge(df2, left_on='key1', right_on='key2')\n",
    "merged_df"
   ]
  },
  {
   "cell_type": "markdown",
   "id": "74345950-58e1-45e3-9311-4545fac24ccc",
   "metadata": {
    "jp-MarkdownHeadingCollapsed": true,
    "tags": []
   },
   "source": [
    "## Different Column Names"
   ]
  },
  {
   "cell_type": "code",
   "execution_count": 13,
   "id": "1ecccc68-375a-44f1-a0ac-a34c35f3122e",
   "metadata": {},
   "outputs": [],
   "source": [
    "# 4. If the dataframes you're merging have different column names for the same data, you'll need to rename the columns before you can merge them.\n",
    "\n",
    "df1 = pd.DataFrame({'key1': [1, 2, 3], 'val': [1, 2, 3]})\n",
    "df2 = pd.DataFrame({'key2': [1, 2, 3], 'val': [4, 5, 6]})\n",
    "# Raises: KeyError: 'key1'\n",
    "merged_df = df1.merge(df2, on='key1')\n"
   ]
  },
  {
   "cell_type": "code",
   "execution_count": 14,
   "id": "8f6824f7-4124-4f7f-8e04-e6bce4ec038a",
   "metadata": {},
   "outputs": [],
   "source": [
    "# Solution Rename the columns before merging or use the left_on and right_on parameters.\n",
    "merged_df = df1.merge(df2, left_on='key1', right_on='key2')\n",
    "\n",
    "# or set one to the index and do combo index/column merge: left_index=True, right_on='col_name'"
   ]
  },
  {
   "cell_type": "markdown",
   "id": "b447afa6-ec19-4397-83e8-5f709bded8ec",
   "metadata": {
    "jp-MarkdownHeadingCollapsed": true,
    "tags": []
   },
   "source": [
    "## TimeZone Mismatch"
   ]
  },
  {
   "cell_type": "code",
   "execution_count": 24,
   "id": "bbeb48c8-3931-45dd-87fd-f1f25ca3e6ad",
   "metadata": {},
   "outputs": [
    {
     "data": {
      "text/html": [
       "<div>\n",
       "<style scoped>\n",
       "    .dataframe tbody tr th:only-of-type {\n",
       "        vertical-align: middle;\n",
       "    }\n",
       "\n",
       "    .dataframe tbody tr th {\n",
       "        vertical-align: top;\n",
       "    }\n",
       "\n",
       "    .dataframe thead th {\n",
       "        text-align: right;\n",
       "    }\n",
       "</style>\n",
       "<table border=\"1\" class=\"dataframe\">\n",
       "  <thead>\n",
       "    <tr style=\"text-align: right;\">\n",
       "      <th></th>\n",
       "      <th>time</th>\n",
       "      <th>val</th>\n",
       "    </tr>\n",
       "  </thead>\n",
       "  <tbody>\n",
       "    <tr>\n",
       "      <th>0</th>\n",
       "      <td>2023-01-01 00:00:00+00:00</td>\n",
       "      <td>1</td>\n",
       "    </tr>\n",
       "    <tr>\n",
       "      <th>1</th>\n",
       "      <td>2023-01-02 00:00:00+00:00</td>\n",
       "      <td>2</td>\n",
       "    </tr>\n",
       "    <tr>\n",
       "      <th>2</th>\n",
       "      <td>2023-01-03 00:00:00+00:00</td>\n",
       "      <td>3</td>\n",
       "    </tr>\n",
       "  </tbody>\n",
       "</table>\n",
       "</div>"
      ],
      "text/plain": [
       "                       time  val\n",
       "0 2023-01-01 00:00:00+00:00    1\n",
       "1 2023-01-02 00:00:00+00:00    2\n",
       "2 2023-01-03 00:00:00+00:00    3"
      ]
     },
     "execution_count": 24,
     "metadata": {},
     "output_type": "execute_result"
    }
   ],
   "source": [
    "# 5. If you're merging on a datetime column, the dataframes must be in the same timezone.\n",
    "\n",
    "df1 = pd.DataFrame({\n",
    "    'time': pd.date_range('2023-01-01', periods=3, tz='Europe/London'),\n",
    "    'val': [1, 2, 3]})\n",
    "df2 = pd.DataFrame({\n",
    "    'time': pd.date_range('2023-01-01', periods=3, tz='US/Pacific'),\n",
    "    'val': [4, 5, 6]})\n",
    "# Raises: TypeError: You are trying to merge on datetime64[ns, Europe/London] and datetime64[ns, US/Pacific] columns\n",
    "#merged_df = df1.merge(df2, on='time')\n",
    "df1"
   ]
  },
  {
   "cell_type": "code",
   "execution_count": 25,
   "id": "e0ef0ac4-967e-4d83-94c2-6942ccf9a600",
   "metadata": {},
   "outputs": [],
   "source": [
    "# Solution Convert both time columns to the same timezone before merging.\n",
    "\n",
    "df2['time'] = df2['time'].dt.tz_convert('Europe/London')\n",
    "merged_df = df1.merge(df2, on='time')\n"
   ]
  },
  {
   "cell_type": "markdown",
   "id": "0e2673e2-934a-4801-99ff-dadea076f320",
   "metadata": {
    "jp-MarkdownHeadingCollapsed": true,
    "tags": []
   },
   "source": [
    "## Inconsistent Date Time Formats"
   ]
  },
  {
   "cell_type": "code",
   "execution_count": 31,
   "id": "2866baae-0ce6-49d5-aa13-bcdd9d1cac98",
   "metadata": {},
   "outputs": [],
   "source": [
    "# 6. One dataframe might represent dates as \"YYYY-MM-DD\", and another might represent dates as \"MM/DD/YYYY\". \n",
    "# You'll need to unify the date formats before merging.\n",
    "\n",
    "df1 = pd.DataFrame({'time': pd.to_datetime(['2023-01-01', '2023-01-02', '2023-01-03'])})\n",
    "df2 = pd.DataFrame({'time': ['01/01/2023', '01/02/2023', '01/03/2023']})\n",
    "df2['time'] = pd.to_datetime(df2['time'], format='%m/%d/%Y')\n",
    "merged_df = df1.merge(df2, on='time')\n"
   ]
  },
  {
   "cell_type": "code",
   "execution_count": 32,
   "id": "39e4977b-cd22-416a-8663-6ea296432571",
   "metadata": {},
   "outputs": [],
   "source": [
    "# Solution: Convert all date columns to the same format before merging\n",
    "\n",
    "df2['time'] = pd.to_datetime(df2['time'], format='%m/%d/%Y')\n",
    "merged_df = df1.merge(df2, on='time')\n"
   ]
  },
  {
   "cell_type": "markdown",
   "id": "d4717dd0-a57f-4e14-8645-dabf52a23ebf",
   "metadata": {},
   "source": [
    "## Mismatch in Frequency"
   ]
  },
  {
   "cell_type": "code",
   "execution_count": 33,
   "id": "d95b8dbe-9043-4068-a047-06a91128eb29",
   "metadata": {},
   "outputs": [],
   "source": [
    "# 7. If you have a daily time series and a monthly time series, merging these would require resampling or fill strategies.\n",
    "\n",
    "df1 = pd.DataFrame({\n",
    "    'time': pd.date_range('2023-01-01', periods=3, freq='D'),\n",
    "    'val': [1, 2, 3]})\n",
    "df2 = pd.DataFrame({\n",
    "    'time': pd.date_range('2023-01-01', periods=2, freq='M'),\n",
    "    'val': [4, 5]})\n",
    "# Here, 'df2' is missing many dates that are present in 'df1'\n",
    "merged_df = df1.merge(df2, on='time', how='outer')\n"
   ]
  },
  {
   "cell_type": "code",
   "execution_count": 34,
   "id": "7655bf9e-26fd-42b1-af6a-b0b8dd0af914",
   "metadata": {},
   "outputs": [],
   "source": [
    "# Solution: Resample the data before merging, or choose an appropriate merge strategy (like a left join or filling missing values).\n",
    "\n",
    "df2.set_index('time', inplace=True)\n",
    "df2 = df2.resample('D').asfreq().fillna(method='ffill').reset_index()\n",
    "merged_df = df1.merge(df2, on='time', how='outer')\n"
   ]
  },
  {
   "cell_type": "markdown",
   "id": "f69bca4d-82aa-4c50-bff5-fc5611c56aba",
   "metadata": {},
   "source": [
    "## Memory Error"
   ]
  },
  {
   "cell_type": "code",
   "execution_count": 36,
   "id": "0101bb44-70dd-4cd9-bf9b-348ec1d1479d",
   "metadata": {},
   "outputs": [],
   "source": [
    "# If your dataframes are too large, trying to merge them might exceed your available memory. You would typically see a MemoryError in this case.\n",
    "\n",
    "# Solution: Merge in chunks, or reduce memory usage by downsampling, simplifying, or using dask to handle larger-than-memory computations.\n",
    "\n",
    "chunk_size = 50000  # you can decide this depending on your available memory\n",
    "chunks = []\n",
    "\n",
    "# Assuming 'df1' is the large dataframe and 'df2' is a smaller dataframe you want to merge with\n",
    "for chunk in pd.read_csv('large_dataset.csv', chunksize=chunk_size):  \n",
    "    merged_chunk = pd.merge(chunk, df2, on='key')\n",
    "    chunks.append(merged_chunk)\n",
    "\n",
    "final_df = pd.concat(chunks, ignore_index=True)\n",
    "\n",
    "\n"
   ]
  },
  {
   "cell_type": "code",
   "execution_count": null,
   "id": "c7708b0c-8cf1-460a-9d16-34b9e93cb982",
   "metadata": {},
   "outputs": [],
   "source": [
    "# chunk_size = 50000: This is rows of data...Here, we're defining the size of each chunk. A chunk is just a portion of the data that we'll load into memory at one time. \n",
    "# The ideal chunk size depends on your system's memory and the size of your dataframe. \n",
    "# If your system runs out of memory while processing one chunk, you'll need to reduce the chunk size.\n",
    "\n",
    "# chunks = []: This is an empty list that we'll use to store each chunk after we've processed it. \n",
    "# This is so we can concatenate them all together at the end.\n",
    "\n",
    "# for chunk in pd.read_csv('large_dataset.csv', chunksize=chunk_size): \n",
    "# This line is where we read the large CSV file in chunks. The pd.read_csv() function has a chunksize parameter, \n",
    "# which tells pandas to read the CSV file in chunks of chunk_size rows at a time. The for loop will iterate over these chunks.\n",
    "\n",
    "# merged_chunk = pd.merge(chunk, df2, on='key'): \n",
    "# Here, we merge the current chunk with df2. The pd.merge() function works just like it does when you're not working in chunks - \n",
    "# it merges two dataframes together. In this case, we're merging the current chunk (a subset of df1) with df2, on the column 'key'.\n",
    "\n",
    "# chunks.append(merged_chunk): \n",
    "# After we've processed a chunk (by merging it with df2), we append it to the list of chunks. \n",
    "# This is so we don't lose our processed data when we move onto the next chunk.\n",
    "\n",
    "# final_df = pd.concat(chunks, ignore_index=True): \n",
    "# Finally, after we've processed all the chunks, we concatenate them all together into a single dataframe. \n",
    "# The ignore_index=True argument means that the index from the individual chunks will be ignored, and a new one will be created for the final_df."
   ]
  }
 ],
 "metadata": {
  "kernelspec": {
   "display_name": "Python 3 (ipykernel)",
   "language": "python",
   "name": "python3"
  },
  "language_info": {
   "codemirror_mode": {
    "name": "ipython",
    "version": 3
   },
   "file_extension": ".py",
   "mimetype": "text/x-python",
   "name": "python",
   "nbconvert_exporter": "python",
   "pygments_lexer": "ipython3",
   "version": "3.9.13"
  }
 },
 "nbformat": 4,
 "nbformat_minor": 5
}

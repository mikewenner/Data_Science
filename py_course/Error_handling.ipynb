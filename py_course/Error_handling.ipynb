{
 "cells": [
  {
   "cell_type": "code",
   "execution_count": null,
   "id": "8e234129-a254-458d-9413-14d840d22222",
   "metadata": {},
   "outputs": [],
   "source": []
  },
  {
   "cell_type": "code",
   "execution_count": 1,
   "id": "d5e23f30-1185-43be-8963-a2ef95c337e1",
   "metadata": {},
   "outputs": [],
   "source": [
    "# Error Handling allows the script to continue running even if there is an error"
   ]
  },
  {
   "cell_type": "code",
   "execution_count": 2,
   "id": "5d094d8c-6035-4111-8d15-8cb7368e768b",
   "metadata": {},
   "outputs": [
    {
     "name": "stdin",
     "output_type": "stream",
     "text": [
      "what is your age? 46\n"
     ]
    },
    {
     "name": "stdout",
     "output_type": "stream",
     "text": [
      "46\n"
     ]
    }
   ],
   "source": [
    "# ask for age\n",
    "\n",
    "age = input('what is your age?')\n",
    "print(age)"
   ]
  },
  {
   "cell_type": "code",
   "execution_count": 3,
   "id": "a21cc8e7-5667-4b8e-98fb-184ab75a8a4a",
   "metadata": {},
   "outputs": [
    {
     "name": "stdin",
     "output_type": "stream",
     "text": [
      "what is your age? ashkr\n"
     ]
    },
    {
     "name": "stdout",
     "output_type": "stream",
     "text": [
      "ashkr\n"
     ]
    }
   ],
   "source": [
    "# this works great but what if the enter something other than number?\n",
    "age = input('what is your age?')\n",
    "print(age)"
   ]
  },
  {
   "cell_type": "code",
   "execution_count": 5,
   "id": "af81c962-b68f-413a-bcde-75e3f732ae8e",
   "metadata": {},
   "outputs": [
    {
     "name": "stdin",
     "output_type": "stream",
     "text": [
      "what is your age? ashl\n"
     ]
    },
    {
     "ename": "ValueError",
     "evalue": "invalid literal for int() with base 10: 'ashl'",
     "output_type": "error",
     "traceback": [
      "\u001b[0;31m---------------------------------------------------------------------------\u001b[0m",
      "\u001b[0;31mValueError\u001b[0m                                Traceback (most recent call last)",
      "Cell \u001b[0;32mIn[5], line 3\u001b[0m\n\u001b[1;32m      1\u001b[0m \u001b[38;5;66;03m# it would return that string so lets set it to only accept an integer\u001b[39;00m\n\u001b[0;32m----> 3\u001b[0m age \u001b[38;5;241m=\u001b[39m \u001b[38;5;28;43mint\u001b[39;49m\u001b[43m(\u001b[49m\u001b[38;5;28;43minput\u001b[39;49m\u001b[43m(\u001b[49m\u001b[38;5;124;43m'\u001b[39;49m\u001b[38;5;124;43mwhat is your age?\u001b[39;49m\u001b[38;5;124;43m'\u001b[39;49m\u001b[43m)\u001b[49m\u001b[43m)\u001b[49m\n\u001b[1;32m      4\u001b[0m \u001b[38;5;28mprint\u001b[39m(age)\n",
      "\u001b[0;31mValueError\u001b[0m: invalid literal for int() with base 10: 'ashl'"
     ]
    }
   ],
   "source": [
    "# it would return that string so lets set it to only accept an integer\n",
    "\n",
    "age = int(input('what is your age?'))\n",
    "print(age)"
   ]
  },
  {
   "cell_type": "code",
   "execution_count": 6,
   "id": "870e59f3-4786-445a-8450-7a4d5540642b",
   "metadata": {},
   "outputs": [],
   "source": [
    "# now we see that when we enter string, we get an error"
   ]
  },
  {
   "cell_type": "markdown",
   "id": "8d7515bb-853f-41b0-9891-210981546ec6",
   "metadata": {},
   "source": [
    "## Error Handling --> Try -- Except -- Else"
   ]
  },
  {
   "cell_type": "code",
   "execution_count": 8,
   "id": "90b33f86-11a3-4c10-90b4-15a28009471e",
   "metadata": {},
   "outputs": [
    {
     "name": "stdin",
     "output_type": "stream",
     "text": [
      "what is your age? dghk\n"
     ]
    },
    {
     "name": "stdout",
     "output_type": "stream",
     "text": [
      "please enter a number\n"
     ]
    }
   ],
   "source": [
    "# adding try/except\n",
    "\n",
    "try:\n",
    "    age = int(input('what is your age?'))\n",
    "    print(age)\n",
    "    \n",
    "except: #if whatever is in try block errors, say something\n",
    "    print('please enter a number')"
   ]
  },
  {
   "cell_type": "code",
   "execution_count": 10,
   "id": "216495a8-ab4d-4f9d-ac6d-7e4e0c44da24",
   "metadata": {},
   "outputs": [
    {
     "name": "stdin",
     "output_type": "stream",
     "text": [
      "what is your age? dgeh\n"
     ]
    },
    {
     "name": "stdout",
     "output_type": "stream",
     "text": [
      "please enter a number\n"
     ]
    },
    {
     "name": "stdin",
     "output_type": "stream",
     "text": [
      "what is your age? 46\n"
     ]
    },
    {
     "name": "stdout",
     "output_type": "stream",
     "text": [
      "46\n",
      "thanks!!\n"
     ]
    }
   ],
   "source": [
    "# at this point we have handled the error but the progrma just stops and you need to re-run the cell to continue\n",
    "\n",
    "# to ensure we keep running we can use a while loop but we also want to be able to stop when we dont have an error\n",
    "\n",
    "while True:\n",
    "    try:\n",
    "        age = int(input('what is your age?'))\n",
    "        print(age)\n",
    "    \n",
    "    except: #if whatever is in try block errors, say something\n",
    "        print('please enter a number')\n",
    "        \n",
    "    else:\n",
    "        print('thanks!!')\n",
    "        break"
   ]
  },
  {
   "cell_type": "code",
   "execution_count": 12,
   "id": "892d1067-37f7-4379-9de9-cf0966fa0be8",
   "metadata": {},
   "outputs": [
    {
     "name": "stdin",
     "output_type": "stream",
     "text": [
      "what is your age? askf\n"
     ]
    },
    {
     "name": "stdout",
     "output_type": "stream",
     "text": [
      "please enter a number\n"
     ]
    },
    {
     "name": "stdin",
     "output_type": "stream",
     "text": [
      "what is your age? 0\n"
     ]
    },
    {
     "name": "stdout",
     "output_type": "stream",
     "text": [
      "please enter a number OTHER than 0\n"
     ]
    },
    {
     "name": "stdin",
     "output_type": "stream",
     "text": [
      "what is your age? 46\n"
     ]
    },
    {
     "name": "stdout",
     "output_type": "stream",
     "text": [
      "thanks!!\n"
     ]
    }
   ],
   "source": [
    "# Now,what if we want to operate on the age ... lets say divide 10 by the age entered\n",
    "\n",
    "while True:\n",
    "    try:\n",
    "        age = int(input('what is your age?'))\n",
    "        10/age\n",
    "    \n",
    "    except ValueError: # this is to handle only value errors\n",
    "        print('please enter a number')\n",
    "    except ZeroDivisionError: # this is to handle only zero divide error\n",
    "        print('please enter a number OTHER than 0')    \n",
    "    else:\n",
    "        print('thanks!!')\n",
    "        break\n",
    "        \n",
    "# if we enter 0 --> it will continue to ask for a number even though 0 is a number because it gives a zero division error"
   ]
  },
  {
   "cell_type": "markdown",
   "id": "28b6947f-e56e-486e-bfec-d623ef1bc006",
   "metadata": {},
   "source": [
    "### Try -- Except -- Else inside a function"
   ]
  },
  {
   "cell_type": "code",
   "execution_count": 13,
   "id": "88522742-047e-49c5-b16d-a358a9e6fbff",
   "metadata": {},
   "outputs": [
    {
     "ename": "TypeError",
     "evalue": "unsupported operand type(s) for +: 'int' and 'str'",
     "output_type": "error",
     "traceback": [
      "\u001b[0;31m---------------------------------------------------------------------------\u001b[0m",
      "\u001b[0;31mTypeError\u001b[0m                                 Traceback (most recent call last)",
      "Cell \u001b[0;32mIn[13], line 7\u001b[0m\n\u001b[1;32m      4\u001b[0m     \u001b[38;5;28;01mreturn\u001b[39;00m num1 \u001b[38;5;241m+\u001b[39m num2\n\u001b[1;32m      5\u001b[0m \u001b[38;5;66;03m# now if we call something like \u001b[39;00m\n\u001b[0;32m----> 7\u001b[0m \u001b[38;5;28;43msum\u001b[39;49m\u001b[43m(\u001b[49m\u001b[38;5;241;43m1\u001b[39;49m\u001b[43m,\u001b[49m\u001b[43m \u001b[49m\u001b[38;5;124;43m'\u001b[39;49m\u001b[38;5;124;43m2\u001b[39;49m\u001b[38;5;124;43m'\u001b[39;49m\u001b[43m)\u001b[49m\n",
      "Cell \u001b[0;32mIn[13], line 4\u001b[0m, in \u001b[0;36msum\u001b[0;34m(num1, num2)\u001b[0m\n\u001b[1;32m      3\u001b[0m \u001b[38;5;28;01mdef\u001b[39;00m \u001b[38;5;21msum\u001b[39m(num1, num2):\n\u001b[0;32m----> 4\u001b[0m     \u001b[38;5;28;01mreturn\u001b[39;00m \u001b[43mnum1\u001b[49m\u001b[43m \u001b[49m\u001b[38;5;241;43m+\u001b[39;49m\u001b[43m \u001b[49m\u001b[43mnum2\u001b[49m\n",
      "\u001b[0;31mTypeError\u001b[0m: unsupported operand type(s) for +: 'int' and 'str'"
     ]
    }
   ],
   "source": [
    "# use a function to take sum of 2 numbers as example\n",
    "\n",
    "def sum(num1, num2):\n",
    "    return num1 + num2\n",
    "# now if we call something like \n",
    "\n",
    "sum(1, '2')"
   ]
  },
  {
   "cell_type": "code",
   "execution_count": 17,
   "id": "19a4117b-7e10-4530-9726-ebb27cd68043",
   "metadata": {},
   "outputs": [
    {
     "name": "stdout",
     "output_type": "stream",
     "text": [
      "please enter numbers, Error: unsupported operand type(s) for +: 'int' and 'str'\n",
      "None\n"
     ]
    }
   ],
   "source": [
    "# we ge a type error so lets account for that\n",
    "\n",
    "def sum(num1, num2):\n",
    "    try:\n",
    "        return num1 + num2\n",
    "    except TypeError as err:\n",
    "        print(f'please enter numbers, Error: {err}')\n",
    "        \n",
    "print(sum(1, '2'))   \n",
    "\n",
    "# can always print error\n",
    "# print(err)"
   ]
  },
  {
   "cell_type": "code",
   "execution_count": 20,
   "id": "dfebed47-20b3-4ec0-bb22-6d92a10ea152",
   "metadata": {},
   "outputs": [
    {
     "name": "stdout",
     "output_type": "stream",
     "text": [
      "division by zero\n",
      "None\n"
     ]
    }
   ],
   "source": [
    "# we can handle multiple errors and print to show\n",
    "\n",
    "def sum(num1, num2):\n",
    "    try:\n",
    "        return num1 /num2\n",
    "    except (TypeError, ZeroDivisionError) as err:\n",
    "        print(err)\n",
    "        \n",
    "print(sum(2, 0))"
   ]
  },
  {
   "cell_type": "code",
   "execution_count": null,
   "id": "6cf041ef-1ec5-4680-bed2-1918d834a91a",
   "metadata": {},
   "outputs": [],
   "source": []
  }
 ],
 "metadata": {
  "kernelspec": {
   "display_name": "Python 3 (ipykernel)",
   "language": "python",
   "name": "python3"
  },
  "language_info": {
   "codemirror_mode": {
    "name": "ipython",
    "version": 3
   },
   "file_extension": ".py",
   "mimetype": "text/x-python",
   "name": "python",
   "nbconvert_exporter": "python",
   "pygments_lexer": "ipython3",
   "version": "3.9.13"
  }
 },
 "nbformat": 4,
 "nbformat_minor": 5
}

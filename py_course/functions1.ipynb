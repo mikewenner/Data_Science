{
 "cells": [
  {
   "cell_type": "code",
   "execution_count": 6,
   "id": "36ad2c6e-1c46-4e0f-81aa-21c47fd1ac32",
   "metadata": {},
   "outputs": [
    {
     "name": "stdin",
     "output_type": "stream",
     "text": [
      "enter your age 45\n"
     ]
    },
    {
     "name": "stdout",
     "output_type": "stream",
     "text": [
      "Powering On. Enjoy the ride!\n"
     ]
    }
   ],
   "source": [
    "# Define a function that check the drivers age\n",
    "# if they are less than 18 print \"Sorry, you are too young to drive this car. Powering off\"\n",
    "# if they are over 18 print \"Powering On. Enjoy the ride!\"\n",
    "# if they are 18 print \"Congratulations on your first year of driving. Enjoy the ride!\"\n",
    "\n",
    "# call the function with an input\n",
    "\n",
    "def check_age(age):\n",
    "    age = int(age)\n",
    "    if age < 18:\n",
    "        print(\"Sorry, you are too young to drive this car. Powering off\")\n",
    "    elif age > 18:\n",
    "        print(\"Powering On. Enjoy the ride!\")\n",
    "    elif age == 18:\n",
    "        print(\"Congratulations on your first year of driving. Enjoy the ride!\")\n",
    "        \n",
    "age = input(\"enter your age\")\n",
    "\n",
    "check_age(age)"
   ]
  },
  {
   "cell_type": "code",
   "execution_count": 7,
   "id": "c7dce709-95e1-430b-a6e3-11059549bca8",
   "metadata": {},
   "outputs": [
    {
     "data": {
      "text/plain": [
       "False"
      ]
     },
     "execution_count": 7,
     "metadata": {},
     "output_type": "execute_result"
    }
   ],
   "source": [
    "# check for even\n",
    "\n",
    "def is_even(num):\n",
    "    if num % 2 == 0:\n",
    "        return True\n",
    "    elif num % 2 != 0:\n",
    "        return False\n",
    "    \n",
    "is_even(33)"
   ]
  },
  {
   "cell_type": "code",
   "execution_count": 8,
   "id": "6507b009-5bef-45e4-950e-4bd13bc384b9",
   "metadata": {},
   "outputs": [
    {
     "data": {
      "text/plain": [
       "True"
      ]
     },
     "execution_count": 8,
     "metadata": {},
     "output_type": "execute_result"
    }
   ],
   "source": [
    "is_even(20)"
   ]
  },
  {
   "cell_type": "code",
   "execution_count": 13,
   "id": "62c01c7f-1387-4347-bd77-27d78e4ac32b",
   "metadata": {},
   "outputs": [],
   "source": [
    "# since python knows that a bool is returned can clean it up\n",
    "\n",
    "def is_even_clean(num):\n",
    "    return num % 2 == 0    "
   ]
  },
  {
   "cell_type": "code",
   "execution_count": 14,
   "id": "350135e3-8b15-46ee-a467-4b57fe9e1aab",
   "metadata": {},
   "outputs": [
    {
     "data": {
      "text/plain": [
       "True"
      ]
     },
     "execution_count": 14,
     "metadata": {},
     "output_type": "execute_result"
    }
   ],
   "source": [
    "is_even_clean(50)"
   ]
  },
  {
   "cell_type": "code",
   "execution_count": 15,
   "id": "86f1c0f8-4bbf-492c-9a24-e69cdae312e6",
   "metadata": {},
   "outputs": [
    {
     "ename": "TypeError",
     "evalue": "super_func() takes 1 positional argument but 5 were given",
     "output_type": "error",
     "traceback": [
      "\u001b[0;31m---------------------------------------------------------------------------\u001b[0m",
      "\u001b[0;31mTypeError\u001b[0m                                 Traceback (most recent call last)",
      "Cell \u001b[0;32mIn[15], line 6\u001b[0m\n\u001b[1;32m      3\u001b[0m \u001b[38;5;28;01mdef\u001b[39;00m \u001b[38;5;21msuper_func\u001b[39m(args):\n\u001b[1;32m      4\u001b[0m     \u001b[38;5;28;01mreturn\u001b[39;00m \u001b[38;5;28msum\u001b[39m(args)\n\u001b[0;32m----> 6\u001b[0m \u001b[43msuper_func\u001b[49m\u001b[43m(\u001b[49m\u001b[38;5;241;43m1\u001b[39;49m\u001b[43m,\u001b[49m\u001b[43m \u001b[49m\u001b[38;5;241;43m2\u001b[39;49m\u001b[43m,\u001b[49m\u001b[43m \u001b[49m\u001b[38;5;241;43m3\u001b[39;49m\u001b[43m,\u001b[49m\u001b[43m \u001b[49m\u001b[38;5;241;43m5\u001b[39;49m\u001b[43m,\u001b[49m\u001b[43m \u001b[49m\u001b[38;5;241;43m6\u001b[39;49m\u001b[43m)\u001b[49m\n",
      "\u001b[0;31mTypeError\u001b[0m: super_func() takes 1 positional argument but 5 were given"
     ]
    }
   ],
   "source": [
    "# args & kwargs\n",
    "\n",
    "def super_func(args):\n",
    "    return sum(args)\n",
    "\n",
    "super_func(1, 2, 3, 5, 6)"
   ]
  },
  {
   "cell_type": "code",
   "execution_count": 17,
   "id": "247c7275-877c-48e0-90aa-628c01cdbf7b",
   "metadata": {},
   "outputs": [
    {
     "data": {
      "text/plain": [
       "17"
      ]
     },
     "execution_count": 17,
     "metadata": {},
     "output_type": "execute_result"
    }
   ],
   "source": [
    "# adding in the * allows for as many arguments passed to be called\n",
    "\n",
    "def super_func(*args):\n",
    "    return sum(args)\n",
    "\n",
    "super_func(1, 2, 3, 5, 6)"
   ]
  },
  {
   "cell_type": "code",
   "execution_count": 18,
   "id": "dea21ecd-afd8-4690-8f88-3d9de4d9d3c9",
   "metadata": {},
   "outputs": [
    {
     "data": {
      "text/plain": [
       "30"
      ]
     },
     "execution_count": 18,
     "metadata": {},
     "output_type": "execute_result"
    }
   ],
   "source": [
    "def super_func(*args, **kwargs):\n",
    "    total=0\n",
    "    for items in kwargs.values():\n",
    "        total += items\n",
    "    \n",
    "    return sum(args) + total\n",
    "\n",
    "super_func(1, 2, 3, 4, 5, num1=5, num2=10)"
   ]
  },
  {
   "cell_type": "markdown",
   "id": "1917c0c8-de93-4021-913e-cc43f4ac53cd",
   "metadata": {},
   "source": [
    "### order of ops for parms of function\n",
    "\n",
    "def function(parms, *args, default parms, **kwargs)"
   ]
  },
  {
   "cell_type": "code",
   "execution_count": 19,
   "id": "81368634-f5bc-4dcb-89f8-4921c657487b",
   "metadata": {},
   "outputs": [],
   "source": [
    "# find the highest even number form a list\n",
    "\n",
    "def highest_even(some_list):\n",
    "    highest=[]\n",
    "    for i in some_list:\n",
    "        if i % 2 == 0:\n",
    "            highest.append(i)\n",
    "    for num in highest:\n",
    "        return max(highest)"
   ]
  },
  {
   "cell_type": "code",
   "execution_count": 20,
   "id": "c712c5f3-5a22-4465-85ae-5844c6d4a490",
   "metadata": {},
   "outputs": [
    {
     "data": {
      "text/plain": [
       "10"
      ]
     },
     "execution_count": 20,
     "metadata": {},
     "output_type": "execute_result"
    }
   ],
   "source": [
    "highest_even([10, 2, 3, 4, 8, 11])"
   ]
  },
  {
   "cell_type": "code",
   "execution_count": 22,
   "id": "f7af5aa9-d31c-4f08-b1de-a0782a3ac442",
   "metadata": {},
   "outputs": [
    {
     "data": {
      "text/plain": [
       "20"
      ]
     },
     "execution_count": 22,
     "metadata": {},
     "output_type": "execute_result"
    }
   ],
   "source": [
    "\n",
    "def highest_even(some_list):\n",
    "    highest=[]\n",
    "    for i in some_list:\n",
    "        if i % 2 == 0:\n",
    "            highest.append(i)\n",
    "    # didnt need to loop through, max takes an iterable\n",
    "    return max(highest)\n",
    "\n",
    "highest_even([10, 2, 3, 4, 8, 11, 20])"
   ]
  },
  {
   "cell_type": "code",
   "execution_count": null,
   "id": "362e09b6-556c-4615-ab9c-9f8f487e8b67",
   "metadata": {},
   "outputs": [],
   "source": []
  }
 ],
 "metadata": {
  "kernelspec": {
   "display_name": "Python 3 (ipykernel)",
   "language": "python",
   "name": "python3"
  },
  "language_info": {
   "codemirror_mode": {
    "name": "ipython",
    "version": 3
   },
   "file_extension": ".py",
   "mimetype": "text/x-python",
   "name": "python",
   "nbconvert_exporter": "python",
   "pygments_lexer": "ipython3",
   "version": "3.9.13"
  }
 },
 "nbformat": 4,
 "nbformat_minor": 5
}

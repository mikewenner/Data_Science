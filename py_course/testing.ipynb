{
 "cells": [
  {
   "cell_type": "code",
   "execution_count": 11,
   "id": "aaf1ce52-249d-48bd-a307-8bb321f4bf93",
   "metadata": {},
   "outputs": [],
   "source": [
    "import unittest\n",
    "import main"
   ]
  },
  {
   "cell_type": "code",
   "execution_count": 9,
   "id": "181b0c97-5b6b-4375-b38c-2fd91f45be62",
   "metadata": {},
   "outputs": [],
   "source": [
    "#create the test class\n",
    "\n",
    "# this is how we do if we were in VS code in a test.py file\n",
    "# open a int term and run test.py\n",
    "\n",
    "# class TestMain(unittest.TestCase):\n",
    "#     def test_do_stuff(self):\n",
    "#         test_parm = 10\n",
    "#         result = main.do_stuff(test_parm) \n",
    "#         self.assertEqual(result, 15) #assertEqual inherited from unittest\n",
    "\n",
    "# unittest.main()"
   ]
  },
  {
   "cell_type": "code",
   "execution_count": 16,
   "id": "85a8bf1f-5547-45ba-872f-0298308467ec",
   "metadata": {},
   "outputs": [
    {
     "name": "stderr",
     "output_type": "stream",
     "text": [
      ".\n",
      "----------------------------------------------------------------------\n",
      "Ran 1 test in 0.001s\n",
      "\n",
      "OK\n"
     ]
    }
   ],
   "source": [
    "# for jupyter env\n",
    "class TestMain(unittest.TestCase):\n",
    "    def test_do_stuff(self):\n",
    "        test_parm = 10\n",
    "        result = main.do_stuff(test_parm) \n",
    "        self.assertEqual(result, 15) #assertEqual inherited from unittest\n",
    "\n",
    "# unittest.main()\n",
    "\n",
    "# Load tests from the test class\n",
    "loader = unittest.TestLoader()\n",
    "suite = loader.loadTestsFromTestCase(TestMain)\n",
    "\n",
    "# Run tests\n",
    "runner = unittest.TextTestRunner()\n",
    "result = runner.run(suite)"
   ]
  },
  {
   "cell_type": "code",
   "execution_count": 17,
   "id": "6edc5e02-b7e9-4fba-8ec8-1615c4b58baa",
   "metadata": {},
   "outputs": [
    {
     "name": "stderr",
     "output_type": "stream",
     "text": [
      "F\n",
      "======================================================================\n",
      "FAIL: test_do_stuff (__main__.TestMain)\n",
      "----------------------------------------------------------------------\n",
      "Traceback (most recent call last):\n",
      "  File \"/var/folders/ys/fqvy458x0ds2sdvqh8qgff500000gn/T/ipykernel_16126/279836713.py\", line 7, in test_do_stuff\n",
      "    self.assertEqual(result, 10) #assertEqual inherited from unittest\n",
      "AssertionError: 15 != 10\n",
      "\n",
      "----------------------------------------------------------------------\n",
      "Ran 1 test in 0.001s\n",
      "\n",
      "FAILED (failures=1)\n"
     ]
    }
   ],
   "source": [
    "# change the 15 to 10 and see error\n",
    "\n",
    "class TestMain(unittest.TestCase):\n",
    "    def test_do_stuff(self):\n",
    "        test_parm = 10\n",
    "        result = main.do_stuff(test_parm) \n",
    "        self.assertEqual(result, 10) #assertEqual inherited from unittest\n",
    "\n",
    "# unittest.main()\n",
    "\n",
    "# Load tests from the test class\n",
    "loader = unittest.TestLoader()\n",
    "suite = loader.loadTestsFromTestCase(TestMain)\n",
    "\n",
    "# Run tests\n",
    "runner = unittest.TextTestRunner()\n",
    "result = runner.run(suite)"
   ]
  },
  {
   "cell_type": "code",
   "execution_count": 18,
   "id": "83f748c2-97bf-4eec-b697-fd0c097c27d3",
   "metadata": {},
   "outputs": [
    {
     "name": "stderr",
     "output_type": "stream",
     "text": [
      ".E\n",
      "======================================================================\n",
      "ERROR: test_do_stuff2 (__main__.TestMain)\n",
      "----------------------------------------------------------------------\n",
      "Traceback (most recent call last):\n",
      "  File \"/var/folders/ys/fqvy458x0ds2sdvqh8qgff500000gn/T/ipykernel_16126/1336008399.py\", line 12, in test_do_stuff2\n",
      "    result = main.do_stuff(test_parm)\n",
      "  File \"/Users/mikewenner/Desktop/Data_Science/py_course/main.py\", line 2, in do_stuff\n",
      "    return num + 5\n",
      "TypeError: can only concatenate str (not \"int\") to str\n",
      "\n",
      "----------------------------------------------------------------------\n",
      "Ran 2 tests in 0.003s\n",
      "\n",
      "FAILED (errors=1)\n"
     ]
    }
   ],
   "source": [
    "#create another test for string\n",
    "\n",
    "# for jupyter env\n",
    "class TestMain(unittest.TestCase):\n",
    "    def test_do_stuff(self):\n",
    "        test_parm = 10\n",
    "        result = main.do_stuff(test_parm) \n",
    "        self.assertEqual(result, 15) #assertEqual inherited from unittest\n",
    "        \n",
    "    def test_do_stuff2(self):\n",
    "        test_parm = 'string'\n",
    "        result = main.do_stuff(test_parm) \n",
    "        self.assertEqual(result, TypeError)\n",
    "\n",
    "# Load tests from the test class\n",
    "loader = unittest.TestLoader()\n",
    "suite = loader.loadTestsFromTestCase(TestMain)\n",
    "\n",
    "# Run tests\n",
    "runner = unittest.TextTestRunner()\n",
    "result = runner.run(suite)"
   ]
  },
  {
   "cell_type": "code",
   "execution_count": null,
   "id": "eed72800-e74e-4f70-ad06-05de84d54cc4",
   "metadata": {},
   "outputs": [],
   "source": [
    "#now we can improve the code of the function on main.py\n",
    "#add int()\n",
    "#use a try except block\n",
    "\n",
    "\n",
    "def do_stuff(num):\n",
    "    try:\n",
    "        return int(num) + 5\n",
    "    except TypeError as err:\n",
    "        return err"
   ]
  },
  {
   "cell_type": "code",
   "execution_count": null,
   "id": "03fe77ba-1d64-4d25-a27a-b254394b95cf",
   "metadata": {},
   "outputs": [],
   "source": []
  }
 ],
 "metadata": {
  "kernelspec": {
   "display_name": "Python 3 (ipykernel)",
   "language": "python",
   "name": "python3"
  },
  "language_info": {
   "codemirror_mode": {
    "name": "ipython",
    "version": 3
   },
   "file_extension": ".py",
   "mimetype": "text/x-python",
   "name": "python",
   "nbconvert_exporter": "python",
   "pygments_lexer": "ipython3",
   "version": "3.9.13"
  }
 },
 "nbformat": 4,
 "nbformat_minor": 5
}

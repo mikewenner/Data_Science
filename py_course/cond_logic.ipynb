{
 "cells": [
  {
   "cell_type": "code",
   "execution_count": 2,
   "id": "733f694f-6ef9-418f-b458-f282c95cb509",
   "metadata": {},
   "outputs": [
    {
     "name": "stdout",
     "output_type": "stream",
     "text": [
      "you are a master magician\n"
     ]
    }
   ],
   "source": [
    "#example\n",
    "\n",
    "is_magician = True\n",
    "is_expert = True\n",
    "\n",
    "#check if magician and expert, print you are a master magician\n",
    "#check if magician but not expert print at least your gettgin there\n",
    "# if your not a magician print you need magic powers\n",
    "\n",
    "if is_magician and is_expert:\n",
    "    print('you are a master magician')\n",
    "    \n",
    "elif is_magician and not is_expert:\n",
    "    print('at least your getting there')\n",
    "    \n",
    "elif not is_magician:\n",
    "    print('you need magic powers')"
   ]
  },
  {
   "cell_type": "code",
   "execution_count": 3,
   "id": "9d3f6c57-0b55-4cc5-a6ad-4df47fb5f111",
   "metadata": {},
   "outputs": [
    {
     "name": "stdout",
     "output_type": "stream",
     "text": [
      "1\n",
      "2\n",
      "3\n",
      "4\n",
      "5\n",
      "6\n"
     ]
    }
   ],
   "source": [
    "# for loop\n",
    "\n",
    "for i in (1,2,3,4,5,6):\n",
    "    print(i)"
   ]
  },
  {
   "cell_type": "code",
   "execution_count": 7,
   "id": "26ec5c1f-14fb-49ad-82bd-be28a4d2c4ad",
   "metadata": {},
   "outputs": [
    {
     "name": "stdout",
     "output_type": "stream",
     "text": [
      "1 a\n",
      "1 b\n",
      "1 c\n",
      "2 a\n",
      "2 b\n",
      "2 c\n",
      "3 a\n",
      "3 b\n",
      "3 c\n",
      "4 a\n",
      "4 b\n",
      "4 c\n",
      "5 a\n",
      "5 b\n",
      "5 c\n",
      "6 a\n",
      "6 b\n",
      "6 c\n"
     ]
    }
   ],
   "source": [
    "for i in (1,2,3,4,5,6):\n",
    "    for x in ['a', 'b', 'c']:\n",
    "        print(i, x)"
   ]
  },
  {
   "cell_type": "code",
   "execution_count": 14,
   "id": "9b326e4a-620f-4367-ad3f-0c71368fe67a",
   "metadata": {},
   "outputs": [
    {
     "name": "stdout",
     "output_type": "stream",
     "text": [
      "name\n",
      "age\n",
      "can_swim\n"
     ]
    }
   ],
   "source": [
    "# dictionary\n",
    "\n",
    "user = {\n",
    "    'name':'golem',\n",
    "    'age': 5006,\n",
    "    'can_swim': False\n",
    "}\n",
    "\n",
    "for i in user:\n",
    "    print(i)"
   ]
  },
  {
   "cell_type": "code",
   "execution_count": 16,
   "id": "03e0bd46-89df-44c2-bce8-b39573376a77",
   "metadata": {},
   "outputs": [
    {
     "name": "stdout",
     "output_type": "stream",
     "text": [
      "('name', 'golem')\n",
      "('age', 5006)\n",
      "('can_swim', False)\n"
     ]
    }
   ],
   "source": [
    "# above only prints the keys, if we want values\n",
    "\n",
    "for i in user.items():\n",
    "    print(i)"
   ]
  },
  {
   "cell_type": "code",
   "execution_count": 17,
   "id": "cc2b11a1-874e-42bd-9124-b88e101ee166",
   "metadata": {},
   "outputs": [
    {
     "name": "stdout",
     "output_type": "stream",
     "text": [
      "name\n",
      "age\n",
      "can_swim\n"
     ]
    }
   ],
   "source": [
    "for i in user.keys():\n",
    "    print(i)"
   ]
  },
  {
   "cell_type": "code",
   "execution_count": 18,
   "id": "d796874a-64a7-4457-a32e-d17becfbdd34",
   "metadata": {},
   "outputs": [
    {
     "name": "stdout",
     "output_type": "stream",
     "text": [
      "golem\n",
      "5006\n",
      "False\n"
     ]
    }
   ],
   "source": [
    "for i in user.values():\n",
    "    print(i)"
   ]
  },
  {
   "cell_type": "code",
   "execution_count": 20,
   "id": "c3a27bd9-b9dc-45bd-9c90-e0d836a9e563",
   "metadata": {},
   "outputs": [
    {
     "name": "stdout",
     "output_type": "stream",
     "text": [
      "name golem\n",
      "age 5006\n",
      "can_swim False\n"
     ]
    }
   ],
   "source": [
    "for key, value in user.items():\n",
    "    print(key, value)"
   ]
  },
  {
   "cell_type": "code",
   "execution_count": 23,
   "id": "6991ca10-759e-4160-8488-e9ff83d1bee4",
   "metadata": {},
   "outputs": [
    {
     "name": "stdout",
     "output_type": "stream",
     "text": [
      "55\n"
     ]
    }
   ],
   "source": [
    "# counter\n",
    "\n",
    "my_list = [1, 2, 3, 4, 5, 6, 7, 8, 9, 10]\n",
    "\n",
    "counter=0\n",
    "\n",
    "for i in my_list:\n",
    "    counter += i\n",
    "print(counter)"
   ]
  },
  {
   "cell_type": "code",
   "execution_count": 24,
   "id": "a53d1a03-5af4-4675-aebd-be464f74c304",
   "metadata": {},
   "outputs": [
    {
     "data": {
      "text/plain": [
       "55"
      ]
     },
     "execution_count": 24,
     "metadata": {},
     "output_type": "execute_result"
    }
   ],
   "source": [
    "# check with sum\n",
    "sum(my_list)"
   ]
  },
  {
   "cell_type": "code",
   "execution_count": 25,
   "id": "6272124d-6920-4cca-99de-407eaf620220",
   "metadata": {},
   "outputs": [
    {
     "name": "stdout",
     "output_type": "stream",
     "text": [
      "1\n",
      "2\n",
      "3\n",
      "4\n",
      "5\n",
      "6\n",
      "7\n",
      "8\n",
      "9\n"
     ]
    }
   ],
   "source": [
    "# using range\n",
    "\n",
    "for i in range(1,10):\n",
    "    print(i)"
   ]
  },
  {
   "cell_type": "code",
   "execution_count": 28,
   "id": "5d5bb98f-a6d3-40b8-9da1-52baeb756bd8",
   "metadata": {},
   "outputs": [
    {
     "name": "stdout",
     "output_type": "stream",
     "text": [
      "2\n",
      "4\n",
      "6\n",
      "8\n",
      "10\n",
      "12\n",
      "14\n",
      "16\n",
      "18\n",
      "20\n"
     ]
    }
   ],
   "source": [
    "# using a step\n",
    "for i in range(2,21,2):\n",
    "    print(i)"
   ]
  },
  {
   "cell_type": "code",
   "execution_count": 30,
   "id": "3d610859-5eb2-46d0-b3ba-58700de63159",
   "metadata": {},
   "outputs": [
    {
     "name": "stdout",
     "output_type": "stream",
     "text": [
      "20\n",
      "18\n",
      "16\n",
      "14\n",
      "12\n",
      "10\n",
      "8\n",
      "6\n",
      "4\n"
     ]
    }
   ],
   "source": [
    "# in reverse\n",
    "for i in range(20,2,-2):\n",
    "    print(i)"
   ]
  },
  {
   "cell_type": "code",
   "execution_count": 32,
   "id": "b5e9413c-8dc5-46d1-babf-08f1d6bb3e9f",
   "metadata": {},
   "outputs": [
    {
     "name": "stdout",
     "output_type": "stream",
     "text": [
      "0 h\n",
      "1 e\n",
      "2 l\n",
      "3 l\n",
      "4 l\n",
      "5 o\n",
      "6 o\n",
      "7 o\n"
     ]
    }
   ],
   "source": [
    "# enumerate --> unpacks and index\n",
    "\n",
    "for i, char in enumerate('helllooo'):\n",
    "    print(i, char)"
   ]
  },
  {
   "cell_type": "code",
   "execution_count": 35,
   "id": "9868f09d-d17c-4ecf-91c6-bb888bed1de0",
   "metadata": {},
   "outputs": [
    {
     "name": "stdout",
     "output_type": "stream",
     "text": [
      "    *    \n",
      "   ***   \n",
      "  *****  \n",
      " ******* \n",
      "*********\n",
      " ******* \n",
      "  *****  \n",
      "   ***   \n",
      "    *    \n"
     ]
    }
   ],
   "source": [
    "# GUI ex\n",
    "\n",
    "picture=[\n",
    "[0,0,0,0,1,0,0,0,0],\n",
    "[0,0,0,1,1,1,0,0,0],\n",
    "[0,0,1,1,1,1,1,0,0],\n",
    "[0,1,1,1,1,1,1,1,0],\n",
    "[1,1,1,1,1,1,1,1,1],\n",
    "[0,1,1,1,1,1,1,1,0],\n",
    "[0,0,1,1,1,1,1,0,0],\n",
    "[0,0,0,1,1,1,0,0,0],\n",
    "[0,0,0,0,1,0,0,0,0]\n",
    "\n",
    "]\n",
    "\n",
    "# iterate over picture\n",
    "    # if 0 then print nothing/space\n",
    "    #if 1 print a *\n",
    "\n",
    "for i in picture:\n",
    "    for pixel in i:\n",
    "        if pixel == 1:\n",
    "            print('*', end='')\n",
    "        else:\n",
    "            print(' ', end='')\n",
    "    print('')"
   ]
  },
  {
   "cell_type": "code",
   "execution_count": 39,
   "id": "5b98ea41-3d28-4ede-9ad7-f344b6595f7f",
   "metadata": {},
   "outputs": [
    {
     "name": "stdout",
     "output_type": "stream",
     "text": [
      "    $    \n",
      "   $$$   \n",
      "  $$$$$  \n",
      " $$$$$$$ \n",
      "$$$$$$$$$\n",
      " $$$$$$$ \n",
      "  $$$$$  \n",
      "   $$$   \n",
      "    $    \n"
     ]
    }
   ],
   "source": [
    "# clean it up a little\n",
    "# set variables for the fill and empty space\n",
    "\n",
    "fill = '$'\n",
    "empty = ' '\n",
    "for i in picture:\n",
    "    for pixel in i:\n",
    "        if pixel == 1:\n",
    "            print(fill, end='')\n",
    "        else:\n",
    "            print(empty, end='')\n",
    "    print('')"
   ]
  },
  {
   "cell_type": "code",
   "execution_count": 40,
   "id": "589bf4a4-113c-4a93-8387-21159cf27c88",
   "metadata": {},
   "outputs": [],
   "source": [
    "#duplicates exercise\n",
    "some_list = ['a', 'b', 'c', 'b', 'd', 'm', 'n', 'n']"
   ]
  },
  {
   "cell_type": "code",
   "execution_count": 41,
   "id": "a4c3f4e3-3405-4a3b-8316-84856127335c",
   "metadata": {},
   "outputs": [
    {
     "data": {
      "text/plain": [
       "8"
      ]
     },
     "execution_count": 41,
     "metadata": {},
     "output_type": "execute_result"
    }
   ],
   "source": [
    "len(some_list)"
   ]
  },
  {
   "cell_type": "code",
   "execution_count": 42,
   "id": "93f5757e-0bff-4fd6-8d68-2036dcef7c7c",
   "metadata": {},
   "outputs": [
    {
     "data": {
      "text/plain": [
       "{'a', 'b', 'c', 'd', 'm', 'n'}"
      ]
     },
     "execution_count": 42,
     "metadata": {},
     "output_type": "execute_result"
    }
   ],
   "source": [
    "new_list = set(some_list)\n",
    "new_list"
   ]
  },
  {
   "cell_type": "code",
   "execution_count": 43,
   "id": "5addcaf4-4151-4108-b448-e97c2f2e17b3",
   "metadata": {},
   "outputs": [
    {
     "data": {
      "text/plain": [
       "6"
      ]
     },
     "execution_count": 43,
     "metadata": {},
     "output_type": "execute_result"
    }
   ],
   "source": [
    "len(new_list)"
   ]
  },
  {
   "cell_type": "code",
   "execution_count": 44,
   "id": "14bb232f-bf84-4abf-b18b-332d0b9e8756",
   "metadata": {},
   "outputs": [
    {
     "data": {
      "text/plain": [
       "False"
      ]
     },
     "execution_count": 44,
     "metadata": {},
     "output_type": "execute_result"
    }
   ],
   "source": [
    "len(new_list) == len(some_list)"
   ]
  },
  {
   "cell_type": "code",
   "execution_count": 45,
   "id": "f27e796f-f3f2-4561-a7d0-7620f2f5172e",
   "metadata": {},
   "outputs": [
    {
     "name": "stdout",
     "output_type": "stream",
     "text": [
      "['b', 'b', 'n', 'n']\n"
     ]
    }
   ],
   "source": [
    "# loop to print the duplicates\n",
    "\n",
    "dups=[]\n",
    "\n",
    "for i in some_list:\n",
    "    if some_list.count(i) > 1:\n",
    "        dups.append(i)\n",
    "print(dups)"
   ]
  },
  {
   "cell_type": "code",
   "execution_count": 47,
   "id": "4fbcccd8-47da-4a2b-b2db-5d8d4a13a3bd",
   "metadata": {},
   "outputs": [
    {
     "name": "stdout",
     "output_type": "stream",
     "text": [
      "['b', 'n']\n"
     ]
    }
   ],
   "source": [
    "# add another line to just show the single occurrance\n",
    "\n",
    "dups=[]\n",
    "\n",
    "for i in some_list:\n",
    "    if some_list.count(i) > 1:\n",
    "        if i not in dups:\n",
    "            dups.append(i)\n",
    "print(dups)"
   ]
  },
  {
   "cell_type": "code",
   "execution_count": null,
   "id": "2d57c5fa-827e-4ef9-88d4-652b3a0643de",
   "metadata": {},
   "outputs": [],
   "source": []
  }
 ],
 "metadata": {
  "kernelspec": {
   "display_name": "Python 3 (ipykernel)",
   "language": "python",
   "name": "python3"
  },
  "language_info": {
   "codemirror_mode": {
    "name": "ipython",
    "version": 3
   },
   "file_extension": ".py",
   "mimetype": "text/x-python",
   "name": "python",
   "nbconvert_exporter": "python",
   "pygments_lexer": "ipython3",
   "version": "3.9.13"
  }
 },
 "nbformat": 4,
 "nbformat_minor": 5
}

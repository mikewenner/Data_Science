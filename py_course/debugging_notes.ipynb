{
 "cells": [
  {
   "cell_type": "markdown",
   "id": "b05f38cf-7c41-4565-ae54-a82e9befa604",
   "metadata": {},
   "source": [
    "# Syntax Error"
   ]
  },
  {
   "cell_type": "code",
   "execution_count": 1,
   "id": "a6532170-c5be-4eac-8879-b8b35ab2c58b",
   "metadata": {},
   "outputs": [],
   "source": [
    "# A syntax error in Python is an error that occurs when the Python interpreter encounters code that it cannot understand\n",
    "# due to incorrect syntax or structure. Essentially, these errors are the result of writing code that does not \n",
    "# follow the rules or the structure of the Python language. When the Python interpreter encounters such an error, \n",
    "# it stops execution and prints an error message indicating what it did not understand."
   ]
  },
  {
   "cell_type": "markdown",
   "id": "715667d7-c88f-4c43-b919-2510bd94eb38",
   "metadata": {
    "jp-MarkdownHeadingCollapsed": true,
    "tags": []
   },
   "source": [
    "## Examples Syntax Error"
   ]
  },
  {
   "cell_type": "code",
   "execution_count": 2,
   "id": "f8a6c600-751f-489f-8686-6aa4ac5a7d8e",
   "metadata": {},
   "outputs": [
    {
     "ename": "SyntaxError",
     "evalue": "Missing parentheses in call to 'print'. Did you mean print(\"Hello, world\")? (2825516670.py, line 3)",
     "output_type": "error",
     "traceback": [
      "\u001b[0;36m  Cell \u001b[0;32mIn[2], line 3\u001b[0;36m\u001b[0m\n\u001b[0;31m    print \"Hello, world\"\u001b[0m\n\u001b[0m          ^\u001b[0m\n\u001b[0;31mSyntaxError\u001b[0m\u001b[0;31m:\u001b[0m Missing parentheses in call to 'print'. Did you mean print(\"Hello, world\")?\n"
     ]
    }
   ],
   "source": [
    "#1. Missing parentheses in function calls\n",
    "\n",
    "print \"Hello, world\"\n",
    "# Correct version: print(\"Hello, world\")"
   ]
  },
  {
   "cell_type": "code",
   "execution_count": 3,
   "id": "e7b30629-2a4b-4550-b6b7-487b1f87d5ea",
   "metadata": {},
   "outputs": [
    {
     "ename": "IndentationError",
     "evalue": "expected an indented block (2801572738.py, line 5)",
     "output_type": "error",
     "traceback": [
      "\u001b[0;36m  Cell \u001b[0;32mIn[3], line 5\u001b[0;36m\u001b[0m\n\u001b[0;31m    x = 5  # This line is not properly indented\u001b[0m\n\u001b[0m    ^\u001b[0m\n\u001b[0;31mIndentationError\u001b[0m\u001b[0;31m:\u001b[0m expected an indented block\n"
     ]
    }
   ],
   "source": [
    "#2. Improper indentation\n",
    "#Python uses indentation to define code blocks, unlike other languages which use braces. \n",
    "\n",
    "def func():\n",
    "x = 5  # This line is not properly indented\n",
    "return x"
   ]
  },
  {
   "cell_type": "code",
   "execution_count": 4,
   "id": "17c7a88e-7e6b-426a-9d52-59345da9d435",
   "metadata": {},
   "outputs": [
    {
     "ename": "SyntaxError",
     "evalue": "unexpected EOF while parsing (1638724120.py, line 4)",
     "output_type": "error",
     "traceback": [
      "\u001b[0;36m  Cell \u001b[0;32mIn[4], line 4\u001b[0;36m\u001b[0m\n\u001b[0;31m    # Correct version: list = [1, 2, 3]\u001b[0m\n\u001b[0m                                       ^\u001b[0m\n\u001b[0;31mSyntaxError\u001b[0m\u001b[0;31m:\u001b[0m unexpected EOF while parsing\n"
     ]
    }
   ],
   "source": [
    "#3. Unclosed brackets, parentheses, or braces\n",
    "\n",
    "list = [1, 2, 3\n",
    "# Correct version: list = [1, 2, 3]\n"
   ]
  },
  {
   "cell_type": "code",
   "execution_count": 5,
   "id": "67bab460-3ca0-460f-9fbd-4be96520ad9c",
   "metadata": {},
   "outputs": [
    {
     "ename": "SyntaxError",
     "evalue": "invalid syntax (1952883260.py, line 5)",
     "output_type": "error",
     "traceback": [
      "\u001b[0;36m  Cell \u001b[0;32mIn[5], line 5\u001b[0;36m\u001b[0m\n\u001b[0;31m    if True\u001b[0m\n\u001b[0m           ^\u001b[0m\n\u001b[0;31mSyntaxError\u001b[0m\u001b[0;31m:\u001b[0m invalid syntax\n"
     ]
    }
   ],
   "source": [
    "# 4. Missing colon\n",
    "# Python uses colons (:) to denote the start of an indented block of code. \n",
    "# If you forget to put a colon at the end of a function definition, if statement, for loop, while loop\n",
    "\n",
    "if True\n",
    "    print(\"This is a syntax error.\")\n",
    "# Correct version: if True:\n"
   ]
  },
  {
   "cell_type": "code",
   "execution_count": 6,
   "id": "89636733-1969-44d0-9e74-a924feb921d7",
   "metadata": {},
   "outputs": [
    {
     "ename": "SyntaxError",
     "evalue": "invalid syntax (887907410.py, line 4)",
     "output_type": "error",
     "traceback": [
      "\u001b[0;36m  Cell \u001b[0;32mIn[6], line 4\u001b[0;36m\u001b[0m\n\u001b[0;31m    for = 7\u001b[0m\n\u001b[0m        ^\u001b[0m\n\u001b[0;31mSyntaxError\u001b[0m\u001b[0;31m:\u001b[0m invalid syntax\n"
     ]
    }
   ],
   "source": [
    "# 5. Using a Python keyword as a variable name\n",
    "# Python keywords are reserved words that are used for specific operations and structures in Python. \n",
    "\n",
    "for = 7\n",
    "# Correct version: for_var = 7\n"
   ]
  },
  {
   "cell_type": "markdown",
   "id": "91ba63cb-d8a1-458f-b614-1cb0bb96c99f",
   "metadata": {},
   "source": [
    "# Name Error"
   ]
  },
  {
   "cell_type": "code",
   "execution_count": 7,
   "id": "f07935c1-1d92-4933-9486-d6d80d25e65b",
   "metadata": {},
   "outputs": [],
   "source": [
    "# A NameError in Python is raised when you try to use a variable or a function name that has not been defined yet. \n",
    "# This could happen if the variable or function has never been defined, if you've made a typo in the name, \n",
    "# or if you're trying to use a variable before it's been defined."
   ]
  },
  {
   "cell_type": "markdown",
   "id": "fd7762b0-9604-404a-8a3c-1c4fa52e438f",
   "metadata": {
    "jp-MarkdownHeadingCollapsed": true,
    "tags": []
   },
   "source": [
    "## Examples Name Error"
   ]
  },
  {
   "cell_type": "code",
   "execution_count": 8,
   "id": "92bd20f4-1fbf-41c4-96d9-3258041ee90e",
   "metadata": {},
   "outputs": [
    {
     "ename": "NameError",
     "evalue": "name 'x' is not defined",
     "output_type": "error",
     "traceback": [
      "\u001b[0;31m---------------------------------------------------------------------------\u001b[0m",
      "\u001b[0;31mNameError\u001b[0m                                 Traceback (most recent call last)",
      "Cell \u001b[0;32mIn[8], line 3\u001b[0m\n\u001b[1;32m      1\u001b[0m \u001b[38;5;66;03m# 1. Using a variable before it is defined\u001b[39;00m\n\u001b[0;32m----> 3\u001b[0m \u001b[38;5;28mprint\u001b[39m(\u001b[43mx\u001b[49m)  \u001b[38;5;66;03m# x has not been defined\u001b[39;00m\n\u001b[1;32m      4\u001b[0m \u001b[38;5;66;03m# To fix this, you could define x before trying to print it, like this:\u001b[39;00m\n\u001b[1;32m      5\u001b[0m \u001b[38;5;66;03m# x = 10\u001b[39;00m\n\u001b[1;32m      6\u001b[0m \u001b[38;5;66;03m# print(x)\u001b[39;00m\n",
      "\u001b[0;31mNameError\u001b[0m: name 'x' is not defined"
     ]
    }
   ],
   "source": [
    "# 1. Using a variable before it is defined\n",
    "\n",
    "print(x)  # x has not been defined\n",
    "# To fix this, you could define x before trying to print it, like this:\n",
    "# x = 10\n",
    "# print(x)\n"
   ]
  },
  {
   "cell_type": "code",
   "execution_count": 9,
   "id": "9c387b36-2cbc-4d30-9a84-30db97ae6bf3",
   "metadata": {},
   "outputs": [
    {
     "ename": "NameError",
     "evalue": "name 'some_varible' is not defined",
     "output_type": "error",
     "traceback": [
      "\u001b[0;31m---------------------------------------------------------------------------\u001b[0m",
      "\u001b[0;31mNameError\u001b[0m                                 Traceback (most recent call last)",
      "Cell \u001b[0;32mIn[9], line 4\u001b[0m\n\u001b[1;32m      1\u001b[0m \u001b[38;5;66;03m# 2. Misspelling a variable\u001b[39;00m\n\u001b[1;32m      3\u001b[0m some_variable \u001b[38;5;241m=\u001b[39m \u001b[38;5;241m15\u001b[39m\n\u001b[0;32m----> 4\u001b[0m \u001b[38;5;28mprint\u001b[39m(\u001b[43msome_varible\u001b[49m)  \u001b[38;5;66;03m# This should be some_variable, not some_varible\u001b[39;00m\n",
      "\u001b[0;31mNameError\u001b[0m: name 'some_varible' is not defined"
     ]
    }
   ],
   "source": [
    "# 2. Misspelling a variable\n",
    "\n",
    "some_variable = 15\n",
    "print(some_varible)  # This should be some_variable, not some_varible\n"
   ]
  },
  {
   "cell_type": "code",
   "execution_count": 10,
   "id": "7dd01356-4db6-46ef-8ed8-e2ee5856e61f",
   "metadata": {},
   "outputs": [
    {
     "ename": "NameError",
     "evalue": "name 'my_func' is not defined",
     "output_type": "error",
     "traceback": [
      "\u001b[0;31m---------------------------------------------------------------------------\u001b[0m",
      "\u001b[0;31mNameError\u001b[0m                                 Traceback (most recent call last)",
      "Cell \u001b[0;32mIn[10], line 3\u001b[0m\n\u001b[1;32m      1\u001b[0m \u001b[38;5;66;03m# 3. Trying to use a function before it is defined\u001b[39;00m\n\u001b[0;32m----> 3\u001b[0m \u001b[43mmy_func\u001b[49m()  \u001b[38;5;66;03m# my_func has not been defined\u001b[39;00m\n\u001b[1;32m      5\u001b[0m \u001b[38;5;28;01mdef\u001b[39;00m \u001b[38;5;21mmy_func\u001b[39m():\n\u001b[1;32m      6\u001b[0m     \u001b[38;5;28mprint\u001b[39m(\u001b[38;5;124m\"\u001b[39m\u001b[38;5;124mHello, world\u001b[39m\u001b[38;5;124m\"\u001b[39m)\n",
      "\u001b[0;31mNameError\u001b[0m: name 'my_func' is not defined"
     ]
    }
   ],
   "source": [
    "# 3. Trying to use a function before it is defined\n",
    "\n",
    "my_func()  # my_func has not been defined\n",
    "\n",
    "def my_func():\n",
    "    print(\"Hello, world\")\n",
    "# To fix this, you could define my_func before trying to use it, like this:\n",
    "# def my_func():\n",
    "#     print(\"Hello, world\")\n",
    "# my_func()\n"
   ]
  },
  {
   "cell_type": "code",
   "execution_count": 11,
   "id": "c5cea9ea-6344-4f73-bccc-b4a9a8979e0c",
   "metadata": {},
   "outputs": [
    {
     "ename": "NameError",
     "evalue": "name 'sqrt' is not defined",
     "output_type": "error",
     "traceback": [
      "\u001b[0;31m---------------------------------------------------------------------------\u001b[0m",
      "\u001b[0;31mNameError\u001b[0m                                 Traceback (most recent call last)",
      "Cell \u001b[0;32mIn[11], line 3\u001b[0m\n\u001b[1;32m      1\u001b[0m \u001b[38;5;66;03m# 4. Trying to use a module function without importing the module\u001b[39;00m\n\u001b[0;32m----> 3\u001b[0m \u001b[43msqrt\u001b[49m(\u001b[38;5;241m4\u001b[39m)  \u001b[38;5;66;03m# sqrt is not defined\u001b[39;00m\n\u001b[1;32m      5\u001b[0m \u001b[38;5;66;03m# To fix this, you could import the math module before trying to use sqrt, like this:\u001b[39;00m\n\u001b[1;32m      6\u001b[0m \u001b[38;5;66;03m# import math\u001b[39;00m\n\u001b[1;32m      7\u001b[0m \u001b[38;5;66;03m# math.sqrt(4)\u001b[39;00m\n",
      "\u001b[0;31mNameError\u001b[0m: name 'sqrt' is not defined"
     ]
    }
   ],
   "source": [
    "# 4. Trying to use a module function without importing the module\n",
    "\n",
    "sqrt(4)  # sqrt is not defined\n",
    "\n",
    "# To fix this, you could import the math module before trying to use sqrt, like this:\n",
    "# import math\n",
    "# math.sqrt(4)\n"
   ]
  },
  {
   "cell_type": "markdown",
   "id": "40b16b3d-8819-40a1-b057-77ef010f5b9d",
   "metadata": {},
   "source": [
    "# Type Error"
   ]
  },
  {
   "cell_type": "code",
   "execution_count": 12,
   "id": "63cfd0b7-a79e-41d2-bf19-192d9f6c3e3e",
   "metadata": {},
   "outputs": [],
   "source": [
    "# A TypeError in Python is raised when an operation or function is applied to an object of inappropriate type. \n",
    "# The error essentially means that the operation couldn't be performed because the data types involved are not compatible with each other."
   ]
  },
  {
   "cell_type": "markdown",
   "id": "7d413470-7ddb-48ae-a8b6-05ad45825b79",
   "metadata": {
    "jp-MarkdownHeadingCollapsed": true,
    "tags": []
   },
   "source": [
    "## Examples Type Error"
   ]
  },
  {
   "cell_type": "code",
   "execution_count": 13,
   "id": "b47df6c1-4e83-425c-9acd-873445d48d65",
   "metadata": {},
   "outputs": [
    {
     "ename": "TypeError",
     "evalue": "can only concatenate str (not \"int\") to str",
     "output_type": "error",
     "traceback": [
      "\u001b[0;31m---------------------------------------------------------------------------\u001b[0m",
      "\u001b[0;31mTypeError\u001b[0m                                 Traceback (most recent call last)",
      "Cell \u001b[0;32mIn[13], line 3\u001b[0m\n\u001b[1;32m      1\u001b[0m \u001b[38;5;66;03m# 1. Adding a string and an integer\u001b[39;00m\n\u001b[0;32m----> 3\u001b[0m \u001b[38;5;28mprint\u001b[39m(\u001b[38;5;124;43m\"\u001b[39;49m\u001b[38;5;124;43mHello, \u001b[39;49m\u001b[38;5;124;43m\"\u001b[39;49m\u001b[43m \u001b[49m\u001b[38;5;241;43m+\u001b[39;49m\u001b[43m \u001b[49m\u001b[38;5;241;43m5\u001b[39;49m)\n\u001b[1;32m      4\u001b[0m \u001b[38;5;66;03m# Correct version: print(\"Hello, \" + str(5))\u001b[39;00m\n",
      "\u001b[0;31mTypeError\u001b[0m: can only concatenate str (not \"int\") to str"
     ]
    }
   ],
   "source": [
    "# 1. Adding a string and an integer\n",
    "\n",
    "print(\"Hello, \" + 5)\n",
    "# Correct version: print(\"Hello, \" + str(5))\n"
   ]
  },
  {
   "cell_type": "code",
   "execution_count": 14,
   "id": "20f29926-180e-40c6-9da4-71272d561b4b",
   "metadata": {},
   "outputs": [
    {
     "ename": "TypeError",
     "evalue": "greet() missing 1 required positional argument: 'name'",
     "output_type": "error",
     "traceback": [
      "\u001b[0;31m---------------------------------------------------------------------------\u001b[0m",
      "\u001b[0;31mTypeError\u001b[0m                                 Traceback (most recent call last)",
      "Cell \u001b[0;32mIn[14], line 6\u001b[0m\n\u001b[1;32m      3\u001b[0m \u001b[38;5;28;01mdef\u001b[39;00m \u001b[38;5;21mgreet\u001b[39m(name):\n\u001b[1;32m      4\u001b[0m     \u001b[38;5;28mprint\u001b[39m(\u001b[38;5;124m\"\u001b[39m\u001b[38;5;124mHello, \u001b[39m\u001b[38;5;124m\"\u001b[39m \u001b[38;5;241m+\u001b[39m name)\n\u001b[0;32m----> 6\u001b[0m \u001b[43mgreet\u001b[49m\u001b[43m(\u001b[49m\u001b[43m)\u001b[49m  \u001b[38;5;66;03m# No arguments are provided\u001b[39;00m\n\u001b[1;32m      7\u001b[0m \u001b[38;5;66;03m# Correct version: greet(\"Alice\")\u001b[39;00m\n",
      "\u001b[0;31mTypeError\u001b[0m: greet() missing 1 required positional argument: 'name'"
     ]
    }
   ],
   "source": [
    "# 2. Calling a function with the wrong number of arguments\n",
    "\n",
    "def greet(name):\n",
    "    print(\"Hello, \" + name)\n",
    "\n",
    "greet()  # No arguments are provided\n",
    "# Correct version: greet(\"Alice\")\n"
   ]
  },
  {
   "cell_type": "code",
   "execution_count": 15,
   "id": "20c1073c-9465-40b9-be65-693940432e40",
   "metadata": {},
   "outputs": [
    {
     "ename": "TypeError",
     "evalue": "'int' object is not iterable",
     "output_type": "error",
     "traceback": [
      "\u001b[0;31m---------------------------------------------------------------------------\u001b[0m",
      "\u001b[0;31mTypeError\u001b[0m                                 Traceback (most recent call last)",
      "Cell \u001b[0;32mIn[15], line 3\u001b[0m\n\u001b[1;32m      1\u001b[0m \u001b[38;5;66;03m# 3. Attempting to iterate over a non-iterable\u001b[39;00m\n\u001b[0;32m----> 3\u001b[0m \u001b[38;5;28;01mfor\u001b[39;00m i \u001b[38;5;129;01min\u001b[39;00m \u001b[38;5;241m1234\u001b[39m:\n\u001b[1;32m      4\u001b[0m     \u001b[38;5;28mprint\u001b[39m(i)\n\u001b[1;32m      5\u001b[0m \u001b[38;5;66;03m# Correct version: for i in str(1234):\u001b[39;00m\n",
      "\u001b[0;31mTypeError\u001b[0m: 'int' object is not iterable"
     ]
    }
   ],
   "source": [
    "# 3. Attempting to iterate over a non-iterable\n",
    "\n",
    "for i in 1234:\n",
    "    print(i)\n",
    "# Correct version: for i in str(1234):\n"
   ]
  },
  {
   "cell_type": "code",
   "execution_count": 16,
   "id": "746114b4-5212-4e36-989c-5a90be1fcd72",
   "metadata": {},
   "outputs": [
    {
     "ename": "TypeError",
     "evalue": "'int' object is not subscriptable",
     "output_type": "error",
     "traceback": [
      "\u001b[0;31m---------------------------------------------------------------------------\u001b[0m",
      "\u001b[0;31mTypeError\u001b[0m                                 Traceback (most recent call last)",
      "Cell \u001b[0;32mIn[16], line 4\u001b[0m\n\u001b[1;32m      1\u001b[0m \u001b[38;5;66;03m# 4. Using indexing on a non-sequence type\u001b[39;00m\n\u001b[1;32m      3\u001b[0m x \u001b[38;5;241m=\u001b[39m \u001b[38;5;241m15\u001b[39m\n\u001b[0;32m----> 4\u001b[0m \u001b[38;5;28mprint\u001b[39m(\u001b[43mx\u001b[49m\u001b[43m[\u001b[49m\u001b[38;5;241;43m0\u001b[39;49m\u001b[43m]\u001b[49m)\n\u001b[1;32m      5\u001b[0m \u001b[38;5;66;03m# Correct version: \u001b[39;00m\n\u001b[1;32m      6\u001b[0m \u001b[38;5;66;03m# x = [15]\u001b[39;00m\n\u001b[1;32m      7\u001b[0m \u001b[38;5;66;03m# print(x[0])\u001b[39;00m\n",
      "\u001b[0;31mTypeError\u001b[0m: 'int' object is not subscriptable"
     ]
    }
   ],
   "source": [
    "# 4. Using indexing on a non-sequence type\n",
    "\n",
    "x = 15\n",
    "print(x[0])\n",
    "# Correct version: \n",
    "# x = [15]\n",
    "# print(x[0])\n"
   ]
  },
  {
   "cell_type": "code",
   "execution_count": 17,
   "id": "4077f0cf-2b79-438a-8271-5dfdcb3ba247",
   "metadata": {},
   "outputs": [
    {
     "ename": "TypeError",
     "evalue": "'tuple' object does not support item assignment",
     "output_type": "error",
     "traceback": [
      "\u001b[0;31m---------------------------------------------------------------------------\u001b[0m",
      "\u001b[0;31mTypeError\u001b[0m                                 Traceback (most recent call last)",
      "Cell \u001b[0;32mIn[17], line 4\u001b[0m\n\u001b[1;32m      1\u001b[0m \u001b[38;5;66;03m# 5. Attempting to modify an immutable type\u001b[39;00m\n\u001b[1;32m      3\u001b[0m t \u001b[38;5;241m=\u001b[39m (\u001b[38;5;241m1\u001b[39m, \u001b[38;5;241m2\u001b[39m, \u001b[38;5;241m3\u001b[39m)\n\u001b[0;32m----> 4\u001b[0m \u001b[43mt\u001b[49m\u001b[43m[\u001b[49m\u001b[38;5;241;43m0\u001b[39;49m\u001b[43m]\u001b[49m \u001b[38;5;241m=\u001b[39m \u001b[38;5;241m4\u001b[39m\n\u001b[1;32m      5\u001b[0m \u001b[38;5;66;03m# Correct version: \u001b[39;00m\n\u001b[1;32m      6\u001b[0m \u001b[38;5;66;03m# t = [1, 2, 3]\u001b[39;00m\n\u001b[1;32m      7\u001b[0m \u001b[38;5;66;03m# t[0] = 4\u001b[39;00m\n",
      "\u001b[0;31mTypeError\u001b[0m: 'tuple' object does not support item assignment"
     ]
    }
   ],
   "source": [
    "# 5. Attempting to modify an immutable type\n",
    "\n",
    "t = (1, 2, 3)\n",
    "t[0] = 4\n",
    "# Correct version: \n",
    "# t = [1, 2, 3]\n",
    "# t[0] = 4\n"
   ]
  },
  {
   "cell_type": "markdown",
   "id": "0e33c698-c7d2-429c-a670-7eead81fa66e",
   "metadata": {},
   "source": [
    "# Index Error"
   ]
  },
  {
   "cell_type": "code",
   "execution_count": 18,
   "id": "698716f5-b813-447b-be99-04257abe4abc",
   "metadata": {},
   "outputs": [],
   "source": [
    "# An IndexError in Python is raised when you try to access an index that does not exist for the given sequence. \n",
    "# This sequence could be a list, string, tuple, or other ordered types. \n",
    "# This error typically happens when you try to access an index that is outside the bounds of the sequence"
   ]
  },
  {
   "cell_type": "markdown",
   "id": "666fc19e-6b59-4cc3-8fea-70b0db193902",
   "metadata": {
    "jp-MarkdownHeadingCollapsed": true,
    "tags": []
   },
   "source": [
    "## Examples Index Error"
   ]
  },
  {
   "cell_type": "code",
   "execution_count": 19,
   "id": "e62023a6-274f-4ce5-bce8-ba8f71eff847",
   "metadata": {},
   "outputs": [
    {
     "ename": "IndexError",
     "evalue": "list index out of range",
     "output_type": "error",
     "traceback": [
      "\u001b[0;31m---------------------------------------------------------------------------\u001b[0m",
      "\u001b[0;31mIndexError\u001b[0m                                Traceback (most recent call last)",
      "Cell \u001b[0;32mIn[19], line 4\u001b[0m\n\u001b[1;32m      1\u001b[0m \u001b[38;5;66;03m# 1. Accessing an index that is beyond the length of the list\u001b[39;00m\n\u001b[1;32m      3\u001b[0m my_list \u001b[38;5;241m=\u001b[39m [\u001b[38;5;241m1\u001b[39m, \u001b[38;5;241m2\u001b[39m, \u001b[38;5;241m3\u001b[39m, \u001b[38;5;241m4\u001b[39m, \u001b[38;5;241m5\u001b[39m]\n\u001b[0;32m----> 4\u001b[0m \u001b[38;5;28mprint\u001b[39m(\u001b[43mmy_list\u001b[49m\u001b[43m[\u001b[49m\u001b[38;5;241;43m10\u001b[39;49m\u001b[43m]\u001b[49m)\n\u001b[1;32m      5\u001b[0m \u001b[38;5;66;03m# The list only has 5 elements, so there is no index 10.\u001b[39;00m\n",
      "\u001b[0;31mIndexError\u001b[0m: list index out of range"
     ]
    }
   ],
   "source": [
    "# 1. Accessing an index that is beyond the length of the list\n",
    "\n",
    "my_list = [1, 2, 3, 4, 5]\n",
    "print(my_list[10])\n",
    "# The list only has 5 elements, so there is no index 10.\n"
   ]
  },
  {
   "cell_type": "code",
   "execution_count": 20,
   "id": "eacbd2b6-1bcf-4986-b408-bc389039a92f",
   "metadata": {},
   "outputs": [
    {
     "ename": "IndexError",
     "evalue": "string index out of range",
     "output_type": "error",
     "traceback": [
      "\u001b[0;31m---------------------------------------------------------------------------\u001b[0m",
      "\u001b[0;31mIndexError\u001b[0m                                Traceback (most recent call last)",
      "Cell \u001b[0;32mIn[20], line 4\u001b[0m\n\u001b[1;32m      1\u001b[0m \u001b[38;5;66;03m# 2. Accessing an index that is beyond the length of a string\u001b[39;00m\n\u001b[1;32m      3\u001b[0m my_string \u001b[38;5;241m=\u001b[39m \u001b[38;5;124m\"\u001b[39m\u001b[38;5;124mHello\u001b[39m\u001b[38;5;124m\"\u001b[39m\n\u001b[0;32m----> 4\u001b[0m \u001b[38;5;28mprint\u001b[39m(\u001b[43mmy_string\u001b[49m\u001b[43m[\u001b[49m\u001b[38;5;241;43m10\u001b[39;49m\u001b[43m]\u001b[49m)\n\u001b[1;32m      5\u001b[0m \u001b[38;5;66;03m# The string only has 5 characters, so there is no index 10.\u001b[39;00m\n",
      "\u001b[0;31mIndexError\u001b[0m: string index out of range"
     ]
    }
   ],
   "source": [
    "# 2. Accessing an index that is beyond the length of a string\n",
    "\n",
    "my_string = \"Hello\"\n",
    "print(my_string[10])\n",
    "# The string only has 5 characters, so there is no index 10.\n"
   ]
  },
  {
   "cell_type": "code",
   "execution_count": 21,
   "id": "b7a34f20-a4d9-462c-b365-883df0537e97",
   "metadata": {},
   "outputs": [
    {
     "ename": "IndexError",
     "evalue": "list index out of range",
     "output_type": "error",
     "traceback": [
      "\u001b[0;31m---------------------------------------------------------------------------\u001b[0m",
      "\u001b[0;31mIndexError\u001b[0m                                Traceback (most recent call last)",
      "Cell \u001b[0;32mIn[21], line 4\u001b[0m\n\u001b[1;32m      1\u001b[0m \u001b[38;5;66;03m# 3. Accessing a negative index that is beyond the length of a list\u001b[39;00m\n\u001b[1;32m      3\u001b[0m my_list \u001b[38;5;241m=\u001b[39m [\u001b[38;5;241m1\u001b[39m, \u001b[38;5;241m2\u001b[39m, \u001b[38;5;241m3\u001b[39m, \u001b[38;5;241m4\u001b[39m, \u001b[38;5;241m5\u001b[39m]\n\u001b[0;32m----> 4\u001b[0m \u001b[38;5;28mprint\u001b[39m(\u001b[43mmy_list\u001b[49m\u001b[43m[\u001b[49m\u001b[38;5;241;43m-\u001b[39;49m\u001b[38;5;241;43m6\u001b[39;49m\u001b[43m]\u001b[49m)\n\u001b[1;32m      5\u001b[0m \u001b[38;5;66;03m# The list only has 5 elements, so there is no index -6.\u001b[39;00m\n",
      "\u001b[0;31mIndexError\u001b[0m: list index out of range"
     ]
    }
   ],
   "source": [
    "# 3. Accessing a negative index that is beyond the length of a list\n",
    "\n",
    "my_list = [1, 2, 3, 4, 5]\n",
    "print(my_list[-6])\n",
    "# The list only has 5 elements, so there is no index -6.\n"
   ]
  },
  {
   "cell_type": "code",
   "execution_count": 22,
   "id": "98e2b028-c328-420d-812c-fad9744781b9",
   "metadata": {},
   "outputs": [
    {
     "ename": "IndexError",
     "evalue": "list index out of range",
     "output_type": "error",
     "traceback": [
      "\u001b[0;31m---------------------------------------------------------------------------\u001b[0m",
      "\u001b[0;31mIndexError\u001b[0m                                Traceback (most recent call last)",
      "Cell \u001b[0;32mIn[22], line 4\u001b[0m\n\u001b[1;32m      1\u001b[0m \u001b[38;5;66;03m# 4. Accessing an element of an empty list\u001b[39;00m\n\u001b[1;32m      3\u001b[0m my_list \u001b[38;5;241m=\u001b[39m []\n\u001b[0;32m----> 4\u001b[0m \u001b[38;5;28mprint\u001b[39m(\u001b[43mmy_list\u001b[49m\u001b[43m[\u001b[49m\u001b[38;5;241;43m0\u001b[39;49m\u001b[43m]\u001b[49m)\n\u001b[1;32m      5\u001b[0m \u001b[38;5;66;03m# The list has no elements, so there is no index 0.\u001b[39;00m\n",
      "\u001b[0;31mIndexError\u001b[0m: list index out of range"
     ]
    }
   ],
   "source": [
    "# 4. Accessing an element of an empty list\n",
    "\n",
    "my_list = []\n",
    "print(my_list[0])\n",
    "# The list has no elements, so there is no index 0.\n"
   ]
  },
  {
   "cell_type": "code",
   "execution_count": 24,
   "id": "b77037f2-609a-4176-8601-dc45e37b04a7",
   "metadata": {},
   "outputs": [
    {
     "ename": "TypeError",
     "evalue": "'int' object is not subscriptable",
     "output_type": "error",
     "traceback": [
      "\u001b[0;31m---------------------------------------------------------------------------\u001b[0m",
      "\u001b[0;31mTypeError\u001b[0m                                 Traceback (most recent call last)",
      "Cell \u001b[0;32mIn[24], line 4\u001b[0m\n\u001b[1;32m      1\u001b[0m \u001b[38;5;66;03m# 5. Trying to access an index from a non-sequence type\u001b[39;00m\n\u001b[1;32m      3\u001b[0m x \u001b[38;5;241m=\u001b[39m \u001b[38;5;241m5\u001b[39m\n\u001b[0;32m----> 4\u001b[0m \u001b[38;5;28mprint\u001b[39m(\u001b[43mx\u001b[49m\u001b[43m[\u001b[49m\u001b[38;5;241;43m0\u001b[39;49m\u001b[43m]\u001b[49m)\n\u001b[1;32m      5\u001b[0m \u001b[38;5;66;03m# Integer is not a sequence type, so it doesn't support indexing.\u001b[39;00m\n",
      "\u001b[0;31mTypeError\u001b[0m: 'int' object is not subscriptable"
     ]
    }
   ],
   "source": [
    "# 5. Trying to access an index from a non-sequence type\n",
    "\n",
    "x = 5\n",
    "print(x[0])\n",
    "# Integer is not a sequence type, so it doesn't support indexing.\n"
   ]
  },
  {
   "cell_type": "code",
   "execution_count": 25,
   "id": "4bc922c8-f3a7-4cf8-8ba3-533f8eea40ba",
   "metadata": {},
   "outputs": [],
   "source": [
    "# The error 'int' object is not subscriptable occurs when you are trying to use indexing or slicing on an object that doesn't support it.\n",
    "\n",
    "# \"Subscriptable\" objects are those which can contain other objects, and that allow you to access their contained elements using square bracket notation [].\n",
    "# This is also known as subscript notation.\n",
    "\n",
    "# For instance, lists, strings, tuples, and dictionaries are all examples of subscriptable objects in Python because they can contain other objects\n",
    "# and you can access these contained objects using their indexes (or keys, in the case of dictionaries).\n",
    "\n",
    "# On the other hand, types like integers, floats, and booleans are not subscriptable because they do not contain other objects and \n",
    "# do not support the use of indexes or keys to access internal values."
   ]
  },
  {
   "cell_type": "markdown",
   "id": "3d94df52-d3ee-47bd-9738-b102985f2e79",
   "metadata": {},
   "source": [
    "# Key Error"
   ]
  },
  {
   "cell_type": "code",
   "execution_count": 26,
   "id": "be46a966-2560-42f5-adb8-26af34477c0c",
   "metadata": {},
   "outputs": [],
   "source": [
    "# A KeyError in Python is raised when a dictionary is accessed with a key that does not exist in the dictionary.\n",
    "# Each item of a dictionary has a key/value pair, and keys are used to access the corresponding values."
   ]
  },
  {
   "cell_type": "markdown",
   "id": "451e6ab1-41a2-4c55-97cc-19d9ddbb649e",
   "metadata": {
    "jp-MarkdownHeadingCollapsed": true,
    "tags": []
   },
   "source": [
    "## Examples of Key Errors"
   ]
  },
  {
   "cell_type": "code",
   "execution_count": 27,
   "id": "f02b3e2b-4721-4c10-a347-d49d6491f622",
   "metadata": {},
   "outputs": [
    {
     "ename": "KeyError",
     "evalue": "'address'",
     "output_type": "error",
     "traceback": [
      "\u001b[0;31m---------------------------------------------------------------------------\u001b[0m",
      "\u001b[0;31mKeyError\u001b[0m                                  Traceback (most recent call last)",
      "Cell \u001b[0;32mIn[27], line 4\u001b[0m\n\u001b[1;32m      1\u001b[0m \u001b[38;5;66;03m# 1. Accessing a key that is not in the dictionary\u001b[39;00m\n\u001b[1;32m      3\u001b[0m my_dict \u001b[38;5;241m=\u001b[39m {\u001b[38;5;124m\"\u001b[39m\u001b[38;5;124mname\u001b[39m\u001b[38;5;124m\"\u001b[39m: \u001b[38;5;124m\"\u001b[39m\u001b[38;5;124mAlice\u001b[39m\u001b[38;5;124m\"\u001b[39m, \u001b[38;5;124m\"\u001b[39m\u001b[38;5;124mage\u001b[39m\u001b[38;5;124m\"\u001b[39m: \u001b[38;5;241m30\u001b[39m}\n\u001b[0;32m----> 4\u001b[0m \u001b[38;5;28mprint\u001b[39m(\u001b[43mmy_dict\u001b[49m\u001b[43m[\u001b[49m\u001b[38;5;124;43m\"\u001b[39;49m\u001b[38;5;124;43maddress\u001b[39;49m\u001b[38;5;124;43m\"\u001b[39;49m\u001b[43m]\u001b[49m)\n\u001b[1;32m      5\u001b[0m \u001b[38;5;66;03m# The dictionary does not contain the key \"address\".\u001b[39;00m\n",
      "\u001b[0;31mKeyError\u001b[0m: 'address'"
     ]
    }
   ],
   "source": [
    "# 1. Accessing a key that is not in the dictionary\n",
    "\n",
    "my_dict = {\"name\": \"Alice\", \"age\": 30}\n",
    "print(my_dict[\"address\"])\n",
    "# The dictionary does not contain the key \"address\".\n"
   ]
  },
  {
   "cell_type": "code",
   "execution_count": 28,
   "id": "93fcd2c3-f8d1-4a17-98ae-53c610070e57",
   "metadata": {},
   "outputs": [
    {
     "ename": "KeyError",
     "evalue": "'nam'",
     "output_type": "error",
     "traceback": [
      "\u001b[0;31m---------------------------------------------------------------------------\u001b[0m",
      "\u001b[0;31mKeyError\u001b[0m                                  Traceback (most recent call last)",
      "Cell \u001b[0;32mIn[28], line 4\u001b[0m\n\u001b[1;32m      1\u001b[0m \u001b[38;5;66;03m# 2. Misspelling a key\u001b[39;00m\n\u001b[1;32m      3\u001b[0m my_dict \u001b[38;5;241m=\u001b[39m {\u001b[38;5;124m\"\u001b[39m\u001b[38;5;124mname\u001b[39m\u001b[38;5;124m\"\u001b[39m: \u001b[38;5;124m\"\u001b[39m\u001b[38;5;124mAlice\u001b[39m\u001b[38;5;124m\"\u001b[39m, \u001b[38;5;124m\"\u001b[39m\u001b[38;5;124mage\u001b[39m\u001b[38;5;124m\"\u001b[39m: \u001b[38;5;241m30\u001b[39m}\n\u001b[0;32m----> 4\u001b[0m \u001b[38;5;28mprint\u001b[39m(\u001b[43mmy_dict\u001b[49m\u001b[43m[\u001b[49m\u001b[38;5;124;43m\"\u001b[39;49m\u001b[38;5;124;43mnam\u001b[39;49m\u001b[38;5;124;43m\"\u001b[39;49m\u001b[43m]\u001b[49m)  \u001b[38;5;66;03m# This should be \"name\", not \"nam\"\u001b[39;00m\n",
      "\u001b[0;31mKeyError\u001b[0m: 'nam'"
     ]
    }
   ],
   "source": [
    "# 2. Misspelling a key\n",
    "\n",
    "my_dict = {\"name\": \"Alice\", \"age\": 30}\n",
    "print(my_dict[\"nam\"])  # This should be \"name\", not \"nam\"\n"
   ]
  },
  {
   "cell_type": "code",
   "execution_count": 29,
   "id": "82494e2a-7378-4ce7-ae4e-64e8806abf53",
   "metadata": {},
   "outputs": [
    {
     "ename": "TypeError",
     "evalue": "unhashable type: 'list'",
     "output_type": "error",
     "traceback": [
      "\u001b[0;31m---------------------------------------------------------------------------\u001b[0m",
      "\u001b[0;31mTypeError\u001b[0m                                 Traceback (most recent call last)",
      "Cell \u001b[0;32mIn[29], line 4\u001b[0m\n\u001b[1;32m      1\u001b[0m \u001b[38;5;66;03m# 3. Trying to use a list as a key\u001b[39;00m\n\u001b[1;32m      3\u001b[0m my_dict \u001b[38;5;241m=\u001b[39m {(\u001b[38;5;241m1\u001b[39m, \u001b[38;5;241m2\u001b[39m): \u001b[38;5;124m\"\u001b[39m\u001b[38;5;124mtuple\u001b[39m\u001b[38;5;124m\"\u001b[39m, \u001b[38;5;124m\"\u001b[39m\u001b[38;5;124mstring\u001b[39m\u001b[38;5;124m\"\u001b[39m: \u001b[38;5;124m\"\u001b[39m\u001b[38;5;124mstring\u001b[39m\u001b[38;5;124m\"\u001b[39m}\n\u001b[0;32m----> 4\u001b[0m \u001b[38;5;28mprint\u001b[39m(\u001b[43mmy_dict\u001b[49m\u001b[43m[\u001b[49m\u001b[43m[\u001b[49m\u001b[38;5;241;43m1\u001b[39;49m\u001b[43m,\u001b[49m\u001b[43m \u001b[49m\u001b[38;5;241;43m2\u001b[39;49m\u001b[43m]\u001b[49m\u001b[43m]\u001b[49m)  \u001b[38;5;66;03m# Lists are unhashable, and thus can't be used as dictionary keys\u001b[39;00m\n",
      "\u001b[0;31mTypeError\u001b[0m: unhashable type: 'list'"
     ]
    }
   ],
   "source": [
    "# 3. Trying to use a list as a key\n",
    "\n",
    "my_dict = {(1, 2): \"tuple\", \"string\": \"string\"}\n",
    "print(my_dict[[1, 2]])  # Lists are unhashable, and thus can't be used as dictionary keys\n"
   ]
  },
  {
   "cell_type": "code",
   "execution_count": 30,
   "id": "78deb514-8f24-4125-adf0-9e3702f23600",
   "metadata": {},
   "outputs": [],
   "source": [
    "# The built-in hashable types include int, float, decimal, complex, bool, string, tuple, range, frozenset, bytes, and so on.\n",
    "# The term \"unhashable\" is used for types that are mutable, like lists or dictionaries. Because their content can change over their lifetime,\n",
    "# they are deemed unhashable. In practical terms, unhashable types cannot be used as dictionary keys or inserted into sets."
   ]
  },
  {
   "cell_type": "code",
   "execution_count": 31,
   "id": "4979de7d-060d-4e18-9b50-90e0662d425e",
   "metadata": {},
   "outputs": [
    {
     "ename": "KeyError",
     "evalue": "1",
     "output_type": "error",
     "traceback": [
      "\u001b[0;31m---------------------------------------------------------------------------\u001b[0m",
      "\u001b[0;31mKeyError\u001b[0m                                  Traceback (most recent call last)",
      "Cell \u001b[0;32mIn[31], line 4\u001b[0m\n\u001b[1;32m      1\u001b[0m \u001b[38;5;66;03m# 4. Trying to use an integer as a key in a dictionary of strings\u001b[39;00m\n\u001b[1;32m      3\u001b[0m my_dict \u001b[38;5;241m=\u001b[39m {\u001b[38;5;124m\"\u001b[39m\u001b[38;5;124mone\u001b[39m\u001b[38;5;124m\"\u001b[39m: \u001b[38;5;241m1\u001b[39m, \u001b[38;5;124m\"\u001b[39m\u001b[38;5;124mtwo\u001b[39m\u001b[38;5;124m\"\u001b[39m: \u001b[38;5;241m2\u001b[39m, \u001b[38;5;124m\"\u001b[39m\u001b[38;5;124mthree\u001b[39m\u001b[38;5;124m\"\u001b[39m: \u001b[38;5;241m3\u001b[39m}\n\u001b[0;32m----> 4\u001b[0m \u001b[38;5;28mprint\u001b[39m(\u001b[43mmy_dict\u001b[49m\u001b[43m[\u001b[49m\u001b[38;5;241;43m1\u001b[39;49m\u001b[43m]\u001b[49m)  \u001b[38;5;66;03m# 1 is not a key in the dictionary, \"one\" is\u001b[39;00m\n",
      "\u001b[0;31mKeyError\u001b[0m: 1"
     ]
    }
   ],
   "source": [
    "# 4. Trying to use an integer as a key in a dictionary of strings\n",
    "\n",
    "my_dict = {\"one\": 1, \"two\": 2, \"three\": 3}\n",
    "print(my_dict[1])  # 1 is not a key in the dictionary, \"one\" is\n"
   ]
  },
  {
   "cell_type": "code",
   "execution_count": 32,
   "id": "cf5de8ae-7681-4f7d-b9e3-06dcf6bc3686",
   "metadata": {},
   "outputs": [
    {
     "ename": "KeyError",
     "evalue": "'anything'",
     "output_type": "error",
     "traceback": [
      "\u001b[0;31m---------------------------------------------------------------------------\u001b[0m",
      "\u001b[0;31mKeyError\u001b[0m                                  Traceback (most recent call last)",
      "Cell \u001b[0;32mIn[32], line 4\u001b[0m\n\u001b[1;32m      1\u001b[0m \u001b[38;5;66;03m# 5. Accessing a key from an empty dictionary\u001b[39;00m\n\u001b[1;32m      3\u001b[0m my_dict \u001b[38;5;241m=\u001b[39m {}\n\u001b[0;32m----> 4\u001b[0m \u001b[38;5;28mprint\u001b[39m(\u001b[43mmy_dict\u001b[49m\u001b[43m[\u001b[49m\u001b[38;5;124;43m\"\u001b[39;49m\u001b[38;5;124;43manything\u001b[39;49m\u001b[38;5;124;43m\"\u001b[39;49m\u001b[43m]\u001b[49m)\n\u001b[1;32m      5\u001b[0m \u001b[38;5;66;03m# The dictionary is empty, it has no keys.\u001b[39;00m\n",
      "\u001b[0;31mKeyError\u001b[0m: 'anything'"
     ]
    }
   ],
   "source": [
    "# 5. Accessing a key from an empty dictionary\n",
    "\n",
    "my_dict = {}\n",
    "print(my_dict[\"anything\"])\n",
    "# The dictionary is empty, it has no keys.\n"
   ]
  },
  {
   "cell_type": "markdown",
   "id": "08eb50e5-7560-4e6e-84b0-6e104a7925de",
   "metadata": {},
   "source": [
    "# Value Error"
   ]
  },
  {
   "cell_type": "code",
   "execution_count": 33,
   "id": "7dac6b4d-aca9-4741-a28a-7ef5a752d533",
   "metadata": {},
   "outputs": [],
   "source": [
    "# A ValueError in Python is raised when a function receives an argument of the correct type, but an inappropriate value, \n",
    "# and the situation is not described by a more precise exception such as IndexError"
   ]
  },
  {
   "cell_type": "markdown",
   "id": "e550e83d-0c4f-401d-af39-48d0169b1ac3",
   "metadata": {
    "jp-MarkdownHeadingCollapsed": true,
    "tags": []
   },
   "source": [
    "## Examples Value Error"
   ]
  },
  {
   "cell_type": "code",
   "execution_count": 34,
   "id": "f372d9ef-984a-4e7a-ad73-e7cd174af9cf",
   "metadata": {},
   "outputs": [
    {
     "ename": "ValueError",
     "evalue": "invalid literal for int() with base 10: 'Hello'",
     "output_type": "error",
     "traceback": [
      "\u001b[0;31m---------------------------------------------------------------------------\u001b[0m",
      "\u001b[0;31mValueError\u001b[0m                                Traceback (most recent call last)",
      "Cell \u001b[0;32mIn[34], line 3\u001b[0m\n\u001b[1;32m      1\u001b[0m \u001b[38;5;66;03m# 1. Converting a string to an integer when the string does not represent an integer\u001b[39;00m\n\u001b[0;32m----> 3\u001b[0m \u001b[38;5;28;43mint\u001b[39;49m\u001b[43m(\u001b[49m\u001b[38;5;124;43m\"\u001b[39;49m\u001b[38;5;124;43mHello\u001b[39;49m\u001b[38;5;124;43m\"\u001b[39;49m\u001b[43m)\u001b[49m  \u001b[38;5;66;03m# \"Hello\" is not an integer\u001b[39;00m\n\u001b[1;32m      4\u001b[0m \u001b[38;5;66;03m# Correct version could be: int(\"123\")\u001b[39;00m\n",
      "\u001b[0;31mValueError\u001b[0m: invalid literal for int() with base 10: 'Hello'"
     ]
    }
   ],
   "source": [
    "# 1. Converting a string to an integer when the string does not represent an integer\n",
    "\n",
    "int(\"Hello\")  # \"Hello\" is not an integer\n",
    "# Correct version could be: int(\"123\")\n"
   ]
  },
  {
   "cell_type": "code",
   "execution_count": 35,
   "id": "59a7a21a-0796-4d3c-b5ba-1e325c94dd10",
   "metadata": {},
   "outputs": [
    {
     "ename": "ValueError",
     "evalue": "10 is not in list",
     "output_type": "error",
     "traceback": [
      "\u001b[0;31m---------------------------------------------------------------------------\u001b[0m",
      "\u001b[0;31mValueError\u001b[0m                                Traceback (most recent call last)",
      "Cell \u001b[0;32mIn[35], line 4\u001b[0m\n\u001b[1;32m      1\u001b[0m \u001b[38;5;66;03m# 2. Trying to find a nonexistent element in a list using the list.index() function\u001b[39;00m\n\u001b[1;32m      3\u001b[0m my_list \u001b[38;5;241m=\u001b[39m [\u001b[38;5;241m1\u001b[39m, \u001b[38;5;241m2\u001b[39m, \u001b[38;5;241m3\u001b[39m, \u001b[38;5;241m4\u001b[39m, \u001b[38;5;241m5\u001b[39m]\n\u001b[0;32m----> 4\u001b[0m \u001b[43mmy_list\u001b[49m\u001b[38;5;241;43m.\u001b[39;49m\u001b[43mindex\u001b[49m\u001b[43m(\u001b[49m\u001b[38;5;241;43m10\u001b[39;49m\u001b[43m)\u001b[49m  \u001b[38;5;66;03m# 10 is not in my_list\u001b[39;00m\n",
      "\u001b[0;31mValueError\u001b[0m: 10 is not in list"
     ]
    }
   ],
   "source": [
    "# 2. Trying to find a nonexistent element in a list using the list.index() function\n",
    "\n",
    "my_list = [1, 2, 3, 4, 5]\n",
    "my_list.index(10)  # 10 is not in my_list\n"
   ]
  },
  {
   "cell_type": "code",
   "execution_count": 36,
   "id": "fa4e854f-03bd-4536-a528-243c95f1afe1",
   "metadata": {},
   "outputs": [
    {
     "ename": "TypeError",
     "evalue": "slice indices must be integers or None or have an __index__ method",
     "output_type": "error",
     "traceback": [
      "\u001b[0;31m---------------------------------------------------------------------------\u001b[0m",
      "\u001b[0;31mTypeError\u001b[0m                                 Traceback (most recent call last)",
      "Cell \u001b[0;32mIn[36], line 4\u001b[0m\n\u001b[1;32m      1\u001b[0m \u001b[38;5;66;03m# 3. Using a non-integer for slicing\u001b[39;00m\n\u001b[1;32m      3\u001b[0m my_list \u001b[38;5;241m=\u001b[39m [\u001b[38;5;241m1\u001b[39m, \u001b[38;5;241m2\u001b[39m, \u001b[38;5;241m3\u001b[39m, \u001b[38;5;241m4\u001b[39m, \u001b[38;5;241m5\u001b[39m]\n\u001b[0;32m----> 4\u001b[0m \u001b[38;5;28mprint\u001b[39m(\u001b[43mmy_list\u001b[49m\u001b[43m[\u001b[49m\u001b[38;5;241;43m1.5\u001b[39;49m\u001b[43m:\u001b[49m\u001b[38;5;241;43m3\u001b[39;49m\u001b[43m]\u001b[49m)  \u001b[38;5;66;03m# 1.5 is not a valid index, indices should be integers\u001b[39;00m\n",
      "\u001b[0;31mTypeError\u001b[0m: slice indices must be integers or None or have an __index__ method"
     ]
    }
   ],
   "source": [
    "# 3. Using a non-integer for slicing\n",
    "\n",
    "my_list = [1, 2, 3, 4, 5]\n",
    "print(my_list[1.5:3])  # 1.5 is not a valid index, indices should be integers\n"
   ]
  },
  {
   "cell_type": "code",
   "execution_count": 37,
   "id": "687dc6b7-f5d0-4613-9d83-1112e48bf703",
   "metadata": {},
   "outputs": [
    {
     "ename": "ValueError",
     "evalue": "complex() arg is a malformed string",
     "output_type": "error",
     "traceback": [
      "\u001b[0;31m---------------------------------------------------------------------------\u001b[0m",
      "\u001b[0;31mValueError\u001b[0m                                Traceback (most recent call last)",
      "Cell \u001b[0;32mIn[37], line 3\u001b[0m\n\u001b[1;32m      1\u001b[0m \u001b[38;5;66;03m# 4. The complex() function with a string that doesn't represent a complex number\u001b[39;00m\n\u001b[0;32m----> 3\u001b[0m \u001b[38;5;28;43mcomplex\u001b[39;49m\u001b[43m(\u001b[49m\u001b[38;5;124;43m\"\u001b[39;49m\u001b[38;5;124;43mHello\u001b[39;49m\u001b[38;5;124;43m\"\u001b[39;49m\u001b[43m)\u001b[49m  \u001b[38;5;66;03m# \"Hello\" is not a complex number\u001b[39;00m\n\u001b[1;32m      4\u001b[0m \u001b[38;5;66;03m# Correct version could be: complex(\"1+2j\")\u001b[39;00m\n",
      "\u001b[0;31mValueError\u001b[0m: complex() arg is a malformed string"
     ]
    }
   ],
   "source": [
    "# 4. The complex() function with a string that doesn't represent a complex number\n",
    "\n",
    "complex(\"Hello\")  # \"Hello\" is not a complex number\n",
    "# Correct version could be: complex(\"1+2j\")\n"
   ]
  },
  {
   "cell_type": "markdown",
   "id": "3f27104c-44fb-4a27-9c0c-9e57bcfd10b8",
   "metadata": {},
   "source": [
    "# Attribute Error"
   ]
  },
  {
   "cell_type": "code",
   "execution_count": 38,
   "id": "ac5aa973-b5db-4dcc-b2f8-673f250f4701",
   "metadata": {},
   "outputs": [],
   "source": [
    "# An AttributeError in Python is raised when you try to access or call an attribute (like a method or a property) \n",
    "# that a particular object type does not possess. This error usually implies that there's a typo in the attribute name or\n",
    "# that the attribute doesn't exist for that particular type of object"
   ]
  },
  {
   "cell_type": "markdown",
   "id": "98560afd-5513-49d3-91c9-68db6cbd17c3",
   "metadata": {
    "jp-MarkdownHeadingCollapsed": true,
    "tags": []
   },
   "source": [
    "## Example Attribute Error"
   ]
  },
  {
   "cell_type": "code",
   "execution_count": 39,
   "id": "261c813d-8744-4b51-9aa4-695588d68c89",
   "metadata": {},
   "outputs": [
    {
     "ename": "AttributeError",
     "evalue": "'str' object has no attribute 'print'",
     "output_type": "error",
     "traceback": [
      "\u001b[0;31m---------------------------------------------------------------------------\u001b[0m",
      "\u001b[0;31mAttributeError\u001b[0m                            Traceback (most recent call last)",
      "Cell \u001b[0;32mIn[39], line 4\u001b[0m\n\u001b[1;32m      1\u001b[0m \u001b[38;5;66;03m# 1. Calling a method that doesn't exist on a string\u001b[39;00m\n\u001b[1;32m      3\u001b[0m my_string \u001b[38;5;241m=\u001b[39m \u001b[38;5;124m\"\u001b[39m\u001b[38;5;124mHello, world!\u001b[39m\u001b[38;5;124m\"\u001b[39m\n\u001b[0;32m----> 4\u001b[0m \u001b[38;5;28mprint\u001b[39m(\u001b[43mmy_string\u001b[49m\u001b[38;5;241;43m.\u001b[39;49m\u001b[43mprint\u001b[49m())  \u001b[38;5;66;03m# Strings do not have a print method\u001b[39;00m\n",
      "\u001b[0;31mAttributeError\u001b[0m: 'str' object has no attribute 'print'"
     ]
    }
   ],
   "source": [
    "# 1. Calling a method that doesn't exist on a string\n",
    "\n",
    "my_string = \"Hello, world!\"\n",
    "print(my_string.print())  # Strings do not have a print method\n"
   ]
  },
  {
   "cell_type": "code",
   "execution_count": 40,
   "id": "2f72569b-dcae-4a0b-a0e6-2e671d3a8760",
   "metadata": {},
   "outputs": [
    {
     "ename": "AttributeError",
     "evalue": "'str' object has no attribute 'append'",
     "output_type": "error",
     "traceback": [
      "\u001b[0;31m---------------------------------------------------------------------------\u001b[0m",
      "\u001b[0;31mAttributeError\u001b[0m                            Traceback (most recent call last)",
      "Cell \u001b[0;32mIn[40], line 4\u001b[0m\n\u001b[1;32m      1\u001b[0m \u001b[38;5;66;03m# 2. Trying to use a list method on a string\u001b[39;00m\n\u001b[1;32m      3\u001b[0m my_string \u001b[38;5;241m=\u001b[39m \u001b[38;5;124m\"\u001b[39m\u001b[38;5;124mHello, world!\u001b[39m\u001b[38;5;124m\"\u001b[39m\n\u001b[0;32m----> 4\u001b[0m \u001b[38;5;28mprint\u001b[39m(\u001b[43mmy_string\u001b[49m\u001b[38;5;241;43m.\u001b[39;49m\u001b[43mappend\u001b[49m(\u001b[38;5;124m'\u001b[39m\u001b[38;5;124m!\u001b[39m\u001b[38;5;124m'\u001b[39m))  \u001b[38;5;66;03m# Strings do not have an append method\u001b[39;00m\n",
      "\u001b[0;31mAttributeError\u001b[0m: 'str' object has no attribute 'append'"
     ]
    }
   ],
   "source": [
    "# 2. Trying to use a list method on a string\n",
    "\n",
    "my_string = \"Hello, world!\"\n",
    "print(my_string.append('!'))  # Strings do not have an append method\n"
   ]
  },
  {
   "cell_type": "code",
   "execution_count": 41,
   "id": "ffa6f9f3-d82b-4749-b9f7-7aa93f6633dc",
   "metadata": {},
   "outputs": [
    {
     "ename": "AttributeError",
     "evalue": "'dict' object has no attribute 'length'",
     "output_type": "error",
     "traceback": [
      "\u001b[0;31m---------------------------------------------------------------------------\u001b[0m",
      "\u001b[0;31mAttributeError\u001b[0m                            Traceback (most recent call last)",
      "Cell \u001b[0;32mIn[41], line 4\u001b[0m\n\u001b[1;32m      1\u001b[0m \u001b[38;5;66;03m# 3. Accessing a property that doesn't exist on a dictionary\u001b[39;00m\n\u001b[1;32m      3\u001b[0m my_dict \u001b[38;5;241m=\u001b[39m {\u001b[38;5;124m\"\u001b[39m\u001b[38;5;124mname\u001b[39m\u001b[38;5;124m\"\u001b[39m: \u001b[38;5;124m\"\u001b[39m\u001b[38;5;124mAlice\u001b[39m\u001b[38;5;124m\"\u001b[39m, \u001b[38;5;124m\"\u001b[39m\u001b[38;5;124mage\u001b[39m\u001b[38;5;124m\"\u001b[39m: \u001b[38;5;241m30\u001b[39m}\n\u001b[0;32m----> 4\u001b[0m \u001b[38;5;28mprint\u001b[39m(\u001b[43mmy_dict\u001b[49m\u001b[38;5;241;43m.\u001b[39;49m\u001b[43mlength\u001b[49m)  \u001b[38;5;66;03m# Dictionaries do not have a length property, use len() function\u001b[39;00m\n",
      "\u001b[0;31mAttributeError\u001b[0m: 'dict' object has no attribute 'length'"
     ]
    }
   ],
   "source": [
    "# 3. Accessing a property that doesn't exist on a dictionary\n",
    "\n",
    "my_dict = {\"name\": \"Alice\", \"age\": 30}\n",
    "print(my_dict.length)  # Dictionaries do not have a length property, use len() function\n"
   ]
  },
  {
   "cell_type": "code",
   "execution_count": 42,
   "id": "8dfbc04d-010e-4b53-8338-c438f2ecadff",
   "metadata": {},
   "outputs": [
    {
     "ename": "AttributeError",
     "evalue": "'int' object has no attribute 'add'",
     "output_type": "error",
     "traceback": [
      "\u001b[0;31m---------------------------------------------------------------------------\u001b[0m",
      "\u001b[0;31mAttributeError\u001b[0m                            Traceback (most recent call last)",
      "Cell \u001b[0;32mIn[42], line 4\u001b[0m\n\u001b[1;32m      1\u001b[0m \u001b[38;5;66;03m# 4. Calling a nonexistent method on an integer\u001b[39;00m\n\u001b[1;32m      3\u001b[0m my_int \u001b[38;5;241m=\u001b[39m \u001b[38;5;241m5\u001b[39m\n\u001b[0;32m----> 4\u001b[0m \u001b[43mmy_int\u001b[49m\u001b[38;5;241;43m.\u001b[39;49m\u001b[43madd\u001b[49m(\u001b[38;5;241m1\u001b[39m)  \u001b[38;5;66;03m# Integers do not have an add method, use + operator\u001b[39;00m\n",
      "\u001b[0;31mAttributeError\u001b[0m: 'int' object has no attribute 'add'"
     ]
    }
   ],
   "source": [
    "# 4. Calling a nonexistent method on an integer\n",
    "\n",
    "my_int = 5\n",
    "my_int.add(1)  # Integers do not have an add method, use + operator\n"
   ]
  },
  {
   "cell_type": "markdown",
   "id": "7f8e3664-0b80-42fd-93cb-50d6100e886d",
   "metadata": {},
   "source": [
    "# ZeroDivision Error"
   ]
  },
  {
   "cell_type": "code",
   "execution_count": 43,
   "id": "88dad467-b636-4810-8b45-edd54c02694c",
   "metadata": {},
   "outputs": [],
   "source": [
    "# Occurs when you attempt to divide by zero"
   ]
  },
  {
   "cell_type": "markdown",
   "id": "6be29eb9-7685-43af-a21f-d14a5d095bcd",
   "metadata": {
    "jp-MarkdownHeadingCollapsed": true,
    "tags": []
   },
   "source": [
    "## Example Zero Division"
   ]
  },
  {
   "cell_type": "code",
   "execution_count": 45,
   "id": "f8cc653c-f0cf-43cc-8494-b79d86420bbf",
   "metadata": {},
   "outputs": [
    {
     "ename": "ZeroDivisionError",
     "evalue": "division by zero",
     "output_type": "error",
     "traceback": [
      "\u001b[0;31m---------------------------------------------------------------------------\u001b[0m",
      "\u001b[0;31mZeroDivisionError\u001b[0m                         Traceback (most recent call last)",
      "Cell \u001b[0;32mIn[45], line 1\u001b[0m\n\u001b[0;32m----> 1\u001b[0m \u001b[38;5;28mprint\u001b[39m(\u001b[38;5;241;43m10\u001b[39;49m\u001b[43m \u001b[49m\u001b[38;5;241;43m/\u001b[39;49m\u001b[43m \u001b[49m\u001b[38;5;241;43m0\u001b[39;49m)  \u001b[38;5;66;03m# Raises: ZeroDivisionError: division by zero\u001b[39;00m\n\u001b[1;32m      3\u001b[0m \u001b[38;5;28mprint\u001b[39m(\u001b[38;5;241m10\u001b[39m \u001b[38;5;241m%\u001b[39m \u001b[38;5;241m0\u001b[39m)  \u001b[38;5;66;03m# Raises: ZeroDivisionError: integer division or modulo by zero\u001b[39;00m\n",
      "\u001b[0;31mZeroDivisionError\u001b[0m: division by zero"
     ]
    }
   ],
   "source": [
    "print(10 / 0)  # Raises: ZeroDivisionError: division by zero\n",
    "\n",
    "print(10 % 0)  # Raises: ZeroDivisionError: integer division or modulo by zero\n"
   ]
  },
  {
   "cell_type": "markdown",
   "id": "2a99989a-451e-4f8f-a439-c21acdfe6a6e",
   "metadata": {},
   "source": [
    "# Import Error"
   ]
  },
  {
   "cell_type": "code",
   "execution_count": 46,
   "id": "1b7513b0-642c-4260-81ee-b8d52cc16ee2",
   "metadata": {},
   "outputs": [],
   "source": [
    "# in Python is raised when you try to import a module that does not exist, or when you try to import a \n",
    "# specific function, class, or variable from a module and it is not found. or when file path not found"
   ]
  },
  {
   "cell_type": "markdown",
   "id": "b7ca2363-802c-4458-a065-a713a4f23d56",
   "metadata": {
    "jp-MarkdownHeadingCollapsed": true,
    "tags": []
   },
   "source": [
    "## Example Import Error"
   ]
  },
  {
   "cell_type": "code",
   "execution_count": 47,
   "id": "c5ca9a69-e118-4314-a469-c9a0bc6f025d",
   "metadata": {},
   "outputs": [
    {
     "ename": "ModuleNotFoundError",
     "evalue": "No module named 'nonexistent_module'",
     "output_type": "error",
     "traceback": [
      "\u001b[0;31m---------------------------------------------------------------------------\u001b[0m",
      "\u001b[0;31mModuleNotFoundError\u001b[0m                       Traceback (most recent call last)",
      "Cell \u001b[0;32mIn[47], line 1\u001b[0m\n\u001b[0;32m----> 1\u001b[0m \u001b[38;5;28;01mimport\u001b[39;00m \u001b[38;5;21;01mnonexistent_module\u001b[39;00m  \u001b[38;5;66;03m# Raises: ImportError: No module named 'nonexistent_module'\u001b[39;00m\n\u001b[1;32m      3\u001b[0m \u001b[38;5;28;01mfrom\u001b[39;00m \u001b[38;5;21;01mmath\u001b[39;00m \u001b[38;5;28;01mimport\u001b[39;00m nonexistent_function  \u001b[38;5;66;03m# Raises: ImportError: cannot import name 'nonexistent_function' from 'math'\u001b[39;00m\n",
      "\u001b[0;31mModuleNotFoundError\u001b[0m: No module named 'nonexistent_module'"
     ]
    }
   ],
   "source": [
    "import nonexistent_module  # Raises: ImportError: No module named 'nonexistent_module'\n",
    "\n",
    "from math import nonexistent_function  # Raises: ImportError: cannot import name 'nonexistent_function' from 'math'\n"
   ]
  },
  {
   "cell_type": "markdown",
   "id": "218c0f27-5830-4fc2-9793-f059fd86186f",
   "metadata": {},
   "source": [
    "# Stop Iteration Error"
   ]
  },
  {
   "cell_type": "code",
   "execution_count": 48,
   "id": "48f78448-7878-4032-ae84-504f6587125f",
   "metadata": {},
   "outputs": [],
   "source": [
    "# The StopIteration exception in Python is raised to signal the end of an iterator. \n",
    "# Most of the time, this exception is handled internally (like when looping over an iterable), and you may never see it. \n",
    "# However, if you are creating your own iterator object or manually using the next() function on an iterable, you may encounter this exception."
   ]
  },
  {
   "cell_type": "markdown",
   "id": "b65af21a-0f57-4098-9eb2-b028a54dfcca",
   "metadata": {
    "jp-MarkdownHeadingCollapsed": true,
    "tags": []
   },
   "source": [
    "## Example StopIteration Error"
   ]
  },
  {
   "cell_type": "code",
   "execution_count": 49,
   "id": "165dadef-6166-4a74-944d-a35047d2461a",
   "metadata": {},
   "outputs": [
    {
     "ename": "StopIteration",
     "evalue": "",
     "output_type": "error",
     "traceback": [
      "\u001b[0;31m---------------------------------------------------------------------------\u001b[0m",
      "\u001b[0;31mStopIteration\u001b[0m                             Traceback (most recent call last)",
      "Cell \u001b[0;32mIn[49], line 4\u001b[0m\n\u001b[1;32m      1\u001b[0m \u001b[38;5;66;03m# Calling next on an empty list, dict, set or string\u001b[39;00m\n\u001b[1;32m      3\u001b[0m my_list \u001b[38;5;241m=\u001b[39m \u001b[38;5;28miter\u001b[39m([])\n\u001b[0;32m----> 4\u001b[0m \u001b[38;5;28;43mnext\u001b[39;49m\u001b[43m(\u001b[49m\u001b[43mmy_list\u001b[49m\u001b[43m)\u001b[49m  \u001b[38;5;66;03m# Raises: StopIteration\u001b[39;00m\n",
      "\u001b[0;31mStopIteration\u001b[0m: "
     ]
    }
   ],
   "source": [
    "# Calling next on an empty list, dict, set or string\n",
    "\n",
    "my_list = iter([])\n",
    "next(my_list)  # Raises: StopIteration\n"
   ]
  },
  {
   "cell_type": "code",
   "execution_count": null,
   "id": "fdd98346-8188-44b9-b04d-804a8177cb9a",
   "metadata": {},
   "outputs": [],
   "source": []
  }
 ],
 "metadata": {
  "kernelspec": {
   "display_name": "Python 3 (ipykernel)",
   "language": "python",
   "name": "python3"
  },
  "language_info": {
   "codemirror_mode": {
    "name": "ipython",
    "version": 3
   },
   "file_extension": ".py",
   "mimetype": "text/x-python",
   "name": "python",
   "nbconvert_exporter": "python",
   "pygments_lexer": "ipython3",
   "version": "3.9.13"
  }
 },
 "nbformat": 4,
 "nbformat_minor": 5
}

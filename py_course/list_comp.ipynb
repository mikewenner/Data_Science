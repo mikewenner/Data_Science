{
 "cells": [
  {
   "cell_type": "markdown",
   "id": "94049df6-cd77-4094-b626-094a7e00da3b",
   "metadata": {},
   "source": [
    "## List Comprehension"
   ]
  },
  {
   "cell_type": "code",
   "execution_count": 2,
   "id": "a6d182d5-c2c3-4e57-8b89-b7a50936ce45",
   "metadata": {},
   "outputs": [
    {
     "data": {
      "text/plain": [
       "['h', 'e', 'l', 'l', 'o']"
      ]
     },
     "execution_count": 2,
     "metadata": {},
     "output_type": "execute_result"
    }
   ],
   "source": [
    "# Example of looping through string and appending to list\n",
    "\n",
    "my_list = []\n",
    "\n",
    "for char in 'hello':\n",
    "    my_list.append(char)\n",
    "    \n",
    "my_list"
   ]
  },
  {
   "cell_type": "code",
   "execution_count": 3,
   "id": "87041274-2f01-4149-b337-5961e57d597c",
   "metadata": {},
   "outputs": [
    {
     "data": {
      "text/plain": [
       "['h', 'e', 'l', 'l', 'o']"
      ]
     },
     "execution_count": 3,
     "metadata": {},
     "output_type": "execute_result"
    }
   ],
   "source": [
    "# Now do same using list comp\n",
    "\n",
    "# list comp will follow the format of:\n",
    "\n",
    "# some_list = [parm for parm in iterable conditional/if statement]\n",
    "    #where the iterable could be be a list, string ... \n",
    "    #if statement comes at end no comma between\n",
    "    #some_list is what the new output will be\n",
    "    \n",
    "my_new_list = [char for char in 'hello']\n",
    "my_new_list"
   ]
  },
  {
   "cell_type": "code",
   "execution_count": 4,
   "id": "43509e3f-c0fc-49b1-bcee-0a4f75ceb243",
   "metadata": {},
   "outputs": [],
   "source": [
    "# we are creating a varible (char above) and the for each variable in the iterable we add it to the list"
   ]
  },
  {
   "cell_type": "code",
   "execution_count": 7,
   "id": "0943811f-6b35-4e14-bd00-8dd76e10a533",
   "metadata": {},
   "outputs": [],
   "source": [
    "#create a new list with numbers from 0-100\n",
    "\n",
    "my_list2 = [num for num in range(0,101)]\n",
    "#my_list2"
   ]
  },
  {
   "cell_type": "code",
   "execution_count": 9,
   "id": "81b1e8c1-129c-420e-b155-52f103eea63d",
   "metadata": {},
   "outputs": [],
   "source": [
    "# Now what if we wanted to multiply all the numbers in the list by 2\n",
    "\n",
    "my_list3 = [num*2 for num in range(0,101)]\n",
    "#my_list3"
   ]
  },
  {
   "cell_type": "code",
   "execution_count": 11,
   "id": "f4dc136a-f847-4c7e-9098-4520f80bc78b",
   "metadata": {},
   "outputs": [],
   "source": [
    "# in the creation of the vaiable we can operate on it as in above (num*2)\n",
    "\n",
    "#square the list\n",
    "my_list4 = [num**2 for num in range(0,101)]\n",
    "#my_list4"
   ]
  },
  {
   "cell_type": "code",
   "execution_count": 16,
   "id": "0cd4c224-25c6-4d05-939d-ef96b378b290",
   "metadata": {},
   "outputs": [],
   "source": [
    "# take evens and square\n",
    "\n",
    "my_list5 = [num**2 for num in range(0,101) if num %2 ==0]\n",
    "#my_list5"
   ]
  },
  {
   "cell_type": "markdown",
   "id": "457c2257-fa94-4570-8b8a-f4ada1a55014",
   "metadata": {},
   "source": [
    "## Set Comprehension"
   ]
  },
  {
   "cell_type": "code",
   "execution_count": 17,
   "id": "772ecad0-179b-4a99-9f72-3eaafc8b8789",
   "metadata": {},
   "outputs": [],
   "source": [
    "# same as list comp but replace with {}\n",
    "# remember that sets HAVE NO DUPS\n"
   ]
  },
  {
   "cell_type": "markdown",
   "id": "e2eb182b-f8e1-4cfd-9c1c-23350ae18c80",
   "metadata": {},
   "source": [
    "## Dictionary Comprehension"
   ]
  },
  {
   "cell_type": "code",
   "execution_count": 20,
   "id": "1f7bbdac-35d4-4560-9c8e-358e1fc49735",
   "metadata": {},
   "outputs": [
    {
     "data": {
      "text/plain": [
       "{'a': 2, 'b': 4, 'c': 6}"
      ]
     },
     "execution_count": 20,
     "metadata": {},
     "output_type": "execute_result"
    }
   ],
   "source": [
    "simple_dict = {\n",
    "    'a':1,\n",
    "    'b':2,\n",
    "    'c':3\n",
    "}\n",
    "\n",
    "#now if we want to multiply the numbers (values) in simple_dict:\n",
    "my_dict = {key:value*2 for key,value in simple_dict.items()}\n",
    "my_dict"
   ]
  },
  {
   "cell_type": "code",
   "execution_count": 21,
   "id": "5a586dc0-dec3-478b-babc-e5141f487300",
   "metadata": {},
   "outputs": [
    {
     "data": {
      "text/plain": [
       "{'b': 4}"
      ]
     },
     "execution_count": 21,
     "metadata": {},
     "output_type": "execute_result"
    }
   ],
   "source": [
    "#square the simple_dict and only add even values\n",
    "\n",
    "my_dict2 = {key:value**2 for key,value in simple_dict.items() if value % 2 == 0}\n",
    "my_dict2"
   ]
  },
  {
   "cell_type": "code",
   "execution_count": 22,
   "id": "96bdab57-099f-4d47-a5b4-ea3f9b15fb68",
   "metadata": {},
   "outputs": [
    {
     "data": {
      "text/plain": [
       "{1: 1, 2: 4, 3: 9, 4: 16}"
      ]
     },
     "execution_count": 22,
     "metadata": {},
     "output_type": "execute_result"
    }
   ],
   "source": [
    "# we want to create a dictionary from a list where the key is the num in list and the value is the number squared\n",
    "\n",
    "# use the list 1, 2, 3, 4\n",
    "\n",
    "new_dict = {num:num**2 for num in [1, 2, 3, 4]}\n",
    "new_dict"
   ]
  },
  {
   "cell_type": "code",
   "execution_count": 23,
   "id": "046e329c-6e52-41aa-9f7c-25e3d0fce8ad",
   "metadata": {},
   "outputs": [
    {
     "data": {
      "text/plain": [
       "['b', 'b', 'n', 'n']"
      ]
     },
     "execution_count": 23,
     "metadata": {},
     "output_type": "execute_result"
    }
   ],
   "source": [
    "# Checking for dups example\n",
    "some_list = ['a', 'b', 'c', 'b', 'd', 'm', 'n', 'n']\n",
    "\n",
    "duplicates = [i for i in some_list if some_list.count(i) > 1]\n",
    "duplicates"
   ]
  },
  {
   "cell_type": "code",
   "execution_count": 24,
   "id": "1686a468-11ee-4dce-ba96-b950fa4b1a53",
   "metadata": {},
   "outputs": [
    {
     "data": {
      "text/plain": [
       "{'b', 'n'}"
      ]
     },
     "execution_count": 24,
     "metadata": {},
     "output_type": "execute_result"
    }
   ],
   "source": [
    "# if we dont want to see all the repeats, can convert to a set\n",
    "set(duplicates)"
   ]
  },
  {
   "cell_type": "code",
   "execution_count": 25,
   "id": "9399d7d9-11d0-4538-a1b1-d89db178b6d4",
   "metadata": {},
   "outputs": [
    {
     "data": {
      "text/plain": [
       "['b', 'n']"
      ]
     },
     "execution_count": 25,
     "metadata": {},
     "output_type": "execute_result"
    }
   ],
   "source": [
    "#and then if we want a list\n",
    "\n",
    "list(set(duplicates))"
   ]
  },
  {
   "cell_type": "code",
   "execution_count": null,
   "id": "c919c26f-e8dd-46eb-8f66-a34d3ce5e288",
   "metadata": {},
   "outputs": [],
   "source": []
  }
 ],
 "metadata": {
  "kernelspec": {
   "display_name": "Python 3 (ipykernel)",
   "language": "python",
   "name": "python3"
  },
  "language_info": {
   "codemirror_mode": {
    "name": "ipython",
    "version": 3
   },
   "file_extension": ".py",
   "mimetype": "text/x-python",
   "name": "python",
   "nbconvert_exporter": "python",
   "pygments_lexer": "ipython3",
   "version": "3.9.13"
  }
 },
 "nbformat": 4,
 "nbformat_minor": 5
}

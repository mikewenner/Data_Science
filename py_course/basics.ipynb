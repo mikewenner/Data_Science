{
 "cells": [
  {
   "cell_type": "code",
   "execution_count": 2,
   "id": "aded88c4-8057-4860-9dac-30ba62410486",
   "metadata": {},
   "outputs": [
    {
     "name": "stdin",
     "output_type": "stream",
     "text": [
      "what is your username? mike\n",
      "what is your password? secret\n"
     ]
    },
    {
     "name": "stdout",
     "output_type": "stream",
     "text": [
      "mike, you password; secret is 6 letters long\n"
     ]
    }
   ],
   "source": [
    "# password checker\n",
    "\n",
    "username = input('what is your username?')\n",
    "\n",
    "password = input('what is your password?')\n",
    "\n",
    "print(f'{username}, you password; {password} is {len(password)} letters long')"
   ]
  },
  {
   "cell_type": "code",
   "execution_count": 3,
   "id": "b58913f4-0c53-4163-aa6e-bdd0e17acd71",
   "metadata": {},
   "outputs": [
    {
     "name": "stdout",
     "output_type": "stream",
     "text": [
      "mike, you password; ****** is 6 letters long\n"
     ]
    }
   ],
   "source": [
    "# now clean up and use * for the passowrd \n",
    "\n",
    "password_length = len(password)\n",
    "\n",
    "hidden_password = '*' * password_length\n",
    "\n",
    "print(f'{username}, you password; {hidden_password} is {password_length} letters long')"
   ]
  },
  {
   "cell_type": "markdown",
   "id": "027ff423-9233-45b8-855b-4c92cf97606c",
   "metadata": {},
   "source": [
    "## List Methods"
   ]
  },
  {
   "cell_type": "code",
   "execution_count": 4,
   "id": "f318e93a-c01f-4418-bdaf-0bc4b6b3a0b5",
   "metadata": {},
   "outputs": [
    {
     "name": "stdout",
     "output_type": "stream",
     "text": [
      "None\n"
     ]
    }
   ],
   "source": [
    "basket = [1,2,3,4,5]\n",
    "\n",
    "#adding\n",
    "print(basket.append(100))"
   ]
  },
  {
   "cell_type": "code",
   "execution_count": 5,
   "id": "b74cab5a-e8ff-4e0d-aada-4b649bee26e0",
   "metadata": {},
   "outputs": [
    {
     "name": "stdout",
     "output_type": "stream",
     "text": [
      "[1, 2, 3, 4, 5, 100]\n"
     ]
    }
   ],
   "source": [
    "# that is just the operation od appending in place .. to see the list\n",
    "print(basket)"
   ]
  },
  {
   "cell_type": "code",
   "execution_count": 6,
   "id": "6dac65c5-40ad-47e5-805e-46a4e4e7aaf7",
   "metadata": {},
   "outputs": [
    {
     "name": "stdout",
     "output_type": "stream",
     "text": [
      "[1, 2, 3, 4, 5, 101, 100]\n"
     ]
    }
   ],
   "source": [
    "# inserting (index,item)\n",
    "basket.insert(5, 101)\n",
    "print(basket)"
   ]
  },
  {
   "cell_type": "code",
   "execution_count": 7,
   "id": "3dd51580-32cd-4068-8aab-8a833cb8329c",
   "metadata": {},
   "outputs": [
    {
     "name": "stdout",
     "output_type": "stream",
     "text": [
      "[1, 2, 3, 4, 5, 101, 100, 200, 201]\n"
     ]
    }
   ],
   "source": [
    "# extend --> adds a list\n",
    "basket.extend([200, 201])\n",
    "print(basket)"
   ]
  },
  {
   "cell_type": "code",
   "execution_count": 8,
   "id": "0f70994c-77b3-4e4f-9e40-4510f2b3f21c",
   "metadata": {},
   "outputs": [
    {
     "name": "stdout",
     "output_type": "stream",
     "text": [
      "[1, 2, 3, 4, 5, 101, 100, 200]\n"
     ]
    }
   ],
   "source": [
    "# removing\n",
    "basket.pop() # removes the last item in list if no index called\n",
    "print(basket)"
   ]
  },
  {
   "cell_type": "code",
   "execution_count": 9,
   "id": "41aa9e6a-53de-4ad3-a163-559e7e6124f2",
   "metadata": {},
   "outputs": [
    {
     "name": "stdout",
     "output_type": "stream",
     "text": [
      "[1, 2, 3, 5, 101, 100, 200]\n"
     ]
    }
   ],
   "source": [
    "basket.pop(3) # this removes what is at index position 3\n",
    "print(basket)"
   ]
  },
  {
   "cell_type": "code",
   "execution_count": 10,
   "id": "28f78ef8-289d-4c3b-9e06-c5b4531fe7cd",
   "metadata": {},
   "outputs": [
    {
     "name": "stdout",
     "output_type": "stream",
     "text": [
      "[1, 2, 3, 5, 100, 200]\n"
     ]
    }
   ],
   "source": [
    "# using .remove --> this will remove the value\n",
    "basket.remove(101)\n",
    "print(basket)"
   ]
  },
  {
   "cell_type": "code",
   "execution_count": 11,
   "id": "b5634640-343b-48fa-8bc3-a6cfc21b3cce",
   "metadata": {},
   "outputs": [
    {
     "name": "stdout",
     "output_type": "stream",
     "text": [
      "2\n"
     ]
    }
   ],
   "source": [
    "# locating something in a list\n",
    "\n",
    "basket2 = ['a', 'b', 'c', 'd', 'e', 'd']\n",
    "\n",
    "# .index will tell you the index location if what looking for\n",
    "print(basket2.index('c'))"
   ]
  },
  {
   "cell_type": "code",
   "execution_count": 12,
   "id": "834c913c-ff9a-467c-b58b-158a5deba7f2",
   "metadata": {},
   "outputs": [
    {
     "name": "stdout",
     "output_type": "stream",
     "text": [
      "3\n"
     ]
    }
   ],
   "source": [
    "print(basket2.index('d')) #--> will give 1st occurance"
   ]
  },
  {
   "cell_type": "code",
   "execution_count": 13,
   "id": "bbc1d0d7-ac48-4c0a-ae0d-d73c101d58c9",
   "metadata": {},
   "outputs": [
    {
     "data": {
      "text/plain": [
       "2"
      ]
     },
     "execution_count": 13,
     "metadata": {},
     "output_type": "execute_result"
    }
   ],
   "source": [
    "basket2.count('d')"
   ]
  },
  {
   "cell_type": "code",
   "execution_count": 15,
   "id": "fbc7feb9-bdf7-4e71-ae42-afd9720a1e30",
   "metadata": {},
   "outputs": [
    {
     "name": "stdout",
     "output_type": "stream",
     "text": [
      "['a', 'b', 'c', 'd', 'd', 'e']\n"
     ]
    }
   ],
   "source": [
    "# sorting\n",
    "basket2.sort()\n",
    "print(basket2)"
   ]
  },
  {
   "cell_type": "code",
   "execution_count": 17,
   "id": "59a6bc47-d2d4-4824-b2e0-8f7ac5e0fd16",
   "metadata": {},
   "outputs": [
    {
     "data": {
      "text/plain": [
       "['a', 'b', 'c', 'd', 'd', 'e']"
      ]
     },
     "execution_count": 17,
     "metadata": {},
     "output_type": "execute_result"
    }
   ],
   "source": [
    "sorted(basket2)"
   ]
  },
  {
   "cell_type": "code",
   "execution_count": 18,
   "id": "b1a4b9ee-5899-477e-9aeb-b7044f8bf530",
   "metadata": {},
   "outputs": [
    {
     "data": {
      "text/plain": [
       "['e', 'd', 'd', 'c', 'b', 'a']"
      ]
     },
     "execution_count": 18,
     "metadata": {},
     "output_type": "execute_result"
    }
   ],
   "source": [
    "# reversing\n",
    "\n",
    "basket2.reverse() #-reverses the INDEX positoin\n",
    "basket2"
   ]
  },
  {
   "cell_type": "code",
   "execution_count": 19,
   "id": "0cc0e384-38c8-46e4-ad22-98192eb39668",
   "metadata": {},
   "outputs": [
    {
     "data": {
      "text/plain": [
       "['e', 'd', 'd', 'c', 'b', 'a']"
      ]
     },
     "execution_count": 19,
     "metadata": {},
     "output_type": "execute_result"
    }
   ],
   "source": [
    "# another way to reverse using slicing [: : -1]\n",
    "\n",
    "basket2[::-1]\n",
    "basket2"
   ]
  },
  {
   "cell_type": "code",
   "execution_count": 20,
   "id": "21903888-f94e-4ff1-ac13-5b012821e644",
   "metadata": {},
   "outputs": [
    {
     "name": "stdout",
     "output_type": "stream",
     "text": [
      "[1, 2, 3, 4, 5, 6, 7, 8, 9, 10, 11, 12, 13, 14, 15, 16, 17, 18, 19, 20, 21, 22, 23, 24, 25, 26, 27, 28, 29, 30, 31, 32, 33, 34, 35, 36, 37, 38, 39, 40, 41, 42, 43, 44, 45, 46, 47, 48, 49, 50, 51, 52, 53, 54, 55, 56, 57, 58, 59, 60, 61, 62, 63, 64, 65, 66, 67, 68, 69, 70, 71, 72, 73, 74, 75, 76, 77, 78, 79, 80, 81, 82, 83, 84, 85, 86, 87, 88, 89, 90, 91, 92, 93, 94, 95, 96, 97, 98, 99, 100]\n"
     ]
    }
   ],
   "source": [
    "#Creating a list from 1-100\n",
    "\n",
    "print(list(range(1,101)))"
   ]
  },
  {
   "cell_type": "markdown",
   "id": "e7e02bd6-c2c3-4ff5-b3e6-c9da2221051a",
   "metadata": {},
   "source": [
    "## Dictionary"
   ]
  },
  {
   "cell_type": "code",
   "execution_count": 21,
   "id": "8203819b-d1e5-4434-ba58-32248baf942a",
   "metadata": {},
   "outputs": [],
   "source": [
    "# keys must be immutable --> CANNOT BE A LIST\n",
    "# string, tuple\n",
    "# keys must also be UNIQUE\n"
   ]
  },
  {
   "cell_type": "markdown",
   "id": "06fd1dba-9e35-4520-bb5f-01253810e03b",
   "metadata": {},
   "source": [
    "## Set"
   ]
  },
  {
   "cell_type": "code",
   "execution_count": 22,
   "id": "f239c66d-9091-4a6f-b0d3-36cbc3914157",
   "metadata": {},
   "outputs": [
    {
     "data": {
      "text/plain": [
       "{1, 2, 3, 4, 5}"
      ]
     },
     "execution_count": 22,
     "metadata": {},
     "output_type": "execute_result"
    }
   ],
   "source": [
    "# Set is a unordered collection of uniques objects\n",
    "\n",
    "my_set = {1, 2, 3, 4, 5, 5}\n",
    "my_set"
   ]
  },
  {
   "cell_type": "code",
   "execution_count": 23,
   "id": "a00fd529-acab-4d9c-b6dc-6e4000f5c2a0",
   "metadata": {},
   "outputs": [
    {
     "data": {
      "text/plain": [
       "{1, 2, 3, 4, 5, 6}"
      ]
     },
     "execution_count": 23,
     "metadata": {},
     "output_type": "execute_result"
    }
   ],
   "source": [
    "# so if we wanted a easy way to drop dups from a list, we can conver it to a set\n",
    "\n",
    "my_list = [1, 2, 2, 3, 4, 5, 5, 6, 6]\n",
    "\n",
    "new_set = set(my_list)\n",
    "new_set"
   ]
  },
  {
   "cell_type": "code",
   "execution_count": 24,
   "id": "78af9b74-0d30-4ca9-a703-b944c0bd9f20",
   "metadata": {},
   "outputs": [
    {
     "data": {
      "text/plain": [
       "5"
      ]
     },
     "execution_count": 24,
     "metadata": {},
     "output_type": "execute_result"
    }
   ],
   "source": [
    "len(my_set)"
   ]
  },
  {
   "cell_type": "code",
   "execution_count": 25,
   "id": "57647349-0b3d-405b-8b95-3aa266dc3c97",
   "metadata": {},
   "outputs": [
    {
     "data": {
      "text/plain": [
       "True"
      ]
     },
     "execution_count": 25,
     "metadata": {},
     "output_type": "execute_result"
    }
   ],
   "source": [
    "4 in my_set"
   ]
  },
  {
   "cell_type": "code",
   "execution_count": null,
   "id": "e33c7f8a-f3c4-478f-8205-4cc5f8dc41b8",
   "metadata": {},
   "outputs": [],
   "source": []
  }
 ],
 "metadata": {
  "kernelspec": {
   "display_name": "Python 3 (ipykernel)",
   "language": "python",
   "name": "python3"
  },
  "language_info": {
   "codemirror_mode": {
    "name": "ipython",
    "version": 3
   },
   "file_extension": ".py",
   "mimetype": "text/x-python",
   "name": "python",
   "nbconvert_exporter": "python",
   "pygments_lexer": "ipython3",
   "version": "3.9.13"
  }
 },
 "nbformat": 4,
 "nbformat_minor": 5
}

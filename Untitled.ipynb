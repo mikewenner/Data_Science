{
 "cells": [
  {
   "cell_type": "code",
   "execution_count": 1,
   "id": "fce5b47a-a379-491c-94eb-955ed027b5cd",
   "metadata": {},
   "outputs": [],
   "source": [
    "# Initialize the metric variables\n",
    "count = 0\n",
    "total = 0\n",
    "average = 0\n",
    "minimum = 0\n",
    "maximum = 0"
   ]
  },
  {
   "cell_type": "code",
   "execution_count": 2,
   "id": "43eed6cf-0338-4c1c-98ec-a687b95c9f3f",
   "metadata": {},
   "outputs": [],
   "source": [
    "# List of daily tips\n",
    "cash_tips = [22, 10, 30, 45, 54, 60, 56]"
   ]
  },
  {
   "cell_type": "code",
   "execution_count": 3,
   "id": "a946443b-7ee8-4167-a487-51ec19f2fce7",
   "metadata": {},
   "outputs": [
    {
     "name": "stdout",
     "output_type": "stream",
     "text": [
      "22\n",
      "10\n",
      "30\n",
      "45\n",
      "54\n",
      "60\n",
      "56\n"
     ]
    }
   ],
   "source": [
    "# Showcase every tip in the list\n",
    "for tip in cash_tips:\n",
    "    print(tip)"
   ]
  },
  {
   "cell_type": "code",
   "execution_count": 5,
   "id": "dc459816-a056-4df7-8f87-dc6074a94cb8",
   "metadata": {},
   "outputs": [],
   "source": [
    "# Iterate over each element of the list to determine metrics\n",
    "for tip in cash_tips:\n",
    "    count +=1\n",
    "    total +=tip\n",
    "    \n",
    "    # Logic to determine minimum values\n",
    "    if minimum == 0:\n",
    "        minimum = tip\n",
    "    elif tip < minimum:\n",
    "        minimum = tip\n",
    "        \n",
    "    # Logic to determine maximum values \n",
    "    if tip > maximum:\n",
    "        maximum = tip\n",
    "    "
   ]
  },
  {
   "cell_type": "code",
   "execution_count": 6,
   "id": "2daa30b6-704c-48ec-ba1b-18697a214d21",
   "metadata": {},
   "outputs": [
    {
     "data": {
      "text/plain": [
       "10"
      ]
     },
     "execution_count": 6,
     "metadata": {},
     "output_type": "execute_result"
    }
   ],
   "source": [
    "minimum"
   ]
  },
  {
   "cell_type": "code",
   "execution_count": 7,
   "id": "2595077d-f8cb-46e8-a34f-9781392fb58a",
   "metadata": {},
   "outputs": [
    {
     "data": {
      "text/plain": [
       "60"
      ]
     },
     "execution_count": 7,
     "metadata": {},
     "output_type": "execute_result"
    }
   ],
   "source": [
    "maximum"
   ]
  },
  {
   "cell_type": "code",
   "execution_count": 8,
   "id": "731c9104-d89e-4a0c-b962-4d9582eb8abe",
   "metadata": {},
   "outputs": [
    {
     "data": {
      "text/plain": [
       "7"
      ]
     },
     "execution_count": 8,
     "metadata": {},
     "output_type": "execute_result"
    }
   ],
   "source": [
    "count"
   ]
  },
  {
   "cell_type": "code",
   "execution_count": 9,
   "id": "706ee626-30f7-40c2-af35-f317c7ec63f9",
   "metadata": {},
   "outputs": [
    {
     "data": {
      "text/plain": [
       "277"
      ]
     },
     "execution_count": 9,
     "metadata": {},
     "output_type": "execute_result"
    }
   ],
   "source": [
    "total"
   ]
  },
  {
   "cell_type": "code",
   "execution_count": 10,
   "id": "f33da923-ffbd-465b-9b83-180e736d5e53",
   "metadata": {},
   "outputs": [
    {
     "data": {
      "text/plain": [
       "39.57"
      ]
     },
     "execution_count": 10,
     "metadata": {},
     "output_type": "execute_result"
    }
   ],
   "source": [
    "# Calculate the average\n",
    "average = round(total / count, 2)\n",
    "average"
   ]
  },
  {
   "cell_type": "code",
   "execution_count": 16,
   "id": "81f675d8-8d69-4420-9ba0-fc3052869896",
   "metadata": {},
   "outputs": [],
   "source": [
    "price = 201.5\n",
    "shares = 2394000000"
   ]
  },
  {
   "cell_type": "code",
   "execution_count": 14,
   "id": "3a3640a9-2f0b-4087-92fb-f7d7e121e374",
   "metadata": {},
   "outputs": [],
   "source": [
    "def market_cap(price, shares):\n",
    "    cap = price*shares\n",
    "    \n",
    "    return cap"
   ]
  },
  {
   "cell_type": "code",
   "execution_count": 17,
   "id": "e51cca04-ce77-43ce-8adb-435cba7381e9",
   "metadata": {},
   "outputs": [
    {
     "data": {
      "text/plain": [
       "482391000000.0"
      ]
     },
     "execution_count": 17,
     "metadata": {},
     "output_type": "execute_result"
    }
   ],
   "source": [
    "market_cap(price, shares)"
   ]
  },
  {
   "cell_type": "code",
   "execution_count": 18,
   "id": "bec8401f-e8b1-436f-a1a9-35e963a68805",
   "metadata": {},
   "outputs": [
    {
     "name": "stdout",
     "output_type": "stream",
     "text": [
      "  def hello():\n",
      "-     print(\"Hello, World!\")\n",
      "?             ^^^^\n",
      "\n",
      "+     print(\"Hi, World!\")\n",
      "?             ^\n",
      "\n"
     ]
    }
   ],
   "source": [
    "import difflib\n",
    "\n",
    "code1 = \"\"\"def hello():\n",
    "    print(\"Hello, World!\")\"\"\"\n",
    "\n",
    "code2 = \"\"\"def hello():\n",
    "    print(\"Hi, World!\")\"\"\"\n",
    "\n",
    "d = difflib.Differ()\n",
    "diff = list(d.compare(code1.splitlines(), code2.splitlines()))\n",
    "\n",
    "print(\"\\n\".join(diff))\n"
   ]
  },
  {
   "cell_type": "code",
   "execution_count": 19,
   "id": "a6d948bd-0888-4cb7-84e6-eb3642b97b9d",
   "metadata": {},
   "outputs": [
    {
     "data": {
      "text/plain": [
       "1926159"
      ]
     },
     "execution_count": 19,
     "metadata": {},
     "output_type": "execute_result"
    }
   ],
   "source": [
    "1170593+755566\n"
   ]
  },
  {
   "cell_type": "code",
   "execution_count": 20,
   "id": "b33ef155-de03-4154-8c6e-7146edc01e02",
   "metadata": {},
   "outputs": [
    {
     "data": {
      "text/plain": [
       "446309.0465116279"
      ]
     },
     "execution_count": 20,
     "metadata": {},
     "output_type": "execute_result"
    }
   ],
   "source": [
    "38382578/86"
   ]
  },
  {
   "cell_type": "code",
   "execution_count": 23,
   "id": "96ca9359-888d-42b3-b307-a19b20fb9a9f",
   "metadata": {},
   "outputs": [
    {
     "data": {
      "text/plain": [
       "{'A': [1, 2, 3, 4, 5], 'B': [10, 20, 30, 40, 50]}"
      ]
     },
     "execution_count": 23,
     "metadata": {},
     "output_type": "execute_result"
    }
   ],
   "source": [
    "import pandas as pd\n",
    "\n",
    "# Creating a multi-index DataFrame\n",
    "data = {'A': [1, 2, 3, 4, 5],\n",
    "        'B': [10, 20, 30, 40, 50]}"
   ]
  },
  {
   "cell_type": "code",
   "execution_count": 24,
   "id": "a0fbc963-7187-42d5-841b-2a04a04cfd10",
   "metadata": {},
   "outputs": [],
   "source": [
    "index = pd.MultiIndex.from_tuples([('X', 'foo'), ('X', 'bar'), ('Y', 'foo'), ('Y', 'bar'), ('Z', 'foo')],\n",
    "                                  names=['Index1', 'Index2'])"
   ]
  },
  {
   "cell_type": "code",
   "execution_count": 25,
   "id": "24cf5fe9-1f49-4856-b341-7bb9449139e5",
   "metadata": {},
   "outputs": [
    {
     "data": {
      "text/html": [
       "<div>\n",
       "<style scoped>\n",
       "    .dataframe tbody tr th:only-of-type {\n",
       "        vertical-align: middle;\n",
       "    }\n",
       "\n",
       "    .dataframe tbody tr th {\n",
       "        vertical-align: top;\n",
       "    }\n",
       "\n",
       "    .dataframe thead th {\n",
       "        text-align: right;\n",
       "    }\n",
       "</style>\n",
       "<table border=\"1\" class=\"dataframe\">\n",
       "  <thead>\n",
       "    <tr style=\"text-align: right;\">\n",
       "      <th></th>\n",
       "      <th></th>\n",
       "      <th>A</th>\n",
       "      <th>B</th>\n",
       "    </tr>\n",
       "    <tr>\n",
       "      <th>Index1</th>\n",
       "      <th>Index2</th>\n",
       "      <th></th>\n",
       "      <th></th>\n",
       "    </tr>\n",
       "  </thead>\n",
       "  <tbody>\n",
       "    <tr>\n",
       "      <th rowspan=\"2\" valign=\"top\">X</th>\n",
       "      <th>foo</th>\n",
       "      <td>1</td>\n",
       "      <td>10</td>\n",
       "    </tr>\n",
       "    <tr>\n",
       "      <th>bar</th>\n",
       "      <td>2</td>\n",
       "      <td>20</td>\n",
       "    </tr>\n",
       "    <tr>\n",
       "      <th rowspan=\"2\" valign=\"top\">Y</th>\n",
       "      <th>foo</th>\n",
       "      <td>3</td>\n",
       "      <td>30</td>\n",
       "    </tr>\n",
       "    <tr>\n",
       "      <th>bar</th>\n",
       "      <td>4</td>\n",
       "      <td>40</td>\n",
       "    </tr>\n",
       "    <tr>\n",
       "      <th>Z</th>\n",
       "      <th>foo</th>\n",
       "      <td>5</td>\n",
       "      <td>50</td>\n",
       "    </tr>\n",
       "  </tbody>\n",
       "</table>\n",
       "</div>"
      ],
      "text/plain": [
       "               A   B\n",
       "Index1 Index2       \n",
       "X      foo     1  10\n",
       "       bar     2  20\n",
       "Y      foo     3  30\n",
       "       bar     4  40\n",
       "Z      foo     5  50"
      ]
     },
     "execution_count": 25,
     "metadata": {},
     "output_type": "execute_result"
    }
   ],
   "source": [
    "df = pd.DataFrame(data, index=index)\n",
    "df"
   ]
  },
  {
   "cell_type": "code",
   "execution_count": 27,
   "id": "604211d7-e41b-482d-984c-3b2953856c99",
   "metadata": {},
   "outputs": [
    {
     "data": {
      "text/plain": [
       "30"
      ]
     },
     "execution_count": 27,
     "metadata": {},
     "output_type": "execute_result"
    }
   ],
   "source": [
    "df.iloc[(2,1)]"
   ]
  },
  {
   "cell_type": "code",
   "execution_count": null,
   "id": "5ca78452-6043-4157-96ee-62f08e28f596",
   "metadata": {},
   "outputs": [],
   "source": []
  }
 ],
 "metadata": {
  "kernelspec": {
   "display_name": "Python 3 (ipykernel)",
   "language": "python",
   "name": "python3"
  },
  "language_info": {
   "codemirror_mode": {
    "name": "ipython",
    "version": 3
   },
   "file_extension": ".py",
   "mimetype": "text/x-python",
   "name": "python",
   "nbconvert_exporter": "python",
   "pygments_lexer": "ipython3",
   "version": "3.9.13"
  }
 },
 "nbformat": 4,
 "nbformat_minor": 5
}

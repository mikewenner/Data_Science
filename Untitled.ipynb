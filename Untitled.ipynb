{
 "cells": [
  {
   "cell_type": "code",
   "execution_count": 5,
   "id": "045ba2b4-13a3-409a-b829-c6c5f3cbb0d0",
   "metadata": {},
   "outputs": [],
   "source": [
    "import pandas as pd"
   ]
  },
  {
   "cell_type": "code",
   "execution_count": 1,
   "id": "fce5b47a-a379-491c-94eb-955ed027b5cd",
   "metadata": {},
   "outputs": [],
   "source": [
    "# Initialize the metric variables\n",
    "count = 0\n",
    "total = 0\n",
    "average = 0\n",
    "minimum = 0\n",
    "maximum = 0"
   ]
  },
  {
   "cell_type": "code",
   "execution_count": 2,
   "id": "43eed6cf-0338-4c1c-98ec-a687b95c9f3f",
   "metadata": {},
   "outputs": [],
   "source": [
    "# List of daily tips\n",
    "cash_tips = [22, 10, 30, 45, 54, 60, 56]"
   ]
  },
  {
   "cell_type": "code",
   "execution_count": 3,
   "id": "a946443b-7ee8-4167-a487-51ec19f2fce7",
   "metadata": {},
   "outputs": [
    {
     "name": "stdout",
     "output_type": "stream",
     "text": [
      "22\n",
      "10\n",
      "30\n",
      "45\n",
      "54\n",
      "60\n",
      "56\n"
     ]
    }
   ],
   "source": [
    "# Showcase every tip in the list\n",
    "for tip in cash_tips:\n",
    "    print(tip)"
   ]
  },
  {
   "cell_type": "code",
   "execution_count": 5,
   "id": "dc459816-a056-4df7-8f87-dc6074a94cb8",
   "metadata": {},
   "outputs": [],
   "source": [
    "# Iterate over each element of the list to determine metrics\n",
    "for tip in cash_tips:\n",
    "    count +=1\n",
    "    total +=tip\n",
    "    \n",
    "    # Logic to determine minimum values\n",
    "    if minimum == 0:\n",
    "        minimum = tip\n",
    "    elif tip < minimum:\n",
    "        minimum = tip\n",
    "        \n",
    "    # Logic to determine maximum values \n",
    "    if tip > maximum:\n",
    "        maximum = tip\n",
    "    "
   ]
  },
  {
   "cell_type": "code",
   "execution_count": 6,
   "id": "2daa30b6-704c-48ec-ba1b-18697a214d21",
   "metadata": {},
   "outputs": [
    {
     "data": {
      "text/plain": [
       "10"
      ]
     },
     "execution_count": 6,
     "metadata": {},
     "output_type": "execute_result"
    }
   ],
   "source": [
    "minimum"
   ]
  },
  {
   "cell_type": "code",
   "execution_count": 7,
   "id": "2595077d-f8cb-46e8-a34f-9781392fb58a",
   "metadata": {},
   "outputs": [
    {
     "data": {
      "text/plain": [
       "60"
      ]
     },
     "execution_count": 7,
     "metadata": {},
     "output_type": "execute_result"
    }
   ],
   "source": [
    "maximum"
   ]
  },
  {
   "cell_type": "code",
   "execution_count": 8,
   "id": "731c9104-d89e-4a0c-b962-4d9582eb8abe",
   "metadata": {},
   "outputs": [
    {
     "data": {
      "text/plain": [
       "7"
      ]
     },
     "execution_count": 8,
     "metadata": {},
     "output_type": "execute_result"
    }
   ],
   "source": [
    "count"
   ]
  },
  {
   "cell_type": "code",
   "execution_count": 9,
   "id": "706ee626-30f7-40c2-af35-f317c7ec63f9",
   "metadata": {},
   "outputs": [
    {
     "data": {
      "text/plain": [
       "277"
      ]
     },
     "execution_count": 9,
     "metadata": {},
     "output_type": "execute_result"
    }
   ],
   "source": [
    "total"
   ]
  },
  {
   "cell_type": "code",
   "execution_count": 10,
   "id": "f33da923-ffbd-465b-9b83-180e736d5e53",
   "metadata": {},
   "outputs": [
    {
     "data": {
      "text/plain": [
       "39.57"
      ]
     },
     "execution_count": 10,
     "metadata": {},
     "output_type": "execute_result"
    }
   ],
   "source": [
    "# Calculate the average\n",
    "average = round(total / count, 2)\n",
    "average"
   ]
  },
  {
   "cell_type": "code",
   "execution_count": 16,
   "id": "81f675d8-8d69-4420-9ba0-fc3052869896",
   "metadata": {},
   "outputs": [],
   "source": [
    "price = 201.5\n",
    "shares = 2394000000"
   ]
  },
  {
   "cell_type": "code",
   "execution_count": 14,
   "id": "3a3640a9-2f0b-4087-92fb-f7d7e121e374",
   "metadata": {},
   "outputs": [],
   "source": [
    "def market_cap(price, shares):\n",
    "    cap = price*shares\n",
    "    \n",
    "    return cap"
   ]
  },
  {
   "cell_type": "code",
   "execution_count": 17,
   "id": "e51cca04-ce77-43ce-8adb-435cba7381e9",
   "metadata": {},
   "outputs": [
    {
     "data": {
      "text/plain": [
       "482391000000.0"
      ]
     },
     "execution_count": 17,
     "metadata": {},
     "output_type": "execute_result"
    }
   ],
   "source": [
    "market_cap(price, shares)"
   ]
  },
  {
   "cell_type": "code",
   "execution_count": 18,
   "id": "bec8401f-e8b1-436f-a1a9-35e963a68805",
   "metadata": {},
   "outputs": [
    {
     "name": "stdout",
     "output_type": "stream",
     "text": [
      "  def hello():\n",
      "-     print(\"Hello, World!\")\n",
      "?             ^^^^\n",
      "\n",
      "+     print(\"Hi, World!\")\n",
      "?             ^\n",
      "\n"
     ]
    }
   ],
   "source": [
    "import difflib\n",
    "\n",
    "code1 = \"\"\"def hello():\n",
    "    print(\"Hello, World!\")\"\"\"\n",
    "\n",
    "code2 = \"\"\"def hello():\n",
    "    print(\"Hi, World!\")\"\"\"\n",
    "\n",
    "d = difflib.Differ()\n",
    "diff = list(d.compare(code1.splitlines(), code2.splitlines()))\n",
    "\n",
    "print(\"\\n\".join(diff))\n"
   ]
  },
  {
   "cell_type": "code",
   "execution_count": 19,
   "id": "a6d948bd-0888-4cb7-84e6-eb3642b97b9d",
   "metadata": {},
   "outputs": [
    {
     "data": {
      "text/plain": [
       "1926159"
      ]
     },
     "execution_count": 19,
     "metadata": {},
     "output_type": "execute_result"
    }
   ],
   "source": [
    "1170593+755566\n"
   ]
  },
  {
   "cell_type": "code",
   "execution_count": 20,
   "id": "b33ef155-de03-4154-8c6e-7146edc01e02",
   "metadata": {},
   "outputs": [
    {
     "data": {
      "text/plain": [
       "446309.0465116279"
      ]
     },
     "execution_count": 20,
     "metadata": {},
     "output_type": "execute_result"
    }
   ],
   "source": [
    "38382578/86"
   ]
  },
  {
   "cell_type": "code",
   "execution_count": 23,
   "id": "96ca9359-888d-42b3-b307-a19b20fb9a9f",
   "metadata": {},
   "outputs": [
    {
     "data": {
      "text/plain": [
       "{'A': [1, 2, 3, 4, 5], 'B': [10, 20, 30, 40, 50]}"
      ]
     },
     "execution_count": 23,
     "metadata": {},
     "output_type": "execute_result"
    }
   ],
   "source": [
    "import pandas as pd\n",
    "\n",
    "# Creating a multi-index DataFrame\n",
    "data = {'A': [1, 2, 3, 4, 5],\n",
    "        'B': [10, 20, 30, 40, 50]}"
   ]
  },
  {
   "cell_type": "code",
   "execution_count": 24,
   "id": "a0fbc963-7187-42d5-841b-2a04a04cfd10",
   "metadata": {},
   "outputs": [],
   "source": [
    "index = pd.MultiIndex.from_tuples([('X', 'foo'), ('X', 'bar'), ('Y', 'foo'), ('Y', 'bar'), ('Z', 'foo')],\n",
    "                                  names=['Index1', 'Index2'])"
   ]
  },
  {
   "cell_type": "code",
   "execution_count": 25,
   "id": "24cf5fe9-1f49-4856-b341-7bb9449139e5",
   "metadata": {},
   "outputs": [
    {
     "data": {
      "text/html": [
       "<div>\n",
       "<style scoped>\n",
       "    .dataframe tbody tr th:only-of-type {\n",
       "        vertical-align: middle;\n",
       "    }\n",
       "\n",
       "    .dataframe tbody tr th {\n",
       "        vertical-align: top;\n",
       "    }\n",
       "\n",
       "    .dataframe thead th {\n",
       "        text-align: right;\n",
       "    }\n",
       "</style>\n",
       "<table border=\"1\" class=\"dataframe\">\n",
       "  <thead>\n",
       "    <tr style=\"text-align: right;\">\n",
       "      <th></th>\n",
       "      <th></th>\n",
       "      <th>A</th>\n",
       "      <th>B</th>\n",
       "    </tr>\n",
       "    <tr>\n",
       "      <th>Index1</th>\n",
       "      <th>Index2</th>\n",
       "      <th></th>\n",
       "      <th></th>\n",
       "    </tr>\n",
       "  </thead>\n",
       "  <tbody>\n",
       "    <tr>\n",
       "      <th rowspan=\"2\" valign=\"top\">X</th>\n",
       "      <th>foo</th>\n",
       "      <td>1</td>\n",
       "      <td>10</td>\n",
       "    </tr>\n",
       "    <tr>\n",
       "      <th>bar</th>\n",
       "      <td>2</td>\n",
       "      <td>20</td>\n",
       "    </tr>\n",
       "    <tr>\n",
       "      <th rowspan=\"2\" valign=\"top\">Y</th>\n",
       "      <th>foo</th>\n",
       "      <td>3</td>\n",
       "      <td>30</td>\n",
       "    </tr>\n",
       "    <tr>\n",
       "      <th>bar</th>\n",
       "      <td>4</td>\n",
       "      <td>40</td>\n",
       "    </tr>\n",
       "    <tr>\n",
       "      <th>Z</th>\n",
       "      <th>foo</th>\n",
       "      <td>5</td>\n",
       "      <td>50</td>\n",
       "    </tr>\n",
       "  </tbody>\n",
       "</table>\n",
       "</div>"
      ],
      "text/plain": [
       "               A   B\n",
       "Index1 Index2       \n",
       "X      foo     1  10\n",
       "       bar     2  20\n",
       "Y      foo     3  30\n",
       "       bar     4  40\n",
       "Z      foo     5  50"
      ]
     },
     "execution_count": 25,
     "metadata": {},
     "output_type": "execute_result"
    }
   ],
   "source": [
    "df = pd.DataFrame(data, index=index)\n",
    "df"
   ]
  },
  {
   "cell_type": "code",
   "execution_count": 27,
   "id": "604211d7-e41b-482d-984c-3b2953856c99",
   "metadata": {},
   "outputs": [
    {
     "data": {
      "text/plain": [
       "30"
      ]
     },
     "execution_count": 27,
     "metadata": {},
     "output_type": "execute_result"
    }
   ],
   "source": [
    "df.iloc[(2,1)]"
   ]
  },
  {
   "cell_type": "code",
   "execution_count": 1,
   "id": "5ca78452-6043-4157-96ee-62f08e28f596",
   "metadata": {},
   "outputs": [],
   "source": [
    "import seaborn as sns"
   ]
  },
  {
   "cell_type": "code",
   "execution_count": 2,
   "id": "d47f27b9-b2da-4799-bbdf-0135b1bac8ed",
   "metadata": {},
   "outputs": [
    {
     "data": {
      "text/html": [
       "<div>\n",
       "<style scoped>\n",
       "    .dataframe tbody tr th:only-of-type {\n",
       "        vertical-align: middle;\n",
       "    }\n",
       "\n",
       "    .dataframe tbody tr th {\n",
       "        vertical-align: top;\n",
       "    }\n",
       "\n",
       "    .dataframe thead th {\n",
       "        text-align: right;\n",
       "    }\n",
       "</style>\n",
       "<table border=\"1\" class=\"dataframe\">\n",
       "  <thead>\n",
       "    <tr style=\"text-align: right;\">\n",
       "      <th></th>\n",
       "      <th>mpg</th>\n",
       "      <th>cylinders</th>\n",
       "      <th>displacement</th>\n",
       "      <th>horsepower</th>\n",
       "      <th>weight</th>\n",
       "      <th>acceleration</th>\n",
       "      <th>model_year</th>\n",
       "      <th>origin</th>\n",
       "      <th>name</th>\n",
       "    </tr>\n",
       "  </thead>\n",
       "  <tbody>\n",
       "    <tr>\n",
       "      <th>0</th>\n",
       "      <td>18.0</td>\n",
       "      <td>8</td>\n",
       "      <td>307.0</td>\n",
       "      <td>130.0</td>\n",
       "      <td>3504</td>\n",
       "      <td>12.0</td>\n",
       "      <td>70</td>\n",
       "      <td>usa</td>\n",
       "      <td>chevrolet chevelle malibu</td>\n",
       "    </tr>\n",
       "    <tr>\n",
       "      <th>1</th>\n",
       "      <td>15.0</td>\n",
       "      <td>8</td>\n",
       "      <td>350.0</td>\n",
       "      <td>165.0</td>\n",
       "      <td>3693</td>\n",
       "      <td>11.5</td>\n",
       "      <td>70</td>\n",
       "      <td>usa</td>\n",
       "      <td>buick skylark 320</td>\n",
       "    </tr>\n",
       "    <tr>\n",
       "      <th>2</th>\n",
       "      <td>18.0</td>\n",
       "      <td>8</td>\n",
       "      <td>318.0</td>\n",
       "      <td>150.0</td>\n",
       "      <td>3436</td>\n",
       "      <td>11.0</td>\n",
       "      <td>70</td>\n",
       "      <td>usa</td>\n",
       "      <td>plymouth satellite</td>\n",
       "    </tr>\n",
       "    <tr>\n",
       "      <th>3</th>\n",
       "      <td>16.0</td>\n",
       "      <td>8</td>\n",
       "      <td>304.0</td>\n",
       "      <td>150.0</td>\n",
       "      <td>3433</td>\n",
       "      <td>12.0</td>\n",
       "      <td>70</td>\n",
       "      <td>usa</td>\n",
       "      <td>amc rebel sst</td>\n",
       "    </tr>\n",
       "    <tr>\n",
       "      <th>4</th>\n",
       "      <td>17.0</td>\n",
       "      <td>8</td>\n",
       "      <td>302.0</td>\n",
       "      <td>140.0</td>\n",
       "      <td>3449</td>\n",
       "      <td>10.5</td>\n",
       "      <td>70</td>\n",
       "      <td>usa</td>\n",
       "      <td>ford torino</td>\n",
       "    </tr>\n",
       "  </tbody>\n",
       "</table>\n",
       "</div>"
      ],
      "text/plain": [
       "    mpg  cylinders  displacement  horsepower  weight  acceleration  \\\n",
       "0  18.0          8         307.0       130.0    3504          12.0   \n",
       "1  15.0          8         350.0       165.0    3693          11.5   \n",
       "2  18.0          8         318.0       150.0    3436          11.0   \n",
       "3  16.0          8         304.0       150.0    3433          12.0   \n",
       "4  17.0          8         302.0       140.0    3449          10.5   \n",
       "\n",
       "   model_year origin                       name  \n",
       "0          70    usa  chevrolet chevelle malibu  \n",
       "1          70    usa          buick skylark 320  \n",
       "2          70    usa         plymouth satellite  \n",
       "3          70    usa              amc rebel sst  \n",
       "4          70    usa                ford torino  "
      ]
     },
     "execution_count": 2,
     "metadata": {},
     "output_type": "execute_result"
    }
   ],
   "source": [
    "mpg = sns.load_dataset('mpg')\n",
    "mpg.head()"
   ]
  },
  {
   "cell_type": "code",
   "execution_count": 3,
   "id": "985e416e-52ce-49cc-b137-dc3de69dd463",
   "metadata": {},
   "outputs": [
    {
     "data": {
      "text/plain": [
       "(398, 9)"
      ]
     },
     "execution_count": 3,
     "metadata": {},
     "output_type": "execute_result"
    }
   ],
   "source": [
    "mpg.shape"
   ]
  },
  {
   "cell_type": "code",
   "execution_count": 7,
   "id": "534b7014-cf40-4036-a21a-dee5dba38633",
   "metadata": {},
   "outputs": [
    {
     "data": {
      "text/html": [
       "<div>\n",
       "<style scoped>\n",
       "    .dataframe tbody tr th:only-of-type {\n",
       "        vertical-align: middle;\n",
       "    }\n",
       "\n",
       "    .dataframe tbody tr th {\n",
       "        vertical-align: top;\n",
       "    }\n",
       "\n",
       "    .dataframe thead th {\n",
       "        text-align: right;\n",
       "    }\n",
       "</style>\n",
       "<table border=\"1\" class=\"dataframe\">\n",
       "  <thead>\n",
       "    <tr style=\"text-align: right;\">\n",
       "      <th></th>\n",
       "      <th>A</th>\n",
       "      <th>B</th>\n",
       "    </tr>\n",
       "  </thead>\n",
       "  <tbody>\n",
       "    <tr>\n",
       "      <th>0</th>\n",
       "      <td>1</td>\n",
       "      <td>4</td>\n",
       "    </tr>\n",
       "    <tr>\n",
       "      <th>1</th>\n",
       "      <td>2</td>\n",
       "      <td>5</td>\n",
       "    </tr>\n",
       "    <tr>\n",
       "      <th>2</th>\n",
       "      <td>3</td>\n",
       "      <td>6</td>\n",
       "    </tr>\n",
       "  </tbody>\n",
       "</table>\n",
       "</div>"
      ],
      "text/plain": [
       "   A  B\n",
       "0  1  4\n",
       "1  2  5\n",
       "2  3  6"
      ]
     },
     "execution_count": 7,
     "metadata": {},
     "output_type": "execute_result"
    }
   ],
   "source": [
    "data = {'A': [1, 2, 3],\n",
    "        'B': [4, 5, 6]}\n",
    "original_df = pd.DataFrame(data)\n",
    "original_df"
   ]
  },
  {
   "cell_type": "code",
   "execution_count": 8,
   "id": "10d421ee-ed8d-40db-9590-1328c90c94b4",
   "metadata": {},
   "outputs": [
    {
     "data": {
      "text/html": [
       "<div>\n",
       "<style scoped>\n",
       "    .dataframe tbody tr th:only-of-type {\n",
       "        vertical-align: middle;\n",
       "    }\n",
       "\n",
       "    .dataframe tbody tr th {\n",
       "        vertical-align: top;\n",
       "    }\n",
       "\n",
       "    .dataframe thead th {\n",
       "        text-align: right;\n",
       "    }\n",
       "</style>\n",
       "<table border=\"1\" class=\"dataframe\">\n",
       "  <thead>\n",
       "    <tr style=\"text-align: right;\">\n",
       "      <th></th>\n",
       "      <th>A</th>\n",
       "      <th>B</th>\n",
       "    </tr>\n",
       "  </thead>\n",
       "  <tbody>\n",
       "    <tr>\n",
       "      <th>0</th>\n",
       "      <td>1</td>\n",
       "      <td>4</td>\n",
       "    </tr>\n",
       "    <tr>\n",
       "      <th>1</th>\n",
       "      <td>2</td>\n",
       "      <td>5</td>\n",
       "    </tr>\n",
       "    <tr>\n",
       "      <th>2</th>\n",
       "      <td>3</td>\n",
       "      <td>6</td>\n",
       "    </tr>\n",
       "  </tbody>\n",
       "</table>\n",
       "</div>"
      ],
      "text/plain": [
       "   A  B\n",
       "0  1  4\n",
       "1  2  5\n",
       "2  3  6"
      ]
     },
     "execution_count": 8,
     "metadata": {},
     "output_type": "execute_result"
    }
   ],
   "source": [
    "# Scenario 1: Without .copy()\n",
    "df1 = original_df  # df1 is a reference to the original DataFrame\n",
    "df1"
   ]
  },
  {
   "cell_type": "code",
   "execution_count": 9,
   "id": "96915242-44ba-4531-be69-a0159e3b7f25",
   "metadata": {},
   "outputs": [
    {
     "data": {
      "text/html": [
       "<div>\n",
       "<style scoped>\n",
       "    .dataframe tbody tr th:only-of-type {\n",
       "        vertical-align: middle;\n",
       "    }\n",
       "\n",
       "    .dataframe tbody tr th {\n",
       "        vertical-align: top;\n",
       "    }\n",
       "\n",
       "    .dataframe thead th {\n",
       "        text-align: right;\n",
       "    }\n",
       "</style>\n",
       "<table border=\"1\" class=\"dataframe\">\n",
       "  <thead>\n",
       "    <tr style=\"text-align: right;\">\n",
       "      <th></th>\n",
       "      <th>A</th>\n",
       "      <th>B</th>\n",
       "      <th>C</th>\n",
       "    </tr>\n",
       "  </thead>\n",
       "  <tbody>\n",
       "    <tr>\n",
       "      <th>0</th>\n",
       "      <td>1</td>\n",
       "      <td>4</td>\n",
       "      <td>7</td>\n",
       "    </tr>\n",
       "    <tr>\n",
       "      <th>1</th>\n",
       "      <td>2</td>\n",
       "      <td>5</td>\n",
       "      <td>8</td>\n",
       "    </tr>\n",
       "    <tr>\n",
       "      <th>2</th>\n",
       "      <td>3</td>\n",
       "      <td>6</td>\n",
       "      <td>9</td>\n",
       "    </tr>\n",
       "  </tbody>\n",
       "</table>\n",
       "</div>"
      ],
      "text/plain": [
       "   A  B  C\n",
       "0  1  4  7\n",
       "1  2  5  8\n",
       "2  3  6  9"
      ]
     },
     "execution_count": 9,
     "metadata": {},
     "output_type": "execute_result"
    }
   ],
   "source": [
    "# Modify df1\n",
    "df1['C'] = [7, 8, 9]\n",
    "df1"
   ]
  },
  {
   "cell_type": "code",
   "execution_count": 10,
   "id": "08c1480b-8909-491e-8d95-e7afb90121e7",
   "metadata": {},
   "outputs": [
    {
     "data": {
      "text/html": [
       "<div>\n",
       "<style scoped>\n",
       "    .dataframe tbody tr th:only-of-type {\n",
       "        vertical-align: middle;\n",
       "    }\n",
       "\n",
       "    .dataframe tbody tr th {\n",
       "        vertical-align: top;\n",
       "    }\n",
       "\n",
       "    .dataframe thead th {\n",
       "        text-align: right;\n",
       "    }\n",
       "</style>\n",
       "<table border=\"1\" class=\"dataframe\">\n",
       "  <thead>\n",
       "    <tr style=\"text-align: right;\">\n",
       "      <th></th>\n",
       "      <th>A</th>\n",
       "      <th>B</th>\n",
       "      <th>C</th>\n",
       "    </tr>\n",
       "  </thead>\n",
       "  <tbody>\n",
       "    <tr>\n",
       "      <th>0</th>\n",
       "      <td>1</td>\n",
       "      <td>4</td>\n",
       "      <td>7</td>\n",
       "    </tr>\n",
       "    <tr>\n",
       "      <th>1</th>\n",
       "      <td>2</td>\n",
       "      <td>5</td>\n",
       "      <td>8</td>\n",
       "    </tr>\n",
       "    <tr>\n",
       "      <th>2</th>\n",
       "      <td>3</td>\n",
       "      <td>6</td>\n",
       "      <td>9</td>\n",
       "    </tr>\n",
       "  </tbody>\n",
       "</table>\n",
       "</div>"
      ],
      "text/plain": [
       "   A  B  C\n",
       "0  1  4  7\n",
       "1  2  5  8\n",
       "2  3  6  9"
      ]
     },
     "execution_count": 10,
     "metadata": {},
     "output_type": "execute_result"
    }
   ],
   "source": [
    "#look at original df \n",
    "original_df\n",
    "# we modified df1 BUT changes took effect on the original_df"
   ]
  },
  {
   "cell_type": "code",
   "execution_count": 11,
   "id": "d953af3f-9736-4da4-9712-37ed8645c612",
   "metadata": {},
   "outputs": [
    {
     "data": {
      "text/html": [
       "<div>\n",
       "<style scoped>\n",
       "    .dataframe tbody tr th:only-of-type {\n",
       "        vertical-align: middle;\n",
       "    }\n",
       "\n",
       "    .dataframe tbody tr th {\n",
       "        vertical-align: top;\n",
       "    }\n",
       "\n",
       "    .dataframe thead th {\n",
       "        text-align: right;\n",
       "    }\n",
       "</style>\n",
       "<table border=\"1\" class=\"dataframe\">\n",
       "  <thead>\n",
       "    <tr style=\"text-align: right;\">\n",
       "      <th></th>\n",
       "      <th>A</th>\n",
       "      <th>B</th>\n",
       "      <th>C</th>\n",
       "    </tr>\n",
       "  </thead>\n",
       "  <tbody>\n",
       "    <tr>\n",
       "      <th>0</th>\n",
       "      <td>1</td>\n",
       "      <td>4</td>\n",
       "      <td>7</td>\n",
       "    </tr>\n",
       "    <tr>\n",
       "      <th>1</th>\n",
       "      <td>2</td>\n",
       "      <td>5</td>\n",
       "      <td>8</td>\n",
       "    </tr>\n",
       "    <tr>\n",
       "      <th>2</th>\n",
       "      <td>3</td>\n",
       "      <td>6</td>\n",
       "      <td>9</td>\n",
       "    </tr>\n",
       "  </tbody>\n",
       "</table>\n",
       "</div>"
      ],
      "text/plain": [
       "   A  B  C\n",
       "0  1  4  7\n",
       "1  2  5  8\n",
       "2  3  6  9"
      ]
     },
     "execution_count": 11,
     "metadata": {},
     "output_type": "execute_result"
    }
   ],
   "source": [
    "# now we make a copy of original_df (which still gas changes brought about by df1 mod)\n",
    "df2 = original_df.copy()\n",
    "df2"
   ]
  },
  {
   "cell_type": "code",
   "execution_count": 12,
   "id": "73b518c2-6b70-44d3-84e8-1581bbab5ced",
   "metadata": {},
   "outputs": [
    {
     "data": {
      "text/html": [
       "<div>\n",
       "<style scoped>\n",
       "    .dataframe tbody tr th:only-of-type {\n",
       "        vertical-align: middle;\n",
       "    }\n",
       "\n",
       "    .dataframe tbody tr th {\n",
       "        vertical-align: top;\n",
       "    }\n",
       "\n",
       "    .dataframe thead th {\n",
       "        text-align: right;\n",
       "    }\n",
       "</style>\n",
       "<table border=\"1\" class=\"dataframe\">\n",
       "  <thead>\n",
       "    <tr style=\"text-align: right;\">\n",
       "      <th></th>\n",
       "      <th>A</th>\n",
       "      <th>B</th>\n",
       "      <th>C</th>\n",
       "      <th>D</th>\n",
       "    </tr>\n",
       "  </thead>\n",
       "  <tbody>\n",
       "    <tr>\n",
       "      <th>0</th>\n",
       "      <td>1</td>\n",
       "      <td>4</td>\n",
       "      <td>7</td>\n",
       "      <td>10</td>\n",
       "    </tr>\n",
       "    <tr>\n",
       "      <th>1</th>\n",
       "      <td>2</td>\n",
       "      <td>5</td>\n",
       "      <td>8</td>\n",
       "      <td>11</td>\n",
       "    </tr>\n",
       "    <tr>\n",
       "      <th>2</th>\n",
       "      <td>3</td>\n",
       "      <td>6</td>\n",
       "      <td>9</td>\n",
       "      <td>12</td>\n",
       "    </tr>\n",
       "  </tbody>\n",
       "</table>\n",
       "</div>"
      ],
      "text/plain": [
       "   A  B  C   D\n",
       "0  1  4  7  10\n",
       "1  2  5  8  11\n",
       "2  3  6  9  12"
      ]
     },
     "execution_count": 12,
     "metadata": {},
     "output_type": "execute_result"
    }
   ],
   "source": [
    "# Modify df2\n",
    "df2['D'] = [10, 11, 12]\n",
    "df2"
   ]
  },
  {
   "cell_type": "code",
   "execution_count": 13,
   "id": "a1ab89cf-5c88-4020-9d0b-f8b3368c6173",
   "metadata": {},
   "outputs": [
    {
     "data": {
      "text/html": [
       "<div>\n",
       "<style scoped>\n",
       "    .dataframe tbody tr th:only-of-type {\n",
       "        vertical-align: middle;\n",
       "    }\n",
       "\n",
       "    .dataframe tbody tr th {\n",
       "        vertical-align: top;\n",
       "    }\n",
       "\n",
       "    .dataframe thead th {\n",
       "        text-align: right;\n",
       "    }\n",
       "</style>\n",
       "<table border=\"1\" class=\"dataframe\">\n",
       "  <thead>\n",
       "    <tr style=\"text-align: right;\">\n",
       "      <th></th>\n",
       "      <th>A</th>\n",
       "      <th>B</th>\n",
       "      <th>C</th>\n",
       "    </tr>\n",
       "  </thead>\n",
       "  <tbody>\n",
       "    <tr>\n",
       "      <th>0</th>\n",
       "      <td>1</td>\n",
       "      <td>4</td>\n",
       "      <td>7</td>\n",
       "    </tr>\n",
       "    <tr>\n",
       "      <th>1</th>\n",
       "      <td>2</td>\n",
       "      <td>5</td>\n",
       "      <td>8</td>\n",
       "    </tr>\n",
       "    <tr>\n",
       "      <th>2</th>\n",
       "      <td>3</td>\n",
       "      <td>6</td>\n",
       "      <td>9</td>\n",
       "    </tr>\n",
       "  </tbody>\n",
       "</table>\n",
       "</div>"
      ],
      "text/plain": [
       "   A  B  C\n",
       "0  1  4  7\n",
       "1  2  5  8\n",
       "2  3  6  9"
      ]
     },
     "execution_count": 13,
     "metadata": {},
     "output_type": "execute_result"
    }
   ],
   "source": [
    "# now original_df stays same, does not have D column\n",
    "original_df"
   ]
  },
  {
   "cell_type": "code",
   "execution_count": 25,
   "id": "93894258-0336-4a12-a618-40162de17cb7",
   "metadata": {},
   "outputs": [],
   "source": [
    "from openbb_terminal.sdk import openbb"
   ]
  },
  {
   "cell_type": "code",
   "execution_count": 47,
   "id": "4e416f0e-f97e-4463-8408-a4f749d1b8f1",
   "metadata": {},
   "outputs": [
    {
     "data": {
      "text/html": [
       "<pre style=\"white-space:pre;overflow-x:auto;line-height:normal;font-family:Menlo,'DejaVu Sans Mono',consolas,'Courier New',monospace\">Loading Daily data for TSLA with starting period 2013-11-11.\n",
       "</pre>\n"
      ],
      "text/plain": [
       "Loading Daily data for TSLA with starting period 2013-11-11.\n"
      ]
     },
     "metadata": {},
     "output_type": "display_data"
    },
    {
     "data": {
      "text/html": [
       "<div>\n",
       "<style scoped>\n",
       "    .dataframe tbody tr th:only-of-type {\n",
       "        vertical-align: middle;\n",
       "    }\n",
       "\n",
       "    .dataframe tbody tr th {\n",
       "        vertical-align: top;\n",
       "    }\n",
       "\n",
       "    .dataframe thead th {\n",
       "        text-align: right;\n",
       "    }\n",
       "</style>\n",
       "<table border=\"1\" class=\"dataframe\">\n",
       "  <thead>\n",
       "    <tr style=\"text-align: right;\">\n",
       "      <th></th>\n",
       "      <th>Open</th>\n",
       "      <th>High</th>\n",
       "      <th>Low</th>\n",
       "      <th>Close</th>\n",
       "      <th>Adj Close</th>\n",
       "      <th>Volume</th>\n",
       "      <th>Dividends</th>\n",
       "      <th>Stock Splits</th>\n",
       "    </tr>\n",
       "    <tr>\n",
       "      <th>date</th>\n",
       "      <th></th>\n",
       "      <th></th>\n",
       "      <th></th>\n",
       "      <th></th>\n",
       "      <th></th>\n",
       "      <th></th>\n",
       "      <th></th>\n",
       "      <th></th>\n",
       "    </tr>\n",
       "  </thead>\n",
       "  <tbody>\n",
       "    <tr>\n",
       "      <th>2013-11-11</th>\n",
       "      <td>9.400000</td>\n",
       "      <td>9.694667</td>\n",
       "      <td>9.140000</td>\n",
       "      <td>9.646667</td>\n",
       "      <td>9.646667</td>\n",
       "      <td>209964000</td>\n",
       "      <td>0.0</td>\n",
       "      <td>0.0</td>\n",
       "    </tr>\n",
       "    <tr>\n",
       "      <th>2013-11-12</th>\n",
       "      <td>9.646000</td>\n",
       "      <td>9.646667</td>\n",
       "      <td>9.078667</td>\n",
       "      <td>9.186667</td>\n",
       "      <td>9.186667</td>\n",
       "      <td>224778000</td>\n",
       "      <td>0.0</td>\n",
       "      <td>0.0</td>\n",
       "    </tr>\n",
       "    <tr>\n",
       "      <th>2013-11-13</th>\n",
       "      <td>9.389333</td>\n",
       "      <td>9.491333</td>\n",
       "      <td>9.089333</td>\n",
       "      <td>9.246667</td>\n",
       "      <td>9.246667</td>\n",
       "      <td>189874500</td>\n",
       "      <td>0.0</td>\n",
       "      <td>0.0</td>\n",
       "    </tr>\n",
       "    <tr>\n",
       "      <th>2013-11-14</th>\n",
       "      <td>9.261333</td>\n",
       "      <td>9.360000</td>\n",
       "      <td>8.940667</td>\n",
       "      <td>9.173333</td>\n",
       "      <td>9.173333</td>\n",
       "      <td>183055500</td>\n",
       "      <td>0.0</td>\n",
       "      <td>0.0</td>\n",
       "    </tr>\n",
       "    <tr>\n",
       "      <th>2013-11-15</th>\n",
       "      <td>9.123333</td>\n",
       "      <td>9.196667</td>\n",
       "      <td>8.956667</td>\n",
       "      <td>9.030000</td>\n",
       "      <td>9.030000</td>\n",
       "      <td>148503000</td>\n",
       "      <td>0.0</td>\n",
       "      <td>0.0</td>\n",
       "    </tr>\n",
       "    <tr>\n",
       "      <th>...</th>\n",
       "      <td>...</td>\n",
       "      <td>...</td>\n",
       "      <td>...</td>\n",
       "      <td>...</td>\n",
       "      <td>...</td>\n",
       "      <td>...</td>\n",
       "      <td>...</td>\n",
       "      <td>...</td>\n",
       "    </tr>\n",
       "    <tr>\n",
       "      <th>2023-11-03</th>\n",
       "      <td>221.149994</td>\n",
       "      <td>226.369995</td>\n",
       "      <td>218.399994</td>\n",
       "      <td>219.960007</td>\n",
       "      <td>219.960007</td>\n",
       "      <td>119281000</td>\n",
       "      <td>0.0</td>\n",
       "      <td>0.0</td>\n",
       "    </tr>\n",
       "    <tr>\n",
       "      <th>2023-11-06</th>\n",
       "      <td>223.979996</td>\n",
       "      <td>226.320007</td>\n",
       "      <td>215.000000</td>\n",
       "      <td>219.270004</td>\n",
       "      <td>219.270004</td>\n",
       "      <td>117335800</td>\n",
       "      <td>0.0</td>\n",
       "      <td>0.0</td>\n",
       "    </tr>\n",
       "    <tr>\n",
       "      <th>2023-11-07</th>\n",
       "      <td>219.979996</td>\n",
       "      <td>223.119995</td>\n",
       "      <td>215.720001</td>\n",
       "      <td>222.179993</td>\n",
       "      <td>222.179993</td>\n",
       "      <td>116900100</td>\n",
       "      <td>0.0</td>\n",
       "      <td>0.0</td>\n",
       "    </tr>\n",
       "    <tr>\n",
       "      <th>2023-11-08</th>\n",
       "      <td>223.149994</td>\n",
       "      <td>224.149994</td>\n",
       "      <td>217.639999</td>\n",
       "      <td>222.110001</td>\n",
       "      <td>222.110001</td>\n",
       "      <td>106584800</td>\n",
       "      <td>0.0</td>\n",
       "      <td>0.0</td>\n",
       "    </tr>\n",
       "    <tr>\n",
       "      <th>2023-11-09</th>\n",
       "      <td>219.750000</td>\n",
       "      <td>220.800003</td>\n",
       "      <td>206.679993</td>\n",
       "      <td>209.979996</td>\n",
       "      <td>209.979996</td>\n",
       "      <td>141737400</td>\n",
       "      <td>0.0</td>\n",
       "      <td>0.0</td>\n",
       "    </tr>\n",
       "  </tbody>\n",
       "</table>\n",
       "<p>2517 rows × 8 columns</p>\n",
       "</div>"
      ],
      "text/plain": [
       "                  Open        High         Low       Close   Adj Close  \\\n",
       "date                                                                     \n",
       "2013-11-11    9.400000    9.694667    9.140000    9.646667    9.646667   \n",
       "2013-11-12    9.646000    9.646667    9.078667    9.186667    9.186667   \n",
       "2013-11-13    9.389333    9.491333    9.089333    9.246667    9.246667   \n",
       "2013-11-14    9.261333    9.360000    8.940667    9.173333    9.173333   \n",
       "2013-11-15    9.123333    9.196667    8.956667    9.030000    9.030000   \n",
       "...                ...         ...         ...         ...         ...   \n",
       "2023-11-03  221.149994  226.369995  218.399994  219.960007  219.960007   \n",
       "2023-11-06  223.979996  226.320007  215.000000  219.270004  219.270004   \n",
       "2023-11-07  219.979996  223.119995  215.720001  222.179993  222.179993   \n",
       "2023-11-08  223.149994  224.149994  217.639999  222.110001  222.110001   \n",
       "2023-11-09  219.750000  220.800003  206.679993  209.979996  209.979996   \n",
       "\n",
       "               Volume  Dividends  Stock Splits  \n",
       "date                                            \n",
       "2013-11-11  209964000        0.0           0.0  \n",
       "2013-11-12  224778000        0.0           0.0  \n",
       "2013-11-13  189874500        0.0           0.0  \n",
       "2013-11-14  183055500        0.0           0.0  \n",
       "2013-11-15  148503000        0.0           0.0  \n",
       "...               ...        ...           ...  \n",
       "2023-11-03  119281000        0.0           0.0  \n",
       "2023-11-06  117335800        0.0           0.0  \n",
       "2023-11-07  116900100        0.0           0.0  \n",
       "2023-11-08  106584800        0.0           0.0  \n",
       "2023-11-09  141737400        0.0           0.0  \n",
       "\n",
       "[2517 rows x 8 columns]"
      ]
     },
     "execution_count": 47,
     "metadata": {},
     "output_type": "execute_result"
    }
   ],
   "source": [
    "start = '2013-11-09'\n",
    "end = '2023-11-09'\n",
    "\n",
    "aapl = openbb.stocks.load('TSLA', start_date=start, end_date=end)\n",
    "aapl"
   ]
  },
  {
   "cell_type": "code",
   "execution_count": 48,
   "id": "8d21f3f1-4670-4f30-8f7b-357fa43ce878",
   "metadata": {},
   "outputs": [
    {
     "data": {
      "text/plain": [
       "<AxesSubplot: xlabel='date'>"
      ]
     },
     "execution_count": 48,
     "metadata": {},
     "output_type": "execute_result"
    },
    {
     "data": {
      "image/png": "[encoded data removed]",
      "text/plain": [
       "<Figure size 640x480 with 1 Axes>"
      ]
     },
     "metadata": {},
     "output_type": "display_data"
    }
   ],
   "source": [
    "aapl['Close'].plot()"
   ]
  },
  {
   "cell_type": "code",
   "execution_count": 49,
   "id": "b6fc8a95-bce4-4b6a-bd8d-6a44058ab79e",
   "metadata": {},
   "outputs": [
    {
     "data": {
      "text/html": [
       "<div>\n",
       "<style scoped>\n",
       "    .dataframe tbody tr th:only-of-type {\n",
       "        vertical-align: middle;\n",
       "    }\n",
       "\n",
       "    .dataframe tbody tr th {\n",
       "        vertical-align: top;\n",
       "    }\n",
       "\n",
       "    .dataframe thead th {\n",
       "        text-align: right;\n",
       "    }\n",
       "</style>\n",
       "<table border=\"1\" class=\"dataframe\">\n",
       "  <thead>\n",
       "    <tr style=\"text-align: right;\">\n",
       "      <th></th>\n",
       "      <th>2023-06-30</th>\n",
       "      <th>2022-06-30</th>\n",
       "      <th>2021-06-30</th>\n",
       "      <th>2020-06-30</th>\n",
       "    </tr>\n",
       "    <tr>\n",
       "      <th>Breakdown</th>\n",
       "      <th></th>\n",
       "      <th></th>\n",
       "      <th></th>\n",
       "      <th></th>\n",
       "    </tr>\n",
       "  </thead>\n",
       "  <tbody>\n",
       "    <tr>\n",
       "      <th>Cash and cash equivalents</th>\n",
       "      <td>34704000.0</td>\n",
       "      <td>13931000.0</td>\n",
       "      <td>14224000.0</td>\n",
       "      <td>13576000.0</td>\n",
       "    </tr>\n",
       "    <tr>\n",
       "      <th>Other short-term investments</th>\n",
       "      <td>76558000.0</td>\n",
       "      <td>90826000.0</td>\n",
       "      <td>116110000.0</td>\n",
       "      <td>122951000.0</td>\n",
       "    </tr>\n",
       "    <tr>\n",
       "      <th>Total cash</th>\n",
       "      <td>111262000.0</td>\n",
       "      <td>104757000.0</td>\n",
       "      <td>130334000.0</td>\n",
       "      <td>136527000.0</td>\n",
       "    </tr>\n",
       "    <tr>\n",
       "      <th>Net receivables</th>\n",
       "      <td>48688000.0</td>\n",
       "      <td>44261000.0</td>\n",
       "      <td>38043000.0</td>\n",
       "      <td>32011000.0</td>\n",
       "    </tr>\n",
       "    <tr>\n",
       "      <th>Inventory</th>\n",
       "      <td>2500000.0</td>\n",
       "      <td>3742000.0</td>\n",
       "      <td>2636000.0</td>\n",
       "      <td>1895000.0</td>\n",
       "    </tr>\n",
       "    <tr>\n",
       "      <th>Other current assets</th>\n",
       "      <td>21807000.0</td>\n",
       "      <td>16924000.0</td>\n",
       "      <td>13393000.0</td>\n",
       "      <td>11482000.0</td>\n",
       "    </tr>\n",
       "    <tr>\n",
       "      <th>Total current assets</th>\n",
       "      <td>184257000.0</td>\n",
       "      <td>169684000.0</td>\n",
       "      <td>184406000.0</td>\n",
       "      <td>181915000.0</td>\n",
       "    </tr>\n",
       "    <tr>\n",
       "      <th>Gross property, plant and equipment</th>\n",
       "      <td>178238000.0</td>\n",
       "      <td>147206000.0</td>\n",
       "      <td>122154000.0</td>\n",
       "      <td>96101000.0</td>\n",
       "    </tr>\n",
       "    <tr>\n",
       "      <th>Accumulated depreciation</th>\n",
       "      <td>-68251000.0</td>\n",
       "      <td>-59660000.0</td>\n",
       "      <td>-51351000.0</td>\n",
       "      <td>-43197000.0</td>\n",
       "    </tr>\n",
       "    <tr>\n",
       "      <th>Net property, plant and equipment</th>\n",
       "      <td>109987000.0</td>\n",
       "      <td>87546000.0</td>\n",
       "      <td>70803000.0</td>\n",
       "      <td>52904000.0</td>\n",
       "    </tr>\n",
       "    <tr>\n",
       "      <th>Equity and other investments</th>\n",
       "      <td>9879000.0</td>\n",
       "      <td>6891000.0</td>\n",
       "      <td>5984000.0</td>\n",
       "      <td>2965000.0</td>\n",
       "    </tr>\n",
       "    <tr>\n",
       "      <th>Goodwill</th>\n",
       "      <td>67886000.0</td>\n",
       "      <td>67524000.0</td>\n",
       "      <td>49711000.0</td>\n",
       "      <td>43351000.0</td>\n",
       "    </tr>\n",
       "    <tr>\n",
       "      <th>Intangible assets</th>\n",
       "      <td>9366000.0</td>\n",
       "      <td>11298000.0</td>\n",
       "      <td>7800000.0</td>\n",
       "      <td>7038000.0</td>\n",
       "    </tr>\n",
       "    <tr>\n",
       "      <th>Other long-term assets</th>\n",
       "      <td>30601000.0</td>\n",
       "      <td>21897000.0</td>\n",
       "      <td>15075000.0</td>\n",
       "      <td>13138000.0</td>\n",
       "    </tr>\n",
       "    <tr>\n",
       "      <th>Total non-current assets</th>\n",
       "      <td>227719000.0</td>\n",
       "      <td>195156000.0</td>\n",
       "      <td>149373000.0</td>\n",
       "      <td>119396000.0</td>\n",
       "    </tr>\n",
       "    <tr>\n",
       "      <th>Total assets</th>\n",
       "      <td>411976000.0</td>\n",
       "      <td>364840000.0</td>\n",
       "      <td>333779000.0</td>\n",
       "      <td>301311000.0</td>\n",
       "    </tr>\n",
       "    <tr>\n",
       "      <th>Current debt</th>\n",
       "      <td>5247000.0</td>\n",
       "      <td>2749000.0</td>\n",
       "      <td>8072000.0</td>\n",
       "      <td>3749000.0</td>\n",
       "    </tr>\n",
       "    <tr>\n",
       "      <th>Accounts payable</th>\n",
       "      <td>18095000.0</td>\n",
       "      <td>19000000.0</td>\n",
       "      <td>15163000.0</td>\n",
       "      <td>12530000.0</td>\n",
       "    </tr>\n",
       "    <tr>\n",
       "      <th>Taxes payable</th>\n",
       "      <td>4152000.0</td>\n",
       "      <td>4067000.0</td>\n",
       "      <td>2174000.0</td>\n",
       "      <td>2130000.0</td>\n",
       "    </tr>\n",
       "    <tr>\n",
       "      <th>Deferred revenues</th>\n",
       "      <td>50901000.0</td>\n",
       "      <td>45538000.0</td>\n",
       "      <td>41525000.0</td>\n",
       "      <td>36000000.0</td>\n",
       "    </tr>\n",
       "    <tr>\n",
       "      <th>Other current liabilities</th>\n",
       "      <td>14745000.0</td>\n",
       "      <td>13067000.0</td>\n",
       "      <td>11666000.0</td>\n",
       "      <td>10027000.0</td>\n",
       "    </tr>\n",
       "    <tr>\n",
       "      <th>Total current liabilities</th>\n",
       "      <td>104149000.0</td>\n",
       "      <td>95082000.0</td>\n",
       "      <td>88657000.0</td>\n",
       "      <td>72310000.0</td>\n",
       "    </tr>\n",
       "    <tr>\n",
       "      <th>Long-term debt</th>\n",
       "      <td>41990000.0</td>\n",
       "      <td>47032000.0</td>\n",
       "      <td>50074000.0</td>\n",
       "      <td>59578000.0</td>\n",
       "    </tr>\n",
       "    <tr>\n",
       "      <th>Deferred tax liabilities</th>\n",
       "      <td>433000.0</td>\n",
       "      <td>230000.0</td>\n",
       "      <td>198000.0</td>\n",
       "      <td>204000.0</td>\n",
       "    </tr>\n",
       "    <tr>\n",
       "      <th>Deferred revenues</th>\n",
       "      <td>2912000.0</td>\n",
       "      <td>2870000.0</td>\n",
       "      <td>2616000.0</td>\n",
       "      <td>3180000.0</td>\n",
       "    </tr>\n",
       "    <tr>\n",
       "      <th>Other long-term liabilities</th>\n",
       "      <td>17981000.0</td>\n",
       "      <td>15526000.0</td>\n",
       "      <td>13427000.0</td>\n",
       "      <td>10632000.0</td>\n",
       "    </tr>\n",
       "    <tr>\n",
       "      <th>Total non-current liabilities</th>\n",
       "      <td>101604000.0</td>\n",
       "      <td>103216000.0</td>\n",
       "      <td>103134000.0</td>\n",
       "      <td>110697000.0</td>\n",
       "    </tr>\n",
       "    <tr>\n",
       "      <th>Total liabilities</th>\n",
       "      <td>205753000.0</td>\n",
       "      <td>198298000.0</td>\n",
       "      <td>191791000.0</td>\n",
       "      <td>183007000.0</td>\n",
       "    </tr>\n",
       "    <tr>\n",
       "      <th>Common stock</th>\n",
       "      <td>93718000.0</td>\n",
       "      <td>86939000.0</td>\n",
       "      <td>83111000.0</td>\n",
       "      <td>80552000.0</td>\n",
       "    </tr>\n",
       "    <tr>\n",
       "      <th>Retained earnings</th>\n",
       "      <td>118848000.0</td>\n",
       "      <td>84281000.0</td>\n",
       "      <td>57055000.0</td>\n",
       "      <td>34566000.0</td>\n",
       "    </tr>\n",
       "    <tr>\n",
       "      <th>Accumulated other comprehensive income</th>\n",
       "      <td>-6343000.0</td>\n",
       "      <td>-4678000.0</td>\n",
       "      <td>1822000.0</td>\n",
       "      <td>3186000.0</td>\n",
       "    </tr>\n",
       "    <tr>\n",
       "      <th>Total stockholders' equity</th>\n",
       "      <td>206223000.0</td>\n",
       "      <td>166542000.0</td>\n",
       "      <td>141988000.0</td>\n",
       "      <td>118304000.0</td>\n",
       "    </tr>\n",
       "    <tr>\n",
       "      <th>Total liabilities and stockholders' equity</th>\n",
       "      <td>411976000.0</td>\n",
       "      <td>364840000.0</td>\n",
       "      <td>333779000.0</td>\n",
       "      <td>301311000.0</td>\n",
       "    </tr>\n",
       "  </tbody>\n",
       "</table>\n",
       "</div>"
      ],
      "text/plain": [
       "                                             2023-06-30   2022-06-30  \\\n",
       "Breakdown                                                              \n",
       "Cash and cash equivalents                    34704000.0   13931000.0   \n",
       "Other short-term investments                 76558000.0   90826000.0   \n",
       "Total cash                                  111262000.0  104757000.0   \n",
       "Net receivables                              48688000.0   44261000.0   \n",
       "Inventory                                     2500000.0    3742000.0   \n",
       "Other current assets                         21807000.0   16924000.0   \n",
       "Total current assets                        184257000.0  169684000.0   \n",
       "Gross property, plant and equipment         178238000.0  147206000.0   \n",
       "Accumulated depreciation                    -68251000.0  -59660000.0   \n",
       "Net property, plant and equipment           109987000.0   87546000.0   \n",
       "Equity and other investments                  9879000.0    6891000.0   \n",
       "Goodwill                                     67886000.0   67524000.0   \n",
       "Intangible assets                             9366000.0   11298000.0   \n",
       "Other long-term assets                       30601000.0   21897000.0   \n",
       "Total non-current assets                    227719000.0  195156000.0   \n",
       "Total assets                                411976000.0  364840000.0   \n",
       "Current debt                                  5247000.0    2749000.0   \n",
       "Accounts payable                             18095000.0   19000000.0   \n",
       "Taxes payable                                 4152000.0    4067000.0   \n",
       "Deferred revenues                            50901000.0   45538000.0   \n",
       "Other current liabilities                    14745000.0   13067000.0   \n",
       "Total current liabilities                   104149000.0   95082000.0   \n",
       "Long-term debt                               41990000.0   47032000.0   \n",
       "Deferred tax liabilities                       433000.0     230000.0   \n",
       "Deferred revenues                             2912000.0    2870000.0   \n",
       "Other long-term liabilities                  17981000.0   15526000.0   \n",
       "Total non-current liabilities               101604000.0  103216000.0   \n",
       "Total liabilities                           205753000.0  198298000.0   \n",
       "Common stock                                 93718000.0   86939000.0   \n",
       "Retained earnings                           118848000.0   84281000.0   \n",
       "Accumulated other comprehensive income       -6343000.0   -4678000.0   \n",
       "Total stockholders' equity                  206223000.0  166542000.0   \n",
       "Total liabilities and stockholders' equity  411976000.0  364840000.0   \n",
       "\n",
       "                                             2021-06-30   2020-06-30  \n",
       "Breakdown                                                             \n",
       "Cash and cash equivalents                    14224000.0   13576000.0  \n",
       "Other short-term investments                116110000.0  122951000.0  \n",
       "Total cash                                  130334000.0  136527000.0  \n",
       "Net receivables                              38043000.0   32011000.0  \n",
       "Inventory                                     2636000.0    1895000.0  \n",
       "Other current assets                         13393000.0   11482000.0  \n",
       "Total current assets                        184406000.0  181915000.0  \n",
       "Gross property, plant and equipment         122154000.0   96101000.0  \n",
       "Accumulated depreciation                    -51351000.0  -43197000.0  \n",
       "Net property, plant and equipment            70803000.0   52904000.0  \n",
       "Equity and other investments                  5984000.0    2965000.0  \n",
       "Goodwill                                     49711000.0   43351000.0  \n",
       "Intangible assets                             7800000.0    7038000.0  \n",
       "Other long-term assets                       15075000.0   13138000.0  \n",
       "Total non-current assets                    149373000.0  119396000.0  \n",
       "Total assets                                333779000.0  301311000.0  \n",
       "Current debt                                  8072000.0    3749000.0  \n",
       "Accounts payable                             15163000.0   12530000.0  \n",
       "Taxes payable                                 2174000.0    2130000.0  \n",
       "Deferred revenues                            41525000.0   36000000.0  \n",
       "Other current liabilities                    11666000.0   10027000.0  \n",
       "Total current liabilities                    88657000.0   72310000.0  \n",
       "Long-term debt                               50074000.0   59578000.0  \n",
       "Deferred tax liabilities                       198000.0     204000.0  \n",
       "Deferred revenues                             2616000.0    3180000.0  \n",
       "Other long-term liabilities                  13427000.0   10632000.0  \n",
       "Total non-current liabilities               103134000.0  110697000.0  \n",
       "Total liabilities                           191791000.0  183007000.0  \n",
       "Common stock                                 83111000.0   80552000.0  \n",
       "Retained earnings                            57055000.0   34566000.0  \n",
       "Accumulated other comprehensive income        1822000.0    3186000.0  \n",
       "Total stockholders' equity                  141988000.0  118304000.0  \n",
       "Total liabilities and stockholders' equity  333779000.0  301311000.0  "
      ]
     },
     "execution_count": 49,
     "metadata": {},
     "output_type": "execute_result"
    }
   ],
   "source": [
    "openbb.stocks.fa.balance('MSFT')"
   ]
  },
  {
   "cell_type": "code",
   "execution_count": 50,
   "id": "80fcd077-9807-4919-b1f1-f1abc7b3988a",
   "metadata": {},
   "outputs": [
    {
     "data": {
      "text/html": [
       "<div>\n",
       "<style scoped>\n",
       "    .dataframe tbody tr th:only-of-type {\n",
       "        vertical-align: middle;\n",
       "    }\n",
       "\n",
       "    .dataframe tbody tr th {\n",
       "        vertical-align: top;\n",
       "    }\n",
       "\n",
       "    .dataframe thead th {\n",
       "        text-align: right;\n",
       "    }\n",
       "</style>\n",
       "<table border=\"1\" class=\"dataframe\">\n",
       "  <thead>\n",
       "    <tr style=\"text-align: right;\">\n",
       "      <th></th>\n",
       "      <th>XLV</th>\n",
       "    </tr>\n",
       "  </thead>\n",
       "  <tbody>\n",
       "    <tr>\n",
       "      <th>Assets</th>\n",
       "      <td>$36.25B</td>\n",
       "    </tr>\n",
       "    <tr>\n",
       "      <th>Expense Ratio</th>\n",
       "      <td>0.10%</td>\n",
       "    </tr>\n",
       "    <tr>\n",
       "      <th>PE Ratio</th>\n",
       "      <td>21.27</td>\n",
       "    </tr>\n",
       "    <tr>\n",
       "      <th>Shares Out</th>\n",
       "      <td>n/a</td>\n",
       "    </tr>\n",
       "    <tr>\n",
       "      <th>Dividend (ttm)</th>\n",
       "      <td>$2.13</td>\n",
       "    </tr>\n",
       "    <tr>\n",
       "      <th>Dividend Yield</th>\n",
       "      <td>1.70%</td>\n",
       "    </tr>\n",
       "    <tr>\n",
       "      <th>Ex-Dividend Date</th>\n",
       "      <td>Sep 18, 2023</td>\n",
       "    </tr>\n",
       "    <tr>\n",
       "      <th>Volume</th>\n",
       "      <td>13,871,034</td>\n",
       "    </tr>\n",
       "    <tr>\n",
       "      <th>Open</th>\n",
       "      <td>128.05</td>\n",
       "    </tr>\n",
       "    <tr>\n",
       "      <th>Previous Close</th>\n",
       "      <td>128.17</td>\n",
       "    </tr>\n",
       "    <tr>\n",
       "      <th>52-Week Low</th>\n",
       "      <td>122.59</td>\n",
       "    </tr>\n",
       "    <tr>\n",
       "      <th>52-Week High</th>\n",
       "      <td>141.77</td>\n",
       "    </tr>\n",
       "    <tr>\n",
       "      <th>Beta</th>\n",
       "      <td>n/a</td>\n",
       "    </tr>\n",
       "    <tr>\n",
       "      <th>Holdings</th>\n",
       "      <td>66</td>\n",
       "    </tr>\n",
       "  </tbody>\n",
       "</table>\n",
       "</div>"
      ],
      "text/plain": [
       "                           XLV\n",
       "Assets                 $36.25B\n",
       "Expense Ratio            0.10%\n",
       "PE Ratio                 21.27\n",
       "Shares Out                 n/a\n",
       "Dividend (ttm)           $2.13\n",
       "Dividend Yield           1.70%\n",
       "Ex-Dividend Date  Sep 18, 2023\n",
       "Volume              13,871,034\n",
       "Open                    128.05\n",
       "Previous Close          128.17\n",
       "52-Week Low             122.59\n",
       "52-Week High            141.77\n",
       "Beta                       n/a\n",
       "Holdings                    66"
      ]
     },
     "execution_count": 50,
     "metadata": {},
     "output_type": "execute_result"
    }
   ],
   "source": [
    "openbb.etf.overview('xlv')"
   ]
  },
  {
   "cell_type": "code",
   "execution_count": 51,
   "id": "d443fea4-cacd-4341-a492-a3729bf7dbc8",
   "metadata": {},
   "outputs": [
    {
     "data": {
      "text/html": [
       "<div>\n",
       "<style scoped>\n",
       "    .dataframe tbody tr th:only-of-type {\n",
       "        vertical-align: middle;\n",
       "    }\n",
       "\n",
       "    .dataframe tbody tr th {\n",
       "        vertical-align: top;\n",
       "    }\n",
       "\n",
       "    .dataframe thead th {\n",
       "        text-align: right;\n",
       "    }\n",
       "</style>\n",
       "<table border=\"1\" class=\"dataframe\">\n",
       "  <thead>\n",
       "    <tr style=\"text-align: right;\">\n",
       "      <th></th>\n",
       "      <th>XLK</th>\n",
       "      <th>XLV</th>\n",
       "    </tr>\n",
       "  </thead>\n",
       "  <tbody>\n",
       "    <tr>\n",
       "      <th>Assets</th>\n",
       "      <td>$48.99B</td>\n",
       "      <td>$36.25B</td>\n",
       "    </tr>\n",
       "    <tr>\n",
       "      <th>Expense Ratio</th>\n",
       "      <td>0.10%</td>\n",
       "      <td>0.10%</td>\n",
       "    </tr>\n",
       "    <tr>\n",
       "      <th>PE Ratio</th>\n",
       "      <td>33.15</td>\n",
       "      <td>21.27</td>\n",
       "    </tr>\n",
       "    <tr>\n",
       "      <th>Shares Out</th>\n",
       "      <td>n/a</td>\n",
       "      <td>n/a</td>\n",
       "    </tr>\n",
       "    <tr>\n",
       "      <th>Dividend (ttm)</th>\n",
       "      <td>$1.40</td>\n",
       "      <td>$2.13</td>\n",
       "    </tr>\n",
       "    <tr>\n",
       "      <th>Dividend Yield</th>\n",
       "      <td>0.80%</td>\n",
       "      <td>1.70%</td>\n",
       "    </tr>\n",
       "    <tr>\n",
       "      <th>Ex-Dividend Date</th>\n",
       "      <td>Sep 18, 2023</td>\n",
       "      <td>Sep 18, 2023</td>\n",
       "    </tr>\n",
       "    <tr>\n",
       "      <th>Volume</th>\n",
       "      <td>7,174,732</td>\n",
       "      <td>13,871,034</td>\n",
       "    </tr>\n",
       "    <tr>\n",
       "      <th>Open</th>\n",
       "      <td>176.03</td>\n",
       "      <td>128.05</td>\n",
       "    </tr>\n",
       "    <tr>\n",
       "      <th>Previous Close</th>\n",
       "      <td>175.77</td>\n",
       "      <td>128.17</td>\n",
       "    </tr>\n",
       "    <tr>\n",
       "      <th>52-Week Low</th>\n",
       "      <td>120.81</td>\n",
       "      <td>122.59</td>\n",
       "    </tr>\n",
       "    <tr>\n",
       "      <th>52-Week High</th>\n",
       "      <td>181.46</td>\n",
       "      <td>141.77</td>\n",
       "    </tr>\n",
       "    <tr>\n",
       "      <th>Beta</th>\n",
       "      <td>n/a</td>\n",
       "      <td>n/a</td>\n",
       "    </tr>\n",
       "    <tr>\n",
       "      <th>Holdings</th>\n",
       "      <td>67</td>\n",
       "      <td>66</td>\n",
       "    </tr>\n",
       "  </tbody>\n",
       "</table>\n",
       "</div>"
      ],
      "text/plain": [
       "                           XLK           XLV\n",
       "Assets                 $48.99B       $36.25B\n",
       "Expense Ratio            0.10%         0.10%\n",
       "PE Ratio                 33.15         21.27\n",
       "Shares Out                 n/a           n/a\n",
       "Dividend (ttm)           $1.40         $2.13\n",
       "Dividend Yield           0.80%         1.70%\n",
       "Ex-Dividend Date  Sep 18, 2023  Sep 18, 2023\n",
       "Volume               7,174,732    13,871,034\n",
       "Open                    176.03        128.05\n",
       "Previous Close          175.77        128.17\n",
       "52-Week Low             120.81        122.59\n",
       "52-Week High            181.46        141.77\n",
       "Beta                       n/a           n/a\n",
       "Holdings                    67            66"
      ]
     },
     "execution_count": 51,
     "metadata": {},
     "output_type": "execute_result"
    }
   ],
   "source": [
    "openbb.etf.compare(['xlk', 'xlv'])"
   ]
  },
  {
   "cell_type": "code",
   "execution_count": null,
   "id": "4419d92c-eb00-47f5-a09c-ec9c01538a2e",
   "metadata": {},
   "outputs": [],
   "source": []
  }
 ],
 "metadata": {
  "kernelspec": {
   "display_name": "Python 3 (ipykernel)",
   "language": "python",
   "name": "python3"
  },
  "language_info": {
   "codemirror_mode": {
    "name": "ipython",
    "version": 3
   },
   "file_extension": ".py",
   "mimetype": "text/x-python",
   "name": "python",
   "nbconvert_exporter": "python",
   "pygments_lexer": "ipython3",
   "version": "3.9.13"
  }
 },
 "nbformat": 4,
 "nbformat_minor": 5
}

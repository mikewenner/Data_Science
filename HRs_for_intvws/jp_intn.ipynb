{
 "cells": [
  {
   "cell_type": "code",
   "execution_count": null,
   "id": "f457c795-4bdc-4cfb-a817-dc96bd2d5521",
   "metadata": {},
   "outputs": [],
   "source": []
  },
  {
   "cell_type": "code",
   "execution_count": null,
   "id": "8ce824a3-5ef3-4ab8-8d03-ecd0e60a2c81",
   "metadata": {},
   "outputs": [],
   "source": []
  },
  {
   "cell_type": "code",
   "execution_count": 2,
   "id": "f5c4833d-bfd0-4aa7-b267-516cc6576b8d",
   "metadata": {},
   "outputs": [
    {
     "name": "stdout",
     "output_type": "stream",
     "text": [
      "2\n",
      "819\n"
     ]
    }
   ],
   "source": [
    "def maxIndex(steps, badIndex):\n",
    "    total_distance = (steps * (steps + 1)) // 2\n",
    "    \n",
    "    # If the badIndex is beyond the total_distance, then return total_distance directly.\n",
    "    if badIndex > total_distance:\n",
    "        return total_distance\n",
    "\n",
    "    # Calculate the distance covered before we have to reconsider our step.\n",
    "    distance_covered = 0\n",
    "    current_step = 1\n",
    "    while distance_covered + current_step < badIndex:\n",
    "        distance_covered += current_step\n",
    "        current_step += 1\n",
    "\n",
    "    # Now, check if we step on the badIndex with current_step.\n",
    "    if distance_covered + current_step == badIndex:\n",
    "        return total_distance - 1  # adjust by -1 for the detour, +1 in the next step nullifies it\n",
    "\n",
    "    # If we don't encounter badIndex at all, return the total_distance.\n",
    "    return total_distance\n",
    "\n",
    "# Test the function\n",
    "print(maxIndex(2, 1))  # Expected output: 2\n",
    "print(maxIndex(40, 10))  # Expected output: 819\n"
   ]
  },
  {
   "cell_type": "markdown",
   "id": "4021b8b7-b66c-4047-9a4e-1ecac86b698f",
   "metadata": {},
   "source": [
    "consider a string consisting of the characters < and > only.  the string is balanced if each < always appears before (to the left) of a corresponding > character (the do not need to be adjacent).  moreover, each < and > act as a unique pair of symbols and neither symbol can be considered as aprt of any other pair of symbols.  To balance a string, any > can be replaced with <>. Given an expression and a maximum number of replacements, determine wheteher the string can be balanced.  define a function called balancedOrNot(expressions, maxReplacements) where expressions is an array of strings to check and maxReplacements is an array of integers representing the maximum number of replacements available for each expression.  the constraints are as follows:\n",
    "1<= length of expressions[i]<=10^5\n",
    "0<=maxReplacements[i]<=10^5"
   ]
  },
  {
   "cell_type": "code",
   "execution_count": 1,
   "id": "c0433f89-afdc-4b07-bac2-6e617ef36be3",
   "metadata": {},
   "outputs": [
    {
     "name": "stdout",
     "output_type": "stream",
     "text": [
      "[0]\n"
     ]
    }
   ],
   "source": [
    "def balancedOrNot(expressions, maxReplacements):\n",
    "    result = []\n",
    "    \n",
    "    for i in range(len(expressions)):\n",
    "        expression = expressions[i]\n",
    "        max_replacement = maxReplacements[i]\n",
    "        \n",
    "        # Initialize counters for unmatched '<' and required replacements\n",
    "        unmatched_left = 0\n",
    "        replacements_needed = 0\n",
    "\n",
    "        for char in expression:\n",
    "            if char == '<':\n",
    "                unmatched_left += 1\n",
    "            elif char == '>':\n",
    "                if unmatched_left > 0:\n",
    "                    # Use a preceding '<' to match the '>'\n",
    "                    unmatched_left -= 1\n",
    "                else:\n",
    "                    # No preceding '<', replace '>' with '<>'\n",
    "                    replacements_needed += 1\n",
    "\n",
    "        # If replacements needed are less than or equal to max_replacement and there are no unmatched '<'\n",
    "        if replacements_needed <= max_replacement and unmatched_left == 0:\n",
    "            result.append(1)\n",
    "        else:\n",
    "            result.append(0)\n",
    "            \n",
    "    return result\n",
    "\n",
    "# Test\n",
    "expressions = [\"<<<><><>\"]\n",
    "maxReplacements = [2]\n",
    "print(balancedOrNot(expressions, maxReplacements))  # Expected [0]\n"
   ]
  },
  {
   "cell_type": "code",
   "execution_count": null,
   "id": "3ac62f95-94ee-4af3-b487-123d0f27cd13",
   "metadata": {},
   "outputs": [],
   "source": []
  }
 ],
 "metadata": {
  "kernelspec": {
   "display_name": "Python 3 (ipykernel)",
   "language": "python",
   "name": "python3"
  },
  "language_info": {
   "codemirror_mode": {
    "name": "ipython",
    "version": 3
   },
   "file_extension": ".py",
   "mimetype": "text/x-python",
   "name": "python",
   "nbconvert_exporter": "python",
   "pygments_lexer": "ipython3",
   "version": "3.9.13"
  }
 },
 "nbformat": 4,
 "nbformat_minor": 5
}

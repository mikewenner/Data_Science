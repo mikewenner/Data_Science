{
 "cells": [
  {
   "cell_type": "code",
   "execution_count": 1,
   "id": "04429c1c-3432-4761-b7ac-4d802f7cd91a",
   "metadata": {},
   "outputs": [],
   "source": [
    "import math\n",
    "import os\n",
    "import random\n",
    "import re\n",
    "import sys"
   ]
  },
  {
   "cell_type": "markdown",
   "id": "165bcd62-48c6-47a2-88fe-ebc559e56965",
   "metadata": {},
   "source": [
    "---\n",
    "Given an integer, , perform the following conditional actions:\n",
    "\n",
    "If n is odd, print Weird\n",
    "If n is even and in the inclusive range of 2 to 5, print Not Weird\n",
    "If n is even and in the inclusive range of 6 to 20, print Weird\n",
    "If n is even and greater than 20, print Not Weird\n",
    "Input Format\n",
    "\n",
    "n is between 1 and 100.\n",
    "--- "
   ]
  },
  {
   "cell_type": "code",
   "execution_count": 10,
   "id": "5f60e16e-9eb6-406c-8967-afc4ea7b69ce",
   "metadata": {},
   "outputs": [
    {
     "name": "stdin",
     "output_type": "stream",
     "text": [
      " 103\n"
     ]
    },
    {
     "name": "stdout",
     "output_type": "stream",
     "text": [
      "out of range\n"
     ]
    }
   ],
   "source": [
    "if __name__ == '__main__':\n",
    "    n = int(input().strip())\n",
    "    \n",
    "    if 1 <= n <= 100:\n",
    "        if n % 2 != 0:\n",
    "            print(\"Weird\")\n",
    "        elif n % 2 == 0 and 2<=n<=5:\n",
    "            print(\"Not Weird\")\n",
    "        elif n % 2 == 0 and 6<=n<=20:\n",
    "            print(\"Weird\")\n",
    "        elif n % 2 == 0 and n>20:\n",
    "            print(\"Not Weird\")\n",
    "    else:\n",
    "        print(\"out of range\")"
   ]
  },
  {
   "cell_type": "markdown",
   "id": "257f77fa-8f4f-4252-ab2c-d84d0068b308",
   "metadata": {},
   "source": [
    "---\n",
    "Task\n",
    "The provided code stub reads two integers from STDIN, a and b. Add code to print three lines where:\n",
    "\n",
    "The first line contains the sum of the two numbers.\n",
    "The second line contains the difference of the two numbers (first - second).\n",
    "The third line contains the product of the two numbers.\n",
    "---"
   ]
  },
  {
   "cell_type": "code",
   "execution_count": 15,
   "id": "bcdad8ee-4515-4f1d-9e8e-505fdcd20cca",
   "metadata": {},
   "outputs": [
    {
     "name": "stdin",
     "output_type": "stream",
     "text": [
      " 25\n",
      " 55\n"
     ]
    },
    {
     "name": "stdout",
     "output_type": "stream",
     "text": [
      "80\n",
      "-30\n",
      "1375\n"
     ]
    }
   ],
   "source": [
    "if __name__ == '__main__':\n",
    "    a = int(input())\n",
    "    b = int(input())\n",
    "    \n",
    "    if 1 <= a <= 10**10 and 1 <= b <= 10**10:\n",
    "        print(a+b), \n",
    "        print(a-b),\n",
    "        print(a*b)"
   ]
  },
  {
   "cell_type": "code",
   "execution_count": null,
   "id": "1caa93c5-b794-482c-98c8-ca5b8ee96357",
   "metadata": {},
   "outputs": [],
   "source": []
  },
  {
   "cell_type": "code",
   "execution_count": 16,
   "id": "05174384-ce33-4b9d-b669-1413ad2fb75b",
   "metadata": {},
   "outputs": [
    {
     "name": "stdin",
     "output_type": "stream",
     "text": [
      " 5\n",
      " 6\n"
     ]
    },
    {
     "name": "stdout",
     "output_type": "stream",
     "text": [
      "0\n",
      "0.8333333333333334\n"
     ]
    }
   ],
   "source": [
    "if __name__ == '__main__':\n",
    "    a = int(input())\n",
    "    b = int(input())\n",
    "    \n",
    "    if a > 0 and b > 0:\n",
    "        print(a//b),\n",
    "        print(a/b)"
   ]
  },
  {
   "cell_type": "markdown",
   "id": "d0615fb1-9a70-450c-9e9c-07b230de6d1a",
   "metadata": {},
   "source": [
    "---\n",
    "for numbers between 1 and 20\n",
    "wrtie script that returns square of each number less than input n\n",
    "---"
   ]
  },
  {
   "cell_type": "code",
   "execution_count": 20,
   "id": "31d567ba-9b86-4291-b5d3-61dbf609c83a",
   "metadata": {},
   "outputs": [
    {
     "name": "stdin",
     "output_type": "stream",
     "text": [
      " 5\n"
     ]
    },
    {
     "name": "stdout",
     "output_type": "stream",
     "text": [
      "0\n",
      "1\n",
      "4\n",
      "9\n",
      "16\n"
     ]
    }
   ],
   "source": [
    "if __name__ == '__main__':\n",
    "    n = int(input())\n",
    "    \n",
    "    if 1<=n<=20:\n",
    "        for i in range(n):\n",
    "            print(i**2)"
   ]
  },
  {
   "cell_type": "markdown",
   "id": "6912ad2b-1511-46af-a3b3-f355f4c87523",
   "metadata": {},
   "source": [
    "---\n",
    "In the Gregorian calendar, three conditions are used to identify leap years:\n",
    "\n",
    "The year can be evenly divided by 4, is a leap year, unless:\n",
    "* The year can be evenly divided by 100, it is NOT a leap year, unless:\n",
    "* The year is also evenly divisible by 400. Then it is a leap year.\n",
    "\n",
    "Given a year, determine whether it is a leap year. If it is a leap year, return the Boolean True, otherwise return False.\n",
    "\n",
    "Note that the code stub provided reads from STDIN and passes arguments to the is_leap function. It is only necessary to complete the is_leap function.\n",
    "\n",
    "---"
   ]
  },
  {
   "cell_type": "code",
   "execution_count": 27,
   "id": "fe25689f-4699-476d-90c6-990ef10dc7c2",
   "metadata": {},
   "outputs": [
    {
     "name": "stdin",
     "output_type": "stream",
     "text": [
      " 2024\n"
     ]
    },
    {
     "data": {
      "text/plain": [
       "True"
      ]
     },
     "execution_count": 27,
     "metadata": {},
     "output_type": "execute_result"
    }
   ],
   "source": [
    "def is_leap(year):\n",
    "    leap = False\n",
    "    \n",
    "    if year % 4 == 0 and (year % 100 != 0 or year % 400 ==0):\n",
    "        leap = True\n",
    "    \n",
    "    return leap\n",
    "\n",
    "year = int(input())\n",
    "\n",
    "is_leap(year)"
   ]
  },
  {
   "cell_type": "markdown",
   "id": "ec6da41c-c2f7-462f-9282-872deb5dcf34",
   "metadata": {},
   "source": [
    "---\n",
    "\n",
    "Given an input n, print the string of numbers from 1 to n without any spaces\n",
    "* n is between 1 and 150\n",
    "* do without using string methods\n",
    "* do with string method\n",
    "\n",
    "---"
   ]
  },
  {
   "cell_type": "code",
   "execution_count": 29,
   "id": "fbc1bffd-5c42-477d-aa47-e1a54b362eb2",
   "metadata": {},
   "outputs": [
    {
     "name": "stdin",
     "output_type": "stream",
     "text": [
      " 5\n"
     ]
    },
    {
     "name": "stdout",
     "output_type": "stream",
     "text": [
      "12345"
     ]
    }
   ],
   "source": [
    "#without string method\n",
    "n = int(input())\n",
    "\n",
    "if 1 <= n <= 150:\n",
    "    for i in range (1, n+1):\n",
    "        print(i, end=\"\") #the end=\"\" prinst out in single line, else it would list it vertically\n",
    "    "
   ]
  },
  {
   "cell_type": "code",
   "execution_count": 31,
   "id": "93961225-b407-4312-a0df-6f87b1033fe5",
   "metadata": {},
   "outputs": [
    {
     "name": "stdin",
     "output_type": "stream",
     "text": [
      " 5\n"
     ]
    },
    {
     "name": "stdout",
     "output_type": "stream",
     "text": [
      "12345\n"
     ]
    }
   ],
   "source": [
    "#with string method\n",
    "n = int(input())\n",
    "\n",
    "#this way does it vertically\n",
    "# if 1 <= n <= 150:\n",
    "#     for i in range(1, n+1):\n",
    "#         numbers = \"\".join(str(i))\n",
    "#         print(numbers)\n",
    "\n",
    "if 1 <= n <= 150:\n",
    "    numbers = ''.join(str(i) for i in range(1, n+1))\n",
    "    print(numbers)        "
   ]
  },
  {
   "cell_type": "code",
   "execution_count": null,
   "id": "91617ba6-ab88-4e3a-b46e-63dd9ce833d9",
   "metadata": {},
   "outputs": [],
   "source": []
  },
  {
   "cell_type": "code",
   "execution_count": 47,
   "id": "5803e059-dc44-4652-acd5-6b5e2fc32f74",
   "metadata": {},
   "outputs": [
    {
     "name": "stdin",
     "output_type": "stream",
     "text": [
      " 5\n"
     ]
    },
    {
     "name": "stdout",
     "output_type": "stream",
     "text": [
      "    H    \n",
      "   HHH   \n",
      "  HHHHH  \n",
      " HHHHHHH \n",
      "HHHHHHHHH\n",
      "  HHHHH               HHHHH             \n",
      "  HHHHH               HHHHH             \n",
      "  HHHHH               HHHHH             \n",
      "  HHHHH               HHHHH             \n",
      "  HHHHH               HHHHH             \n",
      "  HHHHH               HHHHH             \n",
      "  HHHHHHHHHHHHHHHHHHHHHHHHH   \n",
      "  HHHHHHHHHHHHHHHHHHHHHHHHH   \n",
      "  HHHHHHHHHHHHHHHHHHHHHHHHH   \n",
      "  HHHHH               HHHHH             \n",
      "  HHHHH               HHHHH             \n",
      "  HHHHH               HHHHH             \n",
      "  HHHHH               HHHHH             \n",
      "  HHHHH               HHHHH             \n",
      "  HHHHH               HHHHH             \n",
      "                    HHHHHHHHH \n",
      "                     HHHHHHH  \n",
      "                      HHHHH   \n",
      "                       HHH    \n",
      "                        H     \n"
     ]
    }
   ],
   "source": [
    "#Replace all ______ with rjust, ljust or center. \n",
    "\n",
    "thickness = int(input()) #This must be an odd number\n",
    "c = 'H'\n",
    "\n",
    "#Top Cone\n",
    "for i in range(thickness):\n",
    "    print((c*i).rjust(thickness-1)+c+(c*i).ljust(thickness-1))\n",
    "\n",
    "#Top Pillars\n",
    "for i in range(thickness+1):\n",
    "    print((c*thickness).center(thickness*2)+(c*thickness).center(thickness*6))\n",
    "\n",
    "#Middle Belt\n",
    "for i in range((thickness+1)//2):\n",
    "    print((c*thickness*5).center(thickness*6))    \n",
    "\n",
    "#Bottom Pillars\n",
    "for i in range(thickness+1):\n",
    "    print((c*thickness).center(thickness*2)+(c*thickness).center(thickness*6))    \n",
    "\n",
    "#Bottom Cone\n",
    "for i in range(thickness):\n",
    "    print(((c*(thickness-i-1)).rjust(thickness)+c+(c*(thickness-i-1)).ljust(thickness)).rjust(thickness*6))"
   ]
  },
  {
   "cell_type": "code",
   "execution_count": null,
   "id": "03ce9b18-073a-44fa-afd2-07daeb5b00b7",
   "metadata": {},
   "outputs": [],
   "source": [
    "You are given a string  S and width w.\n",
    "Your task is to wrap the string into a paragraph of width w."
   ]
  },
  {
   "cell_type": "code",
   "execution_count": 1,
   "id": "5ca87ae8-dbc0-4b8f-802a-cf083f87de10",
   "metadata": {},
   "outputs": [],
   "source": [
    "import textwrap"
   ]
  },
  {
   "cell_type": "code",
   "execution_count": 2,
   "id": "6d7d7dce-b498-44de-9eb3-379017ef02b5",
   "metadata": {},
   "outputs": [
    {
     "name": "stdin",
     "output_type": "stream",
     "text": [
      " abcdefghijklmnop\n",
      " 3\n"
     ]
    },
    {
     "name": "stdout",
     "output_type": "stream",
     "text": [
      "abc\n",
      "def\n",
      "ghi\n",
      "jkl\n",
      "mno\n",
      "p\n"
     ]
    }
   ],
   "source": [
    "def wrap(string, max_width):\n",
    "    return \"\\n\".join(textwrap.wrap(string, max_width)) #this was code added to complete\n",
    "\n",
    "if __name__ == '__main__':\n",
    "    string, max_width = input(), int(input())\n",
    "    result = wrap(string, max_width)\n",
    "    print(result)"
   ]
  },
  {
   "cell_type": "code",
   "execution_count": null,
   "id": "9edd0fae-df3b-4b63-936f-1af2ecd6c308",
   "metadata": {},
   "outputs": [],
   "source": []
  }
 ],
 "metadata": {
  "kernelspec": {
   "display_name": "Python 3 (ipykernel)",
   "language": "python",
   "name": "python3"
  },
  "language_info": {
   "codemirror_mode": {
    "name": "ipython",
    "version": 3
   },
   "file_extension": ".py",
   "mimetype": "text/x-python",
   "name": "python",
   "nbconvert_exporter": "python",
   "pygments_lexer": "ipython3",
   "version": "3.9.13"
  }
 },
 "nbformat": 4,
 "nbformat_minor": 5
}

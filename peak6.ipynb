{
 "cells": [
  {
   "cell_type": "markdown",
   "id": "5a58c9d4-6143-4dfa-a661-8598359fdb73",
   "metadata": {},
   "source": [
    "---\n",
    "\n",
    "# Question1\n",
    "\n",
    "## write a function in python for the following:\n",
    "* given an integer if the number is prime, return 1.  \n",
    "* otherwise return its smallest divisor that is greater than 1.  "
   ]
  },
  {
   "cell_type": "code",
   "execution_count": 1,
   "id": "f22be92a-2a88-4f4d-a07f-1be7d042d2d9",
   "metadata": {},
   "outputs": [
    {
     "name": "stdout",
     "output_type": "stream",
     "text": [
      "3\n"
     ]
    }
   ],
   "source": [
    "def smallest_prime_divisor(n):\n",
    "    if n <= 1:\n",
    "        raise ValueError(\"Input must be a positive integer greater than 1.\")\n",
    "    \n",
    "    for i in range(2, int(n**0.5) + 1):\n",
    "        if n % i == 0:\n",
    "            return i\n",
    "    return 1\n",
    "\n",
    "print(smallest_prime_divisor(15))  # prints: 3"
   ]
  },
  {
   "cell_type": "markdown",
   "id": "98665ac4-526a-4fa9-952c-51a50f556733",
   "metadata": {},
   "source": [
    "---\n",
    "Explanation of code\n",
    "---\n",
    "1.  def smallest_prime_divisor(n): - This line defines a function named smallest_prime_divisor that takes a single parameter n.\n",
    "\n",
    "2.  if n <= 1: - This line checks if the input n is less than or equal to 1.\n",
    "\n",
    "3.  raise ValueError(\"Input must be a positive integer greater than 1.\") - If the condition in line 2 is true, it means that the input n is less than or equal to 1, which is not allowed for this function. In such a case, it raises a ValueError with the specified error message.\n",
    "\n",
    "4.  for i in range(2, int(n**0.5) + 1): - This line starts a loop that iterates over the range of numbers from 2 to the square root of n (inclusive).\n",
    "    * When searching for divisors, it is sufficient to check numbers up to the square root of n. This is because if n is not a prime number, it can be factored into two factors, a and b, where both a and b are greater than the square root of n. If both a and b were greater than the square root of n, their product would be greater than n, which contradicts the assumption that n is the product of a and b.\n",
    "\n",
    "    * By iterating up to the square root of n, the code covers all possible divisors that could divide n. If no divisors are found in this range, it implies that n is a prime number, as any potential divisors larger than the square root have already been checked indirectly.\n",
    "\n",
    "    * Checking up to the square root of n helps to reduce the number of iterations in the loop, making the algorithm more efficient compared to checking all numbers up to n-1.\n",
    "\n",
    "5.  if n % i == 0: - This line checks if n is divisible by the current number i with no remainder.\n",
    "\n",
    "6.  return i - If the condition in line 5 is true, it means that n is divisible by i and i is the smallest prime divisor. In this case, the function immediately returns i and exits.\n",
    "\n",
    "7.  return 1 - If the loop in line 4 completes without finding any divisors, it means that n is a prime number. In this case, the function returns 1 as there are no smaller prime divisors.\n",
    "---"
   ]
  },
  {
   "cell_type": "code",
   "execution_count": null,
   "id": "d59c7aa9-3664-4d2b-9cc6-d41b8d50a3e9",
   "metadata": {},
   "outputs": [],
   "source": []
  }
 ],
 "metadata": {
  "kernelspec": {
   "display_name": "Python 3 (ipykernel)",
   "language": "python",
   "name": "python3"
  },
  "language_info": {
   "codemirror_mode": {
    "name": "ipython",
    "version": 3
   },
   "file_extension": ".py",
   "mimetype": "text/x-python",
   "name": "python",
   "nbconvert_exporter": "python",
   "pygments_lexer": "ipython3",
   "version": "3.9.13"
  }
 },
 "nbformat": 4,
 "nbformat_minor": 5
}

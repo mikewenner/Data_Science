{
 "cells": [
  {
   "cell_type": "markdown",
   "id": "5a58c9d4-6143-4dfa-a661-8598359fdb73",
   "metadata": {},
   "source": [
    "---\n",
    "\n",
    "# Question1\n",
    "\n",
    "## write a function in python for the following:\n",
    "* given an integer if the number is prime, return 1.  \n",
    "* otherwise return its smallest divisor that is greater than 1.  "
   ]
  },
  {
   "cell_type": "code",
   "execution_count": 1,
   "id": "f22be92a-2a88-4f4d-a07f-1be7d042d2d9",
   "metadata": {},
   "outputs": [
    {
     "name": "stdout",
     "output_type": "stream",
     "text": [
      "3\n"
     ]
    }
   ],
   "source": [
    "def smallest_prime_divisor(n):\n",
    "    if n <= 1:\n",
    "        raise ValueError(\"Input must be a positive integer greater than 1.\")\n",
    "    \n",
    "    for i in range(2, int(n**0.5) + 1):\n",
    "        if n % i == 0:\n",
    "            return i\n",
    "    return 1\n",
    "\n",
    "print(smallest_prime_divisor(15))  # prints: 3"
   ]
  },
  {
   "cell_type": "markdown",
   "id": "98665ac4-526a-4fa9-952c-51a50f556733",
   "metadata": {},
   "source": [
    "---\n",
    "Explanation of code\n",
    "---\n",
    "1.  def smallest_prime_divisor(n): - This line defines a function named smallest_prime_divisor that takes a single parameter n.\n",
    "\n",
    "2.  if n <= 1: - This line checks if the input n is less than or equal to 1.\n",
    "\n",
    "3.  raise ValueError(\"Input must be a positive integer greater than 1.\") - If the condition in line 2 is true, it means that the input n is less than or equal to 1, which is not allowed for this function. In such a case, it raises a ValueError with the specified error message.\n",
    "\n",
    "4.  for i in range(2, int(n**0.5) + 1): - This line starts a loop that iterates over the range of numbers from 2 to the square root of n (inclusive).\n",
    "    * When searching for divisors, it is sufficient to check numbers up to the square root of n. This is because if n is not a prime number, it can be factored into two factors, a and b, where both a and b are greater than the square root of n. If both a and b were greater than the square root of n, their product would be greater than n, which contradicts the assumption that n is the product of a and b.\n",
    "\n",
    "    * By iterating up to the square root of n, the code covers all possible divisors that could divide n. If no divisors are found in this range, it implies that n is a prime number, as any potential divisors larger than the square root have already been checked indirectly.\n",
    "\n",
    "    * Checking up to the square root of n helps to reduce the number of iterations in the loop, making the algorithm more efficient compared to checking all numbers up to n-1.\n",
    "\n",
    "5.  if n % i == 0: - This line checks if n is divisible by the current number i with no remainder.\n",
    "\n",
    "6.  return i - If the condition in line 5 is true, it means that n is divisible by i and i is the smallest prime divisor. In this case, the function immediately returns i and exits.\n",
    "\n",
    "7.  return 1 - If the loop in line 4 completes without finding any divisors, it means that n is a prime number. In this case, the function returns 1 as there are no smaller prime divisors.\n",
    "---"
   ]
  },
  {
   "cell_type": "markdown",
   "id": "5e03196c-ca2c-4ab5-8c24-f5218b2eb6e0",
   "metadata": {},
   "source": [
    "# Question 2\n",
    "## Increasing List\n",
    "\n",
    "### complete the class IncreasingList below.  The class must have 3 methods (append, pop, __len__) where:\n",
    "* append val: calls append(val) on the IncreasingList instance\n",
    "* pop: calls pop() on the increasingList instance\n",
    "* size: calls len(obj) where obj is an instance of IncreasingList, and prints the returned value to the standard output"
   ]
  },
  {
   "cell_type": "code",
   "execution_count": 2,
   "id": "518d4457-7f91-4456-9be1-b24df31bcda9",
   "metadata": {},
   "outputs": [],
   "source": [
    "class IncreasingList:\n",
    "    def __init__(self):\n",
    "        self.list = []\n",
    "    \n",
    "    def append(self, val):\n",
    "        # first remove all elements from the list that have greater values than val\n",
    "        while self.list and self.list[-1] > val:\n",
    "            self.list.pop()\n",
    "        # append val to the end of the list\n",
    "        self.list.append(val)\n",
    "\n",
    "    def pop(self):\n",
    "        # remove the last element from the list if the list is not empty\n",
    "        if self.list:\n",
    "            self.list.pop()\n",
    "\n",
    "    def __len__(self):\n",
    "        # return the number of elements in the list\n",
    "        return len(self.list)\n"
   ]
  },
  {
   "cell_type": "markdown",
   "id": "dec2011e-ebdd-4100-8376-80e5fa62825e",
   "metadata": {},
   "source": [
    "Explanation of code\n",
    "---\n",
    "1.  class IncreasingList: defines a new class\n",
    "* a class is a blueprint for creating objects (instances) that have certain properties (attributes) and behaviors (methods). \n",
    "* It is a fundamental concept of object-oriented programming (OOP) and provides a way to organize and structure code.\n",
    "* A class defines the structure and behavior of objects by specifying the attributes and methods they possess. \n",
    "* The attributes represent the data associated with the object, while the methods define the operations or actions that the object can perform.\n",
    "\n",
    "2. def __init__(self):\n",
    "        self.list = []\n",
    "* This is the class constructor. When a new instance of IncreasingList is created, this method will run. \n",
    "* It initializes an empty list that will be used to store the elements of the IncreasingList.\n",
    "* In python, a class constructor is a special method called __init__() that is automatically called when creating an object (instance) of a class. It is used to initialize the attributes of the object with the provided values.\n",
    "* The __init__() method takes self as the first parameter, which refers to the instance of the object being created. It is a convention in Python to name this first parameter as self, although you can choose any valid variable name.\n",
    "* Any additional parameters listed in the constructor method signature (e.g., param1, param2, ...) represent the values that need to be passed when creating the object.\n",
    "---\n",
    "example:\n",
    "class Person:\n",
    "    def __init__(self, name, age):\n",
    "        self.name = name\n",
    "        self.age = age\n",
    "\n",
    "    def introduce(self):\n",
    "        print(\"Hello, my name is\", self.name, \"and I am\", self.age, \"years old.\")\n",
    "\n",
    "Creating an object (instance) of the Person class:\n",
    "* person = Person(\"Alice\", 25)\n",
    "\n",
    "Accessing object attributes:\n",
    "* print(person.name)  Output: Alice\n",
    "* print(person.age)   Output: 25\n",
    "\n",
    "Calling object method:\n",
    "* person.introduce()  Output: Hello, my name is Alice and I am 25 years old.\n",
    "---\n",
    "\n",
    "3.  def append(self, val):\n",
    "* This line starts the definition of the append method, which takes val as a parameter.\n",
    "\n",
    "4.  while self.list and self.list[-1] > val:\n",
    "            self.list.pop()\n",
    "* This is a while loop that continues as long as the list is not empty and the last element of the list is greater than val. \n",
    "* If both conditions are true, it removes the last element from the list using the pop method.\n",
    "\n",
    "5.  self.list.append(val)\n",
    "* After all elements greater than val have been removed from the end of the list (or if there were none), this line appends val to the end of the list.\n",
    "\n",
    "6.  def pop(self):\n",
    "        if self.list:\n",
    "            self.list.pop()\n",
    "* This is the pop method. If the list is not empty, it removes the last element from the list.\n",
    "\n",
    "7. def __len__(self):\n",
    "        return len(self.list)\n",
    "* This is the __len__ method, which is used to get the number of elements in the list. It returns the length of the list.\n",
    "\n"
   ]
  },
  {
   "cell_type": "markdown",
   "id": "8946a5ea-0786-44d6-b38b-41162e6768e2",
   "metadata": {},
   "source": [
    "## In summary, the IncreasingList class maintains a list of elements in increasing order. When a new value is appended, it removes all elements from the end of the list that are greater than the new value to maintain the increasing order. It also has methods to remove the last element and to get the number of elements.\n",
    "\n",
    "---"
   ]
  },
  {
   "cell_type": "markdown",
   "id": "a3431758-258e-467a-afdb-a6273edaf891",
   "metadata": {},
   "source": [
    "---\n",
    "\n",
    "# Question3 - Disk Space --> Sliding window algo\n",
    "\n",
    "## Given the following scenario .... A company is performing an analysis on the computers at main office.  The computers are spaced along a single row. For each group of contiguous computers of certain length, that is, for each segment, determine the minimum amount of disk space available on a computer.  Return the maximum of these values as the answer.\n",
    "### Given the following function:\n",
    "* def segment(x, space):\n",
    "\n",
    "### complete the function where segment has the following parameters:\n",
    "* int x: segment length to analyze\n",
    "* int space[n]: the available hard disk space on each computer\n",
    " "
   ]
  },
  {
   "cell_type": "markdown",
   "id": "78bc7c4d-2d11-4dfc-94f4-e9d948c1ffb4",
   "metadata": {},
   "source": [
    "---\n",
    "In this problem, you are required to analyze segments of computers and find the minimum disk space available for each segment. Then from these minimums, you are to return the maximum. The most straightforward approach to solve this problem is to use a sliding window approach to iterate over each segment and compute the minimum in each window. However, this has a time complexity of O(n*x) which can be inefficient if x and n are large.\n",
    "\n",
    "A more efficient approach is to use a deque (double-ended queue) data structure to store the indices of useful elements in every window and to find the maximum of minimums in all windows of size x. This approach is more efficient with a time complexity of O(n).\n",
    "\n"
   ]
  },
  {
   "cell_type": "markdown",
   "id": "d6d2dab9-3d43-4f31-a558-5e6e320e65ff",
   "metadata": {},
   "source": [
    "---\n",
    "## Segments -- continuous subset\n",
    "This could be any number of computers as long as they are next to each other in the line.\n",
    "\n",
    "For instance, let's say you have a row of five computers with the following available hard disk spaces: [10, 20, 30, 40, 50].\n",
    "\n",
    "If we talk about a \"segment\" of three computers, it could be any of the following:\n",
    "\n",
    "The first three computers: [10, 20, 30]\n",
    "The second to fourth computers: [20, 30, 40]\n",
    "The last three computers: [30, 40, 50]\n",
    "So, in this problem, the term \"segment\" is referring to a subset of the total computers, and you are to find the minimum available disk space within these segments."
   ]
  },
  {
   "cell_type": "code",
   "execution_count": 3,
   "id": "8a4a0a67-e26e-4286-9c6c-93091c98c46b",
   "metadata": {},
   "outputs": [],
   "source": [
    "from collections import deque\n",
    "\n",
    "def segment(x, space):\n",
    "    n = len(space)\n",
    "    Q = deque()\n",
    "\n",
    "    # Process first k (or x) elements of array\n",
    "    for i in range(x):\n",
    "        while Q and space[i] <= space[Q[-1]]:\n",
    "            Q.pop()\n",
    "        Q.append(i)\n",
    "\n",
    "    # Initialize result to be the minimum value in the first segment\n",
    "    result = space[Q[0]]\n",
    "\n",
    "    # Process rest of the elements\n",
    "    for i in range(x, n):\n",
    "        # The first element in Q is the minimum element of previous window\n",
    "        # So add it to the result\n",
    "        result = max(result, space[Q[0]])\n",
    "\n",
    "        # Remove the elements which are out of this window\n",
    "        while Q and Q[0] <= i - x:\n",
    "            Q.popleft()\n",
    "\n",
    "        # Remove all elements smaller than the currently\n",
    "        # being added element (remove useless elements)\n",
    "        while Q and space[i] <= space[Q[-1]]:\n",
    "            Q.pop()\n",
    "\n",
    "        # Add current element at the rear of Q\n",
    "        Q.append(i)\n",
    "\n",
    "    # Compare minimum element of last window in case it's greater\n",
    "    result = max(result, space[Q[0]])\n",
    "\n",
    "    return result\n"
   ]
  },
  {
   "cell_type": "markdown",
   "id": "c00c4bbd-bfb2-4c20-b328-c9fdeec6e267",
   "metadata": {},
   "source": [
    "---\n",
    "# Explanation of the code:\n",
    "\n",
    "1. `def segment(x, space):`: This line defines a function called `segment` which takes two arguments: `x`, the length of each segment, and `space`, an array of available disk spaces on each computer.\n",
    "\n",
    "2. `n = len(space)`: The length of the `space` array is stored in `n`. This represents the total number of computers.\n",
    "\n",
    "3. `Q = deque()`: A deque named `Q` is initialized. This deque will be used to store the indices of useful elements in a window.\n",
    "\n",
    "4. `for i in range(x):`: This loop runs `x` times, i.e., for the first `x` computers.\n",
    "\n",
    "5. `while Q and space[i] <= space[Q[-1]]:`: This loop pops an index from the deque as long as the current element in `space` is less than or equal to the last element in `Q` (representing a smaller or equal disk space).\n",
    "\n",
    "6. `Q.pop()`: Pop (remove and return) the last index from `Q`.\n",
    "\n",
    "7. `Q.append(i)`: Append the current index `i` to `Q`.\n",
    "\n",
    "8. `result = space[Q[0]]`: Initialize `result` to the smallest disk space in the first window (or segment) of computers.\n",
    "\n",
    "9. `for i in range(x, n):`: This loop processes the rest of the elements in `space` from `x` to `n-1`.\n",
    "\n",
    "10. `result = max(result, space[Q[0]]):` Here, the maximum of the current result and the smallest disk space in the current window (which is represented by the first index in `Q`) is calculated and assigned to `result`.\n",
    "\n",
    "11. The next `while` loop (`while Q and Q[0] <= i - x:`) removes elements from the front of `Q` that are out of the current window.\n",
    "\n",
    "12. `Q.popleft()`: This line pops an element from the left of `Q`, which effectively removes an index that is out of the current window.\n",
    "\n",
    "13. The next `while` loop (`while Q and space[i] <= space[Q[-1]]:`) and the line `Q.pop()` function in the same way as in lines 5 and 6, removing all elements from `Q` that are less than or equal to the current element.\n",
    "\n",
    "14. `Q.append(i)`: This line adds the current index `i` to `Q`.\n",
    "\n",
    "15. After the end of the loop, `result = max(result, space[Q[0]])` compares the minimum element of the last window with `result` in case it's greater.\n",
    "\n",
    "16. `return result`: Finally, the function returns `result`, which is the maximum among all minimum disk spaces of all windows.\n",
    "\n",
    "This function basically maintains a deque of useful elements for every window of `x` elements. The deque only stores indices of elements that are potential candidates to be the minimum of their respective windows. The first element in `deque` is always the minimum of the previous window. In the worst case, this function performs 4 operations on `Q` for every element, which results in a time complexity of O(n).\n"
   ]
  },
  {
   "cell_type": "markdown",
   "id": "a041d6ab-2ffd-4b8b-be5b-cbd5d9f06afd",
   "metadata": {},
   "source": [
    "# Single test case"
   ]
  },
  {
   "cell_type": "code",
   "execution_count": 6,
   "id": "4f5fe664-f66e-436b-849d-2152414a330e",
   "metadata": {},
   "outputs": [
    {
     "name": "stdout",
     "output_type": "stream",
     "text": [
      "3\n"
     ]
    }
   ],
   "source": [
    "# test the function\n",
    "print(segment(3, [8, 2, 4, 3, 7]))"
   ]
  },
  {
   "cell_type": "markdown",
   "id": "1654bb31-2326-4a77-b44c-e5a0c3f3f196",
   "metadata": {},
   "source": [
    "# Test cases"
   ]
  },
  {
   "cell_type": "code",
   "execution_count": 4,
   "id": "4a3b8734-24c9-471a-81f8-becbda077a5c",
   "metadata": {},
   "outputs": [
    {
     "name": "stdout",
     "output_type": "stream",
     "text": [
      "All tests passed.\n"
     ]
    }
   ],
   "source": [
    "def test_segment():\n",
    "    assert segment(2, [1, 2, 3, 1, 2]) == 2\n",
    "    assert segment(3, [1, 2, 3, 1, 2]) == 1\n",
    "    assert segment(1, [1, 2, 3, 1, 2]) == 3\n",
    "    assert segment(5, [1, 2, 3, 1, 2]) == 1\n",
    "    assert segment(3, [3, 2, 5, 4, 2, 1, 2]) == 2\n",
    "    print(\"All tests passed.\")\n",
    "\n",
    "test_segment()\n"
   ]
  },
  {
   "cell_type": "markdown",
   "id": "8de7c77d-1de5-4bc5-9876-067c47af7365",
   "metadata": {},
   "source": [
    "---\n",
    "Here, we're using Python's built-in assert statement to validate the output of the segment function. assert checks if the condition that follows it is True, and if it isn't, it raises an AssertionError.\n",
    "\n",
    "In the test_segment function:\n",
    "\n",
    "* The first test case checks a scenario with segment length 2, and the expected maximum of minimums is 2.\n",
    "* The second test case checks a scenario with segment length 3, and the expected maximum of minimums is 1.\n",
    "* The third test case checks a scenario with segment length 1 (so each computer is its own segment), and the expected maximum of minimums is 3 (the largest value in the array).\n",
    "* The fourth test case checks a scenario where segment length equals to array length (so there's only one segment), and the expected maximum of minimums is 1 (the smallest value in the array).\n",
    "* The fifth test case is a more complex scenario with segment length 3, and the expected maximum of minimums is 2."
   ]
  },
  {
   "cell_type": "markdown",
   "id": "775d3f9d-1571-438e-9367-d1e174f83b17",
   "metadata": {
    "tags": []
   },
   "source": [
    "# Deque\n",
    "\"double-ended queue,\" which is an abstract data type that generalizes a queue. The name deque is short for \"double-ended queue\" and is usually pronounced like \"deck\". \n",
    "\n",
    "Unlike a regular queue, which only allows for addition (enqueue) of new elements at the end and removal (dequeue) of elements from the front, a deque allows addition and removal of elements from both ends. \n",
    "\n",
    "In Python, the `collections` module provides a `deque` class that supports the following operations:\n",
    "\n",
    "1. `append(x)`: Add `x` to the right side of the deque.\n",
    "2. `appendleft(x)`: Add `x` to the left side of the deque.\n",
    "3. `pop()`: Remove and return an element from the right side of the deque. If no elements are present, raises an `IndexError`.\n",
    "4. `popleft()`: Remove and return an element from the left side of the deque. If no elements are present, raises an `IndexError`.\n",
    "\n",
    "These operations are all O(1) time complexity. That's why deques are used in scenarios where you need fast additions/removals at both ends, such as in a sliding window algorithm."
   ]
  },
  {
   "cell_type": "markdown",
   "id": "3702cf01-3a08-4ad4-9785-39380630414a",
   "metadata": {},
   "source": [
    "# Time Complexity\n",
    "O(1) is a notation used in computer science to describe the performance of an algorithm. This is known as Big O notation. When we say an algorithm has O(1) time complexity, it means the time it takes to run the algorithm does not increase as the size of the input data increases. In other words, it always takes the same amount of time to execute, regardless of the size of the input.\n",
    "\n",
    "For example, accessing an element from an array BY INDEX has an O(1) time complexity, because it always takes the same amount of time to perform this operation, no matter how large the array might be.\n",
    "\n",
    "Contrast this with an operation that has an O(n) time complexity, such as linear search. In a linear search, the time it takes to find an item grows linearly with the size of the input, because in the worst case, you might have to look at every element.\n",
    "\n",
    "An algorithm with O(1) time complexity is considered highly efficient because its execution time remains constant, regardless of the input size."
   ]
  },
  {
   "cell_type": "markdown",
   "id": "783935f4-03de-4f22-8fa7-8459bc90ad08",
   "metadata": {},
   "source": [
    "---\n",
    "# Big O Notation\n",
    "Time complexity in computer science is used to describe the amount of computational time taken by an algorithm to run, as a function of the size of the input to the program. It's denoted by Big O notation (like O(1), O(n), O(n^2), etc.). Here's what O(1) and O(n) mean:\n",
    "\n",
    "1. **O(1)**: O(1) describes an algorithm that will always execute in the same time (or space) regardless of the size of the input data set. This is known as **constant time complexity**. Examples include accessing an array element by its index or inserting a node at the head of a linked list. No matter how large your data set, these operations will always take a constant amount of time.\n",
    "\n",
    "2. **O(n)**: O(n) describes an algorithm whose performance will grow linearly and in direct proportion to the size of the input data set. This is known as **linear time complexity**. Examples include looping through all the elements of an array or finding an item in a linked list. As your data set increases, the time taken increases linearly.\n",
    "\n",
    "In summary, an algorithm with O(1) time complexity is generally considered more efficient than an algorithm with O(n) time complexity because its running time does not change with the size of the input data set. O(n) time complexity means the running time increases linearly with the size of the input data set.\n"
   ]
  },
  {
   "cell_type": "markdown",
   "id": "ebafaa83-d038-41aa-8926-82fccbf33882",
   "metadata": {},
   "source": [
    "---\n",
    "# Sliding window algo\n",
    "the sliding window algorithm is a method for finding subarrays in an array that satisfy certain conditions. The key idea behind this algorithm is to keep a \"window\" of elements and slide this window over the data to consider different subsets of data.\n",
    "\n",
    "For example, consider the problem of finding the maximum sum of a subarray of fixed size `k` from an array. Here's how the sliding window algorithm works:\n",
    "\n",
    "1. Start from the first element and add elements to the window until it has `k` elements. At this point, the window is from index `0` to index `k-1`.\n",
    "\n",
    "2. Compute the sum of the elements in this window.\n",
    "\n",
    "3. Now, slide the window by one position to the right, which means: remove the first element from the window and add the next element (at index `k`) to the window.\n",
    "\n",
    "4. Compute the sum of the elements in this new window. If it's greater than the sum of the previous window, update the maximum sum.\n",
    "\n",
    "5. Repeat steps 3 and 4 until the window reaches the end of the array.\n",
    "\n",
    "The \"window\" is just a way of referencing a subset of the array, and \"sliding the window\" means moving the subset.\n",
    "\n",
    "Sliding window algorithms are efficient because they do their work in O(n) time where n is the number of elements in the array. They don't need to perform computations for every possible subset, instead, they reuse computations from the previous window which makes them very efficient for solving array-related problems."
   ]
  },
  {
   "cell_type": "markdown",
   "id": "5aca0ccd-84d3-4935-aab0-7aba420f0f46",
   "metadata": {},
   "source": [
    "---\n",
    "# Simple function BUT high time complexity"
   ]
  },
  {
   "cell_type": "code",
   "execution_count": 7,
   "id": "d438d735-82a2-4363-9905-c156caf66042",
   "metadata": {},
   "outputs": [],
   "source": [
    "# def segment(x, space):\n",
    "#     max_min_space = 0\n",
    "\n",
    "#     for i in range(len(space) - x + 1):\n",
    "#         min_space_in_segment = min(space[i:i+x])\n",
    "#         max_min_space = max(max_min_space, min_space_in_segment)\n",
    "\n",
    "#     return max_min_space\n"
   ]
  },
  {
   "cell_type": "markdown",
   "id": "3adf4a5f-bacf-453a-a33b-8a0f9ccd7eb1",
   "metadata": {},
   "source": [
    "The time complexity of the above code is O(n*x) where n is the size of the `space` array and x is the size of each segment. This is because for each of the n elements in the `space` array, your code computes the minimum of a subarray of size x. The `min` function operates in linear time, O(x), relative to the size of its input. \n",
    "\n",
    "Here's how the code works:\n",
    "1. The `for` loop (`for i in range(len(space) - x + 1):`) iterates through each possible starting index of a segment in the `space` array. The number of iterations is n - x + 1, where n is the size of the `space` array and x is the size of each segment.\n",
    "\n",
    "2. Inside this loop, for each segment, your code uses the `min` function to find the minimum disk space in the segment (`min_space_in_segment = min(space[i:i+x])`). The `min` function takes O(x) time because it has to iterate through each element in the segment to find the minimum.\n",
    "\n",
    "3. Then it compares this minimum disk space with `max_min_space` (which keeps track of the maximum minimum disk space found so far) and updates `max_min_space` if necessary.\n",
    "\n",
    "4. Finally, after the loop has iterated through all possible segments, it returns `max_min_space`, the maximum among all minimum disk spaces of all segments.\n",
    "\n",
    "So, the time complexity of the entire function is O((n - x + 1) * x) which simplifies to O(n*x) in the worst-case scenario (when x is approximately equal to n/2).\n",
    "\n",
    "This time complexity is higher than the O(n) time complexity of the sliding window algorithm I previously described, which makes your code less efficient for large inputs. However, your code is simpler and easier to understand, which might be a benefit in situations where highest possible performance is not required.\n"
   ]
  },
  {
   "cell_type": "code",
   "execution_count": null,
   "id": "ab513a8a-6e1d-4784-b566-7ff1925c61a8",
   "metadata": {},
   "outputs": [],
   "source": []
  }
 ],
 "metadata": {
  "kernelspec": {
   "display_name": "Python 3 (ipykernel)",
   "language": "python",
   "name": "python3"
  },
  "language_info": {
   "codemirror_mode": {
    "name": "ipython",
    "version": 3
   },
   "file_extension": ".py",
   "mimetype": "text/x-python",
   "name": "python",
   "nbconvert_exporter": "python",
   "pygments_lexer": "ipython3",
   "version": "3.9.13"
  }
 },
 "nbformat": 4,
 "nbformat_minor": 5
}

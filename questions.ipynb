{
 "cells": [
  {
   "cell_type": "markdown",
   "id": "5a58c9d4-6143-4dfa-a661-8598359fdb73",
   "metadata": {},
   "source": [
    "---\n",
    "\n",
    "# Question1\n",
    "\n",
    "## write a function in python for the following:\n",
    "* given an integer if the number is prime, return 1.  \n",
    "* otherwise return its smallest divisor that is greater than 1.  "
   ]
  },
  {
   "cell_type": "code",
   "execution_count": 1,
   "id": "f22be92a-2a88-4f4d-a07f-1be7d042d2d9",
   "metadata": {},
   "outputs": [
    {
     "name": "stdout",
     "output_type": "stream",
     "text": [
      "3\n"
     ]
    }
   ],
   "source": [
    "def smallest_prime_divisor(n):\n",
    "    if n <= 1:\n",
    "        raise ValueError(\"Input must be a positive integer greater than 1.\")\n",
    "    \n",
    "    for i in range(2, int(n**0.5) + 1):\n",
    "        if n % i == 0:\n",
    "            return i\n",
    "    return 1\n",
    "\n",
    "print(smallest_prime_divisor(15))  # prints: 3"
   ]
  },
  {
   "cell_type": "markdown",
   "id": "98665ac4-526a-4fa9-952c-51a50f556733",
   "metadata": {},
   "source": [
    "---\n",
    "Explanation of code\n",
    "---\n",
    "1.  def smallest_prime_divisor(n): - This line defines a function named smallest_prime_divisor that takes a single parameter n.\n",
    "\n",
    "2.  if n <= 1: - This line checks if the input n is less than or equal to 1.\n",
    "\n",
    "3.  raise ValueError(\"Input must be a positive integer greater than 1.\") - If the condition in line 2 is true, it means that the input n is less than or equal to 1, which is not allowed for this function. In such a case, it raises a ValueError with the specified error message.\n",
    "\n",
    "4.  for i in range(2, int(n**0.5) + 1): - This line starts a loop that iterates over the range of numbers from 2 to the square root of n (inclusive).\n",
    "    * When searching for divisors, it is sufficient to check numbers up to the square root of n. This is because if n is not a prime number, it can be factored into two factors, a and b, where both a and b are greater than the square root of n. If both a and b were greater than the square root of n, their product would be greater than n, which contradicts the assumption that n is the product of a and b.\n",
    "\n",
    "    * By iterating up to the square root of n, the code covers all possible divisors that could divide n. If no divisors are found in this range, it implies that n is a prime number, as any potential divisors larger than the square root have already been checked indirectly.\n",
    "\n",
    "    * Checking up to the square root of n helps to reduce the number of iterations in the loop, making the algorithm more efficient compared to checking all numbers up to n-1.\n",
    "\n",
    "5.  if n % i == 0: - This line checks if n is divisible by the current number i with no remainder.\n",
    "\n",
    "6.  return i - If the condition in line 5 is true, it means that n is divisible by i and i is the smallest prime divisor. In this case, the function immediately returns i and exits.\n",
    "\n",
    "7.  return 1 - If the loop in line 4 completes without finding any divisors, it means that n is a prime number. In this case, the function returns 1 as there are no smaller prime divisors.\n",
    "---"
   ]
  },
  {
   "cell_type": "markdown",
   "id": "5e03196c-ca2c-4ab5-8c24-f5218b2eb6e0",
   "metadata": {},
   "source": [
    "# Question 2\n",
    "## Increasing List\n",
    "\n",
    "### complete the class IncreasingList below.  The class must have 3 methods (append, pop, __len__) where:\n",
    "* append val: calls append(val) on the IncreasingList instance\n",
    "* pop: calls pop() on the increasingList instance\n",
    "* size: calls len(obj) where obj is an instance of IncreasingList, and prints the returned value to the standard output"
   ]
  },
  {
   "cell_type": "code",
   "execution_count": 2,
   "id": "518d4457-7f91-4456-9be1-b24df31bcda9",
   "metadata": {},
   "outputs": [],
   "source": [
    "class IncreasingList:\n",
    "    def __init__(self):\n",
    "        self.list = []\n",
    "    \n",
    "    def append(self, val):\n",
    "        # first remove all elements from the list that have greater values than val\n",
    "        while self.list and self.list[-1] > val:\n",
    "            self.list.pop()\n",
    "        # append val to the end of the list\n",
    "        self.list.append(val)\n",
    "\n",
    "    def pop(self):\n",
    "        # remove the last element from the list if the list is not empty\n",
    "        if self.list:\n",
    "            self.list.pop()\n",
    "\n",
    "    def __len__(self):\n",
    "        # return the number of elements in the list\n",
    "        return len(self.list)\n"
   ]
  },
  {
   "cell_type": "markdown",
   "id": "dec2011e-ebdd-4100-8376-80e5fa62825e",
   "metadata": {},
   "source": [
    "Explanation of code\n",
    "---\n",
    "1.  class IncreasingList: defines a new class\n",
    "* a class is a blueprint for creating objects (instances) that have certain properties (attributes) and behaviors (methods). \n",
    "* It is a fundamental concept of object-oriented programming (OOP) and provides a way to organize and structure code.\n",
    "* A class defines the structure and behavior of objects by specifying the attributes and methods they possess. \n",
    "* The attributes represent the data associated with the object, while the methods define the operations or actions that the object can perform.\n",
    "\n",
    "2. def __init__(self):\n",
    "        self.list = []\n",
    "* This is the class constructor. When a new instance of IncreasingList is created, this method will run. \n",
    "* It initializes an empty list that will be used to store the elements of the IncreasingList.\n",
    "* In python, a class constructor is a special method called __init__() that is automatically called when creating an object (instance) of a class. It is used to initialize the attributes of the object with the provided values.\n",
    "* The __init__() method takes self as the first parameter, which refers to the instance of the object being created. It is a convention in Python to name this first parameter as self, although you can choose any valid variable name.\n",
    "* Any additional parameters listed in the constructor method signature (e.g., param1, param2, ...) represent the values that need to be passed when creating the object.\n",
    "---\n",
    "example:\n",
    "class Person:\n",
    "    def __init__(self, name, age):\n",
    "        self.name = name\n",
    "        self.age = age\n",
    "\n",
    "    def introduce(self):\n",
    "        print(\"Hello, my name is\", self.name, \"and I am\", self.age, \"years old.\")\n",
    "\n",
    "Creating an object (instance) of the Person class:\n",
    "* person = Person(\"Alice\", 25)\n",
    "\n",
    "Accessing object attributes:\n",
    "* print(person.name)  Output: Alice\n",
    "* print(person.age)   Output: 25\n",
    "\n",
    "Calling object method:\n",
    "* person.introduce()  Output: Hello, my name is Alice and I am 25 years old.\n",
    "---\n",
    "\n",
    "3.  def append(self, val):\n",
    "* This line starts the definition of the append method, which takes val as a parameter.\n",
    "\n",
    "4.  while self.list and self.list[-1] > val:\n",
    "            self.list.pop()\n",
    "* This is a while loop that continues as long as the list is not empty and the last element of the list is greater than val. \n",
    "* If both conditions are true, it removes the last element from the list using the pop method.\n",
    "\n",
    "5.  self.list.append(val)\n",
    "* After all elements greater than val have been removed from the end of the list (or if there were none), this line appends val to the end of the list.\n",
    "\n",
    "6.  def pop(self):\n",
    "        if self.list:\n",
    "            self.list.pop()\n",
    "* This is the pop method. If the list is not empty, it removes the last element from the list.\n",
    "\n",
    "7. def __len__(self):\n",
    "        return len(self.list)\n",
    "* This is the __len__ method, which is used to get the number of elements in the list. It returns the length of the list.\n",
    "\n"
   ]
  },
  {
   "cell_type": "markdown",
   "id": "8946a5ea-0786-44d6-b38b-41162e6768e2",
   "metadata": {},
   "source": [
    "## In summary, the IncreasingList class maintains a list of elements in increasing order. When a new value is appended, it removes all elements from the end of the list that are greater than the new value to maintain the increasing order. It also has methods to remove the last element and to get the number of elements.\n",
    "\n",
    "---"
   ]
  },
  {
   "cell_type": "code",
   "execution_count": null,
   "id": "2cbb9bfd-62f9-4bd1-825b-014a7f9c1f2c",
   "metadata": {},
   "outputs": [],
   "source": []
  }
 ],
 "metadata": {
  "kernelspec": {
   "display_name": "Python 3 (ipykernel)",
   "language": "python",
   "name": "python3"
  },
  "language_info": {
   "codemirror_mode": {
    "name": "ipython",
    "version": 3
   },
   "file_extension": ".py",
   "mimetype": "text/x-python",
   "name": "python",
   "nbconvert_exporter": "python",
   "pygments_lexer": "ipython3",
   "version": "3.9.13"
  }
 },
 "nbformat": 4,
 "nbformat_minor": 5
}

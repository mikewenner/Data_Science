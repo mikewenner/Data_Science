{
 "cells": [
  {
   "cell_type": "code",
   "execution_count": 1,
   "id": "81e681bf-d189-40de-a33f-1f1c7320813c",
   "metadata": {},
   "outputs": [],
   "source": [
    "import pandas as pd\n",
    "import numpy as np"
   ]
  },
  {
   "cell_type": "code",
   "execution_count": 3,
   "id": "b46e4dd3-f680-495e-961b-9463bf2d2ad1",
   "metadata": {},
   "outputs": [
    {
     "data": {
      "text/plain": [
       "0    Fooled by Randomness\n",
       "1                 Sapiens\n",
       "2      Lenin on the Train\n",
       "dtype: object"
      ]
     },
     "execution_count": 3,
     "metadata": {},
     "output_type": "execute_result"
    }
   ],
   "source": [
    "#create a pandas series\n",
    "books_list = ['Fooled by Randomness', 'Sapiens', 'Lenin on the Train']\n",
    "pd.Series(books_list)"
   ]
  },
  {
   "cell_type": "code",
   "execution_count": 4,
   "id": "87967fbc-9fc4-4ab5-aa6b-e7aabdd4a7ed",
   "metadata": {},
   "outputs": [],
   "source": [
    "# note how the series provides the index\n",
    "# similar if we created a dictionary"
   ]
  },
  {
   "cell_type": "code",
   "execution_count": 5,
   "id": "dbe6ba6c-d69a-4e5f-a2f3-134e86df6d97",
   "metadata": {},
   "outputs": [
    {
     "data": {
      "text/plain": [
       "0    Fooled by Randomness\n",
       "1                 Sapiens\n",
       "2      Lenin on the Train\n",
       "dtype: object"
      ]
     },
     "execution_count": 5,
     "metadata": {},
     "output_type": "execute_result"
    }
   ],
   "source": [
    "books_dict = {0:'Fooled by Randomness', 1:'Sapiens', 2:'Lenin on the Train'}\n",
    "pd.Series(books_dict)"
   ]
  },
  {
   "cell_type": "code",
   "execution_count": 7,
   "id": "ec792c64-2698-4aab-b36a-b372953c8283",
   "metadata": {},
   "outputs": [],
   "source": [
    "# the dtype for a string will always be an object\n",
    "# this is true even if only one piece of data is a string"
   ]
  },
  {
   "cell_type": "code",
   "execution_count": 9,
   "id": "109216df-6bfc-4fba-834f-e13d8e1afc04",
   "metadata": {},
   "outputs": [
    {
     "data": {
      "text/plain": [
       "funny                  Fooled by Randomness\n",
       "serious and amusing                 Sapiens\n",
       "kinda interesting        Lenin on the Train\n",
       "dtype: object"
      ]
     },
     "execution_count": 9,
     "metadata": {},
     "output_type": "execute_result"
    }
   ],
   "source": [
    "#index\n",
    "pd.Series(data=books_list, index=['funny', 'serious and amusing', 'kinda interesting'])\n",
    "#pd.Series(books_list,['funny', 'serious and amusing', 'kinda interesting']) --can also drop the positions"
   ]
  },
  {
   "cell_type": "code",
   "execution_count": 10,
   "id": "699bd8f3-0d8e-4559-a5b2-915e8b079fc7",
   "metadata": {},
   "outputs": [
    {
     "data": {
      "text/plain": [
       "[4, 5, 6]"
      ]
     },
     "execution_count": 10,
     "metadata": {},
     "output_type": "execute_result"
    }
   ],
   "source": [
    "#Range Index --> start, stop, step\n",
    "list(pd.RangeIndex(start=4, stop=7, step=1))"
   ]
  },
  {
   "cell_type": "code",
   "execution_count": 11,
   "id": "045aca44-2410-4f8a-a498-429b090fac64",
   "metadata": {},
   "outputs": [
    {
     "data": {
      "text/plain": [
       "[10, 9, 8, 7, 6, 5, 4, 3, 2, 1, 0, -1, -2, -3, -4, -5, -6, -7, -8, -9, -10]"
      ]
     },
     "execution_count": 11,
     "metadata": {},
     "output_type": "execute_result"
    }
   ],
   "source": [
    "list(pd.RangeIndex(start=10, stop=-11, step=-1))"
   ]
  },
  {
   "cell_type": "markdown",
   "id": "2024031b-3dfc-41b1-a466-7b447ab9c422",
   "metadata": {},
   "source": [
    "# Challenge Exercises"
   ]
  },
  {
   "cell_type": "markdown",
   "id": "f27e229c-ac0c-43a6-b60b-f9eb69fde614",
   "metadata": {},
   "source": [
    "1. Create a python list of length 4 that contains some of your favorite actors. So this should be a list of strings. Call this list—assign it to a variable called—*actor_names*."
   ]
  },
  {
   "cell_type": "code",
   "execution_count": 12,
   "id": "95dd3071-d55b-4d9a-a58e-b9948dc0c4db",
   "metadata": {},
   "outputs": [
    {
     "data": {
      "text/plain": [
       "['tom cruise', 'tom hanks', 'wendell pierce', 'tara reid']"
      ]
     },
     "execution_count": 12,
     "metadata": {},
     "output_type": "execute_result"
    }
   ],
   "source": [
    "actor_names = [\"tom cruise\", \"tom hanks\", \"wendell pierce\", \"tara reid\"]\n",
    "actor_names"
   ]
  },
  {
   "cell_type": "markdown",
   "id": "6fd7f448-16e0-47e3-afe1-e1b22e0e82a6",
   "metadata": {},
   "source": [
    "2. Next, create another python list of the same length that contains your guesses for how old each actor is, feel free to just use integers or floats. Call this list *actor_ages*."
   ]
  },
  {
   "cell_type": "code",
   "execution_count": 13,
   "id": "b4440e84-9ff6-44a4-90f5-9f7164046d2e",
   "metadata": {},
   "outputs": [],
   "source": [
    "actor_ages = [65, 72, 55, 45]"
   ]
  },
  {
   "cell_type": "markdown",
   "id": "71d5f7ac-30a3-40b9-b473-f4ca4c4799b4",
   "metadata": {},
   "source": [
    "3. Create a series that stores actor ages and labels the ages using the actor names. To clarify, use actor name in the index and actor age as values. Give this series a name of *actors*."
   ]
  },
  {
   "cell_type": "code",
   "execution_count": 15,
   "id": "d2314206-f217-48a5-9e4a-b8b8cfb027f9",
   "metadata": {},
   "outputs": [
    {
     "data": {
      "text/plain": [
       "tom cruise        65\n",
       "tom hanks         72\n",
       "wendell pierce    55\n",
       "tara reid         45\n",
       "dtype: int64"
      ]
     },
     "execution_count": 15,
     "metadata": {},
     "output_type": "execute_result"
    }
   ],
   "source": [
    "actors = pd.Series(data=actor_ages, index=actor_names)\n",
    "actors"
   ]
  },
  {
   "cell_type": "markdown",
   "id": "b02f3d57-a19a-43de-aa8e-2d1a3481b6ae",
   "metadata": {},
   "source": [
    "4. Repeat step 3 but this time create the series from a python dictionary. As an additional challenge, try not to type the dictionary manually, but instead dynamically create it using the two lists defined in Steps 1 and 2."
   ]
  },
  {
   "cell_type": "code",
   "execution_count": 16,
   "id": "52f9e95b-3a30-4c03-ba8b-581a80b918e2",
   "metadata": {},
   "outputs": [
    {
     "data": {
      "text/plain": [
       "<zip at 0x7f84b4b73500>"
      ]
     },
     "execution_count": 16,
     "metadata": {},
     "output_type": "execute_result"
    }
   ],
   "source": [
    "#use the zip method\n",
    "zip(actor_names, actor_ages)"
   ]
  },
  {
   "cell_type": "code",
   "execution_count": 18,
   "id": "8a8f1989-f85d-487a-a79a-fa81f264e532",
   "metadata": {},
   "outputs": [
    {
     "data": {
      "text/plain": [
       "tom cruise        65\n",
       "tom hanks         72\n",
       "wendell pierce    55\n",
       "tara reid         45\n",
       "dtype: int64"
      ]
     },
     "execution_count": 18,
     "metadata": {},
     "output_type": "execute_result"
    }
   ],
   "source": [
    "#now put the zip into dict and a series\n",
    "pd.Series(dict(zip(actor_names, actor_ages)))"
   ]
  },
  {
   "cell_type": "markdown",
   "id": "a3defce7-3583-4788-bc8f-f80cd59d7a9f",
   "metadata": {},
   "source": [
    "In Python, zip is a built-in function that is used to combine elements from multiple iterables (e.g., lists, tuples) into a single iterable of tuples. It essentially \"zips\" the elements together, pairing corresponding elements from each iterable. The resulting iterable contains tuples where the first element in each passed iterable is paired together, the second element is paired together, and so on."
   ]
  },
  {
   "cell_type": "code",
   "execution_count": 21,
   "id": "beb3b733-b2cd-41ea-ade8-e2c4dba6f09c",
   "metadata": {},
   "outputs": [
    {
     "data": {
      "text/plain": [
       "0    0\n",
       "1    1\n",
       "2    2\n",
       "3    3\n",
       "4    4\n",
       "dtype: int64"
      ]
     },
     "execution_count": 21,
     "metadata": {},
     "output_type": "execute_result"
    }
   ],
   "source": [
    "# head and tail\n",
    "test_series = pd.Series(range(60)) #this creates a series of 60 values\n",
    "test_series.head()"
   ]
  },
  {
   "cell_type": "markdown",
   "id": "7c551141-be55-4f37-b484-e905dd13e3c7",
   "metadata": {},
   "source": [
    "## Extracting by index position"
   ]
  },
  {
   "cell_type": "code",
   "execution_count": 22,
   "id": "87e4457a-f251-474b-bc2c-cc5e59047cc8",
   "metadata": {},
   "outputs": [],
   "source": [
    "from string import ascii_lowercase"
   ]
  },
  {
   "cell_type": "code",
   "execution_count": 23,
   "id": "2fd6affa-4c5f-4720-a81b-65c3bfd016fb",
   "metadata": {},
   "outputs": [
    {
     "data": {
      "text/plain": [
       "'abcdefghijklmnopqrstuvwxyz'"
      ]
     },
     "execution_count": 23,
     "metadata": {},
     "output_type": "execute_result"
    }
   ],
   "source": [
    "ascii_lowercase"
   ]
  },
  {
   "cell_type": "code",
   "execution_count": 24,
   "id": "09e73b49-060d-45a1-a80e-08b4f2e46fa0",
   "metadata": {},
   "outputs": [],
   "source": [
    "#this gives us access to all the letters of the alphabet"
   ]
  },
  {
   "cell_type": "code",
   "execution_count": 26,
   "id": "9ef97245-41fd-43bb-9a7e-84a1a93ba584",
   "metadata": {},
   "outputs": [],
   "source": [
    "#now put it in a list\n",
    "letters = list(ascii_lowercase)"
   ]
  },
  {
   "cell_type": "code",
   "execution_count": 45,
   "id": "f372a9c2-3462-4061-9027-6f4b47d1c5dc",
   "metadata": {},
   "outputs": [
    {
     "data": {
      "text/plain": [
       "0    a\n",
       "1    b\n",
       "2    c\n",
       "3    d\n",
       "4    e\n",
       "dtype: object"
      ]
     },
     "execution_count": 45,
     "metadata": {},
     "output_type": "execute_result"
    }
   ],
   "source": [
    "#now make a series\n",
    "abet = pd.Series(letters)\n",
    "abet.head()"
   ]
  },
  {
   "cell_type": "markdown",
   "id": "0a93d558-f8f8-4c82-ab1c-b092b380feb3",
   "metadata": {},
   "source": [
    "## slicing out"
   ]
  },
  {
   "cell_type": "code",
   "execution_count": 28,
   "id": "781322a4-2a3b-43fb-bba3-580fff639bb6",
   "metadata": {},
   "outputs": [],
   "source": [
    "# 1. What is the first letter?\n",
    "# 2. What is the 11th letter?\n",
    "# 3. What are the first three letters?\n",
    "# 4. What are the sixth through tenth letters?\n",
    "# 5. What are the last six letters?"
   ]
  },
  {
   "cell_type": "code",
   "execution_count": 29,
   "id": "a786c18a-a63c-42e2-b24f-201178263fc9",
   "metadata": {},
   "outputs": [
    {
     "data": {
      "text/plain": [
       "'a'"
      ]
     },
     "execution_count": 29,
     "metadata": {},
     "output_type": "execute_result"
    }
   ],
   "source": [
    "abet[0]"
   ]
  },
  {
   "cell_type": "code",
   "execution_count": 30,
   "id": "29d3162d-11ad-4ee0-94b1-df42ccb94686",
   "metadata": {},
   "outputs": [
    {
     "data": {
      "text/plain": [
       "'k'"
      ]
     },
     "execution_count": 30,
     "metadata": {},
     "output_type": "execute_result"
    }
   ],
   "source": [
    "abet[10]"
   ]
  },
  {
   "cell_type": "code",
   "execution_count": 32,
   "id": "bf387e69-898c-4adb-9040-64b05036d079",
   "metadata": {},
   "outputs": [
    {
     "data": {
      "text/plain": [
       "0    a\n",
       "1    b\n",
       "2    c\n",
       "dtype: object"
      ]
     },
     "execution_count": 32,
     "metadata": {},
     "output_type": "execute_result"
    }
   ],
   "source": [
    "abet[:3]"
   ]
  },
  {
   "cell_type": "code",
   "execution_count": 33,
   "id": "1a410ff5-f194-4e49-8b03-4f3c53a2191b",
   "metadata": {},
   "outputs": [
    {
     "data": {
      "text/plain": [
       "5    f\n",
       "6    g\n",
       "7    h\n",
       "8    i\n",
       "9    j\n",
       "dtype: object"
      ]
     },
     "execution_count": 33,
     "metadata": {},
     "output_type": "execute_result"
    }
   ],
   "source": [
    "abet[5:10]"
   ]
  },
  {
   "cell_type": "code",
   "execution_count": 34,
   "id": "21a50044-c31a-4a41-8e81-a1f5925a2f6b",
   "metadata": {},
   "outputs": [
    {
     "data": {
      "text/plain": [
       "20    u\n",
       "21    v\n",
       "22    w\n",
       "23    x\n",
       "24    y\n",
       "25    z\n",
       "dtype: object"
      ]
     },
     "execution_count": 34,
     "metadata": {},
     "output_type": "execute_result"
    }
   ],
   "source": [
    "abet[-6:]"
   ]
  },
  {
   "cell_type": "markdown",
   "id": "fceb921c-7edc-4b72-bd52-48a29f81c5ba",
   "metadata": {},
   "source": [
    "## accessing by label"
   ]
  },
  {
   "cell_type": "code",
   "execution_count": 37,
   "id": "f7f50589-c2fe-4bfc-8f5a-1459a28cd775",
   "metadata": {},
   "outputs": [
    {
     "data": {
      "text/plain": [
       "label_a    a\n",
       "label_b    b\n",
       "label_c    c\n",
       "label_d    d\n",
       "label_e    e\n",
       "dtype: object"
      ]
     },
     "execution_count": 37,
     "metadata": {},
     "output_type": "execute_result"
    }
   ],
   "source": [
    "labeled_alphabet = pd.Series(data=list(ascii_lowercase), index=map(lambda x: 'label_' + x, list(ascii_lowercase)))\n",
    "labeled_alphabet.head()"
   ]
  },
  {
   "cell_type": "code",
   "execution_count": 39,
   "id": "28490607-5828-4877-88c8-a074b7c202ad",
   "metadata": {},
   "outputs": [
    {
     "data": {
      "text/plain": [
       "'a'"
      ]
     },
     "execution_count": 39,
     "metadata": {},
     "output_type": "execute_result"
    }
   ],
   "source": [
    "#find first\n",
    "labeled_alphabet['label_a']"
   ]
  },
  {
   "cell_type": "code",
   "execution_count": 40,
   "id": "4c26b915-ec69-46e4-acc5-a21808f34475",
   "metadata": {},
   "outputs": [
    {
     "data": {
      "text/plain": [
       "label_a    a\n",
       "label_b    b\n",
       "label_c    c\n",
       "dtype: object"
      ]
     },
     "execution_count": 40,
     "metadata": {},
     "output_type": "execute_result"
    }
   ],
   "source": [
    "# first 3\n",
    "labeled_alphabet[: 'label_c']"
   ]
  },
  {
   "cell_type": "markdown",
   "id": "359180bb-40d3-45c1-b0ba-74b893821fa3",
   "metadata": {},
   "source": [
    "## adding a prefix or suffix"
   ]
  },
  {
   "cell_type": "code",
   "execution_count": 46,
   "id": "6ad270a2-0f86-44af-989b-d8ebd2abe0cf",
   "metadata": {},
   "outputs": [
    {
     "data": {
      "text/plain": [
       "label_0    a\n",
       "label_1    b\n",
       "label_2    c\n",
       "label_3    d\n",
       "label_4    e\n",
       "dtype: object"
      ]
     },
     "execution_count": 46,
     "metadata": {},
     "output_type": "execute_result"
    }
   ],
   "source": [
    "abet2 = abet.add_prefix('label_')\n",
    "abet2.head()"
   ]
  },
  {
   "cell_type": "markdown",
   "id": "6428d7ae-0001-42b9-b9b6-6b80901c68ea",
   "metadata": {},
   "source": [
    "## .loc & .iloc  --> square bracket [ ]"
   ]
  },
  {
   "cell_type": "code",
   "execution_count": 49,
   "id": "422e57ab-6f14-4c2a-a7b8-c3e982b7d954",
   "metadata": {},
   "outputs": [
    {
     "data": {
      "text/plain": [
       "label_f    f\n",
       "label_g    g\n",
       "label_h    h\n",
       "label_i    i\n",
       "label_j    j\n",
       "label_k    k\n",
       "dtype: object"
      ]
     },
     "execution_count": 49,
     "metadata": {},
     "output_type": "execute_result"
    }
   ],
   "source": [
    "#use for when selecting known text values\n",
    "labeled_alphabet.loc['label_f' : 'label_k']"
   ]
  },
  {
   "cell_type": "code",
   "execution_count": 51,
   "id": "ab6f61e6-5230-4462-bc98-5b0bda87ff25",
   "metadata": {},
   "outputs": [
    {
     "data": {
      "text/plain": [
       "'a'"
      ]
     },
     "execution_count": 51,
     "metadata": {},
     "output_type": "execute_result"
    }
   ],
   "source": [
    "#iloc is for indexing by position (integer loc)\n",
    "labeled_alphabet.iloc[0]"
   ]
  },
  {
   "cell_type": "code",
   "execution_count": 52,
   "id": "13c624c0-e5d8-43da-8b13-a1cf8ee444a1",
   "metadata": {},
   "outputs": [
    {
     "data": {
      "text/plain": [
       "label_b    b\n",
       "label_c    c\n",
       "dtype: object"
      ]
     },
     "execution_count": 52,
     "metadata": {},
     "output_type": "execute_result"
    }
   ],
   "source": [
    "labeled_alphabet.iloc[1:3]"
   ]
  },
  {
   "cell_type": "code",
   "execution_count": 56,
   "id": "b39e963f-2e41-4157-bccc-e6fa3edc85f9",
   "metadata": {},
   "outputs": [
    {
     "data": {
      "text/plain": [
       "label_b    b\n",
       "label_e    e\n",
       "label_h    h\n",
       "label_j    j\n",
       "dtype: object"
      ]
     },
     "execution_count": 56,
     "metadata": {},
     "output_type": "execute_result"
    }
   ],
   "source": [
    "# selecting single locations --> the list with [] resides inside the iloc []\n",
    "labeled_alphabet.iloc[[1, 4, 7, 9]]"
   ]
  },
  {
   "cell_type": "code",
   "execution_count": 58,
   "id": "b49af9bc-b65d-41e1-a29a-21186b132b43",
   "metadata": {},
   "outputs": [],
   "source": [
    "#callable function with iloc\n",
    "\n",
    "#grab every 5th\n",
    "def every_fifth(x):\n",
    "    return[True if i%5==0 else False for i in range(x.size)]"
   ]
  },
  {
   "cell_type": "code",
   "execution_count": 59,
   "id": "02b86dd9-c3fa-417b-9b9d-3bb464300d4e",
   "metadata": {},
   "outputs": [
    {
     "data": {
      "text/plain": [
       "label_a    a\n",
       "label_f    f\n",
       "label_k    k\n",
       "label_p    p\n",
       "label_u    u\n",
       "label_z    z\n",
       "dtype: object"
      ]
     },
     "execution_count": 59,
     "metadata": {},
     "output_type": "execute_result"
    }
   ],
   "source": [
    "labeled_alphabet.iloc[every_fifth]"
   ]
  },
  {
   "cell_type": "markdown",
   "id": "1890381c-a1b3-4dd8-8f39-2535ba140862",
   "metadata": {},
   "source": [
    "## .get\n",
    "* get CANNOT slice"
   ]
  },
  {
   "cell_type": "code",
   "execution_count": 60,
   "id": "f159beaa-552c-4358-b2a2-00c1fff00af6",
   "metadata": {},
   "outputs": [
    {
     "data": {
      "text/plain": [
       "'doesnt exist'"
      ]
     },
     "execution_count": 60,
     "metadata": {},
     "output_type": "execute_result"
    }
   ],
   "source": [
    "# allows you to set a default so that if its not found you can return something else\n",
    "labeled_alphabet.get('label_all', default = 'doesnt exist')"
   ]
  },
  {
   "cell_type": "code",
   "execution_count": 61,
   "id": "f55d5ca2-7b63-49bb-b893-b795acf5e134",
   "metadata": {},
   "outputs": [
    {
     "data": {
      "text/plain": [
       "'i'"
      ]
     },
     "execution_count": 61,
     "metadata": {},
     "output_type": "execute_result"
    }
   ],
   "source": [
    "# .get also behaves like the iloc \n",
    "labeled_alphabet.get(8)"
   ]
  },
  {
   "cell_type": "code",
   "execution_count": 62,
   "id": "b02ddc68-91bb-4bfb-991e-acb34bea3cba",
   "metadata": {},
   "outputs": [
    {
     "data": {
      "text/plain": [
       "'doesnt exist'"
      ]
     },
     "execution_count": 62,
     "metadata": {},
     "output_type": "execute_result"
    }
   ],
   "source": [
    "labeled_alphabet.get(100, default='doesnt exist')"
   ]
  },
  {
   "cell_type": "markdown",
   "id": "4610c98f-77c1-4be0-877e-f4bfddf19351",
   "metadata": {},
   "source": [
    "# Challenge Exercise"
   ]
  },
  {
   "cell_type": "markdown",
   "id": "5825eec3-9c68-455c-8d12-6af5b84be661",
   "metadata": {},
   "source": [
    "Create a series of length 100 containing the squares of integers from 0 to 99. Assign it to the variable *squares*."
   ]
  },
  {
   "cell_type": "code",
   "execution_count": 64,
   "id": "c808542f-b82d-4b26-ae99-70b696cd4df5",
   "metadata": {},
   "outputs": [
    {
     "data": {
      "text/plain": [
       "0     0\n",
       "1     1\n",
       "2     4\n",
       "3     9\n",
       "4    16\n",
       "dtype: int64"
      ]
     },
     "execution_count": 64,
     "metadata": {},
     "output_type": "execute_result"
    }
   ],
   "source": [
    "squares = pd.Series(data=[i**2 for i in range(100)])\n",
    "squares.head()"
   ]
  },
  {
   "cell_type": "markdown",
   "id": "4ea029d2-28ab-4db6-91f8-a373fe769395",
   "metadata": {},
   "source": [
    "---\n",
    "Extract the last three items from the *squares* series using square bracket indexing. "
   ]
  },
  {
   "cell_type": "code",
   "execution_count": 65,
   "id": "d11cd7e9-5eab-4fef-b1e8-5127e34fa978",
   "metadata": {},
   "outputs": [
    {
     "data": {
      "text/plain": [
       "97    9409\n",
       "98    9604\n",
       "99    9801\n",
       "dtype: int64"
      ]
     },
     "execution_count": 65,
     "metadata": {},
     "output_type": "execute_result"
    }
   ],
   "source": [
    "last_three = squares[-3:]\n",
    "last_three"
   ]
  },
  {
   "cell_type": "markdown",
   "id": "97ad9899-1036-4f97-9147-9cd173770fa5",
   "metadata": {},
   "source": [
    "---\n",
    "Repeat Step 2 but using the .tail() method instead."
   ]
  },
  {
   "cell_type": "code",
   "execution_count": 66,
   "id": "39679a5e-fb34-40d5-8d14-eec5aaf132bc",
   "metadata": {},
   "outputs": [
    {
     "data": {
      "text/plain": [
       "97    9409\n",
       "98    9604\n",
       "99    9801\n",
       "dtype: int64"
      ]
     },
     "execution_count": 66,
     "metadata": {},
     "output_type": "execute_result"
    }
   ],
   "source": [
    "last_three.tail(3)"
   ]
  },
  {
   "cell_type": "markdown",
   "id": "f614b870-2251-481c-8342-2c744c4f1667",
   "metadata": {},
   "source": [
    "---\n",
    "Verify that the output of steps 2 and 3 is the same using the .equals() method."
   ]
  },
  {
   "cell_type": "code",
   "execution_count": 68,
   "id": "ef121ea3-f1a1-4b07-ad22-86d097ec5193",
   "metadata": {},
   "outputs": [
    {
     "data": {
      "text/plain": [
       "97    True\n",
       "98    True\n",
       "99    True\n",
       "dtype: bool"
      ]
     },
     "execution_count": 68,
     "metadata": {},
     "output_type": "execute_result"
    }
   ],
   "source": [
    "last_three.tail(3) == squares[-3:]"
   ]
  },
  {
   "cell_type": "code",
   "execution_count": null,
   "id": "bcb3bf86-c8df-47dd-8433-6e781298b525",
   "metadata": {},
   "outputs": [],
   "source": []
  }
 ],
 "metadata": {
  "kernelspec": {
   "display_name": "Python 3 (ipykernel)",
   "language": "python",
   "name": "python3"
  },
  "language_info": {
   "codemirror_mode": {
    "name": "ipython",
    "version": 3
   },
   "file_extension": ".py",
   "mimetype": "text/x-python",
   "name": "python",
   "nbconvert_exporter": "python",
   "pygments_lexer": "ipython3",
   "version": "3.9.13"
  }
 },
 "nbformat": 4,
 "nbformat_minor": 5
}

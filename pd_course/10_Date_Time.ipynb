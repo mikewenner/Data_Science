{
 "cells": [
  {
   "cell_type": "code",
   "execution_count": 1,
   "id": "6d02231e-825d-4b9d-9b12-d2e280a9a5c3",
   "metadata": {},
   "outputs": [],
   "source": [
    "import pandas as pd\n",
    "import numpy as np"
   ]
  },
  {
   "cell_type": "code",
   "execution_count": 2,
   "id": "e509009d-20ed-4892-8734-3455af058141",
   "metadata": {},
   "outputs": [],
   "source": [
    "from datetime import date, time, datetime"
   ]
  },
  {
   "cell_type": "code",
   "execution_count": 3,
   "id": "cb1d857e-0935-4af5-bfca-d28f83e3288e",
   "metadata": {},
   "outputs": [
    {
     "data": {
      "text/plain": [
       "datetime.datetime(2023, 8, 3, 9, 2, 2, 251871)"
      ]
     },
     "execution_count": 3,
     "metadata": {},
     "output_type": "execute_result"
    }
   ],
   "source": [
    "datetime.now()"
   ]
  },
  {
   "cell_type": "code",
   "execution_count": 4,
   "id": "857f4fcb-59d5-4042-a66c-7199cbedad2a",
   "metadata": {},
   "outputs": [
    {
     "data": {
      "text/plain": [
       "2023"
      ]
     },
     "execution_count": 4,
     "metadata": {},
     "output_type": "execute_result"
    }
   ],
   "source": [
    "datetime.now().year"
   ]
  },
  {
   "cell_type": "markdown",
   "id": "7a2c175e-cbe4-4a78-9c38-7ce1c13e799f",
   "metadata": {},
   "source": [
    "## Strptime\n",
    "* string parse time\n",
    "* converts string to datetime"
   ]
  },
  {
   "cell_type": "code",
   "execution_count": 5,
   "id": "58c912a7-d313-453e-971a-e26842a7a48e",
   "metadata": {},
   "outputs": [
    {
     "data": {
      "text/plain": [
       "datetime.datetime(2022, 8, 6, 0, 0)"
      ]
     },
     "execution_count": 5,
     "metadata": {},
     "output_type": "execute_result"
    }
   ],
   "source": [
    "# what if we dont have date object? what if its just text/str?\n",
    "\n",
    "# strptime --> string, parse, time\n",
    "\n",
    "datetime.strptime('2022-08-06', '%Y-%m-%d')"
   ]
  },
  {
   "cell_type": "code",
   "execution_count": 6,
   "id": "9031efe6-c65a-4cee-a50a-df5158c2e40f",
   "metadata": {},
   "outputs": [],
   "source": [
    "dt_B = datetime.strptime('2022-08-06', '%Y-%m-%d')"
   ]
  },
  {
   "cell_type": "code",
   "execution_count": 7,
   "id": "7e56a17e-4456-4f28-b2a4-0f8ac3201e05",
   "metadata": {},
   "outputs": [
    {
     "data": {
      "text/plain": [
       "2022"
      ]
     },
     "execution_count": 7,
     "metadata": {},
     "output_type": "execute_result"
    }
   ],
   "source": [
    "dt_B.year"
   ]
  },
  {
   "cell_type": "code",
   "execution_count": 12,
   "id": "3411fef1-d8ce-4cd3-9d87-567552033379",
   "metadata": {},
   "outputs": [],
   "source": [
    "# ex -- using strptime codes\n",
    "try_this = 'jan 20 2090 4pm'"
   ]
  },
  {
   "cell_type": "code",
   "execution_count": 13,
   "id": "03b403ff-6eae-4375-be83-a72ff6c2487d",
   "metadata": {},
   "outputs": [
    {
     "data": {
      "text/plain": [
       "datetime.datetime(2090, 1, 20, 16, 0)"
      ]
     },
     "execution_count": 13,
     "metadata": {},
     "output_type": "execute_result"
    }
   ],
   "source": [
    "datetime.strptime(try_this, '%b %d %Y %I%p')"
   ]
  },
  {
   "cell_type": "markdown",
   "id": "b4a7a20a-0c1b-4c3e-8207-bbf860400904",
   "metadata": {},
   "source": [
    "## Dateutil"
   ]
  },
  {
   "cell_type": "code",
   "execution_count": 15,
   "id": "e4cca8f3-a0bf-44eb-a9d4-3e9e22f7f113",
   "metadata": {},
   "outputs": [],
   "source": [
    "from dateutil import parser"
   ]
  },
  {
   "cell_type": "code",
   "execution_count": 16,
   "id": "e838126e-db32-428d-983f-7544400b72e5",
   "metadata": {},
   "outputs": [
    {
     "data": {
      "text/plain": [
       "datetime.datetime(1990, 1, 21, 0, 0)"
      ]
     },
     "execution_count": 16,
     "metadata": {},
     "output_type": "execute_result"
    }
   ],
   "source": [
    "#example - parser automatically converts the text string to a datetime\n",
    "\n",
    "parser.parse('jan 21st 1990')"
   ]
  },
  {
   "cell_type": "markdown",
   "id": "cea986b0-cd2b-4580-a146-072d1310bbe4",
   "metadata": {},
   "source": [
    "## Strftime\n",
    "* string format time\n",
    "* takes a date time object and converts to string"
   ]
  },
  {
   "cell_type": "code",
   "execution_count": 17,
   "id": "09071b70-03ce-461e-8048-b0a8b4eb3347",
   "metadata": {},
   "outputs": [
    {
     "data": {
      "text/plain": [
       "datetime.datetime(2023, 8, 3, 9, 23, 41, 151855)"
      ]
     },
     "execution_count": 17,
     "metadata": {},
     "output_type": "execute_result"
    }
   ],
   "source": [
    "# Ex\n",
    "dt = datetime.now()\n",
    "dt"
   ]
  },
  {
   "cell_type": "code",
   "execution_count": 22,
   "id": "a2bf88c9-5f7e-4a45-bfad-5277582ee8f5",
   "metadata": {},
   "outputs": [
    {
     "data": {
      "text/plain": [
       "'23'"
      ]
     },
     "execution_count": 22,
     "metadata": {},
     "output_type": "execute_result"
    }
   ],
   "source": [
    "dt.strftime('%y')"
   ]
  },
  {
   "cell_type": "code",
   "execution_count": 25,
   "id": "8fd2c339-8df5-4059-b664-c72dff9ffa07",
   "metadata": {},
   "outputs": [
    {
     "data": {
      "text/plain": [
       "'Year: 2023, Month: 08, Day: 03'"
      ]
     },
     "execution_count": 25,
     "metadata": {},
     "output_type": "execute_result"
    }
   ],
   "source": [
    "dt.strftime('Year: %Y, Month: %m, Day: %d')"
   ]
  },
  {
   "cell_type": "code",
   "execution_count": 26,
   "id": "7cbe2c52-0205-4e81-a9f0-bf6257551a39",
   "metadata": {},
   "outputs": [
    {
     "data": {
      "text/plain": [
       "'Thu Aug  3 09:23:41 2023'"
      ]
     },
     "execution_count": 26,
     "metadata": {},
     "output_type": "execute_result"
    }
   ],
   "source": [
    "dt.strftime('%c') #--> the %c is a defaulrt output"
   ]
  },
  {
   "cell_type": "markdown",
   "id": "6a172f74-fcc8-40e8-9c8b-a113b77745cf",
   "metadata": {},
   "source": [
    "# Numpy datetimes"
   ]
  },
  {
   "cell_type": "code",
   "execution_count": 27,
   "id": "92d5c376-94ce-4e25-9208-ae0692907ff2",
   "metadata": {},
   "outputs": [
    {
     "data": {
      "text/plain": [
       "numpy.datetime64('2023-07-31')"
      ]
     },
     "execution_count": 27,
     "metadata": {},
     "output_type": "execute_result"
    }
   ],
   "source": [
    "#ex\n",
    "np.datetime64('2023-07-31')"
   ]
  },
  {
   "cell_type": "code",
   "execution_count": 28,
   "id": "821c8aa5-db4f-4de1-b6e1-e9ea2755366e",
   "metadata": {},
   "outputs": [],
   "source": [
    "a = np.datetime64('2023-07-31')\n",
    "b = np.datetime64(datetime.now())"
   ]
  },
  {
   "cell_type": "code",
   "execution_count": 30,
   "id": "6f4fc657-00e6-4a59-8593-0b05b5c84956",
   "metadata": {},
   "outputs": [
    {
     "data": {
      "text/plain": [
       "numpy.datetime64('2023-08-10')"
      ]
     },
     "execution_count": 30,
     "metadata": {},
     "output_type": "execute_result"
    }
   ],
   "source": [
    "# we can now perform operations\n",
    "a+10"
   ]
  },
  {
   "cell_type": "code",
   "execution_count": 31,
   "id": "29469f95-cfcb-4147-9ada-06cb474dfc43",
   "metadata": {},
   "outputs": [
    {
     "data": {
      "text/plain": [
       "numpy.datetime64('2023-08-03T09:31:03.896062')"
      ]
     },
     "execution_count": 31,
     "metadata": {},
     "output_type": "execute_result"
    }
   ],
   "source": [
    "# now lets look at b\n",
    "b"
   ]
  },
  {
   "cell_type": "code",
   "execution_count": 32,
   "id": "d0a8408f-15b2-4ba7-ac23-e40805e322d0",
   "metadata": {},
   "outputs": [
    {
     "data": {
      "text/plain": [
       "numpy.datetime64('2023-08-03T09:31:03.896072')"
      ]
     },
     "execution_count": 32,
     "metadata": {},
     "output_type": "execute_result"
    }
   ],
   "source": [
    "b+10"
   ]
  },
  {
   "cell_type": "code",
   "execution_count": 35,
   "id": "676fde59-fbb7-4e33-ad4f-0997a87139a6",
   "metadata": {},
   "outputs": [
    {
     "data": {
      "text/plain": [
       "numpy.datetime64('2023-08-13')"
      ]
     },
     "execution_count": 35,
     "metadata": {},
     "output_type": "execute_result"
    }
   ],
   "source": [
    "#this only adds 10 microseconds\n",
    "\n",
    "# the operations add 10 to the lowest time available in each variable\n",
    "\n",
    "#to rescale b to day as lowest format\n",
    "\n",
    "np.datetime64(b, 'D') +10"
   ]
  },
  {
   "cell_type": "markdown",
   "id": "e21e764e-1027-4c14-bbcf-2379bb0c1b00",
   "metadata": {},
   "source": [
    "# Pandas Timestamp"
   ]
  },
  {
   "cell_type": "code",
   "execution_count": 36,
   "id": "63259c09-63ca-498b-80a5-9e2569ffb226",
   "metadata": {},
   "outputs": [],
   "source": [
    "# combines the python datetime and the numpy datetime64"
   ]
  },
  {
   "cell_type": "code",
   "execution_count": 37,
   "id": "ca8c5ec3-8ef1-4124-b368-268a3a1b5770",
   "metadata": {},
   "outputs": [
    {
     "data": {
      "text/plain": [
       "Timestamp('1776-07-04 00:00:00')"
      ]
     },
     "execution_count": 37,
     "metadata": {},
     "output_type": "execute_result"
    }
   ],
   "source": [
    "pd.Timestamp('4th of July 1776')"
   ]
  },
  {
   "cell_type": "code",
   "execution_count": 38,
   "id": "a6b5f10d-4211-40e3-8537-9a2be32ab4d0",
   "metadata": {},
   "outputs": [
    {
     "data": {
      "text/plain": [
       "Timestamp('1776-07-04 00:00:00')"
      ]
     },
     "execution_count": 38,
     "metadata": {},
     "output_type": "execute_result"
    }
   ],
   "source": [
    "pd.Timestamp('1776/07/04') #year month day"
   ]
  },
  {
   "cell_type": "code",
   "execution_count": 39,
   "id": "4d7a611e-4758-4bcf-968f-f7cf6a05df87",
   "metadata": {},
   "outputs": [
    {
     "data": {
      "text/plain": [
       "Timestamp('1776-07-04 00:00:00')"
      ]
     },
     "execution_count": 39,
     "metadata": {},
     "output_type": "execute_result"
    }
   ],
   "source": [
    "pd.to_datetime('7/4/1776')"
   ]
  },
  {
   "cell_type": "code",
   "execution_count": 42,
   "id": "1cf095c0-fa65-4b2b-b83c-e0f0c8185546",
   "metadata": {},
   "outputs": [
    {
     "data": {
      "text/plain": [
       "Timestamp('1776-07-04 00:00:00')"
      ]
     },
     "execution_count": 42,
     "metadata": {},
     "output_type": "execute_result"
    }
   ],
   "source": [
    "pdts = pd.to_datetime('4/7/1776', dayfirst=True)\n",
    "pdts"
   ]
  },
  {
   "cell_type": "code",
   "execution_count": 43,
   "id": "4be7ffac-66a3-4390-a5af-09bb30d8e0c0",
   "metadata": {},
   "outputs": [
    {
     "data": {
      "text/plain": [
       "'Thursday'"
      ]
     },
     "execution_count": 43,
     "metadata": {},
     "output_type": "execute_result"
    }
   ],
   "source": [
    "pdts.day_name()"
   ]
  },
  {
   "cell_type": "code",
   "execution_count": 45,
   "id": "11203ff8-d90a-40c2-95d4-e2c10d3ff666",
   "metadata": {},
   "outputs": [
    {
     "data": {
      "text/plain": [
       "31"
      ]
     },
     "execution_count": 45,
     "metadata": {},
     "output_type": "execute_result"
    }
   ],
   "source": [
    "pdts.days_in_month"
   ]
  },
  {
   "cell_type": "code",
   "execution_count": 46,
   "id": "418a1d20-fc5d-42d8-9ad2-75d2b5d1506d",
   "metadata": {},
   "outputs": [
    {
     "data": {
      "text/plain": [
       "27"
      ]
     },
     "execution_count": 46,
     "metadata": {},
     "output_type": "execute_result"
    }
   ],
   "source": [
    "pdts.week"
   ]
  },
  {
   "cell_type": "code",
   "execution_count": 51,
   "id": "084e65d6-49f8-438b-a695-f7b368e4af98",
   "metadata": {},
   "outputs": [
    {
     "data": {
      "text/plain": [
       "datetime.IsoCalendarDate(year=1776, week=27, weekday=4)"
      ]
     },
     "execution_count": 51,
     "metadata": {},
     "output_type": "execute_result"
    }
   ],
   "source": [
    "pdts.isocalendar()"
   ]
  },
  {
   "cell_type": "markdown",
   "id": "51f79c95-bea0-4d94-971b-2d7de694e5b6",
   "metadata": {},
   "source": [
    "# Working with real dataset of oil"
   ]
  },
  {
   "cell_type": "code",
   "execution_count": 81,
   "id": "2f6af670-4da1-4f14-8591-f2eb1b025fb6",
   "metadata": {},
   "outputs": [
    {
     "data": {
      "text/html": [
       "<div>\n",
       "<style scoped>\n",
       "    .dataframe tbody tr th:only-of-type {\n",
       "        vertical-align: middle;\n",
       "    }\n",
       "\n",
       "    .dataframe tbody tr th {\n",
       "        vertical-align: top;\n",
       "    }\n",
       "\n",
       "    .dataframe thead th {\n",
       "        text-align: right;\n",
       "    }\n",
       "</style>\n",
       "<table border=\"1\" class=\"dataframe\">\n",
       "  <thead>\n",
       "    <tr style=\"text-align: right;\">\n",
       "      <th></th>\n",
       "      <th>Date</th>\n",
       "      <th>Price</th>\n",
       "    </tr>\n",
       "  </thead>\n",
       "  <tbody>\n",
       "    <tr>\n",
       "      <th>0</th>\n",
       "      <td>04-Jan-00</td>\n",
       "      <td>23.95</td>\n",
       "    </tr>\n",
       "    <tr>\n",
       "      <th>1</th>\n",
       "      <td>05-Jan-00</td>\n",
       "      <td>23.72</td>\n",
       "    </tr>\n",
       "    <tr>\n",
       "      <th>2</th>\n",
       "      <td>06-Jan-00</td>\n",
       "      <td>23.55</td>\n",
       "    </tr>\n",
       "    <tr>\n",
       "      <th>3</th>\n",
       "      <td>07-Jan-00</td>\n",
       "      <td>23.35</td>\n",
       "    </tr>\n",
       "    <tr>\n",
       "      <th>4</th>\n",
       "      <td>10-Jan-00</td>\n",
       "      <td>22.77</td>\n",
       "    </tr>\n",
       "    <tr>\n",
       "      <th>...</th>\n",
       "      <td>...</td>\n",
       "      <td>...</td>\n",
       "    </tr>\n",
       "    <tr>\n",
       "      <th>5011</th>\n",
       "      <td>24-Sep-19</td>\n",
       "      <td>64.13</td>\n",
       "    </tr>\n",
       "    <tr>\n",
       "      <th>5012</th>\n",
       "      <td>25-Sep-19</td>\n",
       "      <td>62.41</td>\n",
       "    </tr>\n",
       "    <tr>\n",
       "      <th>5013</th>\n",
       "      <td>26-Sep-19</td>\n",
       "      <td>62.08</td>\n",
       "    </tr>\n",
       "    <tr>\n",
       "      <th>5014</th>\n",
       "      <td>27-Sep-19</td>\n",
       "      <td>62.48</td>\n",
       "    </tr>\n",
       "    <tr>\n",
       "      <th>5015</th>\n",
       "      <td>30-Sep-19</td>\n",
       "      <td>60.99</td>\n",
       "    </tr>\n",
       "  </tbody>\n",
       "</table>\n",
       "<p>5016 rows × 2 columns</p>\n",
       "</div>"
      ],
      "text/plain": [
       "           Date  Price\n",
       "0     04-Jan-00  23.95\n",
       "1     05-Jan-00  23.72\n",
       "2     06-Jan-00  23.55\n",
       "3     07-Jan-00  23.35\n",
       "4     10-Jan-00  22.77\n",
       "...         ...    ...\n",
       "5011  24-Sep-19  64.13\n",
       "5012  25-Sep-19  62.41\n",
       "5013  26-Sep-19  62.08\n",
       "5014  27-Sep-19  62.48\n",
       "5015  30-Sep-19  60.99\n",
       "\n",
       "[5016 rows x 2 columns]"
      ]
     },
     "execution_count": 81,
     "metadata": {},
     "output_type": "execute_result"
    }
   ],
   "source": [
    "oil_path = '/Users/mikewenner/Desktop/CSV/BrentOilPrices.csv'\n",
    "oil = pd.read_csv(oil_path)\n",
    "oil"
   ]
  },
  {
   "cell_type": "code",
   "execution_count": 82,
   "id": "47f7958b-d57f-419c-89c4-72c1ad4afd7f",
   "metadata": {},
   "outputs": [
    {
     "name": "stdout",
     "output_type": "stream",
     "text": [
      "<class 'pandas.core.frame.DataFrame'>\n",
      "RangeIndex: 5016 entries, 0 to 5015\n",
      "Data columns (total 2 columns):\n",
      " #   Column  Non-Null Count  Dtype  \n",
      "---  ------  --------------  -----  \n",
      " 0   Date    5016 non-null   object \n",
      " 1   Price   5016 non-null   float64\n",
      "dtypes: float64(1), object(1)\n",
      "memory usage: 362.6 KB\n"
     ]
    }
   ],
   "source": [
    "oil.info(memory_usage='deep')"
   ]
  },
  {
   "cell_type": "code",
   "execution_count": 84,
   "id": "d0f7afcf-62dc-4e63-9055-33913f764189",
   "metadata": {},
   "outputs": [],
   "source": [
    "# note that the date is an object\n",
    "\n",
    "#cahnge the date column to np datetime\n",
    "\n",
    "oil['Date'] = oil['Date'].astype(np.datetime64())\n",
    "\n",
    "# if used the pd.datetime() it errors because pos1 is not the year"
   ]
  },
  {
   "cell_type": "code",
   "execution_count": 76,
   "id": "c7bd3404-870f-44ab-b62b-03173db180c3",
   "metadata": {},
   "outputs": [
    {
     "name": "stdout",
     "output_type": "stream",
     "text": [
      "<class 'pandas.core.frame.DataFrame'>\n",
      "DatetimeIndex: 5016 entries, 2000-01-04 to 2019-09-30\n",
      "Data columns (total 1 columns):\n",
      " #   Column  Non-Null Count  Dtype  \n",
      "---  ------  --------------  -----  \n",
      " 0   Price   5016 non-null   float64\n",
      "dtypes: float64(1)\n",
      "memory usage: 78.4 KB\n"
     ]
    }
   ],
   "source": [
    "oil.info(memory_usage='deep')"
   ]
  },
  {
   "cell_type": "code",
   "execution_count": 60,
   "id": "b6a17736-892a-4c5d-9f3a-8d5ed8a75f45",
   "metadata": {},
   "outputs": [],
   "source": [
    "# note change in type of the date as well as the redux in memory"
   ]
  },
  {
   "cell_type": "code",
   "execution_count": 61,
   "id": "2dd238e5-428a-4eff-b804-0cd287529861",
   "metadata": {},
   "outputs": [
    {
     "data": {
      "text/html": [
       "<div>\n",
       "<style scoped>\n",
       "    .dataframe tbody tr th:only-of-type {\n",
       "        vertical-align: middle;\n",
       "    }\n",
       "\n",
       "    .dataframe tbody tr th {\n",
       "        vertical-align: top;\n",
       "    }\n",
       "\n",
       "    .dataframe thead th {\n",
       "        text-align: right;\n",
       "    }\n",
       "</style>\n",
       "<table border=\"1\" class=\"dataframe\">\n",
       "  <thead>\n",
       "    <tr style=\"text-align: right;\">\n",
       "      <th></th>\n",
       "      <th>Price</th>\n",
       "    </tr>\n",
       "    <tr>\n",
       "      <th>Date</th>\n",
       "      <th></th>\n",
       "    </tr>\n",
       "  </thead>\n",
       "  <tbody>\n",
       "    <tr>\n",
       "      <th>2000-01-04</th>\n",
       "      <td>23.95</td>\n",
       "    </tr>\n",
       "    <tr>\n",
       "      <th>2000-01-05</th>\n",
       "      <td>23.72</td>\n",
       "    </tr>\n",
       "    <tr>\n",
       "      <th>2000-01-06</th>\n",
       "      <td>23.55</td>\n",
       "    </tr>\n",
       "    <tr>\n",
       "      <th>2000-01-07</th>\n",
       "      <td>23.35</td>\n",
       "    </tr>\n",
       "    <tr>\n",
       "      <th>2000-01-10</th>\n",
       "      <td>22.77</td>\n",
       "    </tr>\n",
       "    <tr>\n",
       "      <th>...</th>\n",
       "      <td>...</td>\n",
       "    </tr>\n",
       "    <tr>\n",
       "      <th>2019-09-24</th>\n",
       "      <td>64.13</td>\n",
       "    </tr>\n",
       "    <tr>\n",
       "      <th>2019-09-25</th>\n",
       "      <td>62.41</td>\n",
       "    </tr>\n",
       "    <tr>\n",
       "      <th>2019-09-26</th>\n",
       "      <td>62.08</td>\n",
       "    </tr>\n",
       "    <tr>\n",
       "      <th>2019-09-27</th>\n",
       "      <td>62.48</td>\n",
       "    </tr>\n",
       "    <tr>\n",
       "      <th>2019-09-30</th>\n",
       "      <td>60.99</td>\n",
       "    </tr>\n",
       "  </tbody>\n",
       "</table>\n",
       "<p>5016 rows × 1 columns</p>\n",
       "</div>"
      ],
      "text/plain": [
       "            Price\n",
       "Date             \n",
       "2000-01-04  23.95\n",
       "2000-01-05  23.72\n",
       "2000-01-06  23.55\n",
       "2000-01-07  23.35\n",
       "2000-01-10  22.77\n",
       "...           ...\n",
       "2019-09-24  64.13\n",
       "2019-09-25  62.41\n",
       "2019-09-26  62.08\n",
       "2019-09-27  62.48\n",
       "2019-09-30  60.99\n",
       "\n",
       "[5016 rows x 1 columns]"
      ]
     },
     "execution_count": 61,
     "metadata": {},
     "output_type": "execute_result"
    }
   ],
   "source": [
    "#set the index\n",
    "oil.set_index('Date', inplace=True)\n",
    "oil"
   ]
  },
  {
   "cell_type": "code",
   "execution_count": 62,
   "id": "ad38c39d-b591-46a9-9816-518bfa1e8d17",
   "metadata": {},
   "outputs": [
    {
     "data": {
      "text/plain": [
       "DatetimeIndex(['2000-01-04', '2000-01-05', '2000-01-06', '2000-01-07',\n",
       "               '2000-01-10', '2000-01-11', '2000-01-12', '2000-01-13',\n",
       "               '2000-01-14', '2000-01-17',\n",
       "               ...\n",
       "               '2019-09-17', '2019-09-18', '2019-09-19', '2019-09-20',\n",
       "               '2019-09-23', '2019-09-24', '2019-09-25', '2019-09-26',\n",
       "               '2019-09-27', '2019-09-30'],\n",
       "              dtype='datetime64[ns]', name='Date', length=5016, freq=None)"
      ]
     },
     "execution_count": 62,
     "metadata": {},
     "output_type": "execute_result"
    }
   ],
   "source": [
    "oil.index"
   ]
  },
  {
   "cell_type": "markdown",
   "id": "18775f21-7d5e-477d-acc5-5c942348df56",
   "metadata": {},
   "source": [
    "# Doing it on the read_csv"
   ]
  },
  {
   "cell_type": "code",
   "execution_count": 87,
   "id": "46f4d88e-2f6c-40c9-8329-031d77a2ace0",
   "metadata": {},
   "outputs": [
    {
     "data": {
      "text/html": [
       "<div>\n",
       "<style scoped>\n",
       "    .dataframe tbody tr th:only-of-type {\n",
       "        vertical-align: middle;\n",
       "    }\n",
       "\n",
       "    .dataframe tbody tr th {\n",
       "        vertical-align: top;\n",
       "    }\n",
       "\n",
       "    .dataframe thead th {\n",
       "        text-align: right;\n",
       "    }\n",
       "</style>\n",
       "<table border=\"1\" class=\"dataframe\">\n",
       "  <thead>\n",
       "    <tr style=\"text-align: right;\">\n",
       "      <th></th>\n",
       "      <th>Price</th>\n",
       "    </tr>\n",
       "    <tr>\n",
       "      <th>Date</th>\n",
       "      <th></th>\n",
       "    </tr>\n",
       "  </thead>\n",
       "  <tbody>\n",
       "    <tr>\n",
       "      <th>2000-01-04</th>\n",
       "      <td>23.95</td>\n",
       "    </tr>\n",
       "    <tr>\n",
       "      <th>2000-01-05</th>\n",
       "      <td>23.72</td>\n",
       "    </tr>\n",
       "    <tr>\n",
       "      <th>2000-01-06</th>\n",
       "      <td>23.55</td>\n",
       "    </tr>\n",
       "    <tr>\n",
       "      <th>2000-01-07</th>\n",
       "      <td>23.35</td>\n",
       "    </tr>\n",
       "    <tr>\n",
       "      <th>2000-01-10</th>\n",
       "      <td>22.77</td>\n",
       "    </tr>\n",
       "    <tr>\n",
       "      <th>...</th>\n",
       "      <td>...</td>\n",
       "    </tr>\n",
       "    <tr>\n",
       "      <th>2019-09-24</th>\n",
       "      <td>64.13</td>\n",
       "    </tr>\n",
       "    <tr>\n",
       "      <th>2019-09-25</th>\n",
       "      <td>62.41</td>\n",
       "    </tr>\n",
       "    <tr>\n",
       "      <th>2019-09-26</th>\n",
       "      <td>62.08</td>\n",
       "    </tr>\n",
       "    <tr>\n",
       "      <th>2019-09-27</th>\n",
       "      <td>62.48</td>\n",
       "    </tr>\n",
       "    <tr>\n",
       "      <th>2019-09-30</th>\n",
       "      <td>60.99</td>\n",
       "    </tr>\n",
       "  </tbody>\n",
       "</table>\n",
       "<p>5016 rows × 1 columns</p>\n",
       "</div>"
      ],
      "text/plain": [
       "            Price\n",
       "Date             \n",
       "2000-01-04  23.95\n",
       "2000-01-05  23.72\n",
       "2000-01-06  23.55\n",
       "2000-01-07  23.35\n",
       "2000-01-10  22.77\n",
       "...           ...\n",
       "2019-09-24  64.13\n",
       "2019-09-25  62.41\n",
       "2019-09-26  62.08\n",
       "2019-09-27  62.48\n",
       "2019-09-30  60.99\n",
       "\n",
       "[5016 rows x 1 columns]"
      ]
     },
     "execution_count": 87,
     "metadata": {},
     "output_type": "execute_result"
    }
   ],
   "source": [
    "# index_col=0 --> will set the index to the column at 0 position\n",
    "# parse_dates = True\n",
    "\n",
    "oil2 = pd.read_csv(oil_path, index_col=0, parse_dates=True)\n",
    "oil2"
   ]
  },
  {
   "cell_type": "code",
   "execution_count": 65,
   "id": "5038ceaf-1dfe-4849-adc6-6a4c6b21493b",
   "metadata": {},
   "outputs": [
    {
     "name": "stdout",
     "output_type": "stream",
     "text": [
      "<class 'pandas.core.frame.DataFrame'>\n",
      "DatetimeIndex: 5016 entries, 2000-01-04 to 2019-09-30\n",
      "Data columns (total 1 columns):\n",
      " #   Column  Non-Null Count  Dtype  \n",
      "---  ------  --------------  -----  \n",
      " 0   Price   5016 non-null   float64\n",
      "dtypes: float64(1)\n",
      "memory usage: 78.4 KB\n"
     ]
    }
   ],
   "source": [
    "oil2.info()"
   ]
  },
  {
   "cell_type": "code",
   "execution_count": 86,
   "id": "61992223-289b-4832-b0b5-5cd7182197bf",
   "metadata": {},
   "outputs": [
    {
     "data": {
      "text/plain": [
       "DatetimeIndex(['2000-01-04', '2000-01-05', '2000-01-06', '2000-01-07',\n",
       "               '2000-01-10', '2000-01-11', '2000-01-12', '2000-01-13',\n",
       "               '2000-01-14', '2000-01-17',\n",
       "               ...\n",
       "               '2019-09-17', '2019-09-18', '2019-09-19', '2019-09-20',\n",
       "               '2019-09-23', '2019-09-24', '2019-09-25', '2019-09-26',\n",
       "               '2019-09-27', '2019-09-30'],\n",
       "              dtype='datetime64[ns]', name='Date', length=5016, freq=None)"
      ]
     },
     "execution_count": 86,
     "metadata": {},
     "output_type": "execute_result"
    }
   ],
   "source": [
    "oil2.index"
   ]
  },
  {
   "cell_type": "code",
   "execution_count": null,
   "id": "60d0509f-b68d-4ce9-a173-9d0200022506",
   "metadata": {},
   "outputs": [],
   "source": [
    "#some other way to read in and assign\n",
    "\n",
    "# algo_path = Path(\"algo_returns.csv\") # this would be if csv in folder, from pathlib import Path\n",
    "# algo_df = pd.read_csv(algo_path, parse_dates=True, infer_datetime_format=True)\n",
    "# algo_df[\"Date\"] = pd.to_datetime(algo_df[\"Date\"])\n",
    "# algo_df.set_index(\"Date\", inplace=True)\n",
    "# algo_df.sort_index(inplace=True)\n",
    "# algo_df.head(10)"
   ]
  },
  {
   "cell_type": "code",
   "execution_count": 67,
   "id": "e6431ff3-cfc4-49b7-865e-89a86d2f8dac",
   "metadata": {},
   "outputs": [],
   "source": [
    "# we can now access and slice"
   ]
  },
  {
   "cell_type": "code",
   "execution_count": 68,
   "id": "7fd6e640-4067-46fb-b396-df87d0f5c997",
   "metadata": {},
   "outputs": [
    {
     "data": {
      "text/plain": [
       "Price    55.05\n",
       "Name: 2017-01-03 00:00:00, dtype: float64"
      ]
     },
     "execution_count": 68,
     "metadata": {},
     "output_type": "execute_result"
    }
   ],
   "source": [
    "#what is price on jan 3 2017?\n",
    "oil2.loc['2017-01-03']"
   ]
  },
  {
   "cell_type": "code",
   "execution_count": 71,
   "id": "afa5766c-375f-43ab-b1e2-98303d1fa87d",
   "metadata": {},
   "outputs": [
    {
     "data": {
      "text/html": [
       "<div>\n",
       "<style scoped>\n",
       "    .dataframe tbody tr th:only-of-type {\n",
       "        vertical-align: middle;\n",
       "    }\n",
       "\n",
       "    .dataframe tbody tr th {\n",
       "        vertical-align: top;\n",
       "    }\n",
       "\n",
       "    .dataframe thead th {\n",
       "        text-align: right;\n",
       "    }\n",
       "</style>\n",
       "<table border=\"1\" class=\"dataframe\">\n",
       "  <thead>\n",
       "    <tr style=\"text-align: right;\">\n",
       "      <th></th>\n",
       "      <th>Price</th>\n",
       "    </tr>\n",
       "    <tr>\n",
       "      <th>Date</th>\n",
       "      <th></th>\n",
       "    </tr>\n",
       "  </thead>\n",
       "  <tbody>\n",
       "    <tr>\n",
       "      <th>2017-01-03</th>\n",
       "      <td>55.05</td>\n",
       "    </tr>\n",
       "    <tr>\n",
       "      <th>2017-01-04</th>\n",
       "      <td>54.57</td>\n",
       "    </tr>\n",
       "    <tr>\n",
       "      <th>2017-01-05</th>\n",
       "      <td>54.99</td>\n",
       "    </tr>\n",
       "    <tr>\n",
       "      <th>2017-01-06</th>\n",
       "      <td>55.90</td>\n",
       "    </tr>\n",
       "  </tbody>\n",
       "</table>\n",
       "</div>"
      ],
      "text/plain": [
       "            Price\n",
       "Date             \n",
       "2017-01-03  55.05\n",
       "2017-01-04  54.57\n",
       "2017-01-05  54.99\n",
       "2017-01-06  55.90"
      ]
     },
     "execution_count": 71,
     "metadata": {},
     "output_type": "execute_result"
    }
   ],
   "source": [
    "# from jan 3 to jan 7?\n",
    "oil2.loc['2017-01-03':'2017-01-07']"
   ]
  },
  {
   "cell_type": "code",
   "execution_count": 72,
   "id": "60b72f07-4989-473e-b7d3-d95a727804f5",
   "metadata": {},
   "outputs": [
    {
     "data": {
      "text/html": [
       "<div>\n",
       "<style scoped>\n",
       "    .dataframe tbody tr th:only-of-type {\n",
       "        vertical-align: middle;\n",
       "    }\n",
       "\n",
       "    .dataframe tbody tr th {\n",
       "        vertical-align: top;\n",
       "    }\n",
       "\n",
       "    .dataframe thead th {\n",
       "        text-align: right;\n",
       "    }\n",
       "</style>\n",
       "<table border=\"1\" class=\"dataframe\">\n",
       "  <thead>\n",
       "    <tr style=\"text-align: right;\">\n",
       "      <th></th>\n",
       "      <th>Price</th>\n",
       "    </tr>\n",
       "    <tr>\n",
       "      <th>Date</th>\n",
       "      <th></th>\n",
       "    </tr>\n",
       "  </thead>\n",
       "  <tbody>\n",
       "    <tr>\n",
       "      <th>2019-01-02</th>\n",
       "      <td>54.06</td>\n",
       "    </tr>\n",
       "    <tr>\n",
       "      <th>2019-01-03</th>\n",
       "      <td>53.23</td>\n",
       "    </tr>\n",
       "    <tr>\n",
       "      <th>2019-01-04</th>\n",
       "      <td>55.64</td>\n",
       "    </tr>\n",
       "    <tr>\n",
       "      <th>2019-01-07</th>\n",
       "      <td>57.10</td>\n",
       "    </tr>\n",
       "    <tr>\n",
       "      <th>2019-01-08</th>\n",
       "      <td>56.91</td>\n",
       "    </tr>\n",
       "    <tr>\n",
       "      <th>2019-01-09</th>\n",
       "      <td>59.46</td>\n",
       "    </tr>\n",
       "    <tr>\n",
       "      <th>2019-01-10</th>\n",
       "      <td>60.47</td>\n",
       "    </tr>\n",
       "    <tr>\n",
       "      <th>2019-01-11</th>\n",
       "      <td>59.24</td>\n",
       "    </tr>\n",
       "    <tr>\n",
       "      <th>2019-01-14</th>\n",
       "      <td>58.80</td>\n",
       "    </tr>\n",
       "    <tr>\n",
       "      <th>2019-01-15</th>\n",
       "      <td>58.65</td>\n",
       "    </tr>\n",
       "    <tr>\n",
       "      <th>2019-01-16</th>\n",
       "      <td>59.81</td>\n",
       "    </tr>\n",
       "    <tr>\n",
       "      <th>2019-01-17</th>\n",
       "      <td>59.85</td>\n",
       "    </tr>\n",
       "    <tr>\n",
       "      <th>2019-01-18</th>\n",
       "      <td>62.04</td>\n",
       "    </tr>\n",
       "    <tr>\n",
       "      <th>2019-01-21</th>\n",
       "      <td>62.18</td>\n",
       "    </tr>\n",
       "    <tr>\n",
       "      <th>2019-01-22</th>\n",
       "      <td>60.90</td>\n",
       "    </tr>\n",
       "    <tr>\n",
       "      <th>2019-01-23</th>\n",
       "      <td>61.05</td>\n",
       "    </tr>\n",
       "    <tr>\n",
       "      <th>2019-01-24</th>\n",
       "      <td>61.09</td>\n",
       "    </tr>\n",
       "    <tr>\n",
       "      <th>2019-01-25</th>\n",
       "      <td>61.49</td>\n",
       "    </tr>\n",
       "    <tr>\n",
       "      <th>2019-01-28</th>\n",
       "      <td>59.71</td>\n",
       "    </tr>\n",
       "    <tr>\n",
       "      <th>2019-01-29</th>\n",
       "      <td>60.98</td>\n",
       "    </tr>\n",
       "    <tr>\n",
       "      <th>2019-01-30</th>\n",
       "      <td>61.89</td>\n",
       "    </tr>\n",
       "    <tr>\n",
       "      <th>2019-01-31</th>\n",
       "      <td>62.46</td>\n",
       "    </tr>\n",
       "  </tbody>\n",
       "</table>\n",
       "</div>"
      ],
      "text/plain": [
       "            Price\n",
       "Date             \n",
       "2019-01-02  54.06\n",
       "2019-01-03  53.23\n",
       "2019-01-04  55.64\n",
       "2019-01-07  57.10\n",
       "2019-01-08  56.91\n",
       "2019-01-09  59.46\n",
       "2019-01-10  60.47\n",
       "2019-01-11  59.24\n",
       "2019-01-14  58.80\n",
       "2019-01-15  58.65\n",
       "2019-01-16  59.81\n",
       "2019-01-17  59.85\n",
       "2019-01-18  62.04\n",
       "2019-01-21  62.18\n",
       "2019-01-22  60.90\n",
       "2019-01-23  61.05\n",
       "2019-01-24  61.09\n",
       "2019-01-25  61.49\n",
       "2019-01-28  59.71\n",
       "2019-01-29  60.98\n",
       "2019-01-30  61.89\n",
       "2019-01-31  62.46"
      ]
     },
     "execution_count": 72,
     "metadata": {},
     "output_type": "execute_result"
    }
   ],
   "source": [
    "#select all prices from jan 2019\n",
    "oil2.loc['2019-01']"
   ]
  },
  {
   "cell_type": "code",
   "execution_count": 73,
   "id": "1a819dd2-ce2d-4f8d-982b-e08666f56770",
   "metadata": {},
   "outputs": [
    {
     "data": {
      "text/html": [
       "<div>\n",
       "<style scoped>\n",
       "    .dataframe tbody tr th:only-of-type {\n",
       "        vertical-align: middle;\n",
       "    }\n",
       "\n",
       "    .dataframe tbody tr th {\n",
       "        vertical-align: top;\n",
       "    }\n",
       "\n",
       "    .dataframe thead th {\n",
       "        text-align: right;\n",
       "    }\n",
       "</style>\n",
       "<table border=\"1\" class=\"dataframe\">\n",
       "  <thead>\n",
       "    <tr style=\"text-align: right;\">\n",
       "      <th></th>\n",
       "      <th>Price</th>\n",
       "    </tr>\n",
       "    <tr>\n",
       "      <th>Date</th>\n",
       "      <th></th>\n",
       "    </tr>\n",
       "  </thead>\n",
       "  <tbody>\n",
       "    <tr>\n",
       "      <th>2019-01-02</th>\n",
       "      <td>54.06</td>\n",
       "    </tr>\n",
       "    <tr>\n",
       "      <th>2019-01-03</th>\n",
       "      <td>53.23</td>\n",
       "    </tr>\n",
       "    <tr>\n",
       "      <th>2019-01-04</th>\n",
       "      <td>55.64</td>\n",
       "    </tr>\n",
       "    <tr>\n",
       "      <th>2019-01-07</th>\n",
       "      <td>57.10</td>\n",
       "    </tr>\n",
       "    <tr>\n",
       "      <th>2019-01-08</th>\n",
       "      <td>56.91</td>\n",
       "    </tr>\n",
       "    <tr>\n",
       "      <th>2019-01-09</th>\n",
       "      <td>59.46</td>\n",
       "    </tr>\n",
       "    <tr>\n",
       "      <th>2019-01-10</th>\n",
       "      <td>60.47</td>\n",
       "    </tr>\n",
       "    <tr>\n",
       "      <th>2019-01-11</th>\n",
       "      <td>59.24</td>\n",
       "    </tr>\n",
       "    <tr>\n",
       "      <th>2019-01-14</th>\n",
       "      <td>58.80</td>\n",
       "    </tr>\n",
       "    <tr>\n",
       "      <th>2019-01-15</th>\n",
       "      <td>58.65</td>\n",
       "    </tr>\n",
       "    <tr>\n",
       "      <th>2019-01-16</th>\n",
       "      <td>59.81</td>\n",
       "    </tr>\n",
       "    <tr>\n",
       "      <th>2019-01-17</th>\n",
       "      <td>59.85</td>\n",
       "    </tr>\n",
       "    <tr>\n",
       "      <th>2019-01-18</th>\n",
       "      <td>62.04</td>\n",
       "    </tr>\n",
       "    <tr>\n",
       "      <th>2019-01-21</th>\n",
       "      <td>62.18</td>\n",
       "    </tr>\n",
       "    <tr>\n",
       "      <th>2019-01-22</th>\n",
       "      <td>60.90</td>\n",
       "    </tr>\n",
       "    <tr>\n",
       "      <th>2019-01-23</th>\n",
       "      <td>61.05</td>\n",
       "    </tr>\n",
       "    <tr>\n",
       "      <th>2019-01-24</th>\n",
       "      <td>61.09</td>\n",
       "    </tr>\n",
       "    <tr>\n",
       "      <th>2019-01-25</th>\n",
       "      <td>61.49</td>\n",
       "    </tr>\n",
       "    <tr>\n",
       "      <th>2019-01-28</th>\n",
       "      <td>59.71</td>\n",
       "    </tr>\n",
       "    <tr>\n",
       "      <th>2019-01-29</th>\n",
       "      <td>60.98</td>\n",
       "    </tr>\n",
       "    <tr>\n",
       "      <th>2019-01-30</th>\n",
       "      <td>61.89</td>\n",
       "    </tr>\n",
       "    <tr>\n",
       "      <th>2019-01-31</th>\n",
       "      <td>62.46</td>\n",
       "    </tr>\n",
       "    <tr>\n",
       "      <th>2019-02-01</th>\n",
       "      <td>61.86</td>\n",
       "    </tr>\n",
       "    <tr>\n",
       "      <th>2019-02-04</th>\n",
       "      <td>62.26</td>\n",
       "    </tr>\n",
       "    <tr>\n",
       "      <th>2019-02-05</th>\n",
       "      <td>61.67</td>\n",
       "    </tr>\n",
       "    <tr>\n",
       "      <th>2019-02-06</th>\n",
       "      <td>62.22</td>\n",
       "    </tr>\n",
       "    <tr>\n",
       "      <th>2019-02-07</th>\n",
       "      <td>61.01</td>\n",
       "    </tr>\n",
       "    <tr>\n",
       "      <th>2019-02-08</th>\n",
       "      <td>61.37</td>\n",
       "    </tr>\n",
       "    <tr>\n",
       "      <th>2019-02-11</th>\n",
       "      <td>61.30</td>\n",
       "    </tr>\n",
       "    <tr>\n",
       "      <th>2019-02-12</th>\n",
       "      <td>62.58</td>\n",
       "    </tr>\n",
       "    <tr>\n",
       "      <th>2019-02-13</th>\n",
       "      <td>63.27</td>\n",
       "    </tr>\n",
       "    <tr>\n",
       "      <th>2019-02-14</th>\n",
       "      <td>64.00</td>\n",
       "    </tr>\n",
       "    <tr>\n",
       "      <th>2019-02-15</th>\n",
       "      <td>65.65</td>\n",
       "    </tr>\n",
       "    <tr>\n",
       "      <th>2019-02-18</th>\n",
       "      <td>66.41</td>\n",
       "    </tr>\n",
       "    <tr>\n",
       "      <th>2019-02-19</th>\n",
       "      <td>65.86</td>\n",
       "    </tr>\n",
       "    <tr>\n",
       "      <th>2019-02-20</th>\n",
       "      <td>66.82</td>\n",
       "    </tr>\n",
       "    <tr>\n",
       "      <th>2019-02-21</th>\n",
       "      <td>66.91</td>\n",
       "    </tr>\n",
       "    <tr>\n",
       "      <th>2019-02-22</th>\n",
       "      <td>66.91</td>\n",
       "    </tr>\n",
       "    <tr>\n",
       "      <th>2019-02-25</th>\n",
       "      <td>64.02</td>\n",
       "    </tr>\n",
       "    <tr>\n",
       "      <th>2019-02-26</th>\n",
       "      <td>64.51</td>\n",
       "    </tr>\n",
       "    <tr>\n",
       "      <th>2019-02-27</th>\n",
       "      <td>65.55</td>\n",
       "    </tr>\n",
       "    <tr>\n",
       "      <th>2019-02-28</th>\n",
       "      <td>65.03</td>\n",
       "    </tr>\n",
       "  </tbody>\n",
       "</table>\n",
       "</div>"
      ],
      "text/plain": [
       "            Price\n",
       "Date             \n",
       "2019-01-02  54.06\n",
       "2019-01-03  53.23\n",
       "2019-01-04  55.64\n",
       "2019-01-07  57.10\n",
       "2019-01-08  56.91\n",
       "2019-01-09  59.46\n",
       "2019-01-10  60.47\n",
       "2019-01-11  59.24\n",
       "2019-01-14  58.80\n",
       "2019-01-15  58.65\n",
       "2019-01-16  59.81\n",
       "2019-01-17  59.85\n",
       "2019-01-18  62.04\n",
       "2019-01-21  62.18\n",
       "2019-01-22  60.90\n",
       "2019-01-23  61.05\n",
       "2019-01-24  61.09\n",
       "2019-01-25  61.49\n",
       "2019-01-28  59.71\n",
       "2019-01-29  60.98\n",
       "2019-01-30  61.89\n",
       "2019-01-31  62.46\n",
       "2019-02-01  61.86\n",
       "2019-02-04  62.26\n",
       "2019-02-05  61.67\n",
       "2019-02-06  62.22\n",
       "2019-02-07  61.01\n",
       "2019-02-08  61.37\n",
       "2019-02-11  61.30\n",
       "2019-02-12  62.58\n",
       "2019-02-13  63.27\n",
       "2019-02-14  64.00\n",
       "2019-02-15  65.65\n",
       "2019-02-18  66.41\n",
       "2019-02-19  65.86\n",
       "2019-02-20  66.82\n",
       "2019-02-21  66.91\n",
       "2019-02-22  66.91\n",
       "2019-02-25  64.02\n",
       "2019-02-26  64.51\n",
       "2019-02-27  65.55\n",
       "2019-02-28  65.03"
      ]
     },
     "execution_count": 73,
     "metadata": {},
     "output_type": "execute_result"
    }
   ],
   "source": [
    "# how about price for first 2 months of 2019?\n",
    "oil2.loc['2019-01':'2019-02']"
   ]
  },
  {
   "cell_type": "code",
   "execution_count": 74,
   "id": "3b3c8da7-922d-4b59-8803-7fc6750b6b52",
   "metadata": {},
   "outputs": [
    {
     "data": {
      "text/html": [
       "<div>\n",
       "<style scoped>\n",
       "    .dataframe tbody tr th:only-of-type {\n",
       "        vertical-align: middle;\n",
       "    }\n",
       "\n",
       "    .dataframe tbody tr th {\n",
       "        vertical-align: top;\n",
       "    }\n",
       "\n",
       "    .dataframe thead th {\n",
       "        text-align: right;\n",
       "    }\n",
       "</style>\n",
       "<table border=\"1\" class=\"dataframe\">\n",
       "  <thead>\n",
       "    <tr style=\"text-align: right;\">\n",
       "      <th></th>\n",
       "      <th>Price</th>\n",
       "    </tr>\n",
       "    <tr>\n",
       "      <th>Date</th>\n",
       "      <th></th>\n",
       "    </tr>\n",
       "  </thead>\n",
       "  <tbody>\n",
       "    <tr>\n",
       "      <th>2019-01-02</th>\n",
       "      <td>54.06</td>\n",
       "    </tr>\n",
       "    <tr>\n",
       "      <th>2019-01-03</th>\n",
       "      <td>53.23</td>\n",
       "    </tr>\n",
       "    <tr>\n",
       "      <th>2019-01-04</th>\n",
       "      <td>55.64</td>\n",
       "    </tr>\n",
       "    <tr>\n",
       "      <th>2019-01-07</th>\n",
       "      <td>57.10</td>\n",
       "    </tr>\n",
       "    <tr>\n",
       "      <th>2019-01-08</th>\n",
       "      <td>56.91</td>\n",
       "    </tr>\n",
       "    <tr>\n",
       "      <th>...</th>\n",
       "      <td>...</td>\n",
       "    </tr>\n",
       "    <tr>\n",
       "      <th>2019-08-09</th>\n",
       "      <td>57.37</td>\n",
       "    </tr>\n",
       "    <tr>\n",
       "      <th>2019-08-12</th>\n",
       "      <td>57.13</td>\n",
       "    </tr>\n",
       "    <tr>\n",
       "      <th>2019-08-13</th>\n",
       "      <td>59.90</td>\n",
       "    </tr>\n",
       "    <tr>\n",
       "      <th>2019-08-14</th>\n",
       "      <td>57.86</td>\n",
       "    </tr>\n",
       "    <tr>\n",
       "      <th>2019-08-15</th>\n",
       "      <td>57.37</td>\n",
       "    </tr>\n",
       "  </tbody>\n",
       "</table>\n",
       "<p>160 rows × 1 columns</p>\n",
       "</div>"
      ],
      "text/plain": [
       "            Price\n",
       "Date             \n",
       "2019-01-02  54.06\n",
       "2019-01-03  53.23\n",
       "2019-01-04  55.64\n",
       "2019-01-07  57.10\n",
       "2019-01-08  56.91\n",
       "...           ...\n",
       "2019-08-09  57.37\n",
       "2019-08-12  57.13\n",
       "2019-08-13  59.90\n",
       "2019-08-14  57.86\n",
       "2019-08-15  57.37\n",
       "\n",
       "[160 rows x 1 columns]"
      ]
     },
     "execution_count": 74,
     "metadata": {},
     "output_type": "execute_result"
    }
   ],
   "source": [
    "#can also use partial dates\n",
    "#want all prices up to middle of august in 2019?\n",
    "\n",
    "oil2.loc['2019-01': '2019-08-15']"
   ]
  },
  {
   "cell_type": "code",
   "execution_count": 89,
   "id": "3b2c94f7-6c22-421f-a65f-ccad892dc261",
   "metadata": {},
   "outputs": [
    {
     "data": {
      "text/html": [
       "<div>\n",
       "<style scoped>\n",
       "    .dataframe tbody tr th:only-of-type {\n",
       "        vertical-align: middle;\n",
       "    }\n",
       "\n",
       "    .dataframe tbody tr th {\n",
       "        vertical-align: top;\n",
       "    }\n",
       "\n",
       "    .dataframe thead th {\n",
       "        text-align: right;\n",
       "    }\n",
       "</style>\n",
       "<table border=\"1\" class=\"dataframe\">\n",
       "  <thead>\n",
       "    <tr style=\"text-align: right;\">\n",
       "      <th></th>\n",
       "      <th>Price</th>\n",
       "    </tr>\n",
       "    <tr>\n",
       "      <th>Date</th>\n",
       "      <th></th>\n",
       "    </tr>\n",
       "  </thead>\n",
       "  <tbody>\n",
       "    <tr>\n",
       "      <th>2015-12-01</th>\n",
       "      <td>42.97</td>\n",
       "    </tr>\n",
       "    <tr>\n",
       "      <th>2015-12-02</th>\n",
       "      <td>41.92</td>\n",
       "    </tr>\n",
       "    <tr>\n",
       "      <th>2015-12-03</th>\n",
       "      <td>42.00</td>\n",
       "    </tr>\n",
       "    <tr>\n",
       "      <th>2015-12-04</th>\n",
       "      <td>41.44</td>\n",
       "    </tr>\n",
       "    <tr>\n",
       "      <th>2015-12-07</th>\n",
       "      <td>39.69</td>\n",
       "    </tr>\n",
       "    <tr>\n",
       "      <th>...</th>\n",
       "      <td>...</td>\n",
       "    </tr>\n",
       "    <tr>\n",
       "      <th>2016-03-24</th>\n",
       "      <td>38.33</td>\n",
       "    </tr>\n",
       "    <tr>\n",
       "      <th>2016-03-28</th>\n",
       "      <td>38.33</td>\n",
       "    </tr>\n",
       "    <tr>\n",
       "      <th>2016-03-29</th>\n",
       "      <td>36.75</td>\n",
       "    </tr>\n",
       "    <tr>\n",
       "      <th>2016-03-30</th>\n",
       "      <td>36.75</td>\n",
       "    </tr>\n",
       "    <tr>\n",
       "      <th>2016-03-31</th>\n",
       "      <td>36.75</td>\n",
       "    </tr>\n",
       "  </tbody>\n",
       "</table>\n",
       "<p>84 rows × 1 columns</p>\n",
       "</div>"
      ],
      "text/plain": [
       "            Price\n",
       "Date             \n",
       "2015-12-01  42.97\n",
       "2015-12-02  41.92\n",
       "2015-12-03  42.00\n",
       "2015-12-04  41.44\n",
       "2015-12-07  39.69\n",
       "...           ...\n",
       "2016-03-24  38.33\n",
       "2016-03-28  38.33\n",
       "2016-03-29  36.75\n",
       "2016-03-30  36.75\n",
       "2016-03-31  36.75\n",
       "\n",
       "[84 rows x 1 columns]"
      ]
     },
     "execution_count": 89,
     "metadata": {},
     "output_type": "execute_result"
    }
   ],
   "source": [
    "# create a smaller df with price between dec 1 2015 to mar 31 2016\n",
    "\n",
    "oil_new = oil2.loc['2015-12-01':'2016-03-31']\n",
    "oil_new"
   ]
  },
  {
   "cell_type": "code",
   "execution_count": 90,
   "id": "3c2d73be-8a56-43a2-a007-222833c77649",
   "metadata": {},
   "outputs": [
    {
     "data": {
      "text/html": [
       "<div>\n",
       "<style scoped>\n",
       "    .dataframe tbody tr th:only-of-type {\n",
       "        vertical-align: middle;\n",
       "    }\n",
       "\n",
       "    .dataframe tbody tr th {\n",
       "        vertical-align: top;\n",
       "    }\n",
       "\n",
       "    .dataframe thead th {\n",
       "        text-align: right;\n",
       "    }\n",
       "</style>\n",
       "<table border=\"1\" class=\"dataframe\">\n",
       "  <thead>\n",
       "    <tr style=\"text-align: right;\">\n",
       "      <th></th>\n",
       "      <th>Price</th>\n",
       "    </tr>\n",
       "    <tr>\n",
       "      <th>Date</th>\n",
       "      <th></th>\n",
       "    </tr>\n",
       "  </thead>\n",
       "  <tbody>\n",
       "    <tr>\n",
       "      <th>2015-12-01</th>\n",
       "      <td>42.97</td>\n",
       "    </tr>\n",
       "    <tr>\n",
       "      <th>2015-12-02</th>\n",
       "      <td>41.92</td>\n",
       "    </tr>\n",
       "    <tr>\n",
       "      <th>2015-12-03</th>\n",
       "      <td>42.00</td>\n",
       "    </tr>\n",
       "    <tr>\n",
       "      <th>2015-12-04</th>\n",
       "      <td>41.44</td>\n",
       "    </tr>\n",
       "    <tr>\n",
       "      <th>2015-12-07</th>\n",
       "      <td>39.69</td>\n",
       "    </tr>\n",
       "    <tr>\n",
       "      <th>...</th>\n",
       "      <td>...</td>\n",
       "    </tr>\n",
       "    <tr>\n",
       "      <th>2016-03-24</th>\n",
       "      <td>38.33</td>\n",
       "    </tr>\n",
       "    <tr>\n",
       "      <th>2016-03-28</th>\n",
       "      <td>38.33</td>\n",
       "    </tr>\n",
       "    <tr>\n",
       "      <th>2016-03-29</th>\n",
       "      <td>36.75</td>\n",
       "    </tr>\n",
       "    <tr>\n",
       "      <th>2016-03-30</th>\n",
       "      <td>36.75</td>\n",
       "    </tr>\n",
       "    <tr>\n",
       "      <th>2016-03-31</th>\n",
       "      <td>36.75</td>\n",
       "    </tr>\n",
       "  </tbody>\n",
       "</table>\n",
       "<p>84 rows × 1 columns</p>\n",
       "</div>"
      ],
      "text/plain": [
       "            Price\n",
       "Date             \n",
       "2015-12-01  42.97\n",
       "2015-12-02  41.92\n",
       "2015-12-03  42.00\n",
       "2015-12-04  41.44\n",
       "2015-12-07  39.69\n",
       "...           ...\n",
       "2016-03-24  38.33\n",
       "2016-03-28  38.33\n",
       "2016-03-29  36.75\n",
       "2016-03-30  36.75\n",
       "2016-03-31  36.75\n",
       "\n",
       "[84 rows x 1 columns]"
      ]
     },
     "execution_count": 90,
     "metadata": {},
     "output_type": "execute_result"
    }
   ],
   "source": [
    "# repeat above using the partial string index\n",
    "\n",
    "oil_new2 = oil2.loc['2015-12':'2016-03']\n",
    "oil_new2"
   ]
  },
  {
   "cell_type": "code",
   "execution_count": 92,
   "id": "56e3a363-76b4-4f2d-a9c3-8cc34b05e1c5",
   "metadata": {},
   "outputs": [
    {
     "data": {
      "text/html": [
       "<div>\n",
       "<style scoped>\n",
       "    .dataframe tbody tr th:only-of-type {\n",
       "        vertical-align: middle;\n",
       "    }\n",
       "\n",
       "    .dataframe tbody tr th {\n",
       "        vertical-align: top;\n",
       "    }\n",
       "\n",
       "    .dataframe thead th {\n",
       "        text-align: right;\n",
       "    }\n",
       "</style>\n",
       "<table border=\"1\" class=\"dataframe\">\n",
       "  <thead>\n",
       "    <tr style=\"text-align: right;\">\n",
       "      <th></th>\n",
       "      <th>Price</th>\n",
       "    </tr>\n",
       "    <tr>\n",
       "      <th>Date</th>\n",
       "      <th></th>\n",
       "    </tr>\n",
       "  </thead>\n",
       "  <tbody>\n",
       "    <tr>\n",
       "      <th>2015-12-01</th>\n",
       "      <td>42.97</td>\n",
       "    </tr>\n",
       "    <tr>\n",
       "      <th>2015-12-02</th>\n",
       "      <td>41.92</td>\n",
       "    </tr>\n",
       "    <tr>\n",
       "      <th>2015-12-03</th>\n",
       "      <td>42.00</td>\n",
       "    </tr>\n",
       "    <tr>\n",
       "      <th>2015-12-04</th>\n",
       "      <td>41.44</td>\n",
       "    </tr>\n",
       "    <tr>\n",
       "      <th>2015-12-07</th>\n",
       "      <td>39.69</td>\n",
       "    </tr>\n",
       "    <tr>\n",
       "      <th>...</th>\n",
       "      <td>...</td>\n",
       "    </tr>\n",
       "    <tr>\n",
       "      <th>2016-03-24</th>\n",
       "      <td>38.33</td>\n",
       "    </tr>\n",
       "    <tr>\n",
       "      <th>2016-03-28</th>\n",
       "      <td>38.33</td>\n",
       "    </tr>\n",
       "    <tr>\n",
       "      <th>2016-03-29</th>\n",
       "      <td>36.75</td>\n",
       "    </tr>\n",
       "    <tr>\n",
       "      <th>2016-03-30</th>\n",
       "      <td>36.75</td>\n",
       "    </tr>\n",
       "    <tr>\n",
       "      <th>2016-03-31</th>\n",
       "      <td>36.75</td>\n",
       "    </tr>\n",
       "  </tbody>\n",
       "</table>\n",
       "<p>84 rows × 1 columns</p>\n",
       "</div>"
      ],
      "text/plain": [
       "            Price\n",
       "Date             \n",
       "2015-12-01  42.97\n",
       "2015-12-02  41.92\n",
       "2015-12-03  42.00\n",
       "2015-12-04  41.44\n",
       "2015-12-07  39.69\n",
       "...           ...\n",
       "2016-03-24  38.33\n",
       "2016-03-28  38.33\n",
       "2016-03-29  36.75\n",
       "2016-03-30  36.75\n",
       "2016-03-31  36.75\n",
       "\n",
       "[84 rows x 1 columns]"
      ]
     },
     "execution_count": 92,
     "metadata": {},
     "output_type": "execute_result"
    }
   ],
   "source": [
    "# can do thia multiple ways\n",
    "\n",
    "oil2.loc['12/2015':'3/2016']\n",
    "#oil2.loc['dec 2015':'mar 2016']"
   ]
  },
  {
   "cell_type": "code",
   "execution_count": 93,
   "id": "5ccfda0c-85ae-415a-bf00-4cf49bd7317b",
   "metadata": {},
   "outputs": [
    {
     "data": {
      "text/plain": [
       "Price    3.990123\n",
       "dtype: float64"
      ]
     },
     "execution_count": 93,
     "metadata": {},
     "output_type": "execute_result"
    }
   ],
   "source": [
    "# whats the standard deviation\n",
    "\n",
    "oil2.loc['12/2015':'3/2016'].std()"
   ]
  },
  {
   "cell_type": "code",
   "execution_count": 94,
   "id": "9b82be21-7e2c-4645-8771-ad1aaed18a49",
   "metadata": {},
   "outputs": [
    {
     "data": {
      "text/plain": [
       "Price    65.3175\n",
       "dtype: float64"
      ]
     },
     "execution_count": 94,
     "metadata": {},
     "output_type": "execute_result"
    }
   ],
   "source": [
    "# what is the mean price of feb 2018, was it greater than the mean fromm \n",
    "\n",
    "oil2.loc['feb 2018'].mean()"
   ]
  },
  {
   "cell_type": "code",
   "execution_count": 95,
   "id": "5ecf6c36-93aa-4bc0-9e45-c892ff396e27",
   "metadata": {},
   "outputs": [
    {
     "data": {
      "text/plain": [
       "Price    True\n",
       "dtype: bool"
      ]
     },
     "execution_count": 95,
     "metadata": {},
     "output_type": "execute_result"
    }
   ],
   "source": [
    "oil2.loc['feb 2018'].mean() > oil2.loc['july 2017'].mean()"
   ]
  },
  {
   "cell_type": "markdown",
   "id": "3e947d1e-7b07-4b28-b6b2-a4709818c240",
   "metadata": {},
   "source": [
    "## Attribute accessors"
   ]
  },
  {
   "cell_type": "code",
   "execution_count": 96,
   "id": "6098c700-a86f-438b-8624-8f2e48e58f96",
   "metadata": {},
   "outputs": [
    {
     "data": {
      "text/plain": [
       "Int64Index([1, 1, 1, 1, 1, 1, 1, 1, 1, 1,\n",
       "            ...\n",
       "            3, 3, 3, 3, 3, 3, 3, 3, 3, 3],\n",
       "           dtype='int64', name='Date', length=5016)"
      ]
     },
     "execution_count": 96,
     "metadata": {},
     "output_type": "execute_result"
    }
   ],
   "source": [
    "oil2.index.quarter"
   ]
  },
  {
   "cell_type": "code",
   "execution_count": 97,
   "id": "6beeb6d5-3e08-40fd-8616-0c16d8e34350",
   "metadata": {},
   "outputs": [
    {
     "name": "stderr",
     "output_type": "stream",
     "text": [
      "/var/folders/ys/fqvy458x0ds2sdvqh8qgff500000gn/T/ipykernel_30175/654299525.py:1: FutureWarning: weekofyear and week have been deprecated, please use DatetimeIndex.isocalendar().week instead, which returns a Series. To exactly reproduce the behavior of week and weekofyear and return an Index, you may call pd.Int64Index(idx.isocalendar().week)\n",
      "  oil2.index.week\n"
     ]
    },
    {
     "data": {
      "text/plain": [
       "Int64Index([ 1,  1,  1,  1,  2,  2,  2,  2,  2,  3,\n",
       "            ...\n",
       "            38, 38, 38, 38, 39, 39, 39, 39, 39, 40],\n",
       "           dtype='int64', name='Date', length=5016)"
      ]
     },
     "execution_count": 97,
     "metadata": {},
     "output_type": "execute_result"
    }
   ],
   "source": [
    "oil2.index.week"
   ]
  },
  {
   "cell_type": "code",
   "execution_count": 98,
   "id": "3fd78672-3787-40d6-8f82-e6f09b4252ac",
   "metadata": {},
   "outputs": [
    {
     "data": {
      "text/plain": [
       "Int64Index([1, 1, 1, 1, 1, 1, 1, 1, 1, 1,\n",
       "            ...\n",
       "            9, 9, 9, 9, 9, 9, 9, 9, 9, 9],\n",
       "           dtype='int64', name='Date', length=5016)"
      ]
     },
     "execution_count": 98,
     "metadata": {},
     "output_type": "execute_result"
    }
   ],
   "source": [
    "oil2.index.month"
   ]
  },
  {
   "cell_type": "code",
   "execution_count": 99,
   "id": "1fce5e75-5303-447e-83c9-8e430f9258d3",
   "metadata": {},
   "outputs": [
    {
     "data": {
      "text/plain": [
       "Index(['Tuesday', 'Wednesday', 'Thursday', 'Friday', 'Monday', 'Tuesday',\n",
       "       'Wednesday', 'Thursday', 'Friday', 'Monday',\n",
       "       ...\n",
       "       'Tuesday', 'Wednesday', 'Thursday', 'Friday', 'Monday', 'Tuesday',\n",
       "       'Wednesday', 'Thursday', 'Friday', 'Monday'],\n",
       "      dtype='object', name='Date', length=5016)"
      ]
     },
     "execution_count": 99,
     "metadata": {},
     "output_type": "execute_result"
    }
   ],
   "source": [
    "oil2.index.day_name()"
   ]
  },
  {
   "cell_type": "code",
   "execution_count": 100,
   "id": "00c0bfd4-3c87-484d-bb0f-7f80890c8721",
   "metadata": {},
   "outputs": [
    {
     "data": {
      "text/html": [
       "<div>\n",
       "<style scoped>\n",
       "    .dataframe tbody tr th:only-of-type {\n",
       "        vertical-align: middle;\n",
       "    }\n",
       "\n",
       "    .dataframe tbody tr th {\n",
       "        vertical-align: top;\n",
       "    }\n",
       "\n",
       "    .dataframe thead th {\n",
       "        text-align: right;\n",
       "    }\n",
       "</style>\n",
       "<table border=\"1\" class=\"dataframe\">\n",
       "  <thead>\n",
       "    <tr style=\"text-align: right;\">\n",
       "      <th></th>\n",
       "      <th>Price</th>\n",
       "      <th>Dayname</th>\n",
       "    </tr>\n",
       "    <tr>\n",
       "      <th>Date</th>\n",
       "      <th></th>\n",
       "      <th></th>\n",
       "    </tr>\n",
       "  </thead>\n",
       "  <tbody>\n",
       "    <tr>\n",
       "      <th>2000-01-04</th>\n",
       "      <td>23.95</td>\n",
       "      <td>Tuesday</td>\n",
       "    </tr>\n",
       "    <tr>\n",
       "      <th>2000-01-05</th>\n",
       "      <td>23.72</td>\n",
       "      <td>Wednesday</td>\n",
       "    </tr>\n",
       "    <tr>\n",
       "      <th>2000-01-06</th>\n",
       "      <td>23.55</td>\n",
       "      <td>Thursday</td>\n",
       "    </tr>\n",
       "    <tr>\n",
       "      <th>2000-01-07</th>\n",
       "      <td>23.35</td>\n",
       "      <td>Friday</td>\n",
       "    </tr>\n",
       "    <tr>\n",
       "      <th>2000-01-10</th>\n",
       "      <td>22.77</td>\n",
       "      <td>Monday</td>\n",
       "    </tr>\n",
       "    <tr>\n",
       "      <th>...</th>\n",
       "      <td>...</td>\n",
       "      <td>...</td>\n",
       "    </tr>\n",
       "    <tr>\n",
       "      <th>2019-09-24</th>\n",
       "      <td>64.13</td>\n",
       "      <td>Tuesday</td>\n",
       "    </tr>\n",
       "    <tr>\n",
       "      <th>2019-09-25</th>\n",
       "      <td>62.41</td>\n",
       "      <td>Wednesday</td>\n",
       "    </tr>\n",
       "    <tr>\n",
       "      <th>2019-09-26</th>\n",
       "      <td>62.08</td>\n",
       "      <td>Thursday</td>\n",
       "    </tr>\n",
       "    <tr>\n",
       "      <th>2019-09-27</th>\n",
       "      <td>62.48</td>\n",
       "      <td>Friday</td>\n",
       "    </tr>\n",
       "    <tr>\n",
       "      <th>2019-09-30</th>\n",
       "      <td>60.99</td>\n",
       "      <td>Monday</td>\n",
       "    </tr>\n",
       "  </tbody>\n",
       "</table>\n",
       "<p>5016 rows × 2 columns</p>\n",
       "</div>"
      ],
      "text/plain": [
       "            Price    Dayname\n",
       "Date                        \n",
       "2000-01-04  23.95    Tuesday\n",
       "2000-01-05  23.72  Wednesday\n",
       "2000-01-06  23.55   Thursday\n",
       "2000-01-07  23.35     Friday\n",
       "2000-01-10  22.77     Monday\n",
       "...           ...        ...\n",
       "2019-09-24  64.13    Tuesday\n",
       "2019-09-25  62.41  Wednesday\n",
       "2019-09-26  62.08   Thursday\n",
       "2019-09-27  62.48     Friday\n",
       "2019-09-30  60.99     Monday\n",
       "\n",
       "[5016 rows x 2 columns]"
      ]
     },
     "execution_count": 100,
     "metadata": {},
     "output_type": "execute_result"
    }
   ],
   "source": [
    "#so can use these to add columns\n",
    "\n",
    "#what day of the week has the lowest price on average?\n",
    "\n",
    "oil2['Dayname'] = oil2.index.day_name()\n",
    "oil2"
   ]
  },
  {
   "cell_type": "code",
   "execution_count": 101,
   "id": "9bcfef2d-8469-419e-8250-71507758f23d",
   "metadata": {},
   "outputs": [
    {
     "data": {
      "text/html": [
       "<div>\n",
       "<style scoped>\n",
       "    .dataframe tbody tr th:only-of-type {\n",
       "        vertical-align: middle;\n",
       "    }\n",
       "\n",
       "    .dataframe tbody tr th {\n",
       "        vertical-align: top;\n",
       "    }\n",
       "\n",
       "    .dataframe thead th {\n",
       "        text-align: right;\n",
       "    }\n",
       "</style>\n",
       "<table border=\"1\" class=\"dataframe\">\n",
       "  <thead>\n",
       "    <tr style=\"text-align: right;\">\n",
       "      <th></th>\n",
       "      <th>Price</th>\n",
       "    </tr>\n",
       "    <tr>\n",
       "      <th>Dayname</th>\n",
       "      <th></th>\n",
       "    </tr>\n",
       "  </thead>\n",
       "  <tbody>\n",
       "    <tr>\n",
       "      <th>Friday</th>\n",
       "      <td>64.317988</td>\n",
       "    </tr>\n",
       "    <tr>\n",
       "      <th>Monday</th>\n",
       "      <td>63.875348</td>\n",
       "    </tr>\n",
       "    <tr>\n",
       "      <th>Thursday</th>\n",
       "      <td>64.581943</td>\n",
       "    </tr>\n",
       "    <tr>\n",
       "      <th>Tuesday</th>\n",
       "      <td>64.493895</td>\n",
       "    </tr>\n",
       "    <tr>\n",
       "      <th>Wednesday</th>\n",
       "      <td>64.495593</td>\n",
       "    </tr>\n",
       "  </tbody>\n",
       "</table>\n",
       "</div>"
      ],
      "text/plain": [
       "               Price\n",
       "Dayname             \n",
       "Friday     64.317988\n",
       "Monday     63.875348\n",
       "Thursday   64.581943\n",
       "Tuesday    64.493895\n",
       "Wednesday  64.495593"
      ]
     },
     "execution_count": 101,
     "metadata": {},
     "output_type": "execute_result"
    }
   ],
   "source": [
    "oil2.groupby('Dayname').mean()"
   ]
  },
  {
   "cell_type": "code",
   "execution_count": 102,
   "id": "823d8130-4c58-4a41-acc3-7de411a3e931",
   "metadata": {},
   "outputs": [
    {
     "data": {
      "text/plain": [
       "Price    Monday\n",
       "dtype: object"
      ]
     },
     "execution_count": 102,
     "metadata": {},
     "output_type": "execute_result"
    }
   ],
   "source": [
    "oil2.groupby('Dayname').mean().idxmin()"
   ]
  },
  {
   "cell_type": "code",
   "execution_count": 103,
   "id": "bd4f2843-effc-4c6b-b07d-5eca53d84746",
   "metadata": {},
   "outputs": [
    {
     "data": {
      "text/html": [
       "<div>\n",
       "<style scoped>\n",
       "    .dataframe tbody tr th:only-of-type {\n",
       "        vertical-align: middle;\n",
       "    }\n",
       "\n",
       "    .dataframe tbody tr th {\n",
       "        vertical-align: top;\n",
       "    }\n",
       "\n",
       "    .dataframe thead th {\n",
       "        text-align: right;\n",
       "    }\n",
       "</style>\n",
       "<table border=\"1\" class=\"dataframe\">\n",
       "  <thead>\n",
       "    <tr style=\"text-align: right;\">\n",
       "      <th></th>\n",
       "      <th>Price</th>\n",
       "    </tr>\n",
       "    <tr>\n",
       "      <th>Date</th>\n",
       "      <th></th>\n",
       "    </tr>\n",
       "  </thead>\n",
       "  <tbody>\n",
       "    <tr>\n",
       "      <th>2000-01-04</th>\n",
       "      <td>23.95</td>\n",
       "    </tr>\n",
       "    <tr>\n",
       "      <th>2000-01-05</th>\n",
       "      <td>23.72</td>\n",
       "    </tr>\n",
       "    <tr>\n",
       "      <th>2000-01-06</th>\n",
       "      <td>23.55</td>\n",
       "    </tr>\n",
       "    <tr>\n",
       "      <th>2000-01-07</th>\n",
       "      <td>23.35</td>\n",
       "    </tr>\n",
       "    <tr>\n",
       "      <th>2000-01-10</th>\n",
       "      <td>22.77</td>\n",
       "    </tr>\n",
       "    <tr>\n",
       "      <th>...</th>\n",
       "      <td>...</td>\n",
       "    </tr>\n",
       "    <tr>\n",
       "      <th>2019-09-24</th>\n",
       "      <td>64.13</td>\n",
       "    </tr>\n",
       "    <tr>\n",
       "      <th>2019-09-25</th>\n",
       "      <td>62.41</td>\n",
       "    </tr>\n",
       "    <tr>\n",
       "      <th>2019-09-26</th>\n",
       "      <td>62.08</td>\n",
       "    </tr>\n",
       "    <tr>\n",
       "      <th>2019-09-27</th>\n",
       "      <td>62.48</td>\n",
       "    </tr>\n",
       "    <tr>\n",
       "      <th>2019-09-30</th>\n",
       "      <td>60.99</td>\n",
       "    </tr>\n",
       "  </tbody>\n",
       "</table>\n",
       "<p>5016 rows × 1 columns</p>\n",
       "</div>"
      ],
      "text/plain": [
       "            Price\n",
       "Date             \n",
       "2000-01-04  23.95\n",
       "2000-01-05  23.72\n",
       "2000-01-06  23.55\n",
       "2000-01-07  23.35\n",
       "2000-01-10  22.77\n",
       "...           ...\n",
       "2019-09-24  64.13\n",
       "2019-09-25  62.41\n",
       "2019-09-26  62.08\n",
       "2019-09-27  62.48\n",
       "2019-09-30  60.99\n",
       "\n",
       "[5016 rows x 1 columns]"
      ]
     },
     "execution_count": 103,
     "metadata": {},
     "output_type": "execute_result"
    }
   ],
   "source": [
    "oil2.drop(columns=['Dayname'], inplace=True)\n",
    "oil2"
   ]
  },
  {
   "cell_type": "markdown",
   "id": "029c49bf-6b7d-4712-ad09-172c5ca275a3",
   "metadata": {},
   "source": [
    "## Bool Mask with datetime attributes"
   ]
  },
  {
   "cell_type": "code",
   "execution_count": 104,
   "id": "d48ea364-2e1e-4e19-9186-1f4374b47878",
   "metadata": {},
   "outputs": [
    {
     "data": {
      "text/plain": [
       "array([False, False, False, ..., False, False, False])"
      ]
     },
     "execution_count": 104,
     "metadata": {},
     "output_type": "execute_result"
    }
   ],
   "source": [
    "# find the average oil price in all leap year februaries\n",
    "\n",
    "# is_leap_year is an attribute\n",
    "\n",
    "(oil2.index.is_leap_year == True) & (oil2.index.month == 2)"
   ]
  },
  {
   "cell_type": "code",
   "execution_count": 106,
   "id": "45fc568a-f9cf-4ac9-9f19-309c7fe8fde1",
   "metadata": {},
   "outputs": [
    {
     "data": {
      "text/plain": [
       "Price    60.696634\n",
       "dtype: float64"
      ]
     },
     "execution_count": 106,
     "metadata": {},
     "output_type": "execute_result"
    }
   ],
   "source": [
    "oil2[(oil2.index.is_leap_year == True) & (oil2.index.month == 2)].mean()"
   ]
  },
  {
   "cell_type": "markdown",
   "id": "e654e42f-ecf8-404b-a95d-3ca37cc925a5",
   "metadata": {},
   "source": [
    "## create date ranges manually"
   ]
  },
  {
   "cell_type": "code",
   "execution_count": 107,
   "id": "7f450e54-2079-432c-80eb-d7813b03b561",
   "metadata": {},
   "outputs": [
    {
     "data": {
      "text/plain": [
       "DatetimeIndex(['2020-05-10', '2020-05-11', '2020-05-12', '2020-05-13',\n",
       "               '2020-05-14', '2020-05-15', '2020-05-16', '2020-05-17',\n",
       "               '2020-05-18', '2020-05-19', '2020-05-20', '2020-05-21',\n",
       "               '2020-05-22', '2020-05-23', '2020-05-24', '2020-05-25',\n",
       "               '2020-05-26', '2020-05-27', '2020-05-28', '2020-05-29',\n",
       "               '2020-05-30', '2020-05-31', '2020-06-01', '2020-06-02',\n",
       "               '2020-06-03', '2020-06-04', '2020-06-05', '2020-06-06',\n",
       "               '2020-06-07', '2020-06-08', '2020-06-09', '2020-06-10',\n",
       "               '2020-06-11', '2020-06-12', '2020-06-13', '2020-06-14',\n",
       "               '2020-06-15', '2020-06-16', '2020-06-17', '2020-06-18',\n",
       "               '2020-06-19', '2020-06-20'],\n",
       "              dtype='datetime64[ns]', freq='D')"
      ]
     },
     "execution_count": 107,
     "metadata": {},
     "output_type": "execute_result"
    }
   ],
   "source": [
    "pd.date_range('5/10/2020', '20 june 2020')"
   ]
  },
  {
   "cell_type": "code",
   "execution_count": 108,
   "id": "77015724-0464-4c57-8524-d5f9457fefcd",
   "metadata": {},
   "outputs": [
    {
     "data": {
      "text/plain": [
       "DatetimeIndex(['2020-01-21', '2020-01-22', '2020-01-23', '2020-01-24',\n",
       "               '2020-01-25', '2020-01-26', '2020-01-27', '2020-01-28',\n",
       "               '2020-01-29', '2020-01-30'],\n",
       "              dtype='datetime64[ns]', freq='D')"
      ]
     },
     "execution_count": 108,
     "metadata": {},
     "output_type": "execute_result"
    }
   ],
   "source": [
    "pd.date_range(start= '1/21/2020', periods=10) #defaults to day"
   ]
  },
  {
   "cell_type": "code",
   "execution_count": 109,
   "id": "a32a8245-62a6-497b-b6a5-c951eda3c518",
   "metadata": {},
   "outputs": [
    {
     "data": {
      "text/plain": [
       "DatetimeIndex(['2020-01-26', '2020-02-02', '2020-02-09', '2020-02-16',\n",
       "               '2020-02-23', '2020-03-01', '2020-03-08', '2020-03-15',\n",
       "               '2020-03-22', '2020-03-29'],\n",
       "              dtype='datetime64[ns]', freq='W-SUN')"
      ]
     },
     "execution_count": 109,
     "metadata": {},
     "output_type": "execute_result"
    }
   ],
   "source": [
    "#can change to week\n",
    "pd.date_range(start= '1/21/2020', periods=10, freq='w')"
   ]
  },
  {
   "cell_type": "code",
   "execution_count": 110,
   "id": "fcfc32f9-b211-4327-9f54-4f4074406352",
   "metadata": {},
   "outputs": [
    {
     "data": {
      "text/plain": [
       "DatetimeIndex(['2020-01-26', '2020-02-09', '2020-02-23', '2020-03-08',\n",
       "               '2020-03-22', '2020-04-05', '2020-04-19', '2020-05-03',\n",
       "               '2020-05-17', '2020-05-31'],\n",
       "              dtype='datetime64[ns]', freq='2W-SUN')"
      ]
     },
     "execution_count": 110,
     "metadata": {},
     "output_type": "execute_result"
    }
   ],
   "source": [
    "# every other week\n",
    "pd.date_range(start= '1/21/2020', periods=10, freq='2w')"
   ]
  },
  {
   "cell_type": "code",
   "execution_count": 111,
   "id": "9d37699d-7c9a-40c5-8cac-279a31a68e0f",
   "metadata": {},
   "outputs": [
    {
     "data": {
      "text/plain": [
       "DatetimeIndex(['2019-05-31', '2019-06-30', '2019-07-31', '2019-08-31',\n",
       "               '2019-09-30', '2019-10-31', '2019-11-30', '2019-12-31',\n",
       "               '2020-01-31', '2020-02-29', '2020-03-31', '2020-04-30',\n",
       "               '2020-05-31', '2020-06-30', '2020-07-31', '2020-08-31',\n",
       "               '2020-09-30', '2020-10-31', '2020-11-30', '2020-12-31'],\n",
       "              dtype='datetime64[ns]', freq='M')"
      ]
     },
     "execution_count": 111,
     "metadata": {},
     "output_type": "execute_result"
    }
   ],
   "source": [
    "# the 20 months leading up to jan 2021\n",
    "\n",
    "pd.date_range(end= 'jan 2021', periods=20, freq='m')"
   ]
  },
  {
   "cell_type": "code",
   "execution_count": 115,
   "id": "2c9db2af-1574-426e-b1f3-22a27e651658",
   "metadata": {},
   "outputs": [
    {
     "data": {
      "text/html": [
       "<div>\n",
       "<style scoped>\n",
       "    .dataframe tbody tr th:only-of-type {\n",
       "        vertical-align: middle;\n",
       "    }\n",
       "\n",
       "    .dataframe tbody tr th {\n",
       "        vertical-align: top;\n",
       "    }\n",
       "\n",
       "    .dataframe thead th {\n",
       "        text-align: right;\n",
       "    }\n",
       "</style>\n",
       "<table border=\"1\" class=\"dataframe\">\n",
       "  <thead>\n",
       "    <tr style=\"text-align: right;\">\n",
       "      <th></th>\n",
       "      <th>a</th>\n",
       "      <th>b</th>\n",
       "      <th>c</th>\n",
       "      <th>d</th>\n",
       "    </tr>\n",
       "  </thead>\n",
       "  <tbody>\n",
       "    <tr>\n",
       "      <th>2019-05-31</th>\n",
       "      <td>57</td>\n",
       "      <td>48</td>\n",
       "      <td>83</td>\n",
       "      <td>44</td>\n",
       "    </tr>\n",
       "    <tr>\n",
       "      <th>2019-06-30</th>\n",
       "      <td>70</td>\n",
       "      <td>73</td>\n",
       "      <td>69</td>\n",
       "      <td>5</td>\n",
       "    </tr>\n",
       "    <tr>\n",
       "      <th>2019-07-31</th>\n",
       "      <td>18</td>\n",
       "      <td>51</td>\n",
       "      <td>34</td>\n",
       "      <td>50</td>\n",
       "    </tr>\n",
       "    <tr>\n",
       "      <th>2019-08-31</th>\n",
       "      <td>23</td>\n",
       "      <td>27</td>\n",
       "      <td>12</td>\n",
       "      <td>13</td>\n",
       "    </tr>\n",
       "    <tr>\n",
       "      <th>2019-09-30</th>\n",
       "      <td>64</td>\n",
       "      <td>74</td>\n",
       "      <td>44</td>\n",
       "      <td>52</td>\n",
       "    </tr>\n",
       "    <tr>\n",
       "      <th>2019-10-31</th>\n",
       "      <td>9</td>\n",
       "      <td>58</td>\n",
       "      <td>93</td>\n",
       "      <td>25</td>\n",
       "    </tr>\n",
       "    <tr>\n",
       "      <th>2019-11-30</th>\n",
       "      <td>39</td>\n",
       "      <td>38</td>\n",
       "      <td>49</td>\n",
       "      <td>78</td>\n",
       "    </tr>\n",
       "    <tr>\n",
       "      <th>2019-12-31</th>\n",
       "      <td>67</td>\n",
       "      <td>46</td>\n",
       "      <td>11</td>\n",
       "      <td>46</td>\n",
       "    </tr>\n",
       "    <tr>\n",
       "      <th>2020-01-31</th>\n",
       "      <td>61</td>\n",
       "      <td>5</td>\n",
       "      <td>29</td>\n",
       "      <td>46</td>\n",
       "    </tr>\n",
       "    <tr>\n",
       "      <th>2020-02-29</th>\n",
       "      <td>34</td>\n",
       "      <td>48</td>\n",
       "      <td>51</td>\n",
       "      <td>21</td>\n",
       "    </tr>\n",
       "    <tr>\n",
       "      <th>2020-03-31</th>\n",
       "      <td>73</td>\n",
       "      <td>42</td>\n",
       "      <td>21</td>\n",
       "      <td>81</td>\n",
       "    </tr>\n",
       "    <tr>\n",
       "      <th>2020-04-30</th>\n",
       "      <td>60</td>\n",
       "      <td>60</td>\n",
       "      <td>31</td>\n",
       "      <td>98</td>\n",
       "    </tr>\n",
       "    <tr>\n",
       "      <th>2020-05-31</th>\n",
       "      <td>54</td>\n",
       "      <td>21</td>\n",
       "      <td>36</td>\n",
       "      <td>41</td>\n",
       "    </tr>\n",
       "    <tr>\n",
       "      <th>2020-06-30</th>\n",
       "      <td>75</td>\n",
       "      <td>20</td>\n",
       "      <td>19</td>\n",
       "      <td>13</td>\n",
       "    </tr>\n",
       "    <tr>\n",
       "      <th>2020-07-31</th>\n",
       "      <td>25</td>\n",
       "      <td>85</td>\n",
       "      <td>77</td>\n",
       "      <td>8</td>\n",
       "    </tr>\n",
       "    <tr>\n",
       "      <th>2020-08-31</th>\n",
       "      <td>89</td>\n",
       "      <td>33</td>\n",
       "      <td>28</td>\n",
       "      <td>17</td>\n",
       "    </tr>\n",
       "    <tr>\n",
       "      <th>2020-09-30</th>\n",
       "      <td>70</td>\n",
       "      <td>61</td>\n",
       "      <td>83</td>\n",
       "      <td>76</td>\n",
       "    </tr>\n",
       "    <tr>\n",
       "      <th>2020-10-31</th>\n",
       "      <td>53</td>\n",
       "      <td>7</td>\n",
       "      <td>62</td>\n",
       "      <td>47</td>\n",
       "    </tr>\n",
       "    <tr>\n",
       "      <th>2020-11-30</th>\n",
       "      <td>34</td>\n",
       "      <td>8</td>\n",
       "      <td>97</td>\n",
       "      <td>46</td>\n",
       "    </tr>\n",
       "    <tr>\n",
       "      <th>2020-12-31</th>\n",
       "      <td>92</td>\n",
       "      <td>52</td>\n",
       "      <td>58</td>\n",
       "      <td>87</td>\n",
       "    </tr>\n",
       "  </tbody>\n",
       "</table>\n",
       "</div>"
      ],
      "text/plain": [
       "             a   b   c   d\n",
       "2019-05-31  57  48  83  44\n",
       "2019-06-30  70  73  69   5\n",
       "2019-07-31  18  51  34  50\n",
       "2019-08-31  23  27  12  13\n",
       "2019-09-30  64  74  44  52\n",
       "2019-10-31   9  58  93  25\n",
       "2019-11-30  39  38  49  78\n",
       "2019-12-31  67  46  11  46\n",
       "2020-01-31  61   5  29  46\n",
       "2020-02-29  34  48  51  21\n",
       "2020-03-31  73  42  21  81\n",
       "2020-04-30  60  60  31  98\n",
       "2020-05-31  54  21  36  41\n",
       "2020-06-30  75  20  19  13\n",
       "2020-07-31  25  85  77   8\n",
       "2020-08-31  89  33  28  17\n",
       "2020-09-30  70  61  83  76\n",
       "2020-10-31  53   7  62  47\n",
       "2020-11-30  34   8  97  46\n",
       "2020-12-31  92  52  58  87"
      ]
     },
     "execution_count": 115,
     "metadata": {},
     "output_type": "execute_result"
    }
   ],
   "source": [
    "# can use these ranges as indicies in creating a df\n",
    "\n",
    "dti = pd.date_range(end= 'jan 2021', periods=20, freq='m')\n",
    "\n",
    "pd.DataFrame(index=dti, data=np.random.randint(100, size=(20, 4)), columns=list('abcd'))\n",
    "\n",
    "# ***the size of 20 MUST equal to 20 in creation of the date range****"
   ]
  },
  {
   "cell_type": "code",
   "execution_count": 118,
   "id": "8011d57e-be13-425b-9acc-e164f717ebb6",
   "metadata": {},
   "outputs": [
    {
     "data": {
      "text/plain": [
       "DatetimeIndex(['2000-01-04 16:00:00', '2000-01-05 16:00:00',\n",
       "               '2000-01-06 16:00:00', '2000-01-07 16:00:00',\n",
       "               '2000-01-10 16:00:00', '2000-01-11 16:00:00',\n",
       "               '2000-01-12 16:00:00', '2000-01-13 16:00:00',\n",
       "               '2000-01-14 16:00:00', '2000-01-17 16:00:00',\n",
       "               ...\n",
       "               '2019-09-17 16:00:00', '2019-09-18 16:00:00',\n",
       "               '2019-09-19 16:00:00', '2019-09-20 16:00:00',\n",
       "               '2019-09-23 16:00:00', '2019-09-24 16:00:00',\n",
       "               '2019-09-25 16:00:00', '2019-09-26 16:00:00',\n",
       "               '2019-09-27 16:00:00', '2019-09-30 16:00:00'],\n",
       "              dtype='datetime64[ns]', name='Date', length=5016, freq=None)"
      ]
     },
     "execution_count": 118,
     "metadata": {},
     "output_type": "execute_result"
    }
   ],
   "source": [
    "# can add an offset timestamp to the datetime index\n",
    "\n",
    "oil2.index + pd.DateOffset(hours=16)\n"
   ]
  },
  {
   "cell_type": "code",
   "execution_count": 119,
   "id": "800c0793-a028-4347-be04-2440a65698b6",
   "metadata": {},
   "outputs": [
    {
     "data": {
      "text/html": [
       "<div>\n",
       "<style scoped>\n",
       "    .dataframe tbody tr th:only-of-type {\n",
       "        vertical-align: middle;\n",
       "    }\n",
       "\n",
       "    .dataframe tbody tr th {\n",
       "        vertical-align: top;\n",
       "    }\n",
       "\n",
       "    .dataframe thead th {\n",
       "        text-align: right;\n",
       "    }\n",
       "</style>\n",
       "<table border=\"1\" class=\"dataframe\">\n",
       "  <thead>\n",
       "    <tr style=\"text-align: right;\">\n",
       "      <th></th>\n",
       "      <th>Price</th>\n",
       "    </tr>\n",
       "    <tr>\n",
       "      <th>Date</th>\n",
       "      <th></th>\n",
       "    </tr>\n",
       "  </thead>\n",
       "  <tbody>\n",
       "    <tr>\n",
       "      <th>2000-01-04 16:00:00</th>\n",
       "      <td>23.95</td>\n",
       "    </tr>\n",
       "    <tr>\n",
       "      <th>2000-01-05 16:00:00</th>\n",
       "      <td>23.72</td>\n",
       "    </tr>\n",
       "    <tr>\n",
       "      <th>2000-01-06 16:00:00</th>\n",
       "      <td>23.55</td>\n",
       "    </tr>\n",
       "    <tr>\n",
       "      <th>2000-01-07 16:00:00</th>\n",
       "      <td>23.35</td>\n",
       "    </tr>\n",
       "    <tr>\n",
       "      <th>2000-01-10 16:00:00</th>\n",
       "      <td>22.77</td>\n",
       "    </tr>\n",
       "    <tr>\n",
       "      <th>...</th>\n",
       "      <td>...</td>\n",
       "    </tr>\n",
       "    <tr>\n",
       "      <th>2019-09-24 16:00:00</th>\n",
       "      <td>64.13</td>\n",
       "    </tr>\n",
       "    <tr>\n",
       "      <th>2019-09-25 16:00:00</th>\n",
       "      <td>62.41</td>\n",
       "    </tr>\n",
       "    <tr>\n",
       "      <th>2019-09-26 16:00:00</th>\n",
       "      <td>62.08</td>\n",
       "    </tr>\n",
       "    <tr>\n",
       "      <th>2019-09-27 16:00:00</th>\n",
       "      <td>62.48</td>\n",
       "    </tr>\n",
       "    <tr>\n",
       "      <th>2019-09-30 16:00:00</th>\n",
       "      <td>60.99</td>\n",
       "    </tr>\n",
       "  </tbody>\n",
       "</table>\n",
       "<p>5016 rows × 1 columns</p>\n",
       "</div>"
      ],
      "text/plain": [
       "                     Price\n",
       "Date                      \n",
       "2000-01-04 16:00:00  23.95\n",
       "2000-01-05 16:00:00  23.72\n",
       "2000-01-06 16:00:00  23.55\n",
       "2000-01-07 16:00:00  23.35\n",
       "2000-01-10 16:00:00  22.77\n",
       "...                    ...\n",
       "2019-09-24 16:00:00  64.13\n",
       "2019-09-25 16:00:00  62.41\n",
       "2019-09-26 16:00:00  62.08\n",
       "2019-09-27 16:00:00  62.48\n",
       "2019-09-30 16:00:00  60.99\n",
       "\n",
       "[5016 rows x 1 columns]"
      ]
     },
     "execution_count": 119,
     "metadata": {},
     "output_type": "execute_result"
    }
   ],
   "source": [
    "oil2.set_index(oil2.index + pd.DateOffset(hours=16))"
   ]
  },
  {
   "cell_type": "code",
   "execution_count": 120,
   "id": "8ec4df6b-c546-4e95-92e0-b47671cfafd2",
   "metadata": {},
   "outputs": [
    {
     "data": {
      "text/plain": [
       "Timedelta('3 days 04:00:00')"
      ]
     },
     "execution_count": 120,
     "metadata": {},
     "output_type": "execute_result"
    }
   ],
   "source": [
    "# Timedelta\n",
    "\n",
    "pd.Timedelta(days=3, hours=4)"
   ]
  },
  {
   "cell_type": "code",
   "execution_count": 123,
   "id": "617d55d9-f9f4-42c4-96a8-e12282163acf",
   "metadata": {},
   "outputs": [
    {
     "data": {
      "text/plain": [
       "Timestamp('2000-01-04 00:00:00')"
      ]
     },
     "execution_count": 123,
     "metadata": {},
     "output_type": "execute_result"
    }
   ],
   "source": [
    "# can use this to add/subtract to any dates\n",
    "\n",
    "oil2.iloc[0].name"
   ]
  },
  {
   "cell_type": "code",
   "execution_count": 125,
   "id": "49082c79-1e9d-4157-8b74-0d04ed74810d",
   "metadata": {},
   "outputs": [
    {
     "data": {
      "text/plain": [
       "Timestamp('2000-01-07 04:00:00')"
      ]
     },
     "execution_count": 125,
     "metadata": {},
     "output_type": "execute_result"
    }
   ],
   "source": [
    "oil2.iloc[0].name + pd.Timedelta(days=3, hours=4)"
   ]
  },
  {
   "cell_type": "code",
   "execution_count": 126,
   "id": "11030e7c-7a98-47aa-9e0a-b994c079254e",
   "metadata": {},
   "outputs": [],
   "source": [
    "# Dateoffset is calendar aware --> daylight savings!\n",
    "# Timedelts is absolute time only (day=24hours)"
   ]
  },
  {
   "cell_type": "markdown",
   "id": "6482121c-24c5-4d7f-bc30-9cdf7d788b27",
   "metadata": {},
   "source": [
    "## Resampling TimesSeries\n",
    "* going from noisy (day) toi month"
   ]
  },
  {
   "cell_type": "code",
   "execution_count": 128,
   "id": "aac3a5d0-534a-42b1-8837-95e9c133d653",
   "metadata": {},
   "outputs": [
    {
     "data": {
      "text/html": [
       "<div>\n",
       "<style scoped>\n",
       "    .dataframe tbody tr th:only-of-type {\n",
       "        vertical-align: middle;\n",
       "    }\n",
       "\n",
       "    .dataframe tbody tr th {\n",
       "        vertical-align: top;\n",
       "    }\n",
       "\n",
       "    .dataframe thead th {\n",
       "        text-align: right;\n",
       "    }\n",
       "</style>\n",
       "<table border=\"1\" class=\"dataframe\">\n",
       "  <thead>\n",
       "    <tr style=\"text-align: right;\">\n",
       "      <th></th>\n",
       "      <th>Price</th>\n",
       "    </tr>\n",
       "    <tr>\n",
       "      <th>Date</th>\n",
       "      <th></th>\n",
       "    </tr>\n",
       "  </thead>\n",
       "  <tbody>\n",
       "    <tr>\n",
       "      <th>2000-01-04</th>\n",
       "      <td>23.95</td>\n",
       "    </tr>\n",
       "    <tr>\n",
       "      <th>2000-01-05</th>\n",
       "      <td>23.72</td>\n",
       "    </tr>\n",
       "    <tr>\n",
       "      <th>2000-01-06</th>\n",
       "      <td>23.55</td>\n",
       "    </tr>\n",
       "    <tr>\n",
       "      <th>2000-01-07</th>\n",
       "      <td>23.35</td>\n",
       "    </tr>\n",
       "    <tr>\n",
       "      <th>2000-01-10</th>\n",
       "      <td>22.77</td>\n",
       "    </tr>\n",
       "    <tr>\n",
       "      <th>...</th>\n",
       "      <td>...</td>\n",
       "    </tr>\n",
       "    <tr>\n",
       "      <th>2019-09-24</th>\n",
       "      <td>64.13</td>\n",
       "    </tr>\n",
       "    <tr>\n",
       "      <th>2019-09-25</th>\n",
       "      <td>62.41</td>\n",
       "    </tr>\n",
       "    <tr>\n",
       "      <th>2019-09-26</th>\n",
       "      <td>62.08</td>\n",
       "    </tr>\n",
       "    <tr>\n",
       "      <th>2019-09-27</th>\n",
       "      <td>62.48</td>\n",
       "    </tr>\n",
       "    <tr>\n",
       "      <th>2019-09-30</th>\n",
       "      <td>60.99</td>\n",
       "    </tr>\n",
       "  </tbody>\n",
       "</table>\n",
       "<p>5016 rows × 1 columns</p>\n",
       "</div>"
      ],
      "text/plain": [
       "            Price\n",
       "Date             \n",
       "2000-01-04  23.95\n",
       "2000-01-05  23.72\n",
       "2000-01-06  23.55\n",
       "2000-01-07  23.35\n",
       "2000-01-10  22.77\n",
       "...           ...\n",
       "2019-09-24  64.13\n",
       "2019-09-25  62.41\n",
       "2019-09-26  62.08\n",
       "2019-09-27  62.48\n",
       "2019-09-30  60.99\n",
       "\n",
       "[5016 rows x 1 columns]"
      ]
     },
     "execution_count": 128,
     "metadata": {},
     "output_type": "execute_result"
    }
   ],
   "source": [
    "oil2"
   ]
  },
  {
   "cell_type": "code",
   "execution_count": 129,
   "id": "3d43bdfc-7306-4d57-b606-3ee246e676a7",
   "metadata": {},
   "outputs": [
    {
     "data": {
      "text/plain": [
       "<pandas.core.resample.DatetimeIndexResampler object at 0x7f986f4ab610>"
      ]
     },
     "execution_count": 129,
     "metadata": {},
     "output_type": "execute_result"
    }
   ],
   "source": [
    "oil2.resample('M')"
   ]
  },
  {
   "cell_type": "code",
   "execution_count": 130,
   "id": "0674db68-2481-4c91-8ce0-27985f506fba",
   "metadata": {},
   "outputs": [
    {
     "data": {
      "text/html": [
       "<div>\n",
       "<style scoped>\n",
       "    .dataframe tbody tr th:only-of-type {\n",
       "        vertical-align: middle;\n",
       "    }\n",
       "\n",
       "    .dataframe tbody tr th {\n",
       "        vertical-align: top;\n",
       "    }\n",
       "\n",
       "    .dataframe thead th {\n",
       "        text-align: right;\n",
       "    }\n",
       "</style>\n",
       "<table border=\"1\" class=\"dataframe\">\n",
       "  <thead>\n",
       "    <tr style=\"text-align: right;\">\n",
       "      <th></th>\n",
       "      <th>Price</th>\n",
       "    </tr>\n",
       "    <tr>\n",
       "      <th>Date</th>\n",
       "      <th></th>\n",
       "    </tr>\n",
       "  </thead>\n",
       "  <tbody>\n",
       "    <tr>\n",
       "      <th>2000-01-31</th>\n",
       "      <td>26.080</td>\n",
       "    </tr>\n",
       "    <tr>\n",
       "      <th>2000-02-29</th>\n",
       "      <td>27.610</td>\n",
       "    </tr>\n",
       "    <tr>\n",
       "      <th>2000-03-31</th>\n",
       "      <td>27.970</td>\n",
       "    </tr>\n",
       "    <tr>\n",
       "      <th>2000-04-30</th>\n",
       "      <td>22.900</td>\n",
       "    </tr>\n",
       "    <tr>\n",
       "      <th>2000-05-31</th>\n",
       "      <td>28.260</td>\n",
       "    </tr>\n",
       "    <tr>\n",
       "      <th>...</th>\n",
       "      <td>...</td>\n",
       "    </tr>\n",
       "    <tr>\n",
       "      <th>2019-05-31</th>\n",
       "      <td>71.785</td>\n",
       "    </tr>\n",
       "    <tr>\n",
       "      <th>2019-06-30</th>\n",
       "      <td>63.560</td>\n",
       "    </tr>\n",
       "    <tr>\n",
       "      <th>2019-07-31</th>\n",
       "      <td>63.670</td>\n",
       "    </tr>\n",
       "    <tr>\n",
       "      <th>2019-08-31</th>\n",
       "      <td>59.015</td>\n",
       "    </tr>\n",
       "    <tr>\n",
       "      <th>2019-09-30</th>\n",
       "      <td>62.700</td>\n",
       "    </tr>\n",
       "  </tbody>\n",
       "</table>\n",
       "<p>237 rows × 1 columns</p>\n",
       "</div>"
      ],
      "text/plain": [
       "             Price\n",
       "Date              \n",
       "2000-01-31  26.080\n",
       "2000-02-29  27.610\n",
       "2000-03-31  27.970\n",
       "2000-04-30  22.900\n",
       "2000-05-31  28.260\n",
       "...            ...\n",
       "2019-05-31  71.785\n",
       "2019-06-30  63.560\n",
       "2019-07-31  63.670\n",
       "2019-08-31  59.015\n",
       "2019-09-30  62.700\n",
       "\n",
       "[237 rows x 1 columns]"
      ]
     },
     "execution_count": 130,
     "metadata": {},
     "output_type": "execute_result"
    }
   ],
   "source": [
    "# How will the daily collapse into monthly? --> need to agg .. like groupby\n",
    "\n",
    "oil2.resample('M').median()\n",
    "\n",
    "#so this takes all the monthly data for each month and calcs the median (most occurred)"
   ]
  },
  {
   "cell_type": "code",
   "execution_count": 132,
   "id": "072e4b33-f86d-4d4c-81c9-7b0c66afdcc6",
   "metadata": {},
   "outputs": [],
   "source": [
    "%matplotlib inline"
   ]
  },
  {
   "cell_type": "code",
   "execution_count": 134,
   "id": "8d9078d5-c1ae-443a-bdba-507bf2825b10",
   "metadata": {},
   "outputs": [
    {
     "data": {
      "text/plain": [
       "<AxesSubplot: xlabel='Date'>"
      ]
     },
     "execution_count": 134,
     "metadata": {},
     "output_type": "execute_result"
    },
    {
     "data": {
      "image/png": "[encoded data removed]",
      "text/plain": [
       "<Figure size 640x480 with 1 Axes>"
      ]
     },
     "metadata": {},
     "output_type": "display_data"
    }
   ],
   "source": [
    "oil2.resample('M').median().plot()"
   ]
  },
  {
   "cell_type": "code",
   "execution_count": 135,
   "id": "53865ccf-e551-4149-af3b-d0ab46ab5c18",
   "metadata": {},
   "outputs": [
    {
     "data": {
      "text/plain": [
       "<AxesSubplot: xlabel='Date'>"
      ]
     },
     "execution_count": 135,
     "metadata": {},
     "output_type": "execute_result"
    },
    {
     "data": {
      "image/png": "[encoded data removed]",
      "text/plain": [
       "<Figure size 640x480 with 1 Axes>"
      ]
     },
     "metadata": {},
     "output_type": "display_data"
    }
   ],
   "source": [
    "# look at a 10Day mean\n",
    "oil2.resample('10D').mean().plot()"
   ]
  },
  {
   "cell_type": "markdown",
   "id": "5bf0b813-b2bb-4c24-b1ef-5b8ee80387c0",
   "metadata": {},
   "source": [
    "## Upsampling Timeseries\n",
    "* going from a few obs to many obs\n",
    "* interploation for creating new data points"
   ]
  },
  {
   "cell_type": "code",
   "execution_count": 136,
   "id": "5dcb437e-64c0-4875-821d-7836293a00c1",
   "metadata": {},
   "outputs": [
    {
     "data": {
      "text/html": [
       "<div>\n",
       "<style scoped>\n",
       "    .dataframe tbody tr th:only-of-type {\n",
       "        vertical-align: middle;\n",
       "    }\n",
       "\n",
       "    .dataframe tbody tr th {\n",
       "        vertical-align: top;\n",
       "    }\n",
       "\n",
       "    .dataframe thead th {\n",
       "        text-align: right;\n",
       "    }\n",
       "</style>\n",
       "<table border=\"1\" class=\"dataframe\">\n",
       "  <thead>\n",
       "    <tr style=\"text-align: right;\">\n",
       "      <th></th>\n",
       "      <th>Price</th>\n",
       "    </tr>\n",
       "    <tr>\n",
       "      <th>Date</th>\n",
       "      <th></th>\n",
       "    </tr>\n",
       "  </thead>\n",
       "  <tbody>\n",
       "    <tr>\n",
       "      <th>2000-01-04 00:00:00</th>\n",
       "      <td>23.950000</td>\n",
       "    </tr>\n",
       "    <tr>\n",
       "      <th>2000-01-04 08:00:00</th>\n",
       "      <td>23.873333</td>\n",
       "    </tr>\n",
       "    <tr>\n",
       "      <th>2000-01-04 16:00:00</th>\n",
       "      <td>23.796667</td>\n",
       "    </tr>\n",
       "    <tr>\n",
       "      <th>2000-01-05 00:00:00</th>\n",
       "      <td>23.720000</td>\n",
       "    </tr>\n",
       "    <tr>\n",
       "      <th>2000-01-05 08:00:00</th>\n",
       "      <td>23.663333</td>\n",
       "    </tr>\n",
       "    <tr>\n",
       "      <th>...</th>\n",
       "      <td>...</td>\n",
       "    </tr>\n",
       "    <tr>\n",
       "      <th>2019-09-28 16:00:00</th>\n",
       "      <td>61.652222</td>\n",
       "    </tr>\n",
       "    <tr>\n",
       "      <th>2019-09-29 00:00:00</th>\n",
       "      <td>61.486667</td>\n",
       "    </tr>\n",
       "    <tr>\n",
       "      <th>2019-09-29 08:00:00</th>\n",
       "      <td>61.321111</td>\n",
       "    </tr>\n",
       "    <tr>\n",
       "      <th>2019-09-29 16:00:00</th>\n",
       "      <td>61.155556</td>\n",
       "    </tr>\n",
       "    <tr>\n",
       "      <th>2019-09-30 00:00:00</th>\n",
       "      <td>60.990000</td>\n",
       "    </tr>\n",
       "  </tbody>\n",
       "</table>\n",
       "<p>21628 rows × 1 columns</p>\n",
       "</div>"
      ],
      "text/plain": [
       "                         Price\n",
       "Date                          \n",
       "2000-01-04 00:00:00  23.950000\n",
       "2000-01-04 08:00:00  23.873333\n",
       "2000-01-04 16:00:00  23.796667\n",
       "2000-01-05 00:00:00  23.720000\n",
       "2000-01-05 08:00:00  23.663333\n",
       "...                        ...\n",
       "2019-09-28 16:00:00  61.652222\n",
       "2019-09-29 00:00:00  61.486667\n",
       "2019-09-29 08:00:00  61.321111\n",
       "2019-09-29 16:00:00  61.155556\n",
       "2019-09-30 00:00:00  60.990000\n",
       "\n",
       "[21628 rows x 1 columns]"
      ]
     },
     "execution_count": 136,
     "metadata": {},
     "output_type": "execute_result"
    }
   ],
   "source": [
    "#ex resample down to 8H from daily data using linear interpolation\n",
    "\n",
    "oil2.resample('8H').interpolate(method='linear')"
   ]
  },
  {
   "cell_type": "markdown",
   "id": "6517f759-af5a-408f-b417-aab4c05cd936",
   "metadata": {},
   "source": [
    "# Challenge Exercise"
   ]
  },
  {
   "cell_type": "code",
   "execution_count": 138,
   "id": "723bc5e3-7526-45f5-9734-a93619c94a5c",
   "metadata": {},
   "outputs": [
    {
     "data": {
      "text/html": [
       "<div>\n",
       "<style scoped>\n",
       "    .dataframe tbody tr th:only-of-type {\n",
       "        vertical-align: middle;\n",
       "    }\n",
       "\n",
       "    .dataframe tbody tr th {\n",
       "        vertical-align: top;\n",
       "    }\n",
       "\n",
       "    .dataframe thead th {\n",
       "        text-align: right;\n",
       "    }\n",
       "</style>\n",
       "<table border=\"1\" class=\"dataframe\">\n",
       "  <thead>\n",
       "    <tr style=\"text-align: right;\">\n",
       "      <th></th>\n",
       "      <th>Price</th>\n",
       "    </tr>\n",
       "    <tr>\n",
       "      <th>Date</th>\n",
       "      <th></th>\n",
       "    </tr>\n",
       "  </thead>\n",
       "  <tbody>\n",
       "    <tr>\n",
       "      <th>2000-01-04</th>\n",
       "      <td>23.95</td>\n",
       "    </tr>\n",
       "    <tr>\n",
       "      <th>2000-01-05</th>\n",
       "      <td>23.72</td>\n",
       "    </tr>\n",
       "    <tr>\n",
       "      <th>2000-01-06</th>\n",
       "      <td>23.55</td>\n",
       "    </tr>\n",
       "    <tr>\n",
       "      <th>2000-01-07</th>\n",
       "      <td>23.35</td>\n",
       "    </tr>\n",
       "    <tr>\n",
       "      <th>2000-01-10</th>\n",
       "      <td>22.77</td>\n",
       "    </tr>\n",
       "  </tbody>\n",
       "</table>\n",
       "</div>"
      ],
      "text/plain": [
       "            Price\n",
       "Date             \n",
       "2000-01-04  23.95\n",
       "2000-01-05  23.72\n",
       "2000-01-06  23.55\n",
       "2000-01-07  23.35\n",
       "2000-01-10  22.77"
      ]
     },
     "execution_count": 138,
     "metadata": {},
     "output_type": "execute_result"
    }
   ],
   "source": [
    "# add a new col to oil df that contains the quarter\n",
    "oil2.head()"
   ]
  },
  {
   "cell_type": "code",
   "execution_count": 142,
   "id": "11ad10bb-bebb-4898-8c9e-9fc981f5ffd1",
   "metadata": {},
   "outputs": [
    {
     "data": {
      "text/plain": [
       "Int64Index([1, 1, 1, 1, 1, 1, 1, 1, 1, 1,\n",
       "            ...\n",
       "            3, 3, 3, 3, 3, 3, 3, 3, 3, 3],\n",
       "           dtype='int64', name='Date', length=5016)"
      ]
     },
     "execution_count": 142,
     "metadata": {},
     "output_type": "execute_result"
    }
   ],
   "source": [
    "oil2.index.quarter"
   ]
  },
  {
   "cell_type": "code",
   "execution_count": 143,
   "id": "e981d481-0a0b-4b00-8e33-24cd4675cd78",
   "metadata": {},
   "outputs": [
    {
     "data": {
      "text/html": [
       "<div>\n",
       "<style scoped>\n",
       "    .dataframe tbody tr th:only-of-type {\n",
       "        vertical-align: middle;\n",
       "    }\n",
       "\n",
       "    .dataframe tbody tr th {\n",
       "        vertical-align: top;\n",
       "    }\n",
       "\n",
       "    .dataframe thead th {\n",
       "        text-align: right;\n",
       "    }\n",
       "</style>\n",
       "<table border=\"1\" class=\"dataframe\">\n",
       "  <thead>\n",
       "    <tr style=\"text-align: right;\">\n",
       "      <th></th>\n",
       "      <th>Price</th>\n",
       "      <th>Quarter</th>\n",
       "    </tr>\n",
       "    <tr>\n",
       "      <th>Date</th>\n",
       "      <th></th>\n",
       "      <th></th>\n",
       "    </tr>\n",
       "  </thead>\n",
       "  <tbody>\n",
       "    <tr>\n",
       "      <th>2000-01-04</th>\n",
       "      <td>23.95</td>\n",
       "      <td>1</td>\n",
       "    </tr>\n",
       "    <tr>\n",
       "      <th>2000-01-05</th>\n",
       "      <td>23.72</td>\n",
       "      <td>1</td>\n",
       "    </tr>\n",
       "    <tr>\n",
       "      <th>2000-01-06</th>\n",
       "      <td>23.55</td>\n",
       "      <td>1</td>\n",
       "    </tr>\n",
       "    <tr>\n",
       "      <th>2000-01-07</th>\n",
       "      <td>23.35</td>\n",
       "      <td>1</td>\n",
       "    </tr>\n",
       "    <tr>\n",
       "      <th>2000-01-10</th>\n",
       "      <td>22.77</td>\n",
       "      <td>1</td>\n",
       "    </tr>\n",
       "    <tr>\n",
       "      <th>...</th>\n",
       "      <td>...</td>\n",
       "      <td>...</td>\n",
       "    </tr>\n",
       "    <tr>\n",
       "      <th>2019-09-24</th>\n",
       "      <td>64.13</td>\n",
       "      <td>3</td>\n",
       "    </tr>\n",
       "    <tr>\n",
       "      <th>2019-09-25</th>\n",
       "      <td>62.41</td>\n",
       "      <td>3</td>\n",
       "    </tr>\n",
       "    <tr>\n",
       "      <th>2019-09-26</th>\n",
       "      <td>62.08</td>\n",
       "      <td>3</td>\n",
       "    </tr>\n",
       "    <tr>\n",
       "      <th>2019-09-27</th>\n",
       "      <td>62.48</td>\n",
       "      <td>3</td>\n",
       "    </tr>\n",
       "    <tr>\n",
       "      <th>2019-09-30</th>\n",
       "      <td>60.99</td>\n",
       "      <td>3</td>\n",
       "    </tr>\n",
       "  </tbody>\n",
       "</table>\n",
       "<p>5016 rows × 2 columns</p>\n",
       "</div>"
      ],
      "text/plain": [
       "            Price  Quarter\n",
       "Date                      \n",
       "2000-01-04  23.95        1\n",
       "2000-01-05  23.72        1\n",
       "2000-01-06  23.55        1\n",
       "2000-01-07  23.35        1\n",
       "2000-01-10  22.77        1\n",
       "...           ...      ...\n",
       "2019-09-24  64.13        3\n",
       "2019-09-25  62.41        3\n",
       "2019-09-26  62.08        3\n",
       "2019-09-27  62.48        3\n",
       "2019-09-30  60.99        3\n",
       "\n",
       "[5016 rows x 2 columns]"
      ]
     },
     "execution_count": 143,
     "metadata": {},
     "output_type": "execute_result"
    }
   ],
   "source": [
    "oil2['Quarter'] = oil2.index.quarter\n",
    "oil2"
   ]
  },
  {
   "cell_type": "code",
   "execution_count": 144,
   "id": "5cc00984-b222-44af-97f0-5807210635ef",
   "metadata": {},
   "outputs": [
    {
     "data": {
      "text/html": [
       "<div>\n",
       "<style scoped>\n",
       "    .dataframe tbody tr th:only-of-type {\n",
       "        vertical-align: middle;\n",
       "    }\n",
       "\n",
       "    .dataframe tbody tr th {\n",
       "        vertical-align: top;\n",
       "    }\n",
       "\n",
       "    .dataframe thead th {\n",
       "        text-align: right;\n",
       "    }\n",
       "</style>\n",
       "<table border=\"1\" class=\"dataframe\">\n",
       "  <thead>\n",
       "    <tr style=\"text-align: right;\">\n",
       "      <th></th>\n",
       "      <th>Price</th>\n",
       "      <th>Quarter</th>\n",
       "    </tr>\n",
       "    <tr>\n",
       "      <th>Date</th>\n",
       "      <th></th>\n",
       "      <th></th>\n",
       "    </tr>\n",
       "  </thead>\n",
       "  <tbody>\n",
       "    <tr>\n",
       "      <th>2000-10-24</th>\n",
       "      <td>31.81</td>\n",
       "      <td>4</td>\n",
       "    </tr>\n",
       "    <tr>\n",
       "      <th>2008-09-04</th>\n",
       "      <td>103.41</td>\n",
       "      <td>3</td>\n",
       "    </tr>\n",
       "    <tr>\n",
       "      <th>2019-07-10</th>\n",
       "      <td>66.41</td>\n",
       "      <td>3</td>\n",
       "    </tr>\n",
       "    <tr>\n",
       "      <th>2005-04-11</th>\n",
       "      <td>51.21</td>\n",
       "      <td>2</td>\n",
       "    </tr>\n",
       "    <tr>\n",
       "      <th>2000-10-31</th>\n",
       "      <td>30.15</td>\n",
       "      <td>4</td>\n",
       "    </tr>\n",
       "    <tr>\n",
       "      <th>2006-04-06</th>\n",
       "      <td>67.58</td>\n",
       "      <td>2</td>\n",
       "    </tr>\n",
       "    <tr>\n",
       "      <th>2001-04-10</th>\n",
       "      <td>25.64</td>\n",
       "      <td>2</td>\n",
       "    </tr>\n",
       "    <tr>\n",
       "      <th>2010-02-23</th>\n",
       "      <td>76.44</td>\n",
       "      <td>1</td>\n",
       "    </tr>\n",
       "    <tr>\n",
       "      <th>2001-08-27</th>\n",
       "      <td>26.22</td>\n",
       "      <td>3</td>\n",
       "    </tr>\n",
       "    <tr>\n",
       "      <th>2010-06-23</th>\n",
       "      <td>75.22</td>\n",
       "      <td>2</td>\n",
       "    </tr>\n",
       "  </tbody>\n",
       "</table>\n",
       "</div>"
      ],
      "text/plain": [
       "             Price  Quarter\n",
       "Date                       \n",
       "2000-10-24   31.81        4\n",
       "2008-09-04  103.41        3\n",
       "2019-07-10   66.41        3\n",
       "2005-04-11   51.21        2\n",
       "2000-10-31   30.15        4\n",
       "2006-04-06   67.58        2\n",
       "2001-04-10   25.64        2\n",
       "2010-02-23   76.44        1\n",
       "2001-08-27   26.22        3\n",
       "2010-06-23   75.22        2"
      ]
     },
     "execution_count": 144,
     "metadata": {},
     "output_type": "execute_result"
    }
   ],
   "source": [
    "oil2.sample(10)"
   ]
  },
  {
   "cell_type": "code",
   "execution_count": 146,
   "id": "6cfcac3d-aa24-4d59-a7b9-ef375258a24f",
   "metadata": {},
   "outputs": [
    {
     "data": {
      "text/html": [
       "<div>\n",
       "<style scoped>\n",
       "    .dataframe tbody tr th:only-of-type {\n",
       "        vertical-align: middle;\n",
       "    }\n",
       "\n",
       "    .dataframe tbody tr th {\n",
       "        vertical-align: top;\n",
       "    }\n",
       "\n",
       "    .dataframe thead th {\n",
       "        text-align: right;\n",
       "    }\n",
       "</style>\n",
       "<table border=\"1\" class=\"dataframe\">\n",
       "  <thead>\n",
       "    <tr style=\"text-align: right;\">\n",
       "      <th></th>\n",
       "      <th>Price</th>\n",
       "      <th>Quarter</th>\n",
       "    </tr>\n",
       "    <tr>\n",
       "      <th>Date</th>\n",
       "      <th></th>\n",
       "      <th></th>\n",
       "    </tr>\n",
       "  </thead>\n",
       "  <tbody>\n",
       "    <tr>\n",
       "      <th>2014-01-02</th>\n",
       "      <td>107.94</td>\n",
       "      <td>1</td>\n",
       "    </tr>\n",
       "    <tr>\n",
       "      <th>2014-01-03</th>\n",
       "      <td>106.57</td>\n",
       "      <td>1</td>\n",
       "    </tr>\n",
       "    <tr>\n",
       "      <th>2014-01-06</th>\n",
       "      <td>106.71</td>\n",
       "      <td>1</td>\n",
       "    </tr>\n",
       "    <tr>\n",
       "      <th>2014-01-07</th>\n",
       "      <td>107.01</td>\n",
       "      <td>1</td>\n",
       "    </tr>\n",
       "    <tr>\n",
       "      <th>2014-01-08</th>\n",
       "      <td>107.42</td>\n",
       "      <td>1</td>\n",
       "    </tr>\n",
       "    <tr>\n",
       "      <th>...</th>\n",
       "      <td>...</td>\n",
       "      <td>...</td>\n",
       "    </tr>\n",
       "    <tr>\n",
       "      <th>2014-12-24</th>\n",
       "      <td>58.67</td>\n",
       "      <td>4</td>\n",
       "    </tr>\n",
       "    <tr>\n",
       "      <th>2014-12-26</th>\n",
       "      <td>58.72</td>\n",
       "      <td>4</td>\n",
       "    </tr>\n",
       "    <tr>\n",
       "      <th>2014-12-29</th>\n",
       "      <td>57.86</td>\n",
       "      <td>4</td>\n",
       "    </tr>\n",
       "    <tr>\n",
       "      <th>2014-12-30</th>\n",
       "      <td>55.60</td>\n",
       "      <td>4</td>\n",
       "    </tr>\n",
       "    <tr>\n",
       "      <th>2014-12-31</th>\n",
       "      <td>55.27</td>\n",
       "      <td>4</td>\n",
       "    </tr>\n",
       "  </tbody>\n",
       "</table>\n",
       "<p>254 rows × 2 columns</p>\n",
       "</div>"
      ],
      "text/plain": [
       "             Price  Quarter\n",
       "Date                       \n",
       "2014-01-02  107.94        1\n",
       "2014-01-03  106.57        1\n",
       "2014-01-06  106.71        1\n",
       "2014-01-07  107.01        1\n",
       "2014-01-08  107.42        1\n",
       "...            ...      ...\n",
       "2014-12-24   58.67        4\n",
       "2014-12-26   58.72        4\n",
       "2014-12-29   57.86        4\n",
       "2014-12-30   55.60        4\n",
       "2014-12-31   55.27        4\n",
       "\n",
       "[254 rows x 2 columns]"
      ]
     },
     "execution_count": 146,
     "metadata": {},
     "output_type": "execute_result"
    }
   ],
   "source": [
    "# using the quarter column and groupby, find the avg and stdev for each quarter for 2014\n",
    "oil2.loc['2014']"
   ]
  },
  {
   "cell_type": "code",
   "execution_count": 152,
   "id": "c5b350cb-1bd0-47de-879b-09c8b2d3055b",
   "metadata": {},
   "outputs": [
    {
     "data": {
      "text/html": [
       "<div>\n",
       "<style scoped>\n",
       "    .dataframe tbody tr th:only-of-type {\n",
       "        vertical-align: middle;\n",
       "    }\n",
       "\n",
       "    .dataframe tbody tr th {\n",
       "        vertical-align: top;\n",
       "    }\n",
       "\n",
       "    .dataframe thead tr th {\n",
       "        text-align: left;\n",
       "    }\n",
       "\n",
       "    .dataframe thead tr:last-of-type th {\n",
       "        text-align: right;\n",
       "    }\n",
       "</style>\n",
       "<table border=\"1\" class=\"dataframe\">\n",
       "  <thead>\n",
       "    <tr>\n",
       "      <th></th>\n",
       "      <th colspan=\"2\" halign=\"left\">Price</th>\n",
       "    </tr>\n",
       "    <tr>\n",
       "      <th></th>\n",
       "      <th>mean</th>\n",
       "      <th>std</th>\n",
       "    </tr>\n",
       "    <tr>\n",
       "      <th>Quarter</th>\n",
       "      <th></th>\n",
       "      <th></th>\n",
       "    </tr>\n",
       "  </thead>\n",
       "  <tbody>\n",
       "    <tr>\n",
       "      <th>1</th>\n",
       "      <td>108.141935</td>\n",
       "      <td>1.280641</td>\n",
       "    </tr>\n",
       "    <tr>\n",
       "      <th>2</th>\n",
       "      <td>109.694063</td>\n",
       "      <td>2.406442</td>\n",
       "    </tr>\n",
       "    <tr>\n",
       "      <th>3</th>\n",
       "      <td>101.899844</td>\n",
       "      <td>4.364868</td>\n",
       "    </tr>\n",
       "    <tr>\n",
       "      <th>4</th>\n",
       "      <td>76.429219</td>\n",
       "      <td>11.410171</td>\n",
       "    </tr>\n",
       "  </tbody>\n",
       "</table>\n",
       "</div>"
      ],
      "text/plain": [
       "              Price           \n",
       "               mean        std\n",
       "Quarter                       \n",
       "1        108.141935   1.280641\n",
       "2        109.694063   2.406442\n",
       "3        101.899844   4.364868\n",
       "4         76.429219  11.410171"
      ]
     },
     "execution_count": 152,
     "metadata": {},
     "output_type": "execute_result"
    }
   ],
   "source": [
    "oil2.loc['2014'].groupby('Quarter').agg(['mean', 'std'])"
   ]
  },
  {
   "cell_type": "code",
   "execution_count": 155,
   "id": "9b5713f3-c077-46ba-957f-75840cf630e7",
   "metadata": {},
   "outputs": [
    {
     "data": {
      "text/html": [
       "<div>\n",
       "<style scoped>\n",
       "    .dataframe tbody tr th:only-of-type {\n",
       "        vertical-align: middle;\n",
       "    }\n",
       "\n",
       "    .dataframe tbody tr th {\n",
       "        vertical-align: top;\n",
       "    }\n",
       "\n",
       "    .dataframe thead th {\n",
       "        text-align: right;\n",
       "    }\n",
       "</style>\n",
       "<table border=\"1\" class=\"dataframe\">\n",
       "  <thead>\n",
       "    <tr style=\"text-align: right;\">\n",
       "      <th></th>\n",
       "      <th>Quarter</th>\n",
       "      <th>1</th>\n",
       "      <th>2</th>\n",
       "      <th>3</th>\n",
       "      <th>4</th>\n",
       "    </tr>\n",
       "  </thead>\n",
       "  <tbody>\n",
       "    <tr>\n",
       "      <th rowspan=\"8\" valign=\"top\">Price</th>\n",
       "      <th>count</th>\n",
       "      <td>62.000000</td>\n",
       "      <td>64.000000</td>\n",
       "      <td>64.000000</td>\n",
       "      <td>64.000000</td>\n",
       "    </tr>\n",
       "    <tr>\n",
       "      <th>mean</th>\n",
       "      <td>108.141935</td>\n",
       "      <td>109.694063</td>\n",
       "      <td>101.899844</td>\n",
       "      <td>76.429219</td>\n",
       "    </tr>\n",
       "    <tr>\n",
       "      <th>std</th>\n",
       "      <td>1.280641</td>\n",
       "      <td>2.406442</td>\n",
       "      <td>4.364868</td>\n",
       "      <td>11.410171</td>\n",
       "    </tr>\n",
       "    <tr>\n",
       "      <th>min</th>\n",
       "      <td>105.730000</td>\n",
       "      <td>103.370000</td>\n",
       "      <td>94.530000</td>\n",
       "      <td>55.270000</td>\n",
       "    </tr>\n",
       "    <tr>\n",
       "      <th>25%</th>\n",
       "      <td>107.017500</td>\n",
       "      <td>108.467500</td>\n",
       "      <td>99.047500</td>\n",
       "      <td>65.992500</td>\n",
       "    </tr>\n",
       "    <tr>\n",
       "      <th>50%</th>\n",
       "      <td>108.150000</td>\n",
       "      <td>109.505000</td>\n",
       "      <td>101.180000</td>\n",
       "      <td>79.410000</td>\n",
       "    </tr>\n",
       "    <tr>\n",
       "      <th>75%</th>\n",
       "      <td>109.140000</td>\n",
       "      <td>110.852500</td>\n",
       "      <td>105.772500</td>\n",
       "      <td>85.517500</td>\n",
       "    </tr>\n",
       "    <tr>\n",
       "      <th>max</th>\n",
       "      <td>111.260000</td>\n",
       "      <td>115.190000</td>\n",
       "      <td>110.840000</td>\n",
       "      <td>94.570000</td>\n",
       "    </tr>\n",
       "  </tbody>\n",
       "</table>\n",
       "</div>"
      ],
      "text/plain": [
       "Quarter               1           2           3          4\n",
       "Price count   62.000000   64.000000   64.000000  64.000000\n",
       "      mean   108.141935  109.694063  101.899844  76.429219\n",
       "      std      1.280641    2.406442    4.364868  11.410171\n",
       "      min    105.730000  103.370000   94.530000  55.270000\n",
       "      25%    107.017500  108.467500   99.047500  65.992500\n",
       "      50%    108.150000  109.505000  101.180000  79.410000\n",
       "      75%    109.140000  110.852500  105.772500  85.517500\n",
       "      max    111.260000  115.190000  110.840000  94.570000"
      ]
     },
     "execution_count": 155,
     "metadata": {},
     "output_type": "execute_result"
    }
   ],
   "source": [
    "oil2.loc['2014'].groupby('Quarter').describe().T"
   ]
  },
  {
   "cell_type": "code",
   "execution_count": 156,
   "id": "78388394-0355-469d-b4d9-e2c15e448fdb",
   "metadata": {},
   "outputs": [
    {
     "data": {
      "text/plain": [
       "<pandas.core.resample.DatetimeIndexResampler object at 0x7f9850d72fd0>"
      ]
     },
     "execution_count": 156,
     "metadata": {},
     "output_type": "execute_result"
    }
   ],
   "source": [
    "# repeat assuming that the quarter column doesnt exist\n",
    "\n",
    "oil2.loc['2014'].resample('Q')"
   ]
  },
  {
   "cell_type": "code",
   "execution_count": 158,
   "id": "ea2677b7-8de6-437b-8d4c-c0a23e5b2763",
   "metadata": {},
   "outputs": [
    {
     "data": {
      "text/html": [
       "<div>\n",
       "<style scoped>\n",
       "    .dataframe tbody tr th:only-of-type {\n",
       "        vertical-align: middle;\n",
       "    }\n",
       "\n",
       "    .dataframe tbody tr th {\n",
       "        vertical-align: top;\n",
       "    }\n",
       "\n",
       "    .dataframe thead th {\n",
       "        text-align: right;\n",
       "    }\n",
       "</style>\n",
       "<table border=\"1\" class=\"dataframe\">\n",
       "  <thead>\n",
       "    <tr style=\"text-align: right;\">\n",
       "      <th></th>\n",
       "      <th>mean</th>\n",
       "      <th>std</th>\n",
       "    </tr>\n",
       "    <tr>\n",
       "      <th>Date</th>\n",
       "      <th></th>\n",
       "      <th></th>\n",
       "    </tr>\n",
       "  </thead>\n",
       "  <tbody>\n",
       "    <tr>\n",
       "      <th>2014-03-31</th>\n",
       "      <td>108.141935</td>\n",
       "      <td>1.280641</td>\n",
       "    </tr>\n",
       "    <tr>\n",
       "      <th>2014-06-30</th>\n",
       "      <td>109.694063</td>\n",
       "      <td>2.406442</td>\n",
       "    </tr>\n",
       "    <tr>\n",
       "      <th>2014-09-30</th>\n",
       "      <td>101.899844</td>\n",
       "      <td>4.364868</td>\n",
       "    </tr>\n",
       "    <tr>\n",
       "      <th>2014-12-31</th>\n",
       "      <td>76.429219</td>\n",
       "      <td>11.410171</td>\n",
       "    </tr>\n",
       "  </tbody>\n",
       "</table>\n",
       "</div>"
      ],
      "text/plain": [
       "                  mean        std\n",
       "Date                             \n",
       "2014-03-31  108.141935   1.280641\n",
       "2014-06-30  109.694063   2.406442\n",
       "2014-09-30  101.899844   4.364868\n",
       "2014-12-31   76.429219  11.410171"
      ]
     },
     "execution_count": 158,
     "metadata": {},
     "output_type": "execute_result"
    }
   ],
   "source": [
    "oil2.loc['2014', 'Price'].resample('Q').agg(['mean', 'std'])"
   ]
  },
  {
   "cell_type": "code",
   "execution_count": null,
   "id": "b3c67c3e-9d79-4121-a72a-cdd1cbb5f2b4",
   "metadata": {},
   "outputs": [],
   "source": []
  }
 ],
 "metadata": {
  "kernelspec": {
   "display_name": "Python 3 (ipykernel)",
   "language": "python",
   "name": "python3"
  },
  "language_info": {
   "codemirror_mode": {
    "name": "ipython",
    "version": 3
   },
   "file_extension": ".py",
   "mimetype": "text/x-python",
   "name": "python",
   "nbconvert_exporter": "python",
   "pygments_lexer": "ipython3",
   "version": "3.9.13"
  }
 },
 "nbformat": 4,
 "nbformat_minor": 5
}

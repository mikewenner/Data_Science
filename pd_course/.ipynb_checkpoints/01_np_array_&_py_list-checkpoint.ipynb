{
 "cells": [
  {
   "cell_type": "code",
   "execution_count": 1,
   "id": "e80b060b-a56d-4360-a4dd-7403ad6ec204",
   "metadata": {},
   "outputs": [],
   "source": [
    "import pandas as pd\n",
    "import numpy as np"
   ]
  },
  {
   "cell_type": "code",
   "execution_count": 2,
   "id": "8a6edcde-6970-4b97-80f6-cee153431bb8",
   "metadata": {},
   "outputs": [],
   "source": [
    "#create a python list\n",
    "list_py = [10, 20, 40, 23, 1233]"
   ]
  },
  {
   "cell_type": "code",
   "execution_count": 4,
   "id": "42220505-445d-437b-bd91-5d1e4f8e0246",
   "metadata": {},
   "outputs": [
    {
     "data": {
      "text/plain": [
       "list"
      ]
     },
     "execution_count": 4,
     "metadata": {},
     "output_type": "execute_result"
    }
   ],
   "source": [
    "#check the data type\n",
    "type(list_py)"
   ]
  },
  {
   "cell_type": "code",
   "execution_count": 6,
   "id": "07ff6fc2-f582-43be-8fd7-205bd29bac19",
   "metadata": {},
   "outputs": [],
   "source": [
    "#now create a numpy array\n",
    "array_np = np.array([10, 20, 40, 23, 1233])"
   ]
  },
  {
   "cell_type": "code",
   "execution_count": 12,
   "id": "f19e18d9-20a7-46d1-a57b-9a2b282b4b51",
   "metadata": {},
   "outputs": [
    {
     "data": {
      "text/plain": [
       "numpy.ndarray"
      ]
     },
     "execution_count": 12,
     "metadata": {},
     "output_type": "execute_result"
    }
   ],
   "source": [
    "type(array_np)"
   ]
  },
  {
   "cell_type": "code",
   "execution_count": 9,
   "id": "62cf549f-94f5-4735-a904-9bcc9b18dcaa",
   "metadata": {},
   "outputs": [
    {
     "data": {
      "text/plain": [
       "[100, 200, 400, 230, 12330]"
      ]
     },
     "execution_count": 9,
     "metadata": {},
     "output_type": "execute_result"
    }
   ],
   "source": [
    "#multiply all the numbers by 10 in Python\n",
    "arr = []\n",
    "\n",
    "for i in list_py:\n",
    "    arr.append(i * 10)\n",
    "\n",
    "arr"
   ]
  },
  {
   "cell_type": "code",
   "execution_count": 10,
   "id": "0fe96299-4435-41c3-832d-0e11e2d6da2c",
   "metadata": {},
   "outputs": [
    {
     "data": {
      "text/plain": [
       "array([  100,   200,   400,   230, 12330])"
      ]
     },
     "execution_count": 10,
     "metadata": {},
     "output_type": "execute_result"
    }
   ],
   "source": [
    "# now compare to using numpy\n",
    "array_np *10"
   ]
  },
  {
   "cell_type": "code",
   "execution_count": 14,
   "id": "aabfc56b-2582-4406-bb61-f63a11af5cf5",
   "metadata": {},
   "outputs": [],
   "source": [
    "# much better performance with np array\n",
    "# this is because it only contains 1 data type --> all int or float 64 etc...\n",
    "# this is known as implict upcasting"
   ]
  },
  {
   "cell_type": "code",
   "execution_count": 15,
   "id": "633c18fd-c5aa-4485-823d-410c957687dd",
   "metadata": {},
   "outputs": [],
   "source": [
    "# a python list will store \"pointers\" to the data \n",
    "# thus it can store different data types"
   ]
  },
  {
   "cell_type": "code",
   "execution_count": null,
   "id": "fdea8a8c-b622-45c4-8a2d-f130adc53633",
   "metadata": {},
   "outputs": [],
   "source": []
  }
 ],
 "metadata": {
  "kernelspec": {
   "display_name": "Python 3 (ipykernel)",
   "language": "python",
   "name": "python3"
  },
  "language_info": {
   "codemirror_mode": {
    "name": "ipython",
    "version": 3
   },
   "file_extension": ".py",
   "mimetype": "text/x-python",
   "name": "python",
   "nbconvert_exporter": "python",
   "pygments_lexer": "ipython3",
   "version": "3.9.13"
  }
 },
 "nbformat": 4,
 "nbformat_minor": 5
}

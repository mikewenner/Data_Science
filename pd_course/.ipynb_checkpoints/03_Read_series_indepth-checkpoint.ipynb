{
 "cells": [
  {
   "cell_type": "code",
   "execution_count": 1,
   "id": "25fd9622-8909-483f-b0fe-a03d43a9ea68",
   "metadata": {},
   "outputs": [],
   "source": [
    "import pandas as pd\n",
    "import numpy as np"
   ]
  },
  {
   "cell_type": "markdown",
   "id": "1d979ec3-c99b-41ef-9286-61f9b71fa59f",
   "metadata": {},
   "source": [
    "## Reading in data "
   ]
  },
  {
   "cell_type": "code",
   "execution_count": 18,
   "id": "fc502b66-c618-451b-9ae6-9a82a7af5eb9",
   "metadata": {},
   "outputs": [
    {
     "data": {
      "text/html": [
       "<div>\n",
       "<style scoped>\n",
       "    .dataframe tbody tr th:only-of-type {\n",
       "        vertical-align: middle;\n",
       "    }\n",
       "\n",
       "    .dataframe tbody tr th {\n",
       "        vertical-align: top;\n",
       "    }\n",
       "\n",
       "    .dataframe thead th {\n",
       "        text-align: right;\n",
       "    }\n",
       "</style>\n",
       "<table border=\"1\" class=\"dataframe\">\n",
       "  <thead>\n",
       "    <tr style=\"text-align: right;\">\n",
       "      <th></th>\n",
       "      <th>country</th>\n",
       "      <th>beer_servings</th>\n",
       "      <th>spirit_servings</th>\n",
       "      <th>wine_servings</th>\n",
       "      <th>total_litres_of_pure_alcohol</th>\n",
       "    </tr>\n",
       "  </thead>\n",
       "  <tbody>\n",
       "    <tr>\n",
       "      <th>0</th>\n",
       "      <td>Afghanistan</td>\n",
       "      <td>NaN</td>\n",
       "      <td>NaN</td>\n",
       "      <td>NaN</td>\n",
       "      <td>NaN</td>\n",
       "    </tr>\n",
       "    <tr>\n",
       "      <th>1</th>\n",
       "      <td>Albania</td>\n",
       "      <td>89.0</td>\n",
       "      <td>132.0</td>\n",
       "      <td>54.0</td>\n",
       "      <td>4.9</td>\n",
       "    </tr>\n",
       "    <tr>\n",
       "      <th>2</th>\n",
       "      <td>Algeria</td>\n",
       "      <td>25.0</td>\n",
       "      <td>NaN</td>\n",
       "      <td>14.0</td>\n",
       "      <td>0.7</td>\n",
       "    </tr>\n",
       "    <tr>\n",
       "      <th>3</th>\n",
       "      <td>Andorra</td>\n",
       "      <td>245.0</td>\n",
       "      <td>138.0</td>\n",
       "      <td>312.0</td>\n",
       "      <td>12.4</td>\n",
       "    </tr>\n",
       "    <tr>\n",
       "      <th>4</th>\n",
       "      <td>Angola</td>\n",
       "      <td>217.0</td>\n",
       "      <td>57.0</td>\n",
       "      <td>45.0</td>\n",
       "      <td>5.9</td>\n",
       "    </tr>\n",
       "    <tr>\n",
       "      <th>...</th>\n",
       "      <td>...</td>\n",
       "      <td>...</td>\n",
       "      <td>...</td>\n",
       "      <td>...</td>\n",
       "      <td>...</td>\n",
       "    </tr>\n",
       "    <tr>\n",
       "      <th>188</th>\n",
       "      <td>Venezuela</td>\n",
       "      <td>333.0</td>\n",
       "      <td>1.0</td>\n",
       "      <td>3.0</td>\n",
       "      <td>7.7</td>\n",
       "    </tr>\n",
       "    <tr>\n",
       "      <th>189</th>\n",
       "      <td>Vietnam</td>\n",
       "      <td>111.0</td>\n",
       "      <td>2.0</td>\n",
       "      <td>1.0</td>\n",
       "      <td>2.0</td>\n",
       "    </tr>\n",
       "    <tr>\n",
       "      <th>190</th>\n",
       "      <td>Yemen</td>\n",
       "      <td>6.0</td>\n",
       "      <td>NaN</td>\n",
       "      <td>NaN</td>\n",
       "      <td>0.1</td>\n",
       "    </tr>\n",
       "    <tr>\n",
       "      <th>191</th>\n",
       "      <td>Zambia</td>\n",
       "      <td>32.0</td>\n",
       "      <td>19.0</td>\n",
       "      <td>4.0</td>\n",
       "      <td>2.5</td>\n",
       "    </tr>\n",
       "    <tr>\n",
       "      <th>192</th>\n",
       "      <td>Zimbabwe</td>\n",
       "      <td>64.0</td>\n",
       "      <td>18.0</td>\n",
       "      <td>4.0</td>\n",
       "      <td>4.7</td>\n",
       "    </tr>\n",
       "  </tbody>\n",
       "</table>\n",
       "<p>193 rows × 5 columns</p>\n",
       "</div>"
      ],
      "text/plain": [
       "         country  beer_servings  spirit_servings  wine_servings  \\\n",
       "0    Afghanistan            NaN              NaN            NaN   \n",
       "1        Albania           89.0            132.0           54.0   \n",
       "2        Algeria           25.0              NaN           14.0   \n",
       "3        Andorra          245.0            138.0          312.0   \n",
       "4         Angola          217.0             57.0           45.0   \n",
       "..           ...            ...              ...            ...   \n",
       "188    Venezuela          333.0              1.0            3.0   \n",
       "189      Vietnam          111.0              2.0            1.0   \n",
       "190        Yemen            6.0              NaN            NaN   \n",
       "191       Zambia           32.0             19.0            4.0   \n",
       "192     Zimbabwe           64.0             18.0            4.0   \n",
       "\n",
       "     total_litres_of_pure_alcohol  \n",
       "0                             NaN  \n",
       "1                             4.9  \n",
       "2                             0.7  \n",
       "3                            12.4  \n",
       "4                             5.9  \n",
       "..                            ...  \n",
       "188                           7.7  \n",
       "189                           2.0  \n",
       "190                           0.1  \n",
       "191                           2.5  \n",
       "192                           4.7  \n",
       "\n",
       "[193 rows x 5 columns]"
      ]
     },
     "execution_count": 18,
     "metadata": {},
     "output_type": "execute_result"
    }
   ],
   "source": [
    "#read in a dataset\n",
    "df = pd.read_csv('https://andybek.com/pandas-drinks')\n",
    "df"
   ]
  },
  {
   "cell_type": "code",
   "execution_count": 3,
   "id": "ef826965-a3fe-4bb0-aa4d-2e4a2d538c70",
   "metadata": {},
   "outputs": [],
   "source": [
    "#reading in a dataset on the desktop:\n",
    "# file_path = '/Users/mikewenner/Desktop/credit_risk_dataset.csv'\n",
    "# df = pd.read_csv(file_path)"
   ]
  },
  {
   "cell_type": "code",
   "execution_count": 21,
   "id": "590edb90-33f2-422f-97cf-2af2bff5e083",
   "metadata": {},
   "outputs": [
    {
     "data": {
      "text/plain": [
       "pandas.core.frame.DataFrame"
      ]
     },
     "execution_count": 21,
     "metadata": {},
     "output_type": "execute_result"
    }
   ],
   "source": [
    "#what is the incoming data type?\n",
    "type(df)"
   ]
  },
  {
   "cell_type": "code",
   "execution_count": 19,
   "id": "5d93894a-3338-4c0f-aa39-c4ef7d656670",
   "metadata": {},
   "outputs": [
    {
     "data": {
      "text/html": [
       "<div>\n",
       "<style scoped>\n",
       "    .dataframe tbody tr th:only-of-type {\n",
       "        vertical-align: middle;\n",
       "    }\n",
       "\n",
       "    .dataframe tbody tr th {\n",
       "        vertical-align: top;\n",
       "    }\n",
       "\n",
       "    .dataframe thead th {\n",
       "        text-align: right;\n",
       "    }\n",
       "</style>\n",
       "<table border=\"1\" class=\"dataframe\">\n",
       "  <thead>\n",
       "    <tr style=\"text-align: right;\">\n",
       "      <th></th>\n",
       "      <th>country</th>\n",
       "      <th>wine_servings</th>\n",
       "    </tr>\n",
       "  </thead>\n",
       "  <tbody>\n",
       "    <tr>\n",
       "      <th>0</th>\n",
       "      <td>Afghanistan</td>\n",
       "      <td>NaN</td>\n",
       "    </tr>\n",
       "    <tr>\n",
       "      <th>1</th>\n",
       "      <td>Albania</td>\n",
       "      <td>54.0</td>\n",
       "    </tr>\n",
       "    <tr>\n",
       "      <th>2</th>\n",
       "      <td>Algeria</td>\n",
       "      <td>14.0</td>\n",
       "    </tr>\n",
       "    <tr>\n",
       "      <th>3</th>\n",
       "      <td>Andorra</td>\n",
       "      <td>312.0</td>\n",
       "    </tr>\n",
       "    <tr>\n",
       "      <th>4</th>\n",
       "      <td>Angola</td>\n",
       "      <td>45.0</td>\n",
       "    </tr>\n",
       "    <tr>\n",
       "      <th>...</th>\n",
       "      <td>...</td>\n",
       "      <td>...</td>\n",
       "    </tr>\n",
       "    <tr>\n",
       "      <th>188</th>\n",
       "      <td>Venezuela</td>\n",
       "      <td>3.0</td>\n",
       "    </tr>\n",
       "    <tr>\n",
       "      <th>189</th>\n",
       "      <td>Vietnam</td>\n",
       "      <td>1.0</td>\n",
       "    </tr>\n",
       "    <tr>\n",
       "      <th>190</th>\n",
       "      <td>Yemen</td>\n",
       "      <td>NaN</td>\n",
       "    </tr>\n",
       "    <tr>\n",
       "      <th>191</th>\n",
       "      <td>Zambia</td>\n",
       "      <td>4.0</td>\n",
       "    </tr>\n",
       "    <tr>\n",
       "      <th>192</th>\n",
       "      <td>Zimbabwe</td>\n",
       "      <td>4.0</td>\n",
       "    </tr>\n",
       "  </tbody>\n",
       "</table>\n",
       "<p>193 rows × 2 columns</p>\n",
       "</div>"
      ],
      "text/plain": [
       "         country  wine_servings\n",
       "0    Afghanistan            NaN\n",
       "1        Albania           54.0\n",
       "2        Algeria           14.0\n",
       "3        Andorra          312.0\n",
       "4         Angola           45.0\n",
       "..           ...            ...\n",
       "188    Venezuela            3.0\n",
       "189      Vietnam            1.0\n",
       "190        Yemen            NaN\n",
       "191       Zambia            4.0\n",
       "192     Zimbabwe            4.0\n",
       "\n",
       "[193 rows x 2 columns]"
      ]
     },
     "execution_count": 19,
     "metadata": {},
     "output_type": "execute_result"
    }
   ],
   "source": [
    "#if want to just look at couple of rows\n",
    "df_new = pd.read_csv('https://andybek.com/pandas-drinks', usecols=[\"country\", \"wine_servings\"])\n",
    "df_new"
   ]
  },
  {
   "cell_type": "code",
   "execution_count": 20,
   "id": "c4d4c764-9b00-4269-a459-7a4cadbfdcb5",
   "metadata": {},
   "outputs": [
    {
     "data": {
      "text/plain": [
       "pandas.core.frame.DataFrame"
      ]
     },
     "execution_count": 20,
     "metadata": {},
     "output_type": "execute_result"
    }
   ],
   "source": [
    "type(df_new)"
   ]
  },
  {
   "cell_type": "code",
   "execution_count": 26,
   "id": "52db5454-8d54-4026-9fba-9bcbb5c29984",
   "metadata": {},
   "outputs": [
    {
     "data": {
      "text/html": [
       "<div>\n",
       "<style scoped>\n",
       "    .dataframe tbody tr th:only-of-type {\n",
       "        vertical-align: middle;\n",
       "    }\n",
       "\n",
       "    .dataframe tbody tr th {\n",
       "        vertical-align: top;\n",
       "    }\n",
       "\n",
       "    .dataframe thead th {\n",
       "        text-align: right;\n",
       "    }\n",
       "</style>\n",
       "<table border=\"1\" class=\"dataframe\">\n",
       "  <thead>\n",
       "    <tr style=\"text-align: right;\">\n",
       "      <th></th>\n",
       "      <th>country</th>\n",
       "      <th>wine_servings</th>\n",
       "    </tr>\n",
       "  </thead>\n",
       "  <tbody>\n",
       "    <tr>\n",
       "      <th>0</th>\n",
       "      <td>Afghanistan</td>\n",
       "      <td>NaN</td>\n",
       "    </tr>\n",
       "    <tr>\n",
       "      <th>1</th>\n",
       "      <td>Albania</td>\n",
       "      <td>54.0</td>\n",
       "    </tr>\n",
       "    <tr>\n",
       "      <th>2</th>\n",
       "      <td>Algeria</td>\n",
       "      <td>14.0</td>\n",
       "    </tr>\n",
       "    <tr>\n",
       "      <th>3</th>\n",
       "      <td>Andorra</td>\n",
       "      <td>312.0</td>\n",
       "    </tr>\n",
       "    <tr>\n",
       "      <th>4</th>\n",
       "      <td>Angola</td>\n",
       "      <td>45.0</td>\n",
       "    </tr>\n",
       "    <tr>\n",
       "      <th>...</th>\n",
       "      <td>...</td>\n",
       "      <td>...</td>\n",
       "    </tr>\n",
       "    <tr>\n",
       "      <th>188</th>\n",
       "      <td>Venezuela</td>\n",
       "      <td>3.0</td>\n",
       "    </tr>\n",
       "    <tr>\n",
       "      <th>189</th>\n",
       "      <td>Vietnam</td>\n",
       "      <td>1.0</td>\n",
       "    </tr>\n",
       "    <tr>\n",
       "      <th>190</th>\n",
       "      <td>Yemen</td>\n",
       "      <td>NaN</td>\n",
       "    </tr>\n",
       "    <tr>\n",
       "      <th>191</th>\n",
       "      <td>Zambia</td>\n",
       "      <td>4.0</td>\n",
       "    </tr>\n",
       "    <tr>\n",
       "      <th>192</th>\n",
       "      <td>Zimbabwe</td>\n",
       "      <td>4.0</td>\n",
       "    </tr>\n",
       "  </tbody>\n",
       "</table>\n",
       "<p>193 rows × 2 columns</p>\n",
       "</div>"
      ],
      "text/plain": [
       "         country  wine_servings\n",
       "0    Afghanistan            NaN\n",
       "1        Albania           54.0\n",
       "2        Algeria           14.0\n",
       "3        Andorra          312.0\n",
       "4         Angola           45.0\n",
       "..           ...            ...\n",
       "188    Venezuela            3.0\n",
       "189      Vietnam            1.0\n",
       "190        Yemen            NaN\n",
       "191       Zambia            4.0\n",
       "192     Zimbabwe            4.0\n",
       "\n",
       "[193 rows x 2 columns]"
      ]
     },
     "execution_count": 26,
     "metadata": {},
     "output_type": "execute_result"
    }
   ],
   "source": [
    "#or could use loc\n",
    "df_new2 = df.loc[:, [\"country\", \"wine_servings\"]] # the : indicates all rows, you could also pass a list of specific rows here\n",
    "df_new2"
   ]
  },
  {
   "cell_type": "code",
   "execution_count": 30,
   "id": "341211ad-d25b-4b19-b69d-0b49afaffbc3",
   "metadata": {},
   "outputs": [
    {
     "data": {
      "text/html": [
       "<div>\n",
       "<style scoped>\n",
       "    .dataframe tbody tr th:only-of-type {\n",
       "        vertical-align: middle;\n",
       "    }\n",
       "\n",
       "    .dataframe tbody tr th {\n",
       "        vertical-align: top;\n",
       "    }\n",
       "\n",
       "    .dataframe thead th {\n",
       "        text-align: right;\n",
       "    }\n",
       "</style>\n",
       "<table border=\"1\" class=\"dataframe\">\n",
       "  <thead>\n",
       "    <tr style=\"text-align: right;\">\n",
       "      <th></th>\n",
       "      <th>wine_servings</th>\n",
       "    </tr>\n",
       "    <tr>\n",
       "      <th>country</th>\n",
       "      <th></th>\n",
       "    </tr>\n",
       "  </thead>\n",
       "  <tbody>\n",
       "    <tr>\n",
       "      <th>Afghanistan</th>\n",
       "      <td>NaN</td>\n",
       "    </tr>\n",
       "    <tr>\n",
       "      <th>Albania</th>\n",
       "      <td>54.0</td>\n",
       "    </tr>\n",
       "    <tr>\n",
       "      <th>Algeria</th>\n",
       "      <td>14.0</td>\n",
       "    </tr>\n",
       "    <tr>\n",
       "      <th>Andorra</th>\n",
       "      <td>312.0</td>\n",
       "    </tr>\n",
       "    <tr>\n",
       "      <th>Angola</th>\n",
       "      <td>45.0</td>\n",
       "    </tr>\n",
       "    <tr>\n",
       "      <th>...</th>\n",
       "      <td>...</td>\n",
       "    </tr>\n",
       "    <tr>\n",
       "      <th>Venezuela</th>\n",
       "      <td>3.0</td>\n",
       "    </tr>\n",
       "    <tr>\n",
       "      <th>Vietnam</th>\n",
       "      <td>1.0</td>\n",
       "    </tr>\n",
       "    <tr>\n",
       "      <th>Yemen</th>\n",
       "      <td>NaN</td>\n",
       "    </tr>\n",
       "    <tr>\n",
       "      <th>Zambia</th>\n",
       "      <td>4.0</td>\n",
       "    </tr>\n",
       "    <tr>\n",
       "      <th>Zimbabwe</th>\n",
       "      <td>4.0</td>\n",
       "    </tr>\n",
       "  </tbody>\n",
       "</table>\n",
       "<p>193 rows × 1 columns</p>\n",
       "</div>"
      ],
      "text/plain": [
       "             wine_servings\n",
       "country                   \n",
       "Afghanistan            NaN\n",
       "Albania               54.0\n",
       "Algeria               14.0\n",
       "Andorra              312.0\n",
       "Angola                45.0\n",
       "...                    ...\n",
       "Venezuela              3.0\n",
       "Vietnam                1.0\n",
       "Yemen                  NaN\n",
       "Zambia                 4.0\n",
       "Zimbabwe               4.0\n",
       "\n",
       "[193 rows x 1 columns]"
      ]
     },
     "execution_count": 30,
     "metadata": {},
     "output_type": "execute_result"
    }
   ],
   "source": [
    "#setting the index\n",
    "df_new2.set_index(\"country\", inplace=True)\n",
    "df_new2"
   ]
  },
  {
   "cell_type": "code",
   "execution_count": 31,
   "id": "6cbf87c4-aadf-4851-be68-a1372dc3bfe0",
   "metadata": {},
   "outputs": [
    {
     "data": {
      "text/html": [
       "<div>\n",
       "<style scoped>\n",
       "    .dataframe tbody tr th:only-of-type {\n",
       "        vertical-align: middle;\n",
       "    }\n",
       "\n",
       "    .dataframe tbody tr th {\n",
       "        vertical-align: top;\n",
       "    }\n",
       "\n",
       "    .dataframe thead th {\n",
       "        text-align: right;\n",
       "    }\n",
       "</style>\n",
       "<table border=\"1\" class=\"dataframe\">\n",
       "  <thead>\n",
       "    <tr style=\"text-align: right;\">\n",
       "      <th></th>\n",
       "      <th>wine_servings</th>\n",
       "    </tr>\n",
       "    <tr>\n",
       "      <th>country</th>\n",
       "      <th></th>\n",
       "    </tr>\n",
       "  </thead>\n",
       "  <tbody>\n",
       "    <tr>\n",
       "      <th>Afghanistan</th>\n",
       "      <td>NaN</td>\n",
       "    </tr>\n",
       "    <tr>\n",
       "      <th>Albania</th>\n",
       "      <td>54.0</td>\n",
       "    </tr>\n",
       "    <tr>\n",
       "      <th>Algeria</th>\n",
       "      <td>14.0</td>\n",
       "    </tr>\n",
       "    <tr>\n",
       "      <th>Andorra</th>\n",
       "      <td>312.0</td>\n",
       "    </tr>\n",
       "    <tr>\n",
       "      <th>Angola</th>\n",
       "      <td>45.0</td>\n",
       "    </tr>\n",
       "    <tr>\n",
       "      <th>...</th>\n",
       "      <td>...</td>\n",
       "    </tr>\n",
       "    <tr>\n",
       "      <th>Venezuela</th>\n",
       "      <td>3.0</td>\n",
       "    </tr>\n",
       "    <tr>\n",
       "      <th>Vietnam</th>\n",
       "      <td>1.0</td>\n",
       "    </tr>\n",
       "    <tr>\n",
       "      <th>Yemen</th>\n",
       "      <td>NaN</td>\n",
       "    </tr>\n",
       "    <tr>\n",
       "      <th>Zambia</th>\n",
       "      <td>4.0</td>\n",
       "    </tr>\n",
       "    <tr>\n",
       "      <th>Zimbabwe</th>\n",
       "      <td>4.0</td>\n",
       "    </tr>\n",
       "  </tbody>\n",
       "</table>\n",
       "<p>193 rows × 1 columns</p>\n",
       "</div>"
      ],
      "text/plain": [
       "             wine_servings\n",
       "country                   \n",
       "Afghanistan            NaN\n",
       "Albania               54.0\n",
       "Algeria               14.0\n",
       "Andorra              312.0\n",
       "Angola                45.0\n",
       "...                    ...\n",
       "Venezuela              3.0\n",
       "Vietnam                1.0\n",
       "Yemen                  NaN\n",
       "Zambia                 4.0\n",
       "Zimbabwe               4.0\n",
       "\n",
       "[193 rows x 1 columns]"
      ]
     },
     "execution_count": 31,
     "metadata": {},
     "output_type": "execute_result"
    }
   ],
   "source": [
    "#setting the index on the read in\n",
    "alcohol = pd.read_csv('https://andybek.com/pandas-drinks', usecols=[\"country\", \"wine_servings\"], index_col = \"country\")\n",
    "alcohol"
   ]
  },
  {
   "cell_type": "markdown",
   "id": "b5ef3fe8-923e-449a-ab78-aa9023f14ecd",
   "metadata": {},
   "source": [
    "## Squeeze"
   ]
  },
  {
   "cell_type": "code",
   "execution_count": 32,
   "id": "da79b22d-57f4-4356-a7ef-87fa974bae5d",
   "metadata": {},
   "outputs": [
    {
     "name": "stderr",
     "output_type": "stream",
     "text": [
      "/var/folders/ys/fqvy458x0ds2sdvqh8qgff500000gn/T/ipykernel_95420/1356538958.py:3: FutureWarning: The squeeze argument has been deprecated and will be removed in a future version. Append .squeeze(\"columns\") to the call to squeeze.\n",
      "\n",
      "\n",
      "  alcohol = pd.read_csv('https://andybek.com/pandas-drinks', usecols=[\"country\", \"wine_servings\"], index_col = \"country\", squeeze=True)\n"
     ]
    },
    {
     "data": {
      "text/plain": [
       "country\n",
       "Afghanistan      NaN\n",
       "Albania         54.0\n",
       "Algeria         14.0\n",
       "Andorra        312.0\n",
       "Angola          45.0\n",
       "               ...  \n",
       "Venezuela        3.0\n",
       "Vietnam          1.0\n",
       "Yemen            NaN\n",
       "Zambia           4.0\n",
       "Zimbabwe         4.0\n",
       "Name: wine_servings, Length: 193, dtype: float64"
      ]
     },
     "execution_count": 32,
     "metadata": {},
     "output_type": "execute_result"
    }
   ],
   "source": [
    "# a neat function is the ability to convert a single column df to a series on import\n",
    "# we do this with the read_csv, has a squeeze parm thats a bool\n",
    "alcohol = pd.read_csv('https://andybek.com/pandas-drinks', usecols=[\"country\", \"wine_servings\"], index_col = \"country\", squeeze=True)\n",
    "alcohol"
   ]
  },
  {
   "cell_type": "code",
   "execution_count": 33,
   "id": "0ca8a78d-2f4f-4ceb-946a-834387e29ea4",
   "metadata": {},
   "outputs": [],
   "source": [
    "#now we can look at the series and evaluate some functions\n",
    "# uniqueness"
   ]
  },
  {
   "cell_type": "code",
   "execution_count": 35,
   "id": "802eb504-67c4-4c7c-a85d-12df60aeed57",
   "metadata": {},
   "outputs": [
    {
     "data": {
      "text/plain": [
       "False"
      ]
     },
     "execution_count": 35,
     "metadata": {},
     "output_type": "execute_result"
    }
   ],
   "source": [
    "#is_unique - checks to see if all values are unique\n",
    "alcohol.is_unique"
   ]
  },
  {
   "cell_type": "code",
   "execution_count": 37,
   "id": "1d83f9dd-a20d-48f7-851f-bf0022b43c5c",
   "metadata": {},
   "outputs": [
    {
     "data": {
      "text/plain": [
       "country\n",
       "Afghanistan      NaN\n",
       "Albania         54.0\n",
       "Algeria         14.0\n",
       "Andorra        312.0\n",
       "Angola          45.0\n",
       "Name: wine_servings, dtype: float64"
      ]
     },
     "execution_count": 37,
     "metadata": {},
     "output_type": "execute_result"
    }
   ],
   "source": [
    "# if we look at alcohol.head\n",
    "alcohol.head()"
   ]
  },
  {
   "cell_type": "code",
   "execution_count": 41,
   "id": "1a6e7868-0ea6-440e-b1bf-f8e901455d96",
   "metadata": {},
   "outputs": [
    {
     "data": {
      "text/plain": [
       "True"
      ]
     },
     "execution_count": 41,
     "metadata": {},
     "output_type": "execute_result"
    }
   ],
   "source": [
    "# we see that it is unique, so ...\n",
    "alcohol.head().is_unique"
   ]
  },
  {
   "cell_type": "code",
   "execution_count": 39,
   "id": "2a74994d-a262-4003-a7ee-267653f5f9a0",
   "metadata": {},
   "outputs": [
    {
     "data": {
      "text/plain": [
       "71"
      ]
     },
     "execution_count": 39,
     "metadata": {},
     "output_type": "execute_result"
    }
   ],
   "source": [
    "# numique --> find the count of unique values\n",
    "alcohol.nunique()"
   ]
  },
  {
   "cell_type": "code",
   "execution_count": 45,
   "id": "c3aa5fcf-8f0f-42ec-a926-53bb59d34947",
   "metadata": {},
   "outputs": [
    {
     "data": {
      "text/plain": [
       "False"
      ]
     },
     "execution_count": 45,
     "metadata": {},
     "output_type": "execute_result"
    }
   ],
   "source": [
    "#monotonicity --> always increasing or decreasing\n",
    "alcohol.is_monotonic_increasing\n",
    "# alcohol.is_monotonic_decreasing"
   ]
  },
  {
   "cell_type": "markdown",
   "id": "4bb8be8a-aa3f-4d8e-8e9b-d99ec9325e25",
   "metadata": {},
   "source": [
    "## Count --only non null\n",
    "## Size -- all values"
   ]
  },
  {
   "cell_type": "code",
   "execution_count": 46,
   "id": "4dd60d6c-734d-46fc-8762-e095f9ebc3af",
   "metadata": {},
   "outputs": [
    {
     "data": {
      "text/plain": [
       "162"
      ]
     },
     "execution_count": 46,
     "metadata": {},
     "output_type": "execute_result"
    }
   ],
   "source": [
    "# count only looks at values that are not null\n",
    "alcohol.count()"
   ]
  },
  {
   "cell_type": "code",
   "execution_count": 48,
   "id": "11b0557c-f492-4f98-b721-9ceedef78009",
   "metadata": {},
   "outputs": [
    {
     "data": {
      "text/plain": [
       "193"
      ]
     },
     "execution_count": 48,
     "metadata": {},
     "output_type": "execute_result"
    }
   ],
   "source": [
    "#size shows all the values\n",
    "alcohol.size"
   ]
  },
  {
   "cell_type": "markdown",
   "id": "ea305f57-8ee9-4ede-ae2e-96cf3858f609",
   "metadata": {},
   "source": [
    "## Looking at nulls"
   ]
  },
  {
   "cell_type": "code",
   "execution_count": 49,
   "id": "bc745530-f9c5-400d-bf45-32d3139a4771",
   "metadata": {},
   "outputs": [
    {
     "data": {
      "text/plain": [
       "country\n",
       "Afghanistan     True\n",
       "Albania        False\n",
       "Algeria        False\n",
       "Andorra        False\n",
       "Angola         False\n",
       "               ...  \n",
       "Venezuela      False\n",
       "Vietnam        False\n",
       "Yemen           True\n",
       "Zambia         False\n",
       "Zimbabwe       False\n",
       "Name: wine_servings, Length: 193, dtype: bool"
      ]
     },
     "execution_count": 49,
     "metadata": {},
     "output_type": "execute_result"
    }
   ],
   "source": [
    "#finding nulls -- True shows nulls\n",
    "alcohol.isnull()"
   ]
  },
  {
   "cell_type": "code",
   "execution_count": 51,
   "id": "e12fbf50-57d2-414e-a457-b7048e4fba98",
   "metadata": {},
   "outputs": [
    {
     "data": {
      "text/plain": [
       "['Afghanistan',\n",
       " 'Bangladesh',\n",
       " 'Bhutan',\n",
       " 'Burundi',\n",
       " 'North Korea',\n",
       " 'Eritrea',\n",
       " 'Ethiopia',\n",
       " 'India',\n",
       " 'Indonesia',\n",
       " 'Iran',\n",
       " 'Iraq',\n",
       " 'Kuwait',\n",
       " 'Lesotho',\n",
       " 'Libya',\n",
       " 'Malaysia',\n",
       " 'Maldives',\n",
       " 'Marshall Islands',\n",
       " 'Mauritania',\n",
       " 'Monaco',\n",
       " 'Myanmar',\n",
       " 'Nepal',\n",
       " 'Pakistan',\n",
       " 'Rwanda',\n",
       " 'San Marino',\n",
       " 'Saudi Arabia',\n",
       " 'Somalia',\n",
       " 'Sri Lanka',\n",
       " 'Sudan',\n",
       " 'Tajikistan',\n",
       " 'Uganda',\n",
       " 'Yemen']"
      ]
     },
     "execution_count": 51,
     "metadata": {},
     "output_type": "execute_result"
    }
   ],
   "source": [
    "# if we want just the nulls\n",
    "list(alcohol[alcohol.isnull()].index)"
   ]
  },
  {
   "cell_type": "code",
   "execution_count": 52,
   "id": "df41a7ad-ba4e-4b3f-b431-83ce006d36eb",
   "metadata": {},
   "outputs": [
    {
     "data": {
      "text/plain": [
       "31"
      ]
     },
     "execution_count": 52,
     "metadata": {},
     "output_type": "execute_result"
    }
   ],
   "source": [
    "# count the nulls\n",
    "len(list(alcohol[alcohol.isnull()].index))"
   ]
  },
  {
   "cell_type": "code",
   "execution_count": 53,
   "id": "7984ef01-7205-47ce-90ea-20fd2db48d26",
   "metadata": {},
   "outputs": [
    {
     "data": {
      "text/plain": [
       "31"
      ]
     },
     "execution_count": 53,
     "metadata": {},
     "output_type": "execute_result"
    }
   ],
   "source": [
    "#lets use pandas instead\n",
    "alcohol.isnull().sum()"
   ]
  },
  {
   "cell_type": "code",
   "execution_count": 54,
   "id": "7747e308-1d14-4c27-b4e9-34c270fa721d",
   "metadata": {},
   "outputs": [
    {
     "data": {
      "text/plain": [
       "country\n",
       "Afghanistan    False\n",
       "Albania         True\n",
       "Algeria         True\n",
       "Andorra         True\n",
       "Angola          True\n",
       "               ...  \n",
       "Venezuela       True\n",
       "Vietnam         True\n",
       "Yemen          False\n",
       "Zambia          True\n",
       "Zimbabwe        True\n",
       "Name: wine_servings, Length: 193, dtype: bool"
      ]
     },
     "execution_count": 54,
     "metadata": {},
     "output_type": "execute_result"
    }
   ],
   "source": [
    "#can also look at the not null\n",
    "alcohol.notnull()"
   ]
  },
  {
   "cell_type": "code",
   "execution_count": 55,
   "id": "a16c3c6e-bc59-4859-a965-4e6965a6330b",
   "metadata": {},
   "outputs": [
    {
     "data": {
      "text/plain": [
       "162"
      ]
     },
     "execution_count": 55,
     "metadata": {},
     "output_type": "execute_result"
    }
   ],
   "source": [
    "alcohol.notnull().sum()"
   ]
  },
  {
   "cell_type": "code",
   "execution_count": 56,
   "id": "d174b0dc-1703-4e78-83ad-204d4baf9b9c",
   "metadata": {},
   "outputs": [
    {
     "data": {
      "text/plain": [
       "True"
      ]
     },
     "execution_count": 56,
     "metadata": {},
     "output_type": "execute_result"
    }
   ],
   "source": [
    "#same as count\n",
    "alcohol.notnull().sum() == alcohol.count()"
   ]
  },
  {
   "cell_type": "markdown",
   "id": "0ba6b95a-8778-48bd-9a3a-0bdd6d934568",
   "metadata": {},
   "source": [
    "## Drop nulls\n"
   ]
  },
  {
   "cell_type": "code",
   "execution_count": 57,
   "id": "93698bf2-af87-4716-b7b1-c24c2df7dfaa",
   "metadata": {},
   "outputs": [
    {
     "data": {
      "text/plain": [
       "country\n",
       "Albania               54.0\n",
       "Algeria               14.0\n",
       "Andorra              312.0\n",
       "Angola                45.0\n",
       "Antigua & Barbuda     45.0\n",
       "                     ...  \n",
       "Vanuatu               11.0\n",
       "Venezuela              3.0\n",
       "Vietnam                1.0\n",
       "Zambia                 4.0\n",
       "Zimbabwe               4.0\n",
       "Name: wine_servings, Length: 162, dtype: float64"
      ]
     },
     "execution_count": 57,
     "metadata": {},
     "output_type": "execute_result"
    }
   ],
   "source": [
    "#using the dropna creates a copy of original, doesnt modify original dataframe\n",
    "alcohol.dropna()"
   ]
  },
  {
   "cell_type": "code",
   "execution_count": 58,
   "id": "d33982dc-b9e7-4344-83dd-6efbb39bfff5",
   "metadata": {},
   "outputs": [
    {
     "data": {
      "text/plain": [
       "country\n",
       "Albania               54.0\n",
       "Algeria               14.0\n",
       "Andorra              312.0\n",
       "Angola                45.0\n",
       "Antigua & Barbuda     45.0\n",
       "                     ...  \n",
       "Vanuatu               11.0\n",
       "Venezuela              3.0\n",
       "Vietnam                1.0\n",
       "Zambia                 4.0\n",
       "Zimbabwe               4.0\n",
       "Name: wine_servings, Length: 162, dtype: float64"
      ]
     },
     "execution_count": 58,
     "metadata": {},
     "output_type": "execute_result"
    }
   ],
   "source": [
    "#we could reassign or use the inplace=True to modify original datframe\n",
    "alcohol_new = alcohol.dropna()\n",
    "alcohol_new"
   ]
  },
  {
   "cell_type": "code",
   "execution_count": 60,
   "id": "77e6c446-c723-4a47-bca5-b21b3e4f2013",
   "metadata": {},
   "outputs": [
    {
     "data": {
      "text/plain": [
       "0"
      ]
     },
     "execution_count": 60,
     "metadata": {},
     "output_type": "execute_result"
    }
   ],
   "source": [
    "#checking nulls\n",
    "alcohol_new.isnull().sum()"
   ]
  },
  {
   "cell_type": "markdown",
   "id": "a39ecbe3-dbcd-4e7d-8a5e-b5efd05fb19f",
   "metadata": {},
   "source": [
    "## Fill null values"
   ]
  },
  {
   "cell_type": "code",
   "execution_count": 61,
   "id": "e428efe6-fb8f-4de1-98c4-4867a16f72c4",
   "metadata": {},
   "outputs": [
    {
     "data": {
      "text/plain": [
       "country\n",
       "Afghanistan    100.0\n",
       "Albania         54.0\n",
       "Algeria         14.0\n",
       "Andorra        312.0\n",
       "Angola          45.0\n",
       "               ...  \n",
       "Venezuela        3.0\n",
       "Vietnam          1.0\n",
       "Yemen          100.0\n",
       "Zambia           4.0\n",
       "Zimbabwe         4.0\n",
       "Name: wine_servings, Length: 193, dtype: float64"
      ]
     },
     "execution_count": 61,
     "metadata": {},
     "output_type": "execute_result"
    }
   ],
   "source": [
    "#same as drop where creates a copy (like saying inplace=False)\n",
    "alcohol.fillna(100)"
   ]
  },
  {
   "cell_type": "code",
   "execution_count": 62,
   "id": "86915a6e-86f9-4a5b-9ac1-692a5c7d51f3",
   "metadata": {},
   "outputs": [
    {
     "data": {
      "text/plain": [
       "country\n",
       "Afghanistan      NaN\n",
       "Albania         54.0\n",
       "Algeria         14.0\n",
       "Andorra        312.0\n",
       "Angola          45.0\n",
       "               ...  \n",
       "Venezuela        3.0\n",
       "Vietnam          1.0\n",
       "Yemen            NaN\n",
       "Zambia           4.0\n",
       "Zimbabwe         4.0\n",
       "Name: wine_servings, Length: 193, dtype: float64"
      ]
     },
     "execution_count": 62,
     "metadata": {},
     "output_type": "execute_result"
    }
   ],
   "source": [
    "#checking original series, seeing the NaN still present\n",
    "alcohol"
   ]
  },
  {
   "cell_type": "markdown",
   "id": "d70d95b0-595c-4028-bf3b-44f5bee2f712",
   "metadata": {},
   "source": [
    "## Descriptive Statistics"
   ]
  },
  {
   "cell_type": "code",
   "execution_count": 64,
   "id": "fdf5dc45-614a-4484-8acf-6b6bc80a82dd",
   "metadata": {},
   "outputs": [
    {
     "data": {
      "text/plain": [
       "count    162.000000\n",
       "mean      50.746914\n",
       "std       76.134917\n",
       "min        1.000000\n",
       "25%        3.000000\n",
       "50%       11.500000\n",
       "75%       61.250000\n",
       "max      339.000000\n",
       "Name: wine_servings, dtype: float64"
      ]
     },
     "execution_count": 64,
     "metadata": {},
     "output_type": "execute_result"
    }
   ],
   "source": [
    "alcohol.describe()"
   ]
  },
  {
   "cell_type": "code",
   "execution_count": 65,
   "id": "37208d60-22dc-4ca1-bfd3-b623c51cb849",
   "metadata": {},
   "outputs": [],
   "source": [
    "#note - the 50% is the median\n",
    "# 25 & 75% is the inter quartile (IQR)"
   ]
  },
  {
   "cell_type": "code",
   "execution_count": 68,
   "id": "3da2b7ca-219e-4cc8-9bf1-6876addf1b10",
   "metadata": {},
   "outputs": [
    {
     "data": {
      "text/plain": [
       "<AxesSubplot: ylabel='Frequency'>"
      ]
     },
     "execution_count": 68,
     "metadata": {},
     "output_type": "execute_result"
    },
    {
     "data": {
      "image/png": "[encoded data removed]",
      "text/plain": [
       "<Figure size 640x480 with 1 Axes>"
      ]
     },
     "metadata": {},
     "output_type": "display_data"
    }
   ],
   "source": [
    "alcohol.plot(kind=\"hist\")"
   ]
  },
  {
   "cell_type": "markdown",
   "id": "59e8a09b-5e42-41c1-8a6f-9b2bca4a26b0",
   "metadata": {},
   "source": [
    "## mode \n",
    "### is the item that appears the most --> peak of the distribution"
   ]
  },
  {
   "cell_type": "code",
   "execution_count": 69,
   "id": "6c3e44d3-6c71-4757-923e-c068703619ab",
   "metadata": {},
   "outputs": [
    {
     "data": {
      "text/plain": [
       "0    1.0\n",
       "Name: wine_servings, dtype: float64"
      ]
     },
     "execution_count": 69,
     "metadata": {},
     "output_type": "execute_result"
    }
   ],
   "source": [
    "alcohol.mode()"
   ]
  },
  {
   "cell_type": "code",
   "execution_count": 71,
   "id": "e3ddd799-5bc1-4a7c-aa50-bb4d2f07484f",
   "metadata": {},
   "outputs": [
    {
     "data": {
      "text/plain": [
       "1.0      28\n",
       "2.0      10\n",
       "7.0       9\n",
       "8.0       7\n",
       "5.0       6\n",
       "         ..\n",
       "218.0     1\n",
       "185.0     1\n",
       "78.0      1\n",
       "165.0     1\n",
       "22.0      1\n",
       "Name: wine_servings, Length: 71, dtype: int64"
      ]
     },
     "execution_count": 71,
     "metadata": {},
     "output_type": "execute_result"
    }
   ],
   "source": [
    "# this means that a serving of 1 is the most common in the data set\n",
    "\n",
    "# BUT ... what is we want to know how many times 1 appears in the dataset??\n",
    "\n",
    "alcohol.value_counts()"
   ]
  },
  {
   "cell_type": "code",
   "execution_count": 73,
   "id": "a10896c5-6283-40cb-b20f-3fa9d78392db",
   "metadata": {},
   "outputs": [],
   "source": [
    "# so now we know that a serving of 1 shows up 28 times\n",
    "# since this method is SORTED and unique values this is the only function we need to call "
   ]
  },
  {
   "cell_type": "code",
   "execution_count": 74,
   "id": "70747c97-8cda-477b-9bbd-6f6cd00968c3",
   "metadata": {},
   "outputs": [
    {
     "data": {
      "text/plain": [
       "1.0      0.172840\n",
       "2.0      0.061728\n",
       "7.0      0.055556\n",
       "8.0      0.043210\n",
       "5.0      0.037037\n",
       "           ...   \n",
       "218.0    0.006173\n",
       "185.0    0.006173\n",
       "78.0     0.006173\n",
       "165.0    0.006173\n",
       "22.0     0.006173\n",
       "Name: wine_servings, Length: 71, dtype: float64"
      ]
     },
     "execution_count": 74,
     "metadata": {},
     "output_type": "execute_result"
    }
   ],
   "source": [
    "#if we wanted to see the distribution (or % each contributes) we can us the normalize parm\n",
    "alcohol.value_counts(normalize=True)"
   ]
  },
  {
   "cell_type": "markdown",
   "id": "2fcf5c47-c4f6-473b-ae76-18e7173aa38d",
   "metadata": {},
   "source": [
    "### now we know that 1 serving occurred 28 time AND that is 17.28% of the servings"
   ]
  },
  {
   "cell_type": "markdown",
   "id": "c534cf8a-dab8-4cf6-8df2-4779313a1102",
   "metadata": {},
   "source": [
    "## idxmax & idxmin"
   ]
  },
  {
   "cell_type": "code",
   "execution_count": 75,
   "id": "f2a5c7e6-ae97-4876-98f5-43080d5f60ce",
   "metadata": {},
   "outputs": [
    {
     "data": {
      "text/plain": [
       "339.0"
      ]
     },
     "execution_count": 75,
     "metadata": {},
     "output_type": "execute_result"
    }
   ],
   "source": [
    "#recall finding the max value from the dataset\n",
    "alcohol.max()"
   ]
  },
  {
   "cell_type": "code",
   "execution_count": 76,
   "id": "648f84bd-4b07-41a1-a44c-5daac7841d1a",
   "metadata": {},
   "outputs": [
    {
     "data": {
      "text/plain": [
       "'Portugal'"
      ]
     },
     "execution_count": 76,
     "metadata": {},
     "output_type": "execute_result"
    }
   ],
   "source": [
    "# But where does this comes from? --> what country?\n",
    "alcohol.idxmax()"
   ]
  },
  {
   "cell_type": "code",
   "execution_count": 77,
   "id": "de0e8199-ff3a-4124-99bc-3dea6b094a1f",
   "metadata": {},
   "outputs": [
    {
     "data": {
      "text/plain": [
       "'Brunei'"
      ]
     },
     "execution_count": 77,
     "metadata": {},
     "output_type": "execute_result"
    }
   ],
   "source": [
    "#same for minimum\n",
    "alcohol.min() # the min value is 1.0 BUT we had 28 countries with this value\n",
    "alcohol.idxmin() #will return the abc first value"
   ]
  },
  {
   "cell_type": "code",
   "execution_count": 78,
   "id": "e5b0f2b2-1b75-4886-a5b1-b22fcb8e87d7",
   "metadata": {},
   "outputs": [
    {
     "data": {
      "text/plain": [
       "country\n",
       "Brunei                      1.0\n",
       "Cambodia                    1.0\n",
       "Canada                      1.0\n",
       "Central African Republic    1.0\n",
       "Chad                        1.0\n",
       "Comoros                     1.0\n",
       "DR Congo                    1.0\n",
       "Egypt                       1.0\n",
       "Fiji                        1.0\n",
       "Gambia                      1.0\n",
       "Ghana                       1.0\n",
       "Guyana                      1.0\n",
       "Haiti                       1.0\n",
       "Jordan                      1.0\n",
       "Kiribati                    1.0\n",
       "Malawi                      1.0\n",
       "Mali                        1.0\n",
       "Morocco                     1.0\n",
       "Namibia                     1.0\n",
       "Nicaragua                   1.0\n",
       "Niger                       1.0\n",
       "Oman                        1.0\n",
       "Papua New Guinea            1.0\n",
       "Philippines                 1.0\n",
       "Solomon Islands             1.0\n",
       "Thailand                    1.0\n",
       "Tanzania                    1.0\n",
       "Vietnam                     1.0\n",
       "Name: wine_servings, dtype: float64"
      ]
     },
     "execution_count": 78,
     "metadata": {},
     "output_type": "execute_result"
    }
   ],
   "source": [
    "#if wanted to see all mins with 1.0\n",
    "alcohol[alcohol == alcohol.min()]"
   ]
  },
  {
   "cell_type": "markdown",
   "id": "ab6ff3f1-3263-4a76-8b2a-5ef52e3d7b3b",
   "metadata": {},
   "source": [
    "## Sorting (value & index)"
   ]
  },
  {
   "cell_type": "code",
   "execution_count": 79,
   "id": "a9c19948-be5f-48b8-a210-7b23e2308a2e",
   "metadata": {},
   "outputs": [
    {
     "data": {
      "text/plain": [
       "country\n",
       "Thailand           1.0\n",
       "Solomon Islands    1.0\n",
       "Brunei             1.0\n",
       "Haiti              1.0\n",
       "Cambodia           1.0\n",
       "                  ... \n",
       "Sri Lanka          NaN\n",
       "Sudan              NaN\n",
       "Tajikistan         NaN\n",
       "Uganda             NaN\n",
       "Yemen              NaN\n",
       "Name: wine_servings, Length: 193, dtype: float64"
      ]
     },
     "execution_count": 79,
     "metadata": {},
     "output_type": "execute_result"
    }
   ],
   "source": [
    "#sorting by values\n",
    "alcohol.sort_values()"
   ]
  },
  {
   "cell_type": "code",
   "execution_count": 83,
   "id": "dac429b7-2d10-4c77-a9e4-3eb4a5881d4b",
   "metadata": {},
   "outputs": [
    {
     "data": {
      "text/plain": [
       "country\n",
       "Portugal                    339.0\n",
       "Andorra                     312.0\n",
       "Denmark                     278.0\n",
       "Slovenia                    276.0\n",
       "Luxembourg                  271.0\n",
       "                            ...  \n",
       "Jordan                        1.0\n",
       "Solomon Islands               1.0\n",
       "Central African Republic      1.0\n",
       "Haiti                         1.0\n",
       "Chad                          1.0\n",
       "Name: wine_servings, Length: 162, dtype: float64"
      ]
     },
     "execution_count": 83,
     "metadata": {},
     "output_type": "execute_result"
    }
   ],
   "source": [
    "#sorting in reverse\n",
    "alcohol.sort_values(ascending=False).dropna()"
   ]
  },
  {
   "cell_type": "code",
   "execution_count": 84,
   "id": "50322967-293a-423c-938e-1410a94bc007",
   "metadata": {},
   "outputs": [
    {
     "data": {
      "text/plain": [
       "country\n",
       "Portugal                    339.0\n",
       "Andorra                     312.0\n",
       "Denmark                     278.0\n",
       "Slovenia                    276.0\n",
       "Luxembourg                  271.0\n",
       "                            ...  \n",
       "Jordan                        1.0\n",
       "Solomon Islands               1.0\n",
       "Central African Republic      1.0\n",
       "Haiti                         1.0\n",
       "Chad                          1.0\n",
       "Name: wine_servings, Length: 162, dtype: float64"
      ]
     },
     "execution_count": 84,
     "metadata": {},
     "output_type": "execute_result"
    }
   ],
   "source": [
    "#again, sort_values creates a copy, if wanted new.. reassign\n",
    "alcohol_sorted = alcohol.sort_values(ascending=False).dropna()\n",
    "alcohol_sorted"
   ]
  },
  {
   "cell_type": "markdown",
   "id": "939ebd45-0f2c-4257-bf53-c60a228c5aae",
   "metadata": {},
   "source": [
    "## nlargest & nsmallest"
   ]
  },
  {
   "cell_type": "code",
   "execution_count": 85,
   "id": "fe42a292-2951-4907-884a-19a972d03f96",
   "metadata": {},
   "outputs": [
    {
     "data": {
      "text/plain": [
       "339.0"
      ]
     },
     "execution_count": 85,
     "metadata": {},
     "output_type": "execute_result"
    }
   ],
   "source": [
    "#recall max & min\n",
    "alcohol.max()"
   ]
  },
  {
   "cell_type": "code",
   "execution_count": 86,
   "id": "23da0a61-602d-4aff-abb1-c33afcb34b8e",
   "metadata": {},
   "outputs": [
    {
     "data": {
      "text/plain": [
       "country\n",
       "Portugal             339.0\n",
       "Andorra              312.0\n",
       "Denmark              278.0\n",
       "Slovenia             276.0\n",
       "Luxembourg           271.0\n",
       "Croatia              254.0\n",
       "Italy                237.0\n",
       "Equatorial Guinea    233.0\n",
       "Argentina            221.0\n",
       "Greece               218.0\n",
       "Name: wine_servings, dtype: float64"
      ]
     },
     "execution_count": 86,
     "metadata": {},
     "output_type": "execute_result"
    }
   ],
   "source": [
    "# only gives a SINGLE value returned\n",
    "# what if we wanted the top ten largest\n",
    "alcohol.nlargest(10)"
   ]
  },
  {
   "cell_type": "code",
   "execution_count": 87,
   "id": "b519c3c6-5bef-4325-9a39-570acc709231",
   "metadata": {},
   "outputs": [
    {
     "data": {
      "text/plain": [
       "country\n",
       "Brunei                      1.0\n",
       "Cambodia                    1.0\n",
       "Canada                      1.0\n",
       "Central African Republic    1.0\n",
       "Chad                        1.0\n",
       "Comoros                     1.0\n",
       "DR Congo                    1.0\n",
       "Egypt                       1.0\n",
       "Fiji                        1.0\n",
       "Gambia                      1.0\n",
       "Ghana                       1.0\n",
       "Guyana                      1.0\n",
       "Haiti                       1.0\n",
       "Jordan                      1.0\n",
       "Kiribati                    1.0\n",
       "Malawi                      1.0\n",
       "Mali                        1.0\n",
       "Morocco                     1.0\n",
       "Namibia                     1.0\n",
       "Nicaragua                   1.0\n",
       "Niger                       1.0\n",
       "Oman                        1.0\n",
       "Papua New Guinea            1.0\n",
       "Philippines                 1.0\n",
       "Solomon Islands             1.0\n",
       "Thailand                    1.0\n",
       "Tanzania                    1.0\n",
       "Vietnam                     1.0\n",
       "El Salvador                 2.0\n",
       "Guatemala                   2.0\n",
       "Name: wine_servings, dtype: float64"
      ]
     },
     "execution_count": 87,
     "metadata": {},
     "output_type": "execute_result"
    }
   ],
   "source": [
    "alcohol.nsmallest(30)"
   ]
  },
  {
   "cell_type": "markdown",
   "id": "05fd1557-603d-4798-9146-e4c3f02ff8be",
   "metadata": {},
   "source": [
    "## sorting with sort_index"
   ]
  },
  {
   "cell_type": "code",
   "execution_count": 89,
   "id": "4db7aec2-895e-46fe-abce-92d3194ff6d1",
   "metadata": {},
   "outputs": [
    {
     "data": {
      "text/plain": [
       "country\n",
       "Portugal      339.0\n",
       "Andorra       312.0\n",
       "Denmark       278.0\n",
       "Slovenia      276.0\n",
       "Luxembourg    271.0\n",
       "Name: wine_servings, dtype: float64"
      ]
     },
     "execution_count": 89,
     "metadata": {},
     "output_type": "execute_result"
    }
   ],
   "source": [
    "# first look at the dataset\n",
    "alcohol_sorted.head()"
   ]
  },
  {
   "cell_type": "code",
   "execution_count": 90,
   "id": "41a79d84-78c7-4a42-9532-f282e46927e1",
   "metadata": {},
   "outputs": [
    {
     "data": {
      "text/plain": [
       "country\n",
       "Albania               54.0\n",
       "Algeria               14.0\n",
       "Andorra              312.0\n",
       "Angola                45.0\n",
       "Antigua & Barbuda     45.0\n",
       "                     ...  \n",
       "Vanuatu               11.0\n",
       "Venezuela              3.0\n",
       "Vietnam                1.0\n",
       "Zambia                 4.0\n",
       "Zimbabwe               4.0\n",
       "Name: wine_servings, Length: 162, dtype: float64"
      ]
     },
     "execution_count": 90,
     "metadata": {},
     "output_type": "execute_result"
    }
   ],
   "source": [
    "# we previuously sorted by value so now lets look at it by index\n",
    "alcohol_sorted.sort_index()"
   ]
  },
  {
   "cell_type": "code",
   "execution_count": 91,
   "id": "23a0d226-ecf6-413f-9553-76ddb9f1e3cb",
   "metadata": {},
   "outputs": [
    {
     "data": {
      "text/plain": [
       "country\n",
       "Zimbabwe               4.0\n",
       "Zambia                 4.0\n",
       "Vietnam                1.0\n",
       "Venezuela              3.0\n",
       "Vanuatu               11.0\n",
       "                     ...  \n",
       "Antigua & Barbuda     45.0\n",
       "Angola                45.0\n",
       "Andorra              312.0\n",
       "Algeria               14.0\n",
       "Albania               54.0\n",
       "Name: wine_servings, Length: 162, dtype: float64"
      ]
     },
     "execution_count": 91,
     "metadata": {},
     "output_type": "execute_result"
    }
   ],
   "source": [
    "# this sorts abc in ascending order\n",
    "# can also change order\n",
    "alcohol_sorted.sort_index(ascending=False)"
   ]
  },
  {
   "cell_type": "markdown",
   "id": "719be0d5-ac6e-4e64-bf00-4744539785e3",
   "metadata": {},
   "source": [
    "# Challenge Exercise"
   ]
  },
  {
   "cell_type": "markdown",
   "id": "5577d56f-4c84-4062-bf7e-420c013754f3",
   "metadata": {},
   "source": [
    "Select all the countries from *alcohol* that have more than 50 wine servings, and save them (and the corresponding values) in a variable *fifty_plus*."
   ]
  },
  {
   "cell_type": "code",
   "execution_count": 94,
   "id": "c4f18611-bb62-42f4-88c5-a0f446cf0c98",
   "metadata": {},
   "outputs": [
    {
     "data": {
      "text/plain": [
       "country\n",
       "Albania       54.0\n",
       "Andorra      312.0\n",
       "Argentina    221.0\n",
       "Australia    212.0\n",
       "Austria      191.0\n",
       "Name: wine_servings, dtype: float64"
      ]
     },
     "execution_count": 94,
     "metadata": {},
     "output_type": "execute_result"
    }
   ],
   "source": [
    "fifty_plus = alcohol[alcohol > 50]\n",
    "fifty_plus.head()"
   ]
  },
  {
   "cell_type": "code",
   "execution_count": 95,
   "id": "ed942ffb-fb97-4ddc-a294-6f0677987021",
   "metadata": {},
   "outputs": [
    {
     "data": {
      "text/plain": [
       "48"
      ]
     },
     "execution_count": 95,
     "metadata": {},
     "output_type": "execute_result"
    }
   ],
   "source": [
    "fifty_plus.count()"
   ]
  },
  {
   "cell_type": "markdown",
   "id": "6a22801a-27a8-4c47-b301-6c3115515bb5",
   "metadata": {},
   "source": [
    "From *fifty_plus*, choose the countries with the smallest 20 wine servings values. "
   ]
  },
  {
   "cell_type": "code",
   "execution_count": 96,
   "id": "302dcf3d-5b2d-4618-b366-0aac76eb8881",
   "metadata": {},
   "outputs": [
    {
     "data": {
      "text/plain": [
       "country\n",
       "Bahamas                51.0\n",
       "Seychelles             51.0\n",
       "Albania                54.0\n",
       "Lithuania              56.0\n",
       "Poland                 56.0\n",
       "Estonia                59.0\n",
       "Gabon                  59.0\n",
       "Latvia                 62.0\n",
       "St. Lucia              71.0\n",
       "Russian Federation     73.0\n",
       "Cook Islands           74.0\n",
       "Paraguay               74.0\n",
       "Iceland                78.0\n",
       "South Africa           81.0\n",
       "USA                    84.0\n",
       "Macedonia              86.0\n",
       "Bulgaria               94.0\n",
       "Finland                97.0\n",
       "Spain                 112.0\n",
       "Cyprus                113.0\n",
       "Name: wine_servings, dtype: float64"
      ]
     },
     "execution_count": 96,
     "metadata": {},
     "output_type": "execute_result"
    }
   ],
   "source": [
    "fifty_plus.nsmallest(20)"
   ]
  },
  {
   "cell_type": "markdown",
   "id": "81e35a74-da3c-4f92-aa78-8d33484de7e7",
   "metadata": {},
   "source": [
    "What is the mean, median and standard deviation for the sample from Step 2?"
   ]
  },
  {
   "cell_type": "code",
   "execution_count": 97,
   "id": "75fed430-2321-4acf-88fd-bab6e06efa0e",
   "metadata": {},
   "outputs": [
    {
     "data": {
      "text/plain": [
       "count     48.000000\n",
       "mean     147.187500\n",
       "std       77.851101\n",
       "min       51.000000\n",
       "25%       77.000000\n",
       "50%      128.500000\n",
       "75%      199.250000\n",
       "max      339.000000\n",
       "Name: wine_servings, dtype: float64"
      ]
     },
     "execution_count": 97,
     "metadata": {},
     "output_type": "execute_result"
    }
   ],
   "source": [
    "fifty_plus.describe()"
   ]
  },
  {
   "cell_type": "code",
   "execution_count": 98,
   "id": "ecca607e-06fc-450f-bd84-19a1f8cf9193",
   "metadata": {},
   "outputs": [
    {
     "data": {
      "text/plain": [
       "128.5"
      ]
     },
     "execution_count": 98,
     "metadata": {},
     "output_type": "execute_result"
    }
   ],
   "source": [
    "fifty_plus.median()"
   ]
  },
  {
   "cell_type": "code",
   "execution_count": 100,
   "id": "c3b22627-fde5-4090-bf23-86a34fc8f32e",
   "metadata": {},
   "outputs": [
    {
     "data": {
      "text/plain": [
       "77.8511007178365"
      ]
     },
     "execution_count": 100,
     "metadata": {},
     "output_type": "execute_result"
    }
   ],
   "source": [
    "fifty_plus.std()"
   ]
  },
  {
   "cell_type": "markdown",
   "id": "021eec7c-5437-481d-9862-df4b6e9a1db3",
   "metadata": {},
   "source": [
    "---\n",
    "## Series arithmetics & fill"
   ]
  },
  {
   "cell_type": "code",
   "execution_count": 104,
   "id": "1d2bb20d-7f66-44fe-94cb-1ef8902a528a",
   "metadata": {},
   "outputs": [
    {
     "data": {
      "text/plain": [
       "country\n",
       "Afghanistan      NaN\n",
       "Albania         54.0\n",
       "Algeria         14.0\n",
       "Andorra        312.0\n",
       "Angola          45.0\n",
       "               ...  \n",
       "Venezuela        3.0\n",
       "Vietnam          1.0\n",
       "Yemen            NaN\n",
       "Zambia           4.0\n",
       "Zimbabwe         4.0\n",
       "Name: wine_servings, Length: 193, dtype: float64"
      ]
     },
     "execution_count": 104,
     "metadata": {},
     "output_type": "execute_result"
    }
   ],
   "source": [
    "alcohol"
   ]
  },
  {
   "cell_type": "code",
   "execution_count": 102,
   "id": "ef68705f-5d6c-4250-a747-59e6249fa305",
   "metadata": {},
   "outputs": [],
   "source": [
    "#create an additional series to add to the alcohol series\n",
    "more_drinks = pd.Series({'Albania': 6, 'Alberia': 19, 'Algeria': 10, 'Afghanistan': 100, 'Yemen': 101})"
   ]
  },
  {
   "cell_type": "code",
   "execution_count": 103,
   "id": "48793165-47dd-4a41-9388-27692be69fe4",
   "metadata": {},
   "outputs": [
    {
     "data": {
      "text/plain": [
       "Afghanistan    100.0\n",
       "Albania         60.0\n",
       "Alberia         19.0\n",
       "Algeria         24.0\n",
       "Andorra        312.0\n",
       "               ...  \n",
       "Venezuela        3.0\n",
       "Vietnam          1.0\n",
       "Yemen          101.0\n",
       "Zambia           4.0\n",
       "Zimbabwe         4.0\n",
       "Length: 194, dtype: float64"
      ]
     },
     "execution_count": 103,
     "metadata": {},
     "output_type": "execute_result"
    }
   ],
   "source": [
    "# if we want to add it to the alcohol series:\n",
    "alcohol.add(more_drinks, fill_value = 0)"
   ]
  },
  {
   "cell_type": "code",
   "execution_count": 105,
   "id": "f586e2d5-0511-47f7-9e4b-065066dc84f6",
   "metadata": {},
   "outputs": [],
   "source": [
    "# if you dont have the fill_value = 0, you get just the new values and NaN for everything else"
   ]
  },
  {
   "cell_type": "markdown",
   "id": "9c2ed777-3f62-4ff8-8406-2725195dd0ae",
   "metadata": {},
   "source": [
    "## the fill value at 0 will use the values in the table adding (in dict above)\n",
    "## if use fill value = 1, it will operate a 1 on all the values in the new series\n",
    "* so be cautious what set fill valuie to especially when multiplying and dividing"
   ]
  },
  {
   "cell_type": "code",
   "execution_count": 108,
   "id": "90d0ec06-ac55-4772-81e5-36e59f53e135",
   "metadata": {},
   "outputs": [
    {
     "data": {
      "text/plain": [
       "Afghanistan   -100.0\n",
       "Albania         48.0\n",
       "Alberia        -19.0\n",
       "Algeria          4.0\n",
       "Andorra        312.0\n",
       "               ...  \n",
       "Venezuela        3.0\n",
       "Vietnam          1.0\n",
       "Yemen         -101.0\n",
       "Zambia           4.0\n",
       "Zimbabwe         4.0\n",
       "Length: 194, dtype: float64"
      ]
     },
     "execution_count": 108,
     "metadata": {},
     "output_type": "execute_result"
    }
   ],
   "source": [
    "# subtract offers the same functionality\n",
    "alcohol.subtract(more_drinks, fill_value = 0)"
   ]
  },
  {
   "cell_type": "markdown",
   "id": "f63883a8-e8a6-40ca-8ca8-b1e93beb6127",
   "metadata": {},
   "source": [
    "## Variance and Standard Dev\n",
    "\n",
    "### variance is the average of squared differences from the mean\n",
    "* sum(observation - mean of dataset)^2 / n-1\n",
    "\n",
    "### standard dev is just the square root of the variance"
   ]
  },
  {
   "cell_type": "code",
   "execution_count": 109,
   "id": "bc6e59b9-8608-4d51-8518-7670ebdc0922",
   "metadata": {},
   "outputs": [
    {
     "data": {
      "text/plain": [
       "5796.52561153286"
      ]
     },
     "execution_count": 109,
     "metadata": {},
     "output_type": "execute_result"
    }
   ],
   "source": [
    "alcohol.var()\n",
    "# long way:\n",
    "# (alcohol.subtract(alcohol.mean())**2).sum()/(alcohol.count()-1)"
   ]
  },
  {
   "cell_type": "code",
   "execution_count": 111,
   "id": "6ea84472-cc0c-428c-8ce9-a88e9650f7dc",
   "metadata": {},
   "outputs": [
    {
     "data": {
      "text/plain": [
       "76.13491716376173"
      ]
     },
     "execution_count": 111,
     "metadata": {},
     "output_type": "execute_result"
    }
   ],
   "source": [
    "alcohol.std()\n",
    "#long way:\n",
    "# ((alcohol.subtract(alcohol.mean())**2).sum()/(alcohol.count()-1))**(1/2)"
   ]
  },
  {
   "cell_type": "markdown",
   "id": "3270c822-98f2-4ffc-ab7f-1b9f25830a04",
   "metadata": {},
   "source": [
    "## Cum Sum\n",
    "* cumulative sum of all the values preceeding including that cell"
   ]
  },
  {
   "cell_type": "code",
   "execution_count": 114,
   "id": "dee7b84a-1973-47e8-9f41-361bd92b922f",
   "metadata": {},
   "outputs": [
    {
     "data": {
      "text/plain": [
       "country\n",
       "Afghanistan       NaN\n",
       "Albania          54.0\n",
       "Algeria          68.0\n",
       "Andorra         380.0\n",
       "Angola          425.0\n",
       "                ...  \n",
       "Venezuela      8212.0\n",
       "Vietnam        8213.0\n",
       "Yemen             NaN\n",
       "Zambia         8217.0\n",
       "Zimbabwe       8221.0\n",
       "Name: wine_servings, Length: 193, dtype: float64"
      ]
     },
     "execution_count": 114,
     "metadata": {},
     "output_type": "execute_result"
    }
   ],
   "source": [
    "alcohol.cumsum()\n",
    "#cumsum() has a skip na function, defaults to true so NaN's wont impact the calculation"
   ]
  },
  {
   "cell_type": "code",
   "execution_count": 115,
   "id": "6ee11d35-124e-4613-9676-ed1a0661d25a",
   "metadata": {},
   "outputs": [
    {
     "data": {
      "text/plain": [
       "country\n",
       "Afghanistan              NaN\n",
       "Albania         5.400000e+01\n",
       "Algeria         7.560000e+02\n",
       "Andorra         2.358720e+05\n",
       "Angola          1.061424e+07\n",
       "                   ...      \n",
       "Venezuela      2.142257e+182\n",
       "Vietnam        2.142257e+182\n",
       "Yemen                    NaN\n",
       "Zambia         8.569029e+182\n",
       "Zimbabwe       3.427612e+183\n",
       "Name: wine_servings, Length: 193, dtype: float64"
      ]
     },
     "execution_count": 115,
     "metadata": {},
     "output_type": "execute_result"
    }
   ],
   "source": [
    "# cum prod - is the cululative product (similar to th cum sum but multiplies)\n",
    "alcohol.cumprod()"
   ]
  },
  {
   "cell_type": "code",
   "execution_count": 116,
   "id": "e534ec8f-e311-40d6-b44e-1a498fc06bd5",
   "metadata": {},
   "outputs": [
    {
     "data": {
      "text/plain": [
       "country\n",
       "Afghanistan     NaN\n",
       "Albania        54.0\n",
       "Algeria        14.0\n",
       "Andorra        14.0\n",
       "Angola         14.0\n",
       "               ... \n",
       "Venezuela       1.0\n",
       "Vietnam         1.0\n",
       "Yemen           NaN\n",
       "Zambia          1.0\n",
       "Zimbabwe        1.0\n",
       "Name: wine_servings, Length: 193, dtype: float64"
      ]
     },
     "execution_count": 116,
     "metadata": {},
     "output_type": "execute_result"
    }
   ],
   "source": [
    "# cummin & cummax\n",
    "#these take the max or min value UP TO THAT POINT in the series\n",
    "\n",
    "alcohol.cummin()"
   ]
  },
  {
   "cell_type": "code",
   "execution_count": 117,
   "id": "7249ba3d-f28d-4304-aed8-f12864225c9f",
   "metadata": {},
   "outputs": [
    {
     "data": {
      "text/plain": [
       "country\n",
       "Afghanistan      NaN\n",
       "Albania         54.0\n",
       "Algeria         54.0\n",
       "Andorra        312.0\n",
       "Angola         312.0\n",
       "               ...  \n",
       "Venezuela      339.0\n",
       "Vietnam        339.0\n",
       "Yemen            NaN\n",
       "Zambia         339.0\n",
       "Zimbabwe       339.0\n",
       "Name: wine_servings, Length: 193, dtype: float64"
      ]
     },
     "execution_count": 117,
     "metadata": {},
     "output_type": "execute_result"
    }
   ],
   "source": [
    "alcohol.cummax()"
   ]
  },
  {
   "cell_type": "markdown",
   "id": "734dc0af-40ef-41d0-8aa7-358cb3a5ace1",
   "metadata": {},
   "source": [
    "## Diff \n",
    "### calculates the discrete difference between periods (lags)\n",
    "### the periods/lags would be the distance between cells"
   ]
  },
  {
   "cell_type": "code",
   "execution_count": 118,
   "id": "1fd132cb-52d2-487f-a5ad-62b545622cad",
   "metadata": {},
   "outputs": [
    {
     "data": {
      "text/plain": [
       "country\n",
       "Afghanistan      NaN\n",
       "Albania          NaN\n",
       "Algeria        -40.0\n",
       "Andorra        298.0\n",
       "Angola        -267.0\n",
       "               ...  \n",
       "Venezuela       -8.0\n",
       "Vietnam         -2.0\n",
       "Yemen            NaN\n",
       "Zambia           NaN\n",
       "Zimbabwe         0.0\n",
       "Name: wine_servings, Length: 193, dtype: float64"
      ]
     },
     "execution_count": 118,
     "metadata": {},
     "output_type": "execute_result"
    }
   ],
   "source": [
    "alcohol.diff()"
   ]
  },
  {
   "cell_type": "markdown",
   "id": "1f0cbc65-a637-4bbd-89c8-f5207884f365",
   "metadata": {},
   "source": [
    "---\n",
    "# Iteration"
   ]
  },
  {
   "cell_type": "code",
   "execution_count": 121,
   "id": "db2dabe0-e163-4856-9487-b973e2700109",
   "metadata": {},
   "outputs": [
    {
     "data": {
      "text/plain": [
       "country\n",
       "Afghanistan            NaN\n",
       "Albania               54.0\n",
       "Algeria               14.0\n",
       "Andorra              312.0\n",
       "Angola                45.0\n",
       "Antigua & Barbuda     45.0\n",
       "Argentina            221.0\n",
       "Armenia               11.0\n",
       "Australia            212.0\n",
       "Austria              191.0\n",
       "Name: wine_servings, dtype: float64"
      ]
     },
     "execution_count": 121,
     "metadata": {},
     "output_type": "execute_result"
    }
   ],
   "source": [
    "#create a subset of alcohol dataset, first 10\n",
    "\n",
    "mini_alc = alcohol[: 10]\n",
    "mini_alc"
   ]
  },
  {
   "cell_type": "code",
   "execution_count": 122,
   "id": "a5f9c574-3f9a-45ea-9ed2-4deade786151",
   "metadata": {},
   "outputs": [
    {
     "name": "stdout",
     "output_type": "stream",
     "text": [
      "nan\n",
      "54.0\n",
      "14.0\n",
      "312.0\n",
      "45.0\n",
      "45.0\n",
      "221.0\n",
      "11.0\n",
      "212.0\n",
      "191.0\n"
     ]
    }
   ],
   "source": [
    "#Iteration over the new data set\n",
    "\n",
    "for i in mini_alc:\n",
    "    print(i)"
   ]
  },
  {
   "cell_type": "code",
   "execution_count": 123,
   "id": "a04cc980-253c-4fbb-86b7-d0b3c75c67ac",
   "metadata": {},
   "outputs": [
    {
     "name": "stdout",
     "output_type": "stream",
     "text": [
      "Afghanistan\n",
      "Albania\n",
      "Algeria\n",
      "Andorra\n",
      "Angola\n",
      "Antigua & Barbuda\n",
      "Argentina\n",
      "Armenia\n",
      "Australia\n",
      "Austria\n"
     ]
    }
   ],
   "source": [
    "#Iteration over the index\n",
    "\n",
    "for i in mini_alc.index:\n",
    "    print(i)"
   ]
  },
  {
   "cell_type": "code",
   "execution_count": 125,
   "id": "cee30c57-002f-4982-a6fa-4e4fb713b54c",
   "metadata": {},
   "outputs": [
    {
     "name": "stdout",
     "output_type": "stream",
     "text": [
      "Afghanistan nan\n",
      "Albania 54.0\n",
      "Algeria 14.0\n",
      "Andorra 312.0\n",
      "Angola 45.0\n",
      "Antigua & Barbuda 45.0\n",
      "Argentina 221.0\n",
      "Armenia 11.0\n",
      "Australia 212.0\n",
      "Austria 191.0\n"
     ]
    }
   ],
   "source": [
    "# return both\n",
    "\n",
    "#Iteration over the new data set\n",
    "\n",
    "for i in mini_alc.index:\n",
    "    print(i, mini_alc[i])"
   ]
  },
  {
   "cell_type": "code",
   "execution_count": 126,
   "id": "704571e7-aa92-48d3-82fd-93ecd9d8f091",
   "metadata": {},
   "outputs": [
    {
     "name": "stdout",
     "output_type": "stream",
     "text": [
      "('Afghanistan', nan)\n",
      "('Albania', 54.0)\n",
      "('Algeria', 14.0)\n",
      "('Andorra', 312.0)\n",
      "('Angola', 45.0)\n",
      "('Antigua & Barbuda', 45.0)\n",
      "('Argentina', 221.0)\n",
      "('Armenia', 11.0)\n",
      "('Australia', 212.0)\n",
      "('Austria', 191.0)\n"
     ]
    }
   ],
   "source": [
    "#using pandas .items\n",
    "\n",
    "#Iteration over the new data set\n",
    "\n",
    "for i in mini_alc.items():\n",
    "    print(i)\n",
    "    \n",
    "#returns tuples"
   ]
  },
  {
   "cell_type": "markdown",
   "id": "3c65300e-d421-4cca-80c6-b48ccdeef9d6",
   "metadata": {},
   "source": [
    "## Filtering"
   ]
  },
  {
   "cell_type": "code",
   "execution_count": 127,
   "id": "75ad7097-86e8-4b64-a4f0-90d613a6c79e",
   "metadata": {},
   "outputs": [
    {
     "data": {
      "text/plain": [
       "country\n",
       "Cabo Verde                      16.0\n",
       "St. Vincent & the Grenadines    11.0\n",
       "Vanuatu                         11.0\n",
       "Venezuela                        3.0\n",
       "Vietnam                          1.0\n",
       "Name: wine_servings, dtype: float64"
      ]
     },
     "execution_count": 127,
     "metadata": {},
     "output_type": "execute_result"
    }
   ],
   "source": [
    "#finding everything with letter v\n",
    "alcohol.filter(regex = \"V\")\n",
    "#regex stands for regular expression"
   ]
  },
  {
   "cell_type": "code",
   "execution_count": 128,
   "id": "ba191e41-5f2f-4de1-83b2-80c55e2fdd47",
   "metadata": {},
   "outputs": [
    {
     "data": {
      "text/plain": [
       "country\n",
       "Vanuatu      11.0\n",
       "Venezuela     3.0\n",
       "Vietnam       1.0\n",
       "Name: wine_servings, dtype: float64"
      ]
     },
     "execution_count": 128,
     "metadata": {},
     "output_type": "execute_result"
    }
   ],
   "source": [
    "# if wanted starting with V --> add ^\n",
    "alcohol.filter(regex = \"^V\")"
   ]
  },
  {
   "cell_type": "code",
   "execution_count": 129,
   "id": "e941e213-a903-4e14-84f9-570a0504fcf4",
   "metadata": {},
   "outputs": [
    {
     "data": {
      "text/plain": [
       "country\n",
       "Afghanistan      NaN\n",
       "Kazakhstan      12.0\n",
       "Kyrgyzstan       6.0\n",
       "Pakistan         NaN\n",
       "Tajikistan       NaN\n",
       "Turkmenistan    32.0\n",
       "Uzbekistan       8.0\n",
       "Name: wine_servings, dtype: float64"
      ]
     },
     "execution_count": 129,
     "metadata": {},
     "output_type": "execute_result"
    }
   ],
   "source": [
    "# if wanted to find string of certian letters\n",
    "alcohol.filter(like = 'stan')"
   ]
  },
  {
   "cell_type": "code",
   "execution_count": 130,
   "id": "f2ac59a7-e3b1-4a46-ad9d-d1669dac7ae5",
   "metadata": {},
   "outputs": [
    {
     "data": {
      "text/plain": [
       "country\n",
       "Andorra              312.0\n",
       "Argentina            221.0\n",
       "Australia            212.0\n",
       "Belgium              212.0\n",
       "Croatia              254.0\n",
       "Denmark              278.0\n",
       "Equatorial Guinea    233.0\n",
       "Greece               218.0\n",
       "Italy                237.0\n",
       "Luxembourg           271.0\n",
       "Portugal             339.0\n",
       "Slovenia             276.0\n",
       "Name: wine_servings, dtype: float64"
      ]
     },
     "execution_count": 130,
     "metadata": {},
     "output_type": "execute_result"
    }
   ],
   "source": [
    "# filtering by the value\n",
    "# find countries with more than 200 \n",
    "\n",
    "alcohol.loc[alcohol > 200]"
   ]
  },
  {
   "cell_type": "code",
   "execution_count": 132,
   "id": "2ac04160-61eb-495f-9b83-6ccea69ab852",
   "metadata": {},
   "outputs": [],
   "source": [
    "def gt200(x):\n",
    "    return x > 200"
   ]
  },
  {
   "cell_type": "code",
   "execution_count": 133,
   "id": "6604ed18-8973-4097-8889-38d9b0a09161",
   "metadata": {},
   "outputs": [
    {
     "data": {
      "text/plain": [
       "country\n",
       "Afghanistan    False\n",
       "Albania        False\n",
       "Algeria        False\n",
       "Andorra         True\n",
       "Angola         False\n",
       "               ...  \n",
       "Venezuela      False\n",
       "Vietnam        False\n",
       "Yemen          False\n",
       "Zambia         False\n",
       "Zimbabwe       False\n",
       "Name: wine_servings, Length: 193, dtype: bool"
      ]
     },
     "execution_count": 133,
     "metadata": {},
     "output_type": "execute_result"
    }
   ],
   "source": [
    "gt200(alcohol)"
   ]
  },
  {
   "cell_type": "code",
   "execution_count": 134,
   "id": "e0d1ed12-fee8-4a9c-b420-fefaf1e2e277",
   "metadata": {},
   "outputs": [
    {
     "data": {
      "text/plain": [
       "country\n",
       "Andorra              312.0\n",
       "Argentina            221.0\n",
       "Australia            212.0\n",
       "Belgium              212.0\n",
       "Croatia              254.0\n",
       "Denmark              278.0\n",
       "Equatorial Guinea    233.0\n",
       "Greece               218.0\n",
       "Italy                237.0\n",
       "Luxembourg           271.0\n",
       "Portugal             339.0\n",
       "Slovenia             276.0\n",
       "Name: wine_servings, dtype: float64"
      ]
     },
     "execution_count": 134,
     "metadata": {},
     "output_type": "execute_result"
    }
   ],
   "source": [
    "#to get the actual values\n",
    "alcohol[gt200]"
   ]
  },
  {
   "cell_type": "code",
   "execution_count": 136,
   "id": "52f294e0-fca4-41d7-aff7-aaf64156cec0",
   "metadata": {},
   "outputs": [
    {
     "data": {
      "text/plain": [
       "country\n",
       "Andorra              312.0\n",
       "Argentina            221.0\n",
       "Australia            212.0\n",
       "Belgium              212.0\n",
       "Croatia              254.0\n",
       "Denmark              278.0\n",
       "Equatorial Guinea    233.0\n",
       "Greece               218.0\n",
       "Italy                237.0\n",
       "Luxembourg           271.0\n",
       "Portugal             339.0\n",
       "Slovenia             276.0\n",
       "Name: wine_servings, dtype: float64"
      ]
     },
     "execution_count": 136,
     "metadata": {},
     "output_type": "execute_result"
    }
   ],
   "source": [
    "#Using where --> this returns whats true, and false values are NaN\n",
    "alcohol.where(lambda x: x>200).dropna()"
   ]
  },
  {
   "cell_type": "code",
   "execution_count": 138,
   "id": "2fdbf7a5-3948-441e-b44c-6718cb45a678",
   "metadata": {},
   "outputs": [
    {
     "data": {
      "text/plain": [
       "country\n",
       "Albania              54.0\n",
       "Algeria              14.0\n",
       "Angola               45.0\n",
       "Antigua & Barbuda    45.0\n",
       "Armenia              11.0\n",
       "                     ... \n",
       "Vanuatu              11.0\n",
       "Venezuela             3.0\n",
       "Vietnam               1.0\n",
       "Zambia                4.0\n",
       "Zimbabwe              4.0\n",
       "Name: wine_servings, Length: 150, dtype: float64"
      ]
     },
     "execution_count": 138,
     "metadata": {},
     "output_type": "execute_result"
    }
   ],
   "source": [
    "#Using mask --> this returns whats FALSE, and true values are NaN\n",
    "alcohol.mask(lambda x: x>200).dropna()"
   ]
  },
  {
   "cell_type": "code",
   "execution_count": 139,
   "id": "6bb50911-fc80-4f63-8dba-92ff0eb74de8",
   "metadata": {},
   "outputs": [],
   "source": [
    "#so above is actually whats less than 200 (it masks out the condition in lambda of > 200)"
   ]
  },
  {
   "cell_type": "markdown",
   "id": "104ac232-1652-4dcc-8807-dfa52e993fc7",
   "metadata": {},
   "source": [
    "# Challenge exercise"
   ]
  },
  {
   "cell_type": "markdown",
   "id": "27ce58a9-df3a-455b-93af-6e709793a5cc",
   "metadata": {},
   "source": [
    "Read the drinks.csv dataset again, this time bringing in the beer_servings sequence into a new <ins>series</ins> with country again acting as the index. Assign this series to the variable *beers*.\n",
    "\n",
    "Link to data: https://andybek.com/pandas-drinks"
   ]
  },
  {
   "cell_type": "code",
   "execution_count": 140,
   "id": "738fa658-48eb-4d2a-8224-793e1e2aa007",
   "metadata": {},
   "outputs": [
    {
     "name": "stderr",
     "output_type": "stream",
     "text": [
      "/var/folders/ys/fqvy458x0ds2sdvqh8qgff500000gn/T/ipykernel_95420/1108398500.py:2: FutureWarning: The squeeze argument has been deprecated and will be removed in a future version. Append .squeeze(\"columns\") to the call to squeeze.\n",
      "\n",
      "\n",
      "  beers = pd.read_csv(url, usecols=['country', 'beer_servings'], index_col='country', squeeze=True)\n"
     ]
    },
    {
     "data": {
      "text/plain": [
       "country\n",
       "Afghanistan      NaN\n",
       "Albania         89.0\n",
       "Algeria         25.0\n",
       "Andorra        245.0\n",
       "Angola         217.0\n",
       "               ...  \n",
       "Venezuela      333.0\n",
       "Vietnam        111.0\n",
       "Yemen            6.0\n",
       "Zambia          32.0\n",
       "Zimbabwe        64.0\n",
       "Name: beer_servings, Length: 193, dtype: float64"
      ]
     },
     "execution_count": 140,
     "metadata": {},
     "output_type": "execute_result"
    }
   ],
   "source": [
    "url = 'https://andybek.com/pandas-drinks'\n",
    "beers = pd.read_csv(url, usecols=['country', 'beer_servings'], index_col='country', squeeze=True)\n",
    "beers"
   ]
  },
  {
   "cell_type": "markdown",
   "id": "8437e993-ec0a-459d-ac4f-5ba7c1496a74",
   "metadata": {},
   "source": [
    "Calculate the mean, median, and standard deviation of beer servings in *beers*. Is the distribution right or left skewed?"
   ]
  },
  {
   "cell_type": "code",
   "execution_count": 146,
   "id": "5a34c6f5-0f92-4a12-91b6-06249bcc26bc",
   "metadata": {},
   "outputs": [
    {
     "data": {
      "text/plain": [
       "pandas.core.series.Series"
      ]
     },
     "execution_count": 146,
     "metadata": {},
     "output_type": "execute_result"
    }
   ],
   "source": [
    "type(beers)"
   ]
  },
  {
   "cell_type": "code",
   "execution_count": 141,
   "id": "fb66e7d8-34f3-4d88-a261-034a8b9cfc23",
   "metadata": {},
   "outputs": [
    {
     "data": {
      "text/plain": [
       "count    178.000000\n",
       "mean     102.870787\n",
       "std      100.645713\n",
       "min        1.000000\n",
       "25%       21.000000\n",
       "50%       60.000000\n",
       "75%      172.500000\n",
       "max      376.000000\n",
       "Name: beer_servings, dtype: float64"
      ]
     },
     "execution_count": 141,
     "metadata": {},
     "output_type": "execute_result"
    }
   ],
   "source": [
    "beers.describe()"
   ]
  },
  {
   "cell_type": "code",
   "execution_count": 142,
   "id": "224d4b97-37b5-44fd-9661-c5fbe47b50bf",
   "metadata": {},
   "outputs": [
    {
     "data": {
      "text/plain": [
       "<AxesSubplot: ylabel='Frequency'>"
      ]
     },
     "execution_count": 142,
     "metadata": {},
     "output_type": "execute_result"
    },
    {
     "data": {
      "image/png": "[encoded data removed]",
      "text/plain": [
       "<Figure size 640x480 with 1 Axes>"
      ]
     },
     "metadata": {},
     "output_type": "display_data"
    }
   ],
   "source": [
    "beers.plot(kind='hist')"
   ]
  },
  {
   "cell_type": "markdown",
   "id": "64c43433-14dc-4bfa-87f2-e69c0f9c3589",
   "metadata": {},
   "source": [
    "Slice the first 10 countriees from beers. Are these relatively large or small relative to the rest of the sample?\n",
    "\n",
    "BONUS: To answer that, we could compare each value to the mean or median. An even better approach would be to calculate standard scores, or z-scores as they are known."
   ]
  },
  {
   "cell_type": "code",
   "execution_count": 143,
   "id": "8278ab02-b061-4fe7-b168-c12a399dc0a4",
   "metadata": {},
   "outputs": [
    {
     "data": {
      "text/plain": [
       "country\n",
       "Afghanistan            NaN\n",
       "Albania               89.0\n",
       "Algeria               25.0\n",
       "Andorra              245.0\n",
       "Angola               217.0\n",
       "Antigua & Barbuda     12.0\n",
       "Argentina            193.0\n",
       "Armenia               21.0\n",
       "Australia            261.0\n",
       "Austria              279.0\n",
       "Name: beer_servings, dtype: float64"
      ]
     },
     "execution_count": 143,
     "metadata": {},
     "output_type": "execute_result"
    }
   ],
   "source": [
    "first_ten = beers[:10]\n",
    "first_ten"
   ]
  },
  {
   "cell_type": "markdown",
   "id": "9e6d4892-e6b1-4610-8b20-e9a988b448bc",
   "metadata": {},
   "source": [
    "Create a new series that uses series arithmetics to calculate the z-score for each serving by subtracting from each the mean and dividing the difference by the standard deviation. Point the variable z_scores to this series.\n",
    "\n",
    "Which country has the largest absolute z-score? Is this a positive or negative deviation?"
   ]
  },
  {
   "cell_type": "code",
   "execution_count": 147,
   "id": "006f4159-b96c-4ed6-8122-183aeef9f5ba",
   "metadata": {},
   "outputs": [
    {
     "data": {
      "text/plain": [
       "country\n",
       "Afghanistan         NaN\n",
       "Albania       -0.137818\n",
       "Algeria       -0.773712\n",
       "Andorra        1.412174\n",
       "Angola         1.133970\n",
       "                 ...   \n",
       "Venezuela      2.286528\n",
       "Vietnam        0.080771\n",
       "Yemen         -0.962493\n",
       "Zambia        -0.704161\n",
       "Zimbabwe      -0.386214\n",
       "Name: beer_servings, Length: 193, dtype: float64"
      ]
     },
     "execution_count": 147,
     "metadata": {},
     "output_type": "execute_result"
    }
   ],
   "source": [
    "z_scores = (beers - beers.mean()) / beers.std()\n",
    "z_scores"
   ]
  },
  {
   "cell_type": "code",
   "execution_count": 148,
   "id": "1defd2d3-2685-4682-b7c0-ee3a33e53bc1",
   "metadata": {},
   "outputs": [],
   "source": [
    "# z-score is the number of stdev's an observation is away from the mean"
   ]
  },
  {
   "cell_type": "code",
   "execution_count": 149,
   "id": "103d0a4f-7ee1-441e-8da0-7c738941c48f",
   "metadata": {},
   "outputs": [
    {
     "data": {
      "text/plain": [
       "2.7137689844109123"
      ]
     },
     "execution_count": 149,
     "metadata": {},
     "output_type": "execute_result"
    }
   ],
   "source": [
    "z_scores.abs().max()"
   ]
  },
  {
   "cell_type": "code",
   "execution_count": 150,
   "id": "33c0ef6c-0479-4d89-894c-6406a3b75f3a",
   "metadata": {},
   "outputs": [
    {
     "data": {
      "text/plain": [
       "'Namibia'"
      ]
     },
     "execution_count": 150,
     "metadata": {},
     "output_type": "execute_result"
    }
   ],
   "source": [
    "z_scores.idxmax()"
   ]
  },
  {
   "cell_type": "code",
   "execution_count": null,
   "id": "42a03f0c-544f-4fb0-ba1e-820bb926d7cc",
   "metadata": {},
   "outputs": [],
   "source": []
  }
 ],
 "metadata": {
  "kernelspec": {
   "display_name": "Python 3 (ipykernel)",
   "language": "python",
   "name": "python3"
  },
  "language_info": {
   "codemirror_mode": {
    "name": "ipython",
    "version": 3
   },
   "file_extension": ".py",
   "mimetype": "text/x-python",
   "name": "python",
   "nbconvert_exporter": "python",
   "pygments_lexer": "ipython3",
   "version": "3.9.13"
  }
 },
 "nbformat": 4,
 "nbformat_minor": 5
}

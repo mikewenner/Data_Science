{
 "cells": [
  {
   "cell_type": "code",
   "execution_count": 3,
   "id": "881463a2-4ac6-472d-a150-2afd2c1d921e",
   "metadata": {},
   "outputs": [],
   "source": [
    "import numpy as np\n",
    "import pytz\n",
    "from datetime import datetime"
   ]
  },
  {
   "cell_type": "code",
   "execution_count": 7,
   "id": "b829dee9-6528-4131-a8ca-3d0e3ed4c007",
   "metadata": {},
   "outputs": [],
   "source": [
    "def today_ny():\n",
    "    #Define timezones\n",
    "    nz_timezone = pytz.timezone('Pacific/Auckland')\n",
    "    ny_timezone = pytz.timezone('America/New_York')\n",
    "    \n",
    "    #Get current time in New Zealand\n",
    "    current_time_nz = datetime.now(nz_timezone)\n",
    "    print('Current time in NZ is: ', current_time_nz.strftime('%Y-%m-%d %H:%M:%S %Z'))\n",
    "    \n",
    "    #Convert to NY time\n",
    "    current_time_ny = current_time_nz.astimezone(ny_timezone)\n",
    "    print('Current time in New York is: ', current_time_ny.strftime('%Y-%m-%d %H:%M:%S %Z'))\n",
    "    \n",
    "    return np.datetime64(current_time_ny.strftime('%Y-%m-%d'))\n",
    "\n",
    "today = today_ny"
   ]
  },
  {
   "cell_type": "code",
   "execution_count": 8,
   "id": "4ce2ef8b-11c3-49d1-aea5-36ca98d2de9d",
   "metadata": {},
   "outputs": [
    {
     "name": "stdout",
     "output_type": "stream",
     "text": [
      "Current time in NZ is:  2023-12-29 05:47:10 NZDT\n",
      "Current time in New York is:  2023-12-28 11:47:10 EST\n"
     ]
    },
    {
     "data": {
      "text/plain": [
       "numpy.datetime64('2023-12-28')"
      ]
     },
     "execution_count": 8,
     "metadata": {},
     "output_type": "execute_result"
    }
   ],
   "source": [
    "today_ny()"
   ]
  },
  {
   "cell_type": "code",
   "execution_count": null,
   "id": "30d9b698-3fa8-4ea9-9194-0b0421c0925f",
   "metadata": {},
   "outputs": [],
   "source": []
  }
 ],
 "metadata": {
  "kernelspec": {
   "display_name": "Python 3 (ipykernel)",
   "language": "python",
   "name": "python3"
  },
  "language_info": {
   "codemirror_mode": {
    "name": "ipython",
    "version": 3
   },
   "file_extension": ".py",
   "mimetype": "text/x-python",
   "name": "python",
   "nbconvert_exporter": "python",
   "pygments_lexer": "ipython3",
   "version": "3.9.13"
  }
 },
 "nbformat": 4,
 "nbformat_minor": 5
}

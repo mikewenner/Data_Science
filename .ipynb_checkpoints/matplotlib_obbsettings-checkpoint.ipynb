{
 "cells": [
  {
   "cell_type": "markdown",
   "id": "3314dad0-d3a6-4146-8f24-9092d2562cec",
   "metadata": {},
   "source": [
    "## Show the current settings\n",
    "* either default OR if using an SDK\n",
    "* print(plt.rcParams)"
   ]
  },
  {
   "cell_type": "code",
   "execution_count": 2,
   "id": "3376e563-5da7-4ac9-a251-89da9b933039",
   "metadata": {},
   "outputs": [],
   "source": [
    "import matplotlib.pyplot as plt"
   ]
  },
  {
   "cell_type": "code",
   "execution_count": 4,
   "id": "7d8c9886-c373-4694-905f-117c3120a21a",
   "metadata": {},
   "outputs": [],
   "source": [
    "# print(plt.rcParams)"
   ]
  },
  {
   "cell_type": "markdown",
   "id": "e23ffa92-6728-48b1-ad50-4a8b58b61106",
   "metadata": {},
   "source": [
    "## Export the current settings to a file\n",
    "* Note the need to serialize was found when exporting the OBB settings \n",
    "* Now this is done we have file and only need to repeat this step below if want different settings"
   ]
  },
  {
   "cell_type": "code",
   "execution_count": 5,
   "id": "87c77c1b-a5fa-4faf-8178-2350f01742ac",
   "metadata": {},
   "outputs": [],
   "source": [
    "import json"
   ]
  },
  {
   "cell_type": "code",
   "execution_count": 6,
   "id": "879c0de5-8eec-407b-bdc3-1c659d9d65e9",
   "metadata": {},
   "outputs": [],
   "source": [
    "#import json\n",
    "\n",
    "# def serialize_rcparams(rc_params):\n",
    "#     \"\"\" Serialize Matplotlib rcParams to a JSON-serializable dictionary. \"\"\"\n",
    "#     serializable_params = {}\n",
    "#     for key, value in rc_params.items():\n",
    "#         # Convert non-serializable items to strings\n",
    "#         try:\n",
    "#             json.dumps(value)\n",
    "#             serializable_params[key] = value\n",
    "#         except TypeError:\n",
    "#             serializable_params[key] = str(value)\n",
    "#     return serializable_params\n",
    "\n",
    "# # Serializing and saving rcParams\n",
    "# serializable_rcparams = serialize_rcparams(plt.rcParams)\n",
    "# with open('matplotlib_obbsettings.json', 'w') as file:\n",
    "#     json.dump(serializable_rcparams, file)"
   ]
  },
  {
   "cell_type": "markdown",
   "id": "5ce88b47-c7c3-4181-9f7a-7d2dfecd6e1a",
   "metadata": {},
   "source": [
    "## Now we have a file to pull into any notebook\n",
    "* matplotlib_obbsettings.json\n",
    "* put in the same folder as nb or set the path in the with open statement"
   ]
  },
  {
   "cell_type": "code",
   "execution_count": 7,
   "id": "002efef8-5938-4eba-8b3a-23f1f687389e",
   "metadata": {},
   "outputs": [],
   "source": [
    "# Loading rcParams from the file\n",
    "with open('matplotlib_obbsettings.json', 'r') as file:\n",
    "    settings = json.load(file)\n",
    "\n",
    "# Applying the settings\n",
    "plt.rcParams.update(settings)"
   ]
  },
  {
   "cell_type": "code",
   "execution_count": null,
   "id": "f4c59375-4d12-4b51-8812-cd4a5d93a13a",
   "metadata": {},
   "outputs": [],
   "source": []
  }
 ],
 "metadata": {
  "kernelspec": {
   "display_name": "Python 3 (ipykernel)",
   "language": "python",
   "name": "python3"
  },
  "language_info": {
   "codemirror_mode": {
    "name": "ipython",
    "version": 3
   },
   "file_extension": ".py",
   "mimetype": "text/x-python",
   "name": "python",
   "nbconvert_exporter": "python",
   "pygments_lexer": "ipython3",
   "version": "3.9.13"
  }
 },
 "nbformat": 4,
 "nbformat_minor": 5
}
